{
 "cells": [
  {
   "cell_type": "code",
   "execution_count": 1,
   "id": "caa16c94",
   "metadata": {},
   "outputs": [
    {
     "data": {
      "text/plain": [
       "True"
      ]
     },
     "execution_count": 1,
     "metadata": {},
     "output_type": "execute_result"
    }
   ],
   "source": [
    "import os\n",
    "from typing import Union\n",
    "import PyPDF2\n",
    "\n",
    "from langchain_openai import ChatOpenAI\n",
    "from langchain.prompts import PromptTemplate\n",
    "from langchain.output_parsers import PydanticOutputParser, OutputFixingParser\n",
    "from langchain_core.exceptions import OutputParserException\n",
    "\n",
    "from neo4j import GraphDatabase\n",
    "from enum import Enum\n",
    "\n",
    "from dotenv import load_dotenv\n",
    "\n",
    "load_dotenv()"
   ]
  },
  {
   "cell_type": "code",
   "execution_count": 2,
   "id": "24624a10",
   "metadata": {},
   "outputs": [],
   "source": [
    "class DocClass(Enum):\n",
    "    RESUME = \"resume\"\n",
    "    SCIENCE_ARTICLE = \"science_article\""
   ]
  },
  {
   "cell_type": "code",
   "execution_count": 3,
   "id": "8b7c1736",
   "metadata": {},
   "outputs": [],
   "source": [
    "class Neo4jConnection:\n",
    "    def __init__(self, uri, username, password, database=\"neo4j\"):\n",
    "        self.uri = uri\n",
    "        self.username = username\n",
    "        self.password = password\n",
    "        self.database = database\n",
    "        self.driver = None\n",
    "        \n",
    "        try:\n",
    "            self.driver = GraphDatabase.driver(self.uri, auth=(self.username, self.password))\n",
    "            print(\"Connection to database successful\")\n",
    "        \n",
    "        except Exception as e:\n",
    "            print(e)\n",
    "            \n",
    "    def close(self):\n",
    "        if self.driver is not None:\n",
    "            self.driver.close()\n",
    "            print(\"Neo4j connection closed\")\n",
    "            \n",
    "    def query(self, query, parameters=None):\n",
    "        \n",
    "        assert self.driver is not None, \"driver is not initialized!\"\n",
    "        session = None\n",
    "        response = None\n",
    "        \n",
    "        try:\n",
    "            session = self.driver.session(database=self.database)\n",
    "            response = list(session.run(query, parameters or {}))\n",
    "            \n",
    "        except Exception as e:\n",
    "            print(e)\n",
    "            \n",
    "        return response\n",
    "    \n",
    "    def write_transaction(self, query, parameters=None):\n",
    "        assert self.driver is not None, \"driver is not initialized!\"\n",
    "        session = None\n",
    "        \n",
    "        try: \n",
    "            session = self.driver.session(database=self.database)\n",
    "            session.execute_write(lambda tx: tx.run(query, parameters or {}))\n",
    "            \n",
    "        except Exception as e:\n",
    "            print(e)"
   ]
  },
  {
   "cell_type": "code",
   "execution_count": 4,
   "id": "5909b35d",
   "metadata": {},
   "outputs": [],
   "source": [
    "NEO4J_URI = os.getenv(\"NEO4J_URI\")\n",
    "NEO_USERNAME = os.getenv(\"NEO4J_USERNAME\")\n",
    "NEO4J_PASSWORD = os.getenv(\"NEO4J_PASSWORD\")"
   ]
  },
  {
   "cell_type": "code",
   "execution_count": 5,
   "id": "21b912d5",
   "metadata": {},
   "outputs": [
    {
     "name": "stdout",
     "output_type": "stream",
     "text": [
      "bolt://localhost:7687\n",
      "neo4j\n",
      "Admin@123\n"
     ]
    }
   ],
   "source": [
    "print(NEO4J_URI)\n",
    "print(NEO_USERNAME)\n",
    "print(NEO4J_PASSWORD)"
   ]
  },
  {
   "cell_type": "code",
   "execution_count": 6,
   "id": "11697a41",
   "metadata": {},
   "outputs": [
    {
     "name": "stdout",
     "output_type": "stream",
     "text": [
      "Connection to database successful\n"
     ]
    }
   ],
   "source": [
    "neo4j_connection = Neo4jConnection(NEO4J_URI, NEO_USERNAME,NEO4J_PASSWORD)"
   ]
  },
  {
   "cell_type": "code",
   "execution_count": 15,
   "id": "acfcbac6",
   "metadata": {},
   "outputs": [],
   "source": [
    "doc_class = \"SCIENCE_ARTICLE\"\n",
    "query = f\"MERGE (r:{doc_class}{{name: 'technical_document.pdf'}}) RETURN r\""
   ]
  },
  {
   "cell_type": "code",
   "execution_count": 16,
   "id": "bde9b44d",
   "metadata": {},
   "outputs": [],
   "source": [
    "neo4j_connection.write_transaction(query)"
   ]
  },
  {
   "cell_type": "code",
   "execution_count": 18,
   "id": "1bb40700",
   "metadata": {},
   "outputs": [],
   "source": [
    "path = \"knowledge_graphs/docs/Hasnain Ali Resume.pdf\"\n",
    "full_text = \"\"\n",
    "with open(path, 'rb') as file:\n",
    "    reader = PyPDF2.PdfReader(file)\n",
    "    \n",
    "    for page in reader.pages:\n",
    "        full_text += page.extract_text()"
   ]
  },
  {
   "cell_type": "code",
   "execution_count": 19,
   "id": "4e19dd49",
   "metadata": {},
   "outputs": [
    {
     "data": {
      "text/plain": [
       "'HASNAIN ALI POONJA  \\n    Address:  201, Adam  Palace  Garden  East Karachi.  \\n   Contact  No: +92 300 8921854  \\n   LinkedIn:  https://www.linkedin.com/in/hasnain -ali-poonja/  \\n  Gmail:  hasnainali.ha659@gmail.com  \\n  GitHub:  https://github.com/hasnainali659  \\n  Medium:  https://medium.com/@hasnainali.ha659  \\n \\n \\n   Objective  \\nDynamic and results -driven Machine Learning Engineer with a proven track record of success in \\nleading AI product and projects . Seeking a challenging position at a cutting -edge tech company to \\nleverage my skills in developing and deploying advanced machine learning models that contribute \\nsignificantly to business growth.  \\n \\nEducation  \\n \\nMS Robotics and Artificial Intelligence , NUST SMME, Islamabad.  \\nSpecialization (Deep Learning , Computer Vision  and Natural Language Processing ) \\nCGPA 3.81  \\n \\nBE Mechanical Engineer , NED University , Karachi .  \\nSpecialization (Robotics ) \\n CGPA 3. 63 \\n \\n  Experience  \\n \\n• 12/202 3 – Present  \\nAI Team Lead ICS A rabia . \\n \\nProjects  \\n1. As the Team Lead AI Engineer at ICS Arabia, I am spearheading the development of a \\ncutting -edge generative AI application. Our focus lies in leveraging large language models  \\n(LLM s), including those from OpenAI,  Google  as well as open  source  models such as \\nMixtral and Llama 2 . The core functionality of our application centers around Retrieval -\\nAugmented Generation (RAG) , enabling users to interact with various types of data \\nseamlessly. Whether it’s PDFs, Word documents, Excel spreadsheets, plain text, URLs, or \\neven images, our application allows users to engage in natural conversations with the \\ncontent.  \\n \\n \\n \\n \\n \\n \\nKey Highlights:  \\n \\nVersatile Data Ingestion : Our RAG application seamlessly ingests diverse data formats, \\nmaking it a powerful tool for information retrieval and interaction.  \\n \\nContextual Memory:  The application boasts an intelligent memory system, allowing it to \\nretain context across conversations. This feature enhances user experience and facilitates \\nmore meaningful interactions.  \\n \\nFramework and Technologies:  \\nLangchain:  We utilized the Langchain framework for developing the RAG application. Its \\nflexibility and robustness played a pivotal role in achieving our goals.  \\nPinecone:  As the vector store, Pinecone enables fast and accurate similarity searches, \\nenhancing the application’s performance.  \\nStructured Data Handling:  For structured data, such as CSV files and SQL databases, we \\nemployed specialized Langchain agents. These agents extract valuable insights and provide \\ncontext -aware responses.  \\nBackend Infrastructure:  The backend of our application is powered by Django, a reliable \\nand scalable web framework. Its modular design allows for seamless integration with other \\ncomponents.  \\n \\n• 12/2022  – 12/2023  \\nMachine  Learning  Software  Engineer  at VIDIZMO.  \\n \\nProjects  \\n1. Implemented a feature in VIDIZMO Studio allowing users to draw bounding boxes on \\nobjects in videos.  Real-time tracking of objects using CSRT (Continuous Shortest \\nRegression Tracker) and deep Siamese tracker.  Achieved stable tracking without \\ndisruptions over a substantial number of frames (15,000 frames).  \\n2. Developed PII detection  for multiple audios in English and Spanish for a calling agency \\nin Orange County, USA.  Extracted and processed audios, leveraging Presidio for Named \\nEntity Recognition (NER) and regex -based rules . Redaction performed using FFMP EG \\nwith an impressive timescale of 0.01 seconds.  \\n3. Trained detection models using YOLOv8  for various objects on the VIDIZMO benchmark \\ndataset.  Achieved high accuracy (>90%)  in detecting objects such as persons, faces, \\nlicense plates, vehicles, and weapons . \\n4. Collaborated with a team to optimize the performance of the VIDIZMO application by  \\nintroducing Byte Track and IOU based trackers . This integration aimed to improve the  \\ntracker  performance  for multiple  classes  after the detection  from  YOLOv 8. Through  this \\ninitiative, we were able to witness an enhancement in performance up to 40%  when  \\ncompared  to the  previous  versions.  \\n5. Implemented Object Character Recognition (OCR) to recognize and extract characters  \\nfrom various document types, images, and videos, in multiple languages. For this, I  utilized  \\nPaddle  OCR  and Tesseract  OCR  to create an  efficient  and robust  OCR  system.  \\n6. I was part of a team that worked on the redaction and clipping of individuals, faces, and  \\nvehicles, as well as OCR for the VIDIZMO application. Through this project, we aimed  to \\nensure  the privacy  and confidentiality  of individuals  in sensitive  videos  by implementing \\nredaction and clipping functionalities . We also incorporated OCR to  improve  \\nsearchability and accessibility of the  videos.  \\n7. Implemented transcription functionality supporting multiple languages.  Leveraged \\nOpenAI Whisper and AWS Transcribe  for accurate and efficient transcription.  • 6/2022 – 12/2022  \\nMachine  Learning  Engineer  at CrossWing  (Ontario  Canada).  \\n \\nProjects  \\n1. Working to automate roof cutting for different car models using Computer Vision.  \\nDeveloped  a complete  pipeline  to annotate  the car parts  instance  dataset  using  \\nCVAT  (Computer  Vision  and Annotation  tool) . Augment  the dataset  and synthesize  to \\nmake  the images  to be scale  invariant,  background  invariant  and position  invariant.  \\nTrained  the images  using  YOLOv5  object  detector . Ensure  the correct  placement  of \\ncar parts  using     computer  vision  tracking  algorithms  like centroid  tracking . Trained  \\nCycle  GAN  to generate  different  car models  from  a small  set of cars dataset  using  \\nAWS  Sagemaker.  Used  Pix 2 Pix to augment  car dataset  to have  different  \\ncolorizations.  Used  Unknown  Aware  object  detection  technique  to enhance  the dataset  \\nfor unknown  objects  in the real- world  environment.  \\n2. Quality control and layering count for medical gowns using computer vision tracking  \\nalgorithms and YOLOv5 Object detector. Develop a pipeline to annotate the dataset  using  \\nCVAT.  Trained  the dataset  using  YOLOv5  and develop  a GUI to ensure  the correct  layer  \\ncounts.  \\n3. Worked  on multiple  trackers  like ByteTrack  and OcSort  and deployed  it on web \\napplication for  car part detection and  tracking.  \\n \\n• 01/2022  – Present  \\nData  Science  and AI Trainer  at AL NAFI  \\nDesigned  a complete  AI career  track in  python  covering  the following  courses.  \\n \\na. Machine  Learning  in Python  \\n \\n• Data  Analysis  (Using  NumPy  and Pandas)  \\n• Data  Visualization (Using  Matplotlib,  Seaborn,  Plotly,  Cufflinks)  \\n• Machine  learning  (Using  Scikit -Learn)  \\n• Deep  Learning  (Using  Keras  and TensorFlow)  \\n• Natural  Language  Processing (Using  Bag of Words  and NLTK).  \\n• Computer  Vision  (Using  OpenCV,  Matplotlib,  Pillow,  Keras,  TensorFlow)  \\n \\nb. Machine  learning  Model  Deployment  \\n \\n• Developed  and deploy  complete  facial and  gender recognition  model  on Heroku.  \\n• Web  Deployment  (Using  HTML,  CSS,  Javascript  for frontend,  Flask  and Django  \\nfor backend).  \\n \\nc. Deep  learning in  python  \\n \\n• Supervised  and Unsupervised  networks  for deep  learning  \\n• Artificial  Neural  Network  \\n• Convolutional  Neural  Network  \\n• Recurrent  Neural  Network  and Long  Short -Term  Memory  \\n• Self-Organizing  Maps  \\n• Boltzmann  Machine  \\n• Auto  Encoders  d. Computer  Vision  using  OpenCV,  PyTorch  and TensorFlow  \\n \\n• Basic  and advance  image processing using  OpenCV.  \\n• Tracking  algorithms.  \\n• Convolutional  Neural  Networks  using  Keras  and Pytorch.  \\n• Object  Detectors: SSD,  YOLO,  Faster  RCNN,  Mask  RCNN  \\n• GANS:  Deepfakes  and Cycle  GAN  \\n• Architectures:  LeNet,  AlexNet,  VGGnet,  ResNet,  Fractal  Net, DenseNet  \\n \\n• 3/2021 – 7/2022  \\nResearch Associate at the National Center of Robotics and Automation (NCRA) and  \\nNational  Center  of Artificial Intelligence  (NCAI).  \\n \\nProjects  \\n1. Design of “Engagement and Focus Level Detection Using Computer Vision and  \\nMachine Learning for Classroom Environment and Online Learning” using facial  \\ncues, body posture, and head rotation. Complete web deployment using HTML, CSS,  \\nand Javascript for  frontend and  Flask framework  for the backend.  \\n2. Applied  machine  learning  algorithm  in Pakistan’s  first indigenously  made  NED  \\nVentilator  estimate  compliance  and resistance  values  of lungs for  different  patients.  \\n3. Kaggle data set to predict confirmed cases and fatalities due to COVID -19 in different  \\ncountries  using  LSTM  and RNN.  \\n4. Robodoc: Government -funded project for the design and development of a social  \\nhumanoid  robot  to protect  the health  care professionals  dealing  with contagious  \\ndiseases.  \\n5. Robot Teleoperation with Haptic Feedback: Teleoperated 6 DoF industrial Denso  \\nRobot  with Haptic  Touch Omni device  on LAN.  \\n6. Developed a STEM product “Augmented Reality and Virtual Reality based World  \\nMap with haptic feedback using Unity3D and Vuforia Engine”.  \\nhttps://ncra.neduet.edu.pk/  \\n \\n \\n   Publications  \\n1. Evaluation  of ECG -based  Recognition  of Cardiac  Abnormalities  using  Machine  \\nLearning  and Deep Learning.  \\nhttps://ieeexplore.ieee.org/abstract/document/9651457  \\n2. Active stereo vision -based 3D reconstruction for image -guided  \\nsurgery  https://ieeexplore.ieee.org/abstract/document/9651353  \\n3. Walking algorithm using gait analysis for 17 Dof Humanoid Robot (IEEC -2022  \\nMDPI)  https:// www.mdpi.com/2673 -4591/20/1/35.  \\n4. Networked  gaming  using  haptic  feedback  with multiplayer  (IEEC -2022  MDPI).  \\n5. Motor  parametric  calculation  for robot  locomotion  (IEEC -2022  MDPI)  \\nhttps:// www.mdpi.com/2673 -4591/20/1/8.  \\n6. Engagement detection and enhancement using computer vision, augmented reality, and  \\nhaptics  (Submitted in  Image  and Vision Computing  Elsevier ). \\n   Professional  Certifications  \\n1. Git and Version  Control  (Educative .io) \\n2. Deep  learning  specialization  (Deeplearning.ai ) \\n3. Machine  learning  (Stanford ) \\n4. Robotics  Specialization  (University  of Pennsylvania ) \\n5. Introduction  to Python  (Google ) \\n6. Python  data structures  (University  of Michigan ) \\n7. Introduction  to Python  Programming  (DataCamp ) \\n8. Intermediate  Python  programming  (DataCamp ) \\n9. Introduction  to SQL  (DataCamp ) \\n10. Supervised  Learning  Algorithm ( DataCamp ) \\n11. Unsupervised  Learning  Algorithm  (DataCamp ) \\n12. Computer  Vision  OpenCV,  SSD and GANs  (Udemy ) \\n13. Machine  Learning  A-Z (Udemy ) \\n14. Deep  Learning  A-Z (Udemy ) \\n15. Nvidia  DLI Certificate  \\n'"
      ]
     },
     "execution_count": 19,
     "metadata": {},
     "output_type": "execute_result"
    }
   ],
   "source": [
    "full_text"
   ]
  },
  {
   "cell_type": "code",
   "execution_count": 29,
   "id": "8bd0a473",
   "metadata": {},
   "outputs": [],
   "source": [
    "def get_all_nodes_and_relationships():\n",
    "    \n",
    "    NEO4J_URI = os.getenv(\"NEO4J_URI\")\n",
    "    NEO_USERNAME = os.getenv(\"NEO4J_USERNAME\")\n",
    "    NEO4J_PASSWORD = os.getenv(\"NEO4J_PASSWORD\")\n",
    "    \n",
    "    query = \"\"\"MATCH (n) OPTIONAL MATCH (n)-[r]-() RETURN DISTINCT n, r\"\"\"\n",
    "    \n",
    "    driver = GraphDatabase.driver(NEO4J_URI, auth=(NEO_USERNAME, NEO4J_PASSWORD))\n",
    "    \n",
    "    nodes = []\n",
    "    relationships = []\n",
    "    \n",
    "    with driver.session() as session:\n",
    "        results = session.run(query)\n",
    "        \n",
    "        for rec in results:\n",
    "            node = rec[\"n\"]\n",
    "            relatationship = rec[\"r\"]\n",
    "            \n",
    "            if node and hasattr(node, '_properties'):\n",
    "                node_name = node._properties.get('name')\n",
    "                \n",
    "                if node_name:\n",
    "                    nodes.append(node_name)\n",
    "            \n",
    "            if relatationship is not None and hasattr(relatationship, 'type'):\n",
    "                relationships.append(relatationship)\n",
    "    \n",
    "    return nodes, relationships\n",
    "\n",
    "all_nodes, all_relationships = get_all_nodes_and_relationships()\n",
    "                "
   ]
  },
  {
   "cell_type": "code",
   "execution_count": 30,
   "id": "f5ca233a",
   "metadata": {},
   "outputs": [
    {
     "data": {
      "text/plain": [
       "[<Relationship element_id='5:8b745461-b27e-4372-a3af-32f1c679e0c0:1152928101676613633' nodes=(<Node element_id='4:8b745461-b27e-4372-a3af-32f1c679e0c0:1' labels=frozenset({'File'}) properties={'name': 'ayaan.pdf'}>, <Node element_id='4:8b745461-b27e-4372-a3af-32f1c679e0c0:0' labels=frozenset({'resume'}) properties={'name': 'resume'}>) type='BELONGS_TO' properties={}>,\n",
       " <Relationship element_id='5:8b745461-b27e-4372-a3af-32f1c679e0c0:1152928101676613639' nodes=(<Node element_id='4:8b745461-b27e-4372-a3af-32f1c679e0c0:7' labels=frozenset({'File'}) properties={'name': 'Khawer-CV.pdf'}>, <Node element_id='4:8b745461-b27e-4372-a3af-32f1c679e0c0:0' labels=frozenset({'resume'}) properties={'name': 'resume'}>) type='BELONGS_TO' properties={}>,\n",
       " <Relationship element_id='5:8b745461-b27e-4372-a3af-32f1c679e0c0:1152928101676613633' nodes=(<Node element_id='4:8b745461-b27e-4372-a3af-32f1c679e0c0:1' labels=frozenset({'File'}) properties={'name': 'ayaan.pdf'}>, <Node element_id='4:8b745461-b27e-4372-a3af-32f1c679e0c0:0' labels=frozenset({'resume'}) properties={'name': 'resume'}>) type='BELONGS_TO' properties={}>,\n",
       " <Relationship element_id='5:8b745461-b27e-4372-a3af-32f1c679e0c0:1152933599234752514' nodes=(<Node element_id='4:8b745461-b27e-4372-a3af-32f1c679e0c0:2' labels=frozenset({'Entity'}) properties={'name': 'Ayaan'}>, <Node element_id='4:8b745461-b27e-4372-a3af-32f1c679e0c0:1' labels=frozenset({'File'}) properties={'name': 'ayaan.pdf'}>) type='HAS_FILE' properties={}>,\n",
       " <Relationship element_id='5:8b745461-b27e-4372-a3af-32f1c679e0c0:1152929201188241410' nodes=(<Node element_id='4:8b745461-b27e-4372-a3af-32f1c679e0c0:2' labels=frozenset({'Entity'}) properties={'name': 'Ayaan'}>, <Node element_id='4:8b745461-b27e-4372-a3af-32f1c679e0c0:3' labels=frozenset({'Entity'}) properties={'name': 'JavaScript'}>) type='HAS_SKILLS' properties={}>,\n",
       " <Relationship element_id='5:8b745461-b27e-4372-a3af-32f1c679e0c0:1152931400211496962' nodes=(<Node element_id='4:8b745461-b27e-4372-a3af-32f1c679e0c0:2' labels=frozenset({'Entity'}) properties={'name': 'Ayaan'}>, <Node element_id='4:8b745461-b27e-4372-a3af-32f1c679e0c0:5' labels=frozenset({'Entity'}) properties={'name': 'Riyadh'}>) type='LIVES_IN' properties={}>,\n",
       " <Relationship element_id='5:8b745461-b27e-4372-a3af-32f1c679e0c0:1152933599234752514' nodes=(<Node element_id='4:8b745461-b27e-4372-a3af-32f1c679e0c0:2' labels=frozenset({'Entity'}) properties={'name': 'Ayaan'}>, <Node element_id='4:8b745461-b27e-4372-a3af-32f1c679e0c0:1' labels=frozenset({'File'}) properties={'name': 'ayaan.pdf'}>) type='HAS_FILE' properties={}>,\n",
       " <Relationship element_id='5:8b745461-b27e-4372-a3af-32f1c679e0c0:1152934698746380290' nodes=(<Node element_id='4:8b745461-b27e-4372-a3af-32f1c679e0c0:2' labels=frozenset({'Entity'}) properties={'name': 'Ayaan'}>, <Node element_id='4:8b745461-b27e-4372-a3af-32f1c679e0c0:4' labels=frozenset({'Entity'}) properties={'name': 'ICS Arabia'}>) type='HAS_EXPERIENCE' properties={}>,\n",
       " <Relationship element_id='5:8b745461-b27e-4372-a3af-32f1c679e0c0:1152929201188241410' nodes=(<Node element_id='4:8b745461-b27e-4372-a3af-32f1c679e0c0:2' labels=frozenset({'Entity'}) properties={'name': 'Ayaan'}>, <Node element_id='4:8b745461-b27e-4372-a3af-32f1c679e0c0:3' labels=frozenset({'Entity'}) properties={'name': 'JavaScript'}>) type='HAS_SKILLS' properties={}>,\n",
       " <Relationship element_id='5:8b745461-b27e-4372-a3af-32f1c679e0c0:6919788524036161539' nodes=(<Node element_id='4:8b745461-b27e-4372-a3af-32f1c679e0c0:8' labels=frozenset({'Entity'}) properties={'name': 'Khawer Ali'}>, <Node element_id='4:8b745461-b27e-4372-a3af-32f1c679e0c0:3' labels=frozenset({'Entity'}) properties={'name': 'JavaScript'}>) type='HAS_SKILLS' properties={}>,\n",
       " <Relationship element_id='5:8b745461-b27e-4372-a3af-32f1c679e0c0:1152934698746380290' nodes=(<Node element_id='4:8b745461-b27e-4372-a3af-32f1c679e0c0:2' labels=frozenset({'Entity'}) properties={'name': 'Ayaan'}>, <Node element_id='4:8b745461-b27e-4372-a3af-32f1c679e0c0:4' labels=frozenset({'Entity'}) properties={'name': 'ICS Arabia'}>) type='HAS_EXPERIENCE' properties={}>,\n",
       " <Relationship element_id='5:8b745461-b27e-4372-a3af-32f1c679e0c0:1152931400211496962' nodes=(<Node element_id='4:8b745461-b27e-4372-a3af-32f1c679e0c0:2' labels=frozenset({'Entity'}) properties={'name': 'Ayaan'}>, <Node element_id='4:8b745461-b27e-4372-a3af-32f1c679e0c0:5' labels=frozenset({'Entity'}) properties={'name': 'Riyadh'}>) type='LIVES_IN' properties={}>,\n",
       " <Relationship element_id='5:8b745461-b27e-4372-a3af-32f1c679e0c0:1152932499723124741' nodes=(<Node element_id='4:8b745461-b27e-4372-a3af-32f1c679e0c0:5' labels=frozenset({'Entity'}) properties={'name': 'Riyadh'}>, <Node element_id='4:8b745461-b27e-4372-a3af-32f1c679e0c0:6' labels=frozenset({'Entity'}) properties={'name': 'KSA'}>) type='LOCATED_IN' properties={}>,\n",
       " <Relationship element_id='5:8b745461-b27e-4372-a3af-32f1c679e0c0:1152932499723124741' nodes=(<Node element_id='4:8b745461-b27e-4372-a3af-32f1c679e0c0:5' labels=frozenset({'Entity'}) properties={'name': 'Riyadh'}>, <Node element_id='4:8b745461-b27e-4372-a3af-32f1c679e0c0:6' labels=frozenset({'Entity'}) properties={'name': 'KSA'}>) type='LOCATED_IN' properties={}>,\n",
       " <Relationship element_id='5:8b745461-b27e-4372-a3af-32f1c679e0c0:1152928101676613639' nodes=(<Node element_id='4:8b745461-b27e-4372-a3af-32f1c679e0c0:7' labels=frozenset({'File'}) properties={'name': 'Khawer-CV.pdf'}>, <Node element_id='4:8b745461-b27e-4372-a3af-32f1c679e0c0:0' labels=frozenset({'resume'}) properties={'name': 'resume'}>) type='BELONGS_TO' properties={}>,\n",
       " <Relationship element_id='5:8b745461-b27e-4372-a3af-32f1c679e0c0:6917541122268987399' nodes=(<Node element_id='4:8b745461-b27e-4372-a3af-32f1c679e0c0:8' labels=frozenset({'Entity'}) properties={'name': 'Khawer Ali'}>, <Node element_id='4:8b745461-b27e-4372-a3af-32f1c679e0c0:7' labels=frozenset({'File'}) properties={'name': 'Khawer-CV.pdf'}>) type='HAS_FILE' properties={}>,\n",
       " <Relationship element_id='5:8b745461-b27e-4372-a3af-32f1c679e0c0:6919788524036161539' nodes=(<Node element_id='4:8b745461-b27e-4372-a3af-32f1c679e0c0:8' labels=frozenset({'Entity'}) properties={'name': 'Khawer Ali'}>, <Node element_id='4:8b745461-b27e-4372-a3af-32f1c679e0c0:3' labels=frozenset({'Entity'}) properties={'name': 'JavaScript'}>) type='HAS_SKILLS' properties={}>,\n",
       " <Relationship element_id='5:8b745461-b27e-4372-a3af-32f1c679e0c0:1152929201188241416' nodes=(<Node element_id='4:8b745461-b27e-4372-a3af-32f1c679e0c0:8' labels=frozenset({'Entity'}) properties={'name': 'Khawer Ali'}>, <Node element_id='4:8b745461-b27e-4372-a3af-32f1c679e0c0:19' labels=frozenset({'Entity'}) properties={'name': 'Laravel MVC Framework'}>) type='HAS_SKILLS' properties={}>,\n",
       " <Relationship element_id='5:8b745461-b27e-4372-a3af-32f1c679e0c0:1155181001001926664' nodes=(<Node element_id='4:8b745461-b27e-4372-a3af-32f1c679e0c0:8' labels=frozenset({'Entity'}) properties={'name': 'Khawer Ali'}>, <Node element_id='4:8b745461-b27e-4372-a3af-32f1c679e0c0:20' labels=frozenset({'Entity'}) properties={'name': 'PHP'}>) type='HAS_SKILLS' properties={}>,\n",
       " <Relationship element_id='5:8b745461-b27e-4372-a3af-32f1c679e0c0:1157432800815611912' nodes=(<Node element_id='4:8b745461-b27e-4372-a3af-32f1c679e0c0:8' labels=frozenset({'Entity'}) properties={'name': 'Khawer Ali'}>, <Node element_id='4:8b745461-b27e-4372-a3af-32f1c679e0c0:21' labels=frozenset({'Entity'}) properties={'name': 'MySQL'}>) type='HAS_SKILLS' properties={}>,\n",
       " <Relationship element_id='5:8b745461-b27e-4372-a3af-32f1c679e0c0:1159684600629297160' nodes=(<Node element_id='4:8b745461-b27e-4372-a3af-32f1c679e0c0:8' labels=frozenset({'Entity'}) properties={'name': 'Khawer Ali'}>, <Node element_id='4:8b745461-b27e-4372-a3af-32f1c679e0c0:22' labels=frozenset({'Entity'}) properties={'name': 'Git'}>) type='HAS_SKILLS' properties={}>,\n",
       " <Relationship element_id='5:8b745461-b27e-4372-a3af-32f1c679e0c0:1161936400442982408' nodes=(<Node element_id='4:8b745461-b27e-4372-a3af-32f1c679e0c0:8' labels=frozenset({'Entity'}) properties={'name': 'Khawer Ali'}>, <Node element_id='4:8b745461-b27e-4372-a3af-32f1c679e0c0:23' labels=frozenset({'Entity'}) properties={'name': 'Vue Js'}>) type='HAS_SKILLS' properties={}>,\n",
       " <Relationship element_id='5:8b745461-b27e-4372-a3af-32f1c679e0c0:1164188200256667656' nodes=(<Node element_id='4:8b745461-b27e-4372-a3af-32f1c679e0c0:8' labels=frozenset({'Entity'}) properties={'name': 'Khawer Ali'}>, <Node element_id='4:8b745461-b27e-4372-a3af-32f1c679e0c0:24' labels=frozenset({'Entity'}) properties={'name': 'Nuxt Js'}>) type='HAS_SKILLS' properties={}>,\n",
       " <Relationship element_id='5:8b745461-b27e-4372-a3af-32f1c679e0c0:6917536724222476313' nodes=(<Node element_id='4:8b745461-b27e-4372-a3af-32f1c679e0c0:8' labels=frozenset({'Entity'}) properties={'name': 'Khawer Ali'}>, <Node element_id='4:8b745461-b27e-4372-a3af-32f1c679e0c0:25' labels=frozenset({'Entity'}) properties={'name': 'MongoDb'}>) type='HAS_SKILLS' properties={}>,\n",
       " <Relationship element_id='5:8b745461-b27e-4372-a3af-32f1c679e0c0:6917536724222476314' nodes=(<Node element_id='4:8b745461-b27e-4372-a3af-32f1c679e0c0:8' labels=frozenset({'Entity'}) properties={'name': 'Khawer Ali'}>, <Node element_id='4:8b745461-b27e-4372-a3af-32f1c679e0c0:26' labels=frozenset({'Entity'}) properties={'name': 'JIRA'}>) type='HAS_SKILLS' properties={}>,\n",
       " <Relationship element_id='5:8b745461-b27e-4372-a3af-32f1c679e0c0:6917536724222476315' nodes=(<Node element_id='4:8b745461-b27e-4372-a3af-32f1c679e0c0:8' labels=frozenset({'Entity'}) properties={'name': 'Khawer Ali'}>, <Node element_id='4:8b745461-b27e-4372-a3af-32f1c679e0c0:27' labels=frozenset({'Entity'}) properties={'name': 'Bitbucket'}>) type='HAS_SKILLS' properties={}>,\n",
       " <Relationship element_id='5:8b745461-b27e-4372-a3af-32f1c679e0c0:6917536724222476316' nodes=(<Node element_id='4:8b745461-b27e-4372-a3af-32f1c679e0c0:8' labels=frozenset({'Entity'}) properties={'name': 'Khawer Ali'}>, <Node element_id='4:8b745461-b27e-4372-a3af-32f1c679e0c0:28' labels=frozenset({'Entity'}) properties={'name': 'Agile'}>) type='HAS_SKILLS' properties={}>,\n",
       " <Relationship element_id='5:8b745461-b27e-4372-a3af-32f1c679e0c0:6917536724222476317' nodes=(<Node element_id='4:8b745461-b27e-4372-a3af-32f1c679e0c0:8' labels=frozenset({'Entity'}) properties={'name': 'Khawer Ali'}>, <Node element_id='4:8b745461-b27e-4372-a3af-32f1c679e0c0:29' labels=frozenset({'Entity'}) properties={'name': 'Scrum'}>) type='HAS_SKILLS' properties={}>,\n",
       " <Relationship element_id='5:8b745461-b27e-4372-a3af-32f1c679e0c0:6917536724222476318' nodes=(<Node element_id='4:8b745461-b27e-4372-a3af-32f1c679e0c0:8' labels=frozenset({'Entity'}) properties={'name': 'Khawer Ali'}>, <Node element_id='4:8b745461-b27e-4372-a3af-32f1c679e0c0:30' labels=frozenset({'Entity'}) properties={'name': 'RESTful APIs'}>) type='HAS_SKILLS' properties={}>,\n",
       " <Relationship element_id='5:8b745461-b27e-4372-a3af-32f1c679e0c0:6917536724222476319' nodes=(<Node element_id='4:8b745461-b27e-4372-a3af-32f1c679e0c0:8' labels=frozenset({'Entity'}) properties={'name': 'Khawer Ali'}>, <Node element_id='4:8b745461-b27e-4372-a3af-32f1c679e0c0:31' labels=frozenset({'Entity'}) properties={'name': 'Wordpress'}>) type='HAS_SKILLS' properties={}>,\n",
       " <Relationship element_id='5:8b745461-b27e-4372-a3af-32f1c679e0c0:6917536724222476320' nodes=(<Node element_id='4:8b745461-b27e-4372-a3af-32f1c679e0c0:8' labels=frozenset({'Entity'}) properties={'name': 'Khawer Ali'}>, <Node element_id='4:8b745461-b27e-4372-a3af-32f1c679e0c0:32' labels=frozenset({'Entity'}) properties={'name': 'Bootstrap'}>) type='HAS_SKILLS' properties={}>,\n",
       " <Relationship element_id='5:8b745461-b27e-4372-a3af-32f1c679e0c0:6917536724222476321' nodes=(<Node element_id='4:8b745461-b27e-4372-a3af-32f1c679e0c0:8' labels=frozenset({'Entity'}) properties={'name': 'Khawer Ali'}>, <Node element_id='4:8b745461-b27e-4372-a3af-32f1c679e0c0:33' labels=frozenset({'Entity'}) properties={'name': 'Jquery'}>) type='HAS_SKILLS' properties={}>,\n",
       " <Relationship element_id='5:8b745461-b27e-4372-a3af-32f1c679e0c0:6917536724222476322' nodes=(<Node element_id='4:8b745461-b27e-4372-a3af-32f1c679e0c0:8' labels=frozenset({'Entity'}) properties={'name': 'Khawer Ali'}>, <Node element_id='4:8b745461-b27e-4372-a3af-32f1c679e0c0:34' labels=frozenset({'Entity'}) properties={'name': 'Vuex'}>) type='HAS_SKILLS' properties={}>,\n",
       " <Relationship element_id='5:8b745461-b27e-4372-a3af-32f1c679e0c0:6917536724222476323' nodes=(<Node element_id='4:8b745461-b27e-4372-a3af-32f1c679e0c0:8' labels=frozenset({'Entity'}) properties={'name': 'Khawer Ali'}>, <Node element_id='4:8b745461-b27e-4372-a3af-32f1c679e0c0:35' labels=frozenset({'Entity'}) properties={'name': 'GIT Version Control'}>) type='HAS_SKILLS' properties={}>,\n",
       " <Relationship element_id='5:8b745461-b27e-4372-a3af-32f1c679e0c0:6917536724222476324' nodes=(<Node element_id='4:8b745461-b27e-4372-a3af-32f1c679e0c0:8' labels=frozenset({'Entity'}) properties={'name': 'Khawer Ali'}>, <Node element_id='4:8b745461-b27e-4372-a3af-32f1c679e0c0:36' labels=frozenset({'Entity'}) properties={'name': 'API Integration'}>) type='HAS_SKILLS' properties={}>,\n",
       " <Relationship element_id='5:8b745461-b27e-4372-a3af-32f1c679e0c0:6917536724222476325' nodes=(<Node element_id='4:8b745461-b27e-4372-a3af-32f1c679e0c0:8' labels=frozenset({'Entity'}) properties={'name': 'Khawer Ali'}>, <Node element_id='4:8b745461-b27e-4372-a3af-32f1c679e0c0:37' labels=frozenset({'Entity'}) properties={'name': 'MS Office'}>) type='HAS_SKILLS' properties={}>,\n",
       " <Relationship element_id='5:8b745461-b27e-4372-a3af-32f1c679e0c0:6917536724222476326' nodes=(<Node element_id='4:8b745461-b27e-4372-a3af-32f1c679e0c0:8' labels=frozenset({'Entity'}) properties={'name': 'Khawer Ali'}>, <Node element_id='4:8b745461-b27e-4372-a3af-32f1c679e0c0:38' labels=frozenset({'Entity'}) properties={'name': 'Problem Solving Skills'}>) type='HAS_SKILLS' properties={}>,\n",
       " <Relationship element_id='5:8b745461-b27e-4372-a3af-32f1c679e0c0:6917536724222476327' nodes=(<Node element_id='4:8b745461-b27e-4372-a3af-32f1c679e0c0:8' labels=frozenset({'Entity'}) properties={'name': 'Khawer Ali'}>, <Node element_id='4:8b745461-b27e-4372-a3af-32f1c679e0c0:39' labels=frozenset({'Entity'}) properties={'name': 'Asana'}>) type='HAS_SKILLS' properties={}>,\n",
       " <Relationship element_id='5:8b745461-b27e-4372-a3af-32f1c679e0c0:6917536724222476328' nodes=(<Node element_id='4:8b745461-b27e-4372-a3af-32f1c679e0c0:8' labels=frozenset({'Entity'}) properties={'name': 'Khawer Ali'}>, <Node element_id='4:8b745461-b27e-4372-a3af-32f1c679e0c0:40' labels=frozenset({'Entity'}) properties={'name': 'Whm & Cpanel'}>) type='HAS_SKILLS' properties={}>,\n",
       " <Relationship element_id='5:8b745461-b27e-4372-a3af-32f1c679e0c0:6917536724222476329' nodes=(<Node element_id='4:8b745461-b27e-4372-a3af-32f1c679e0c0:8' labels=frozenset({'Entity'}) properties={'name': 'Khawer Ali'}>, <Node element_id='4:8b745461-b27e-4372-a3af-32f1c679e0c0:41' labels=frozenset({'Entity'}) properties={'name': 'Project Management'}>) type='HAS_SKILLS' properties={}>,\n",
       " <Relationship element_id='5:8b745461-b27e-4372-a3af-32f1c679e0c0:6917536724222476330' nodes=(<Node element_id='4:8b745461-b27e-4372-a3af-32f1c679e0c0:8' labels=frozenset({'Entity'}) properties={'name': 'Khawer Ali'}>, <Node element_id='4:8b745461-b27e-4372-a3af-32f1c679e0c0:42' labels=frozenset({'Entity'}) properties={'name': 'RESTful web services'}>) type='HAS_SKILLS' properties={}>,\n",
       " <Relationship element_id='5:8b745461-b27e-4372-a3af-32f1c679e0c0:6917536724222476331' nodes=(<Node element_id='4:8b745461-b27e-4372-a3af-32f1c679e0c0:8' labels=frozenset({'Entity'}) properties={'name': 'Khawer Ali'}>, <Node element_id='4:8b745461-b27e-4372-a3af-32f1c679e0c0:43' labels=frozenset({'Entity'}) properties={'name': 'Websockets'}>) type='HAS_SKILLS' properties={}>,\n",
       " <Relationship element_id='5:8b745461-b27e-4372-a3af-32f1c679e0c0:1152931400211496968' nodes=(<Node element_id='4:8b745461-b27e-4372-a3af-32f1c679e0c0:8' labels=frozenset({'Entity'}) properties={'name': 'Khawer Ali'}>, <Node element_id='4:8b745461-b27e-4372-a3af-32f1c679e0c0:17' labels=frozenset({'Entity'}) properties={'name': 'DHA, Karachi, Pakistan'}>) type='LIVES_IN' properties={}>,\n",
       " <Relationship element_id='5:8b745461-b27e-4372-a3af-32f1c679e0c0:1155183200025182216' nodes=(<Node element_id='4:8b745461-b27e-4372-a3af-32f1c679e0c0:8' labels=frozenset({'Entity'}) properties={'name': 'Khawer Ali'}>, <Node element_id='4:8b745461-b27e-4372-a3af-32f1c679e0c0:18' labels=frozenset({'Entity'}) properties={'name': 'Karachi'}>) type='LIVES_IN' properties={}>,\n",
       " <Relationship element_id='5:8b745461-b27e-4372-a3af-32f1c679e0c0:6917541122268987399' nodes=(<Node element_id='4:8b745461-b27e-4372-a3af-32f1c679e0c0:8' labels=frozenset({'Entity'}) properties={'name': 'Khawer Ali'}>, <Node element_id='4:8b745461-b27e-4372-a3af-32f1c679e0c0:7' labels=frozenset({'File'}) properties={'name': 'Khawer-CV.pdf'}>) type='HAS_FILE' properties={}>,\n",
       " <Relationship element_id='5:8b745461-b27e-4372-a3af-32f1c679e0c0:1152934698746380296' nodes=(<Node element_id='4:8b745461-b27e-4372-a3af-32f1c679e0c0:8' labels=frozenset({'Entity'}) properties={'name': 'Khawer Ali'}>, <Node element_id='4:8b745461-b27e-4372-a3af-32f1c679e0c0:9' labels=frozenset({'Entity'}) properties={'name': 'Full Stack Developer'}>) type='HAS_EXPERIENCE' properties={}>,\n",
       " <Relationship element_id='5:8b745461-b27e-4372-a3af-32f1c679e0c0:1155186498560065544' nodes=(<Node element_id='4:8b745461-b27e-4372-a3af-32f1c679e0c0:8' labels=frozenset({'Entity'}) properties={'name': 'Khawer Ali'}>, <Node element_id='4:8b745461-b27e-4372-a3af-32f1c679e0c0:10' labels=frozenset({'Entity'}) properties={'name': 'PHP Developer'}>) type='HAS_EXPERIENCE' properties={}>,\n",
       " <Relationship element_id='5:8b745461-b27e-4372-a3af-32f1c679e0c0:1157438298373750792' nodes=(<Node element_id='4:8b745461-b27e-4372-a3af-32f1c679e0c0:8' labels=frozenset({'Entity'}) properties={'name': 'Khawer Ali'}>, <Node element_id='4:8b745461-b27e-4372-a3af-32f1c679e0c0:11' labels=frozenset({'Entity'}) properties={'name': 'Laravel Developer'}>) type='HAS_EXPERIENCE' properties={}>,\n",
       " <Relationship element_id='5:8b745461-b27e-4372-a3af-32f1c679e0c0:1159690098187436040' nodes=(<Node element_id='4:8b745461-b27e-4372-a3af-32f1c679e0c0:8' labels=frozenset({'Entity'}) properties={'name': 'Khawer Ali'}>, <Node element_id='4:8b745461-b27e-4372-a3af-32f1c679e0c0:12' labels=frozenset({'Entity'}) properties={'name': 'Web Developer'}>) type='HAS_EXPERIENCE' properties={}>,\n",
       " <Relationship element_id='5:8b745461-b27e-4372-a3af-32f1c679e0c0:1161941898001121288' nodes=(<Node element_id='4:8b745461-b27e-4372-a3af-32f1c679e0c0:8' labels=frozenset({'Entity'}) properties={'name': 'Khawer Ali'}>, <Node element_id='4:8b745461-b27e-4372-a3af-32f1c679e0c0:13' labels=frozenset({'Entity'}) properties={'name': 'Salsoft Technologies'}>) type='HAS_EXPERIENCE' properties={}>,\n",
       " <Relationship element_id='5:8b745461-b27e-4372-a3af-32f1c679e0c0:1164193697814806536' nodes=(<Node element_id='4:8b745461-b27e-4372-a3af-32f1c679e0c0:8' labels=frozenset({'Entity'}) properties={'name': 'Khawer Ali'}>, <Node element_id='4:8b745461-b27e-4372-a3af-32f1c679e0c0:14' labels=frozenset({'Entity'}) properties={'name': 'MT Pixels (Pvt) Ltd'}>) type='HAS_EXPERIENCE' properties={}>,\n",
       " <Relationship element_id='5:8b745461-b27e-4372-a3af-32f1c679e0c0:1166445497628491784' nodes=(<Node element_id='4:8b745461-b27e-4372-a3af-32f1c679e0c0:8' labels=frozenset({'Entity'}) properties={'name': 'Khawer Ali'}>, <Node element_id='4:8b745461-b27e-4372-a3af-32f1c679e0c0:15' labels=frozenset({'Entity'}) properties={'name': 'The Next Rex (Pvt) Ltd'}>) type='HAS_EXPERIENCE' properties={}>,\n",
       " <Relationship element_id='5:8b745461-b27e-4372-a3af-32f1c679e0c0:1168697297442177032' nodes=(<Node element_id='4:8b745461-b27e-4372-a3af-32f1c679e0c0:8' labels=frozenset({'Entity'}) properties={'name': 'Khawer Ali'}>, <Node element_id='4:8b745461-b27e-4372-a3af-32f1c679e0c0:16' labels=frozenset({'Entity'}) properties={'name': 'IMS Engineering (Pvt) Ltd'}>) type='HAS_EXPERIENCE' properties={}>,\n",
       " <Relationship element_id='5:8b745461-b27e-4372-a3af-32f1c679e0c0:6917543321292242988' nodes=(<Node element_id='4:8b745461-b27e-4372-a3af-32f1c679e0c0:8' labels=frozenset({'Entity'}) properties={'name': 'Khawer Ali'}>, <Node element_id='4:8b745461-b27e-4372-a3af-32f1c679e0c0:44' labels=frozenset({'Entity'}) properties={'name': 'Day4Dubai Web and App'}>) type='HAS_PROJECTS' properties={}>,\n",
       " <Relationship element_id='5:8b745461-b27e-4372-a3af-32f1c679e0c0:6917543321292242989' nodes=(<Node element_id='4:8b745461-b27e-4372-a3af-32f1c679e0c0:8' labels=frozenset({'Entity'}) properties={'name': 'Khawer Ali'}>, <Node element_id='4:8b745461-b27e-4372-a3af-32f1c679e0c0:45' labels=frozenset({'Entity'}) properties={'name': 'Video Streaming Web App & Mobile APIs'}>) type='HAS_PROJECTS' properties={}>,\n",
       " <Relationship element_id='5:8b745461-b27e-4372-a3af-32f1c679e0c0:6917543321292242990' nodes=(<Node element_id='4:8b745461-b27e-4372-a3af-32f1c679e0c0:8' labels=frozenset({'Entity'}) properties={'name': 'Khawer Ali'}>, <Node element_id='4:8b745461-b27e-4372-a3af-32f1c679e0c0:46' labels=frozenset({'Entity'}) properties={'name': 'ERP for Sharmeen Group of Companies'}>) type='HAS_PROJECTS' properties={}>,\n",
       " <Relationship element_id='5:8b745461-b27e-4372-a3af-32f1c679e0c0:6917543321292242991' nodes=(<Node element_id='4:8b745461-b27e-4372-a3af-32f1c679e0c0:8' labels=frozenset({'Entity'}) properties={'name': 'Khawer Ali'}>, <Node element_id='4:8b745461-b27e-4372-a3af-32f1c679e0c0:47' labels=frozenset({'Entity'}) properties={'name': 'Multi Users Donation Web App'}>) type='HAS_PROJECTS' properties={}>,\n",
       " <Relationship element_id='5:8b745461-b27e-4372-a3af-32f1c679e0c0:6917543321292242992' nodes=(<Node element_id='4:8b745461-b27e-4372-a3af-32f1c679e0c0:8' labels=frozenset({'Entity'}) properties={'name': 'Khawer Ali'}>, <Node element_id='4:8b745461-b27e-4372-a3af-32f1c679e0c0:48' labels=frozenset({'Entity'}) properties={'name': 'Multivendor Ecommerce Web and App'}>) type='HAS_PROJECTS' properties={}>,\n",
       " <Relationship element_id='5:8b745461-b27e-4372-a3af-32f1c679e0c0:6917544420803870769' nodes=(<Node element_id='4:8b745461-b27e-4372-a3af-32f1c679e0c0:8' labels=frozenset({'Entity'}) properties={'name': 'Khawer Ali'}>, <Node element_id='4:8b745461-b27e-4372-a3af-32f1c679e0c0:49' labels=frozenset({'Entity'}) properties={'name': 'MASTERS IN PROJECT MANAGEMENT'}>) type='HAS_EDUCATION' properties={}>,\n",
       " <Relationship element_id='5:8b745461-b27e-4372-a3af-32f1c679e0c0:6917544420803870770' nodes=(<Node element_id='4:8b745461-b27e-4372-a3af-32f1c679e0c0:8' labels=frozenset({'Entity'}) properties={'name': 'Khawer Ali'}>, <Node element_id='4:8b745461-b27e-4372-a3af-32f1c679e0c0:50' labels=frozenset({'Entity'}) properties={'name': 'Szabist University'}>) type='HAS_EDUCATION' properties={}>,\n",
       " <Relationship element_id='5:8b745461-b27e-4372-a3af-32f1c679e0c0:6917544420803870771' nodes=(<Node element_id='4:8b745461-b27e-4372-a3af-32f1c679e0c0:8' labels=frozenset({'Entity'}) properties={'name': 'Khawer Ali'}>, <Node element_id='4:8b745461-b27e-4372-a3af-32f1c679e0c0:51' labels=frozenset({'Entity'}) properties={'name': 'BACHELOR OF COMPUTER SCIENCE'}>) type='HAS_EDUCATION' properties={}>,\n",
       " <Relationship element_id='5:8b745461-b27e-4372-a3af-32f1c679e0c0:6917544420803870772' nodes=(<Node element_id='4:8b745461-b27e-4372-a3af-32f1c679e0c0:8' labels=frozenset({'Entity'}) properties={'name': 'Khawer Ali'}>, <Node element_id='4:8b745461-b27e-4372-a3af-32f1c679e0c0:52' labels=frozenset({'Entity'}) properties={'name': 'Iqra University'}>) type='HAS_EDUCATION' properties={}>,\n",
       " <Relationship element_id='5:8b745461-b27e-4372-a3af-32f1c679e0c0:6917545520315498549' nodes=(<Node element_id='4:8b745461-b27e-4372-a3af-32f1c679e0c0:8' labels=frozenset({'Entity'}) properties={'name': 'Khawer Ali'}>, <Node element_id='4:8b745461-b27e-4372-a3af-32f1c679e0c0:53' labels=frozenset({'Entity'}) properties={'name': 'International Leadership Conference - 16'}>) type='HAS_CONFERENCE' properties={}>,\n",
       " <Relationship element_id='5:8b745461-b27e-4372-a3af-32f1c679e0c0:6917545520315498550' nodes=(<Node element_id='4:8b745461-b27e-4372-a3af-32f1c679e0c0:8' labels=frozenset({'Entity'}) properties={'name': 'Khawer Ali'}>, <Node element_id='4:8b745461-b27e-4372-a3af-32f1c679e0c0:54' labels=frozenset({'Entity'}) properties={'name': 'Institute Of Business Administration'}>) type='HAS_CONFERENCE' properties={}>,\n",
       " <Relationship element_id='5:8b745461-b27e-4372-a3af-32f1c679e0c0:6917545520315498551' nodes=(<Node element_id='4:8b745461-b27e-4372-a3af-32f1c679e0c0:8' labels=frozenset({'Entity'}) properties={'name': 'Khawer Ali'}>, <Node element_id='4:8b745461-b27e-4372-a3af-32f1c679e0c0:55' labels=frozenset({'Entity'}) properties={'name': 'Corporate Connect'}>) type='HAS_CONFERENCE' properties={}>,\n",
       " <Relationship element_id='5:8b745461-b27e-4372-a3af-32f1c679e0c0:6917546619827126328' nodes=(<Node element_id='4:8b745461-b27e-4372-a3af-32f1c679e0c0:8' labels=frozenset({'Entity'}) properties={'name': 'Khawer Ali'}>, <Node element_id='4:8b745461-b27e-4372-a3af-32f1c679e0c0:56' labels=frozenset({'Entity'}) properties={'name': 'Hardware & Network Solutions'}>) type='HAS_CERTIFICATION' properties={}>,\n",
       " <Relationship element_id='5:8b745461-b27e-4372-a3af-32f1c679e0c0:6917546619827126329' nodes=(<Node element_id='4:8b745461-b27e-4372-a3af-32f1c679e0c0:8' labels=frozenset({'Entity'}) properties={'name': 'Khawer Ali'}>, <Node element_id='4:8b745461-b27e-4372-a3af-32f1c679e0c0:57' labels=frozenset({'Entity'}) properties={'name': 'Skill Development Council'}>) type='HAS_CERTIFICATION' properties={}>,\n",
       " <Relationship element_id='5:8b745461-b27e-4372-a3af-32f1c679e0c0:6917546619827126330' nodes=(<Node element_id='4:8b745461-b27e-4372-a3af-32f1c679e0c0:8' labels=frozenset({'Entity'}) properties={'name': 'Khawer Ali'}>, <Node element_id='4:8b745461-b27e-4372-a3af-32f1c679e0c0:58' labels=frozenset({'Entity'}) properties={'name': 'Laravel, Vue Js and Nuxt Js Projects'}>) type='HAS_CERTIFICATION' properties={}>,\n",
       " <Relationship element_id='5:8b745461-b27e-4372-a3af-32f1c679e0c0:6917546619827126331' nodes=(<Node element_id='4:8b745461-b27e-4372-a3af-32f1c679e0c0:8' labels=frozenset({'Entity'}) properties={'name': 'Khawer Ali'}>, <Node element_id='4:8b745461-b27e-4372-a3af-32f1c679e0c0:59' labels=frozenset({'Entity'}) properties={'name': 'Laravel Projects'}>) type='HAS_CERTIFICATION' properties={}>,\n",
       " <Relationship element_id='5:8b745461-b27e-4372-a3af-32f1c679e0c0:6917546619827126332' nodes=(<Node element_id='4:8b745461-b27e-4372-a3af-32f1c679e0c0:8' labels=frozenset({'Entity'}) properties={'name': 'Khawer Ali'}>, <Node element_id='4:8b745461-b27e-4372-a3af-32f1c679e0c0:60' labels=frozenset({'Entity'}) properties={'name': 'Laravel and CodeIgniter Projects'}>) type='HAS_CERTIFICATION' properties={}>,\n",
       " <Relationship element_id='5:8b745461-b27e-4372-a3af-32f1c679e0c0:1152934698746380296' nodes=(<Node element_id='4:8b745461-b27e-4372-a3af-32f1c679e0c0:8' labels=frozenset({'Entity'}) properties={'name': 'Khawer Ali'}>, <Node element_id='4:8b745461-b27e-4372-a3af-32f1c679e0c0:9' labels=frozenset({'Entity'}) properties={'name': 'Full Stack Developer'}>) type='HAS_EXPERIENCE' properties={}>,\n",
       " <Relationship element_id='5:8b745461-b27e-4372-a3af-32f1c679e0c0:1155186498560065544' nodes=(<Node element_id='4:8b745461-b27e-4372-a3af-32f1c679e0c0:8' labels=frozenset({'Entity'}) properties={'name': 'Khawer Ali'}>, <Node element_id='4:8b745461-b27e-4372-a3af-32f1c679e0c0:10' labels=frozenset({'Entity'}) properties={'name': 'PHP Developer'}>) type='HAS_EXPERIENCE' properties={}>,\n",
       " <Relationship element_id='5:8b745461-b27e-4372-a3af-32f1c679e0c0:1157438298373750792' nodes=(<Node element_id='4:8b745461-b27e-4372-a3af-32f1c679e0c0:8' labels=frozenset({'Entity'}) properties={'name': 'Khawer Ali'}>, <Node element_id='4:8b745461-b27e-4372-a3af-32f1c679e0c0:11' labels=frozenset({'Entity'}) properties={'name': 'Laravel Developer'}>) type='HAS_EXPERIENCE' properties={}>,\n",
       " <Relationship element_id='5:8b745461-b27e-4372-a3af-32f1c679e0c0:1159690098187436040' nodes=(<Node element_id='4:8b745461-b27e-4372-a3af-32f1c679e0c0:8' labels=frozenset({'Entity'}) properties={'name': 'Khawer Ali'}>, <Node element_id='4:8b745461-b27e-4372-a3af-32f1c679e0c0:12' labels=frozenset({'Entity'}) properties={'name': 'Web Developer'}>) type='HAS_EXPERIENCE' properties={}>,\n",
       " <Relationship element_id='5:8b745461-b27e-4372-a3af-32f1c679e0c0:1161941898001121288' nodes=(<Node element_id='4:8b745461-b27e-4372-a3af-32f1c679e0c0:8' labels=frozenset({'Entity'}) properties={'name': 'Khawer Ali'}>, <Node element_id='4:8b745461-b27e-4372-a3af-32f1c679e0c0:13' labels=frozenset({'Entity'}) properties={'name': 'Salsoft Technologies'}>) type='HAS_EXPERIENCE' properties={}>,\n",
       " <Relationship element_id='5:8b745461-b27e-4372-a3af-32f1c679e0c0:1164193697814806536' nodes=(<Node element_id='4:8b745461-b27e-4372-a3af-32f1c679e0c0:8' labels=frozenset({'Entity'}) properties={'name': 'Khawer Ali'}>, <Node element_id='4:8b745461-b27e-4372-a3af-32f1c679e0c0:14' labels=frozenset({'Entity'}) properties={'name': 'MT Pixels (Pvt) Ltd'}>) type='HAS_EXPERIENCE' properties={}>,\n",
       " <Relationship element_id='5:8b745461-b27e-4372-a3af-32f1c679e0c0:1166445497628491784' nodes=(<Node element_id='4:8b745461-b27e-4372-a3af-32f1c679e0c0:8' labels=frozenset({'Entity'}) properties={'name': 'Khawer Ali'}>, <Node element_id='4:8b745461-b27e-4372-a3af-32f1c679e0c0:15' labels=frozenset({'Entity'}) properties={'name': 'The Next Rex (Pvt) Ltd'}>) type='HAS_EXPERIENCE' properties={}>,\n",
       " <Relationship element_id='5:8b745461-b27e-4372-a3af-32f1c679e0c0:1168697297442177032' nodes=(<Node element_id='4:8b745461-b27e-4372-a3af-32f1c679e0c0:8' labels=frozenset({'Entity'}) properties={'name': 'Khawer Ali'}>, <Node element_id='4:8b745461-b27e-4372-a3af-32f1c679e0c0:16' labels=frozenset({'Entity'}) properties={'name': 'IMS Engineering (Pvt) Ltd'}>) type='HAS_EXPERIENCE' properties={}>,\n",
       " <Relationship element_id='5:8b745461-b27e-4372-a3af-32f1c679e0c0:1152931400211496968' nodes=(<Node element_id='4:8b745461-b27e-4372-a3af-32f1c679e0c0:8' labels=frozenset({'Entity'}) properties={'name': 'Khawer Ali'}>, <Node element_id='4:8b745461-b27e-4372-a3af-32f1c679e0c0:17' labels=frozenset({'Entity'}) properties={'name': 'DHA, Karachi, Pakistan'}>) type='LIVES_IN' properties={}>,\n",
       " <Relationship element_id='5:8b745461-b27e-4372-a3af-32f1c679e0c0:1155183200025182216' nodes=(<Node element_id='4:8b745461-b27e-4372-a3af-32f1c679e0c0:8' labels=frozenset({'Entity'}) properties={'name': 'Khawer Ali'}>, <Node element_id='4:8b745461-b27e-4372-a3af-32f1c679e0c0:18' labels=frozenset({'Entity'}) properties={'name': 'Karachi'}>) type='LIVES_IN' properties={}>,\n",
       " <Relationship element_id='5:8b745461-b27e-4372-a3af-32f1c679e0c0:1152929201188241416' nodes=(<Node element_id='4:8b745461-b27e-4372-a3af-32f1c679e0c0:8' labels=frozenset({'Entity'}) properties={'name': 'Khawer Ali'}>, <Node element_id='4:8b745461-b27e-4372-a3af-32f1c679e0c0:19' labels=frozenset({'Entity'}) properties={'name': 'Laravel MVC Framework'}>) type='HAS_SKILLS' properties={}>,\n",
       " <Relationship element_id='5:8b745461-b27e-4372-a3af-32f1c679e0c0:1155181001001926664' nodes=(<Node element_id='4:8b745461-b27e-4372-a3af-32f1c679e0c0:8' labels=frozenset({'Entity'}) properties={'name': 'Khawer Ali'}>, <Node element_id='4:8b745461-b27e-4372-a3af-32f1c679e0c0:20' labels=frozenset({'Entity'}) properties={'name': 'PHP'}>) type='HAS_SKILLS' properties={}>,\n",
       " <Relationship element_id='5:8b745461-b27e-4372-a3af-32f1c679e0c0:1157432800815611912' nodes=(<Node element_id='4:8b745461-b27e-4372-a3af-32f1c679e0c0:8' labels=frozenset({'Entity'}) properties={'name': 'Khawer Ali'}>, <Node element_id='4:8b745461-b27e-4372-a3af-32f1c679e0c0:21' labels=frozenset({'Entity'}) properties={'name': 'MySQL'}>) type='HAS_SKILLS' properties={}>,\n",
       " <Relationship element_id='5:8b745461-b27e-4372-a3af-32f1c679e0c0:1159684600629297160' nodes=(<Node element_id='4:8b745461-b27e-4372-a3af-32f1c679e0c0:8' labels=frozenset({'Entity'}) properties={'name': 'Khawer Ali'}>, <Node element_id='4:8b745461-b27e-4372-a3af-32f1c679e0c0:22' labels=frozenset({'Entity'}) properties={'name': 'Git'}>) type='HAS_SKILLS' properties={}>,\n",
       " <Relationship element_id='5:8b745461-b27e-4372-a3af-32f1c679e0c0:1161936400442982408' nodes=(<Node element_id='4:8b745461-b27e-4372-a3af-32f1c679e0c0:8' labels=frozenset({'Entity'}) properties={'name': 'Khawer Ali'}>, <Node element_id='4:8b745461-b27e-4372-a3af-32f1c679e0c0:23' labels=frozenset({'Entity'}) properties={'name': 'Vue Js'}>) type='HAS_SKILLS' properties={}>,\n",
       " <Relationship element_id='5:8b745461-b27e-4372-a3af-32f1c679e0c0:1164188200256667656' nodes=(<Node element_id='4:8b745461-b27e-4372-a3af-32f1c679e0c0:8' labels=frozenset({'Entity'}) properties={'name': 'Khawer Ali'}>, <Node element_id='4:8b745461-b27e-4372-a3af-32f1c679e0c0:24' labels=frozenset({'Entity'}) properties={'name': 'Nuxt Js'}>) type='HAS_SKILLS' properties={}>,\n",
       " <Relationship element_id='5:8b745461-b27e-4372-a3af-32f1c679e0c0:6917536724222476313' nodes=(<Node element_id='4:8b745461-b27e-4372-a3af-32f1c679e0c0:8' labels=frozenset({'Entity'}) properties={'name': 'Khawer Ali'}>, <Node element_id='4:8b745461-b27e-4372-a3af-32f1c679e0c0:25' labels=frozenset({'Entity'}) properties={'name': 'MongoDb'}>) type='HAS_SKILLS' properties={}>,\n",
       " <Relationship element_id='5:8b745461-b27e-4372-a3af-32f1c679e0c0:6917536724222476314' nodes=(<Node element_id='4:8b745461-b27e-4372-a3af-32f1c679e0c0:8' labels=frozenset({'Entity'}) properties={'name': 'Khawer Ali'}>, <Node element_id='4:8b745461-b27e-4372-a3af-32f1c679e0c0:26' labels=frozenset({'Entity'}) properties={'name': 'JIRA'}>) type='HAS_SKILLS' properties={}>,\n",
       " <Relationship element_id='5:8b745461-b27e-4372-a3af-32f1c679e0c0:6917536724222476315' nodes=(<Node element_id='4:8b745461-b27e-4372-a3af-32f1c679e0c0:8' labels=frozenset({'Entity'}) properties={'name': 'Khawer Ali'}>, <Node element_id='4:8b745461-b27e-4372-a3af-32f1c679e0c0:27' labels=frozenset({'Entity'}) properties={'name': 'Bitbucket'}>) type='HAS_SKILLS' properties={}>,\n",
       " <Relationship element_id='5:8b745461-b27e-4372-a3af-32f1c679e0c0:6917536724222476316' nodes=(<Node element_id='4:8b745461-b27e-4372-a3af-32f1c679e0c0:8' labels=frozenset({'Entity'}) properties={'name': 'Khawer Ali'}>, <Node element_id='4:8b745461-b27e-4372-a3af-32f1c679e0c0:28' labels=frozenset({'Entity'}) properties={'name': 'Agile'}>) type='HAS_SKILLS' properties={}>,\n",
       " <Relationship element_id='5:8b745461-b27e-4372-a3af-32f1c679e0c0:6917536724222476317' nodes=(<Node element_id='4:8b745461-b27e-4372-a3af-32f1c679e0c0:8' labels=frozenset({'Entity'}) properties={'name': 'Khawer Ali'}>, <Node element_id='4:8b745461-b27e-4372-a3af-32f1c679e0c0:29' labels=frozenset({'Entity'}) properties={'name': 'Scrum'}>) type='HAS_SKILLS' properties={}>,\n",
       " <Relationship element_id='5:8b745461-b27e-4372-a3af-32f1c679e0c0:6917536724222476318' nodes=(<Node element_id='4:8b745461-b27e-4372-a3af-32f1c679e0c0:8' labels=frozenset({'Entity'}) properties={'name': 'Khawer Ali'}>, <Node element_id='4:8b745461-b27e-4372-a3af-32f1c679e0c0:30' labels=frozenset({'Entity'}) properties={'name': 'RESTful APIs'}>) type='HAS_SKILLS' properties={}>,\n",
       " <Relationship element_id='5:8b745461-b27e-4372-a3af-32f1c679e0c0:6917536724222476319' nodes=(<Node element_id='4:8b745461-b27e-4372-a3af-32f1c679e0c0:8' labels=frozenset({'Entity'}) properties={'name': 'Khawer Ali'}>, <Node element_id='4:8b745461-b27e-4372-a3af-32f1c679e0c0:31' labels=frozenset({'Entity'}) properties={'name': 'Wordpress'}>) type='HAS_SKILLS' properties={}>,\n",
       " <Relationship element_id='5:8b745461-b27e-4372-a3af-32f1c679e0c0:6917536724222476320' nodes=(<Node element_id='4:8b745461-b27e-4372-a3af-32f1c679e0c0:8' labels=frozenset({'Entity'}) properties={'name': 'Khawer Ali'}>, <Node element_id='4:8b745461-b27e-4372-a3af-32f1c679e0c0:32' labels=frozenset({'Entity'}) properties={'name': 'Bootstrap'}>) type='HAS_SKILLS' properties={}>,\n",
       " <Relationship element_id='5:8b745461-b27e-4372-a3af-32f1c679e0c0:6917536724222476321' nodes=(<Node element_id='4:8b745461-b27e-4372-a3af-32f1c679e0c0:8' labels=frozenset({'Entity'}) properties={'name': 'Khawer Ali'}>, <Node element_id='4:8b745461-b27e-4372-a3af-32f1c679e0c0:33' labels=frozenset({'Entity'}) properties={'name': 'Jquery'}>) type='HAS_SKILLS' properties={}>,\n",
       " <Relationship element_id='5:8b745461-b27e-4372-a3af-32f1c679e0c0:6917536724222476322' nodes=(<Node element_id='4:8b745461-b27e-4372-a3af-32f1c679e0c0:8' labels=frozenset({'Entity'}) properties={'name': 'Khawer Ali'}>, <Node element_id='4:8b745461-b27e-4372-a3af-32f1c679e0c0:34' labels=frozenset({'Entity'}) properties={'name': 'Vuex'}>) type='HAS_SKILLS' properties={}>,\n",
       " <Relationship element_id='5:8b745461-b27e-4372-a3af-32f1c679e0c0:6917536724222476323' nodes=(<Node element_id='4:8b745461-b27e-4372-a3af-32f1c679e0c0:8' labels=frozenset({'Entity'}) properties={'name': 'Khawer Ali'}>, <Node element_id='4:8b745461-b27e-4372-a3af-32f1c679e0c0:35' labels=frozenset({'Entity'}) properties={'name': 'GIT Version Control'}>) type='HAS_SKILLS' properties={}>,\n",
       " <Relationship element_id='5:8b745461-b27e-4372-a3af-32f1c679e0c0:6917536724222476324' nodes=(<Node element_id='4:8b745461-b27e-4372-a3af-32f1c679e0c0:8' labels=frozenset({'Entity'}) properties={'name': 'Khawer Ali'}>, <Node element_id='4:8b745461-b27e-4372-a3af-32f1c679e0c0:36' labels=frozenset({'Entity'}) properties={'name': 'API Integration'}>) type='HAS_SKILLS' properties={}>,\n",
       " <Relationship element_id='5:8b745461-b27e-4372-a3af-32f1c679e0c0:6917536724222476325' nodes=(<Node element_id='4:8b745461-b27e-4372-a3af-32f1c679e0c0:8' labels=frozenset({'Entity'}) properties={'name': 'Khawer Ali'}>, <Node element_id='4:8b745461-b27e-4372-a3af-32f1c679e0c0:37' labels=frozenset({'Entity'}) properties={'name': 'MS Office'}>) type='HAS_SKILLS' properties={}>,\n",
       " <Relationship element_id='5:8b745461-b27e-4372-a3af-32f1c679e0c0:6917536724222476326' nodes=(<Node element_id='4:8b745461-b27e-4372-a3af-32f1c679e0c0:8' labels=frozenset({'Entity'}) properties={'name': 'Khawer Ali'}>, <Node element_id='4:8b745461-b27e-4372-a3af-32f1c679e0c0:38' labels=frozenset({'Entity'}) properties={'name': 'Problem Solving Skills'}>) type='HAS_SKILLS' properties={}>,\n",
       " <Relationship element_id='5:8b745461-b27e-4372-a3af-32f1c679e0c0:6917536724222476327' nodes=(<Node element_id='4:8b745461-b27e-4372-a3af-32f1c679e0c0:8' labels=frozenset({'Entity'}) properties={'name': 'Khawer Ali'}>, <Node element_id='4:8b745461-b27e-4372-a3af-32f1c679e0c0:39' labels=frozenset({'Entity'}) properties={'name': 'Asana'}>) type='HAS_SKILLS' properties={}>,\n",
       " <Relationship element_id='5:8b745461-b27e-4372-a3af-32f1c679e0c0:6917536724222476328' nodes=(<Node element_id='4:8b745461-b27e-4372-a3af-32f1c679e0c0:8' labels=frozenset({'Entity'}) properties={'name': 'Khawer Ali'}>, <Node element_id='4:8b745461-b27e-4372-a3af-32f1c679e0c0:40' labels=frozenset({'Entity'}) properties={'name': 'Whm & Cpanel'}>) type='HAS_SKILLS' properties={}>,\n",
       " <Relationship element_id='5:8b745461-b27e-4372-a3af-32f1c679e0c0:6917536724222476329' nodes=(<Node element_id='4:8b745461-b27e-4372-a3af-32f1c679e0c0:8' labels=frozenset({'Entity'}) properties={'name': 'Khawer Ali'}>, <Node element_id='4:8b745461-b27e-4372-a3af-32f1c679e0c0:41' labels=frozenset({'Entity'}) properties={'name': 'Project Management'}>) type='HAS_SKILLS' properties={}>,\n",
       " <Relationship element_id='5:8b745461-b27e-4372-a3af-32f1c679e0c0:6917536724222476330' nodes=(<Node element_id='4:8b745461-b27e-4372-a3af-32f1c679e0c0:8' labels=frozenset({'Entity'}) properties={'name': 'Khawer Ali'}>, <Node element_id='4:8b745461-b27e-4372-a3af-32f1c679e0c0:42' labels=frozenset({'Entity'}) properties={'name': 'RESTful web services'}>) type='HAS_SKILLS' properties={}>,\n",
       " <Relationship element_id='5:8b745461-b27e-4372-a3af-32f1c679e0c0:6917536724222476331' nodes=(<Node element_id='4:8b745461-b27e-4372-a3af-32f1c679e0c0:8' labels=frozenset({'Entity'}) properties={'name': 'Khawer Ali'}>, <Node element_id='4:8b745461-b27e-4372-a3af-32f1c679e0c0:43' labels=frozenset({'Entity'}) properties={'name': 'Websockets'}>) type='HAS_SKILLS' properties={}>,\n",
       " <Relationship element_id='5:8b745461-b27e-4372-a3af-32f1c679e0c0:6917543321292242988' nodes=(<Node element_id='4:8b745461-b27e-4372-a3af-32f1c679e0c0:8' labels=frozenset({'Entity'}) properties={'name': 'Khawer Ali'}>, <Node element_id='4:8b745461-b27e-4372-a3af-32f1c679e0c0:44' labels=frozenset({'Entity'}) properties={'name': 'Day4Dubai Web and App'}>) type='HAS_PROJECTS' properties={}>,\n",
       " <Relationship element_id='5:8b745461-b27e-4372-a3af-32f1c679e0c0:6917543321292242989' nodes=(<Node element_id='4:8b745461-b27e-4372-a3af-32f1c679e0c0:8' labels=frozenset({'Entity'}) properties={'name': 'Khawer Ali'}>, <Node element_id='4:8b745461-b27e-4372-a3af-32f1c679e0c0:45' labels=frozenset({'Entity'}) properties={'name': 'Video Streaming Web App & Mobile APIs'}>) type='HAS_PROJECTS' properties={}>,\n",
       " <Relationship element_id='5:8b745461-b27e-4372-a3af-32f1c679e0c0:6917543321292242990' nodes=(<Node element_id='4:8b745461-b27e-4372-a3af-32f1c679e0c0:8' labels=frozenset({'Entity'}) properties={'name': 'Khawer Ali'}>, <Node element_id='4:8b745461-b27e-4372-a3af-32f1c679e0c0:46' labels=frozenset({'Entity'}) properties={'name': 'ERP for Sharmeen Group of Companies'}>) type='HAS_PROJECTS' properties={}>,\n",
       " <Relationship element_id='5:8b745461-b27e-4372-a3af-32f1c679e0c0:6917543321292242991' nodes=(<Node element_id='4:8b745461-b27e-4372-a3af-32f1c679e0c0:8' labels=frozenset({'Entity'}) properties={'name': 'Khawer Ali'}>, <Node element_id='4:8b745461-b27e-4372-a3af-32f1c679e0c0:47' labels=frozenset({'Entity'}) properties={'name': 'Multi Users Donation Web App'}>) type='HAS_PROJECTS' properties={}>,\n",
       " <Relationship element_id='5:8b745461-b27e-4372-a3af-32f1c679e0c0:6917543321292242992' nodes=(<Node element_id='4:8b745461-b27e-4372-a3af-32f1c679e0c0:8' labels=frozenset({'Entity'}) properties={'name': 'Khawer Ali'}>, <Node element_id='4:8b745461-b27e-4372-a3af-32f1c679e0c0:48' labels=frozenset({'Entity'}) properties={'name': 'Multivendor Ecommerce Web and App'}>) type='HAS_PROJECTS' properties={}>,\n",
       " <Relationship element_id='5:8b745461-b27e-4372-a3af-32f1c679e0c0:6917544420803870769' nodes=(<Node element_id='4:8b745461-b27e-4372-a3af-32f1c679e0c0:8' labels=frozenset({'Entity'}) properties={'name': 'Khawer Ali'}>, <Node element_id='4:8b745461-b27e-4372-a3af-32f1c679e0c0:49' labels=frozenset({'Entity'}) properties={'name': 'MASTERS IN PROJECT MANAGEMENT'}>) type='HAS_EDUCATION' properties={}>,\n",
       " <Relationship element_id='5:8b745461-b27e-4372-a3af-32f1c679e0c0:6917544420803870770' nodes=(<Node element_id='4:8b745461-b27e-4372-a3af-32f1c679e0c0:8' labels=frozenset({'Entity'}) properties={'name': 'Khawer Ali'}>, <Node element_id='4:8b745461-b27e-4372-a3af-32f1c679e0c0:50' labels=frozenset({'Entity'}) properties={'name': 'Szabist University'}>) type='HAS_EDUCATION' properties={}>,\n",
       " <Relationship element_id='5:8b745461-b27e-4372-a3af-32f1c679e0c0:6917544420803870771' nodes=(<Node element_id='4:8b745461-b27e-4372-a3af-32f1c679e0c0:8' labels=frozenset({'Entity'}) properties={'name': 'Khawer Ali'}>, <Node element_id='4:8b745461-b27e-4372-a3af-32f1c679e0c0:51' labels=frozenset({'Entity'}) properties={'name': 'BACHELOR OF COMPUTER SCIENCE'}>) type='HAS_EDUCATION' properties={}>,\n",
       " <Relationship element_id='5:8b745461-b27e-4372-a3af-32f1c679e0c0:6917544420803870772' nodes=(<Node element_id='4:8b745461-b27e-4372-a3af-32f1c679e0c0:8' labels=frozenset({'Entity'}) properties={'name': 'Khawer Ali'}>, <Node element_id='4:8b745461-b27e-4372-a3af-32f1c679e0c0:52' labels=frozenset({'Entity'}) properties={'name': 'Iqra University'}>) type='HAS_EDUCATION' properties={}>,\n",
       " <Relationship element_id='5:8b745461-b27e-4372-a3af-32f1c679e0c0:6917545520315498549' nodes=(<Node element_id='4:8b745461-b27e-4372-a3af-32f1c679e0c0:8' labels=frozenset({'Entity'}) properties={'name': 'Khawer Ali'}>, <Node element_id='4:8b745461-b27e-4372-a3af-32f1c679e0c0:53' labels=frozenset({'Entity'}) properties={'name': 'International Leadership Conference - 16'}>) type='HAS_CONFERENCE' properties={}>,\n",
       " <Relationship element_id='5:8b745461-b27e-4372-a3af-32f1c679e0c0:6917545520315498550' nodes=(<Node element_id='4:8b745461-b27e-4372-a3af-32f1c679e0c0:8' labels=frozenset({'Entity'}) properties={'name': 'Khawer Ali'}>, <Node element_id='4:8b745461-b27e-4372-a3af-32f1c679e0c0:54' labels=frozenset({'Entity'}) properties={'name': 'Institute Of Business Administration'}>) type='HAS_CONFERENCE' properties={}>,\n",
       " <Relationship element_id='5:8b745461-b27e-4372-a3af-32f1c679e0c0:6917545520315498551' nodes=(<Node element_id='4:8b745461-b27e-4372-a3af-32f1c679e0c0:8' labels=frozenset({'Entity'}) properties={'name': 'Khawer Ali'}>, <Node element_id='4:8b745461-b27e-4372-a3af-32f1c679e0c0:55' labels=frozenset({'Entity'}) properties={'name': 'Corporate Connect'}>) type='HAS_CONFERENCE' properties={}>,\n",
       " <Relationship element_id='5:8b745461-b27e-4372-a3af-32f1c679e0c0:6917546619827126328' nodes=(<Node element_id='4:8b745461-b27e-4372-a3af-32f1c679e0c0:8' labels=frozenset({'Entity'}) properties={'name': 'Khawer Ali'}>, <Node element_id='4:8b745461-b27e-4372-a3af-32f1c679e0c0:56' labels=frozenset({'Entity'}) properties={'name': 'Hardware & Network Solutions'}>) type='HAS_CERTIFICATION' properties={}>,\n",
       " <Relationship element_id='5:8b745461-b27e-4372-a3af-32f1c679e0c0:6917546619827126329' nodes=(<Node element_id='4:8b745461-b27e-4372-a3af-32f1c679e0c0:8' labels=frozenset({'Entity'}) properties={'name': 'Khawer Ali'}>, <Node element_id='4:8b745461-b27e-4372-a3af-32f1c679e0c0:57' labels=frozenset({'Entity'}) properties={'name': 'Skill Development Council'}>) type='HAS_CERTIFICATION' properties={}>,\n",
       " <Relationship element_id='5:8b745461-b27e-4372-a3af-32f1c679e0c0:6917546619827126330' nodes=(<Node element_id='4:8b745461-b27e-4372-a3af-32f1c679e0c0:8' labels=frozenset({'Entity'}) properties={'name': 'Khawer Ali'}>, <Node element_id='4:8b745461-b27e-4372-a3af-32f1c679e0c0:58' labels=frozenset({'Entity'}) properties={'name': 'Laravel, Vue Js and Nuxt Js Projects'}>) type='HAS_CERTIFICATION' properties={}>,\n",
       " <Relationship element_id='5:8b745461-b27e-4372-a3af-32f1c679e0c0:6917546619827126331' nodes=(<Node element_id='4:8b745461-b27e-4372-a3af-32f1c679e0c0:8' labels=frozenset({'Entity'}) properties={'name': 'Khawer Ali'}>, <Node element_id='4:8b745461-b27e-4372-a3af-32f1c679e0c0:59' labels=frozenset({'Entity'}) properties={'name': 'Laravel Projects'}>) type='HAS_CERTIFICATION' properties={}>,\n",
       " <Relationship element_id='5:8b745461-b27e-4372-a3af-32f1c679e0c0:6917546619827126332' nodes=(<Node element_id='4:8b745461-b27e-4372-a3af-32f1c679e0c0:8' labels=frozenset({'Entity'}) properties={'name': 'Khawer Ali'}>, <Node element_id='4:8b745461-b27e-4372-a3af-32f1c679e0c0:60' labels=frozenset({'Entity'}) properties={'name': 'Laravel and CodeIgniter Projects'}>) type='HAS_CERTIFICATION' properties={}>]"
      ]
     },
     "execution_count": 30,
     "metadata": {},
     "output_type": "execute_result"
    }
   ],
   "source": [
    "all_relationships"
   ]
  },
  {
   "cell_type": "code",
   "execution_count": 31,
   "id": "4ddf1ff4",
   "metadata": {},
   "outputs": [],
   "source": [
    "template = \"\"\"\n",
    "IMPORTANT: Ensure your output is valid JSON with all keys and string values enclosed in double quotes.\n",
    "You are a document parser. Your primary objective is to analyze the provided document and extract key components to construct\n",
    "a knowledge graph. You will be given the following inputs:\n",
    "\n",
    "- A document text (which could be a resume, science article, or technical document).\n",
    "- The document class (which indicates the type or category of the document).\n",
    "- A list of all previously extracted relationships (all_relationships). For first document, all_relationships will be empty.\n",
    "\n",
    "Your task is to extract:\n",
    "1. **Entities:** Key names, institutions, concepts, topics, skills, locations, etc.\n",
    "2. **Relationships:** The connections between these entities. When determining a relationship, check the provided all_relationships list. \n",
    "If a similar relationship already exists (even if represented with different synonyms), use the existing relationship name.  \n",
    "- *For example:*  \n",
    "    - **HAS_AUTHORED** and **AUTHORED_BY** are considered the same.  \n",
    "    - **HAS_CONTRIBUTED** and **AUTHORED_BY** are considered the same.  \n",
    "    - So, if **HAS_AUTHORED** is already in the all_relationships list, do not create **AUTHORED_BY**; instead, use **HAS_AUTHORED**.  \n",
    "    - Similarly, if **HAS_CONTRIBUTED** exists, do not generate **AUTHORED_BY**; use **HAS_CONTRIBUTED**.\n",
    "3. **Cypher Queries:** Generate Cypher queries that logically connect the extracted entities. Each query should:\n",
    "- Create or merge nodes for each entity.\n",
    "- Create relationships connecting the nodes, ensuring every entity is linked to the designated root entity.\n",
    "- Be written in a clear, easy-to-understand manner.\n",
    "4. **Root Entity Name:** Identify and assign the main or most representative entity of the document as the root node. Every other entity should be connected directly or indirectly to this root.\n",
    "\n",
    "**Important Guidelines:**\n",
    "- **Comprehensiveness:** Extract as many entities and relationships as possible. Ensure no relevant piece of information is omitted.\n",
    "- **Context Sensitivity:** \n",
    "- For resumes, focus on aspects like Person Name, Education (degrees or institutions), Work Experience (companies and job titles), Skills, Location, Certifications, Awards, etc.\n",
    "- For science articles, look for Topic, Authors, Affiliations, Contributions, Novelty, Research methods, Methodology, Results, and Conclusion.\n",
    "- For technical documents, capture the Topic, Technical Details, How it Works, Applications, and Impact.\n",
    "- **Connection Logic:**  \n",
    "\n",
    "- Every node must be connected to the root entity node via an appropriate relationship.\n",
    "- For example, if \"NED University\" is mentioned, it should be connected with a relationship related to education or institution, not one meant for contributions.  \n",
    "- Similarly, \"Karachi\" should be connected with a relationship related to location or residence rather than an institution-related relationship.\n",
    "\n",
    "**Output Format:**\n",
    "Use the following JSON-like structure as a guide. Do not alter the double curly braces {{ }} as they are required by the Langchain format.\n",
    "{{\n",
    "    'entities': [...],\n",
    "    'relationships': [...],\n",
    "    'cypher_queries': [...],\n",
    "    'root_entity_name': '...'\n",
    "}}\n",
    "\n",
    "**Detailed Examples:**\n",
    "\n",
    "----------------------------------\n",
    "Example 1: Resume Document\n",
    "----------------------------------\n",
    "Document:\n",
    "\"My name is Alice Johnson. I have a Bachelor of Science in Computer Science from the University of Texas. I worked at IBM as a Data Scientist. My skill set includes Python, Machine Learning, and Data Analysis.\"\n",
    "\n",
    "Expected Output:\n",
    "{{\n",
    "    'entities': ['Alice Johnson', 'University of Texas', 'IBM', 'Data Scientist', 'Python', 'Machine Learning', 'Data Analysis'],\n",
    "    'relationships': ['HAS_EDUCATION', 'HAS_EXPERIENCE', 'HAS_SKILLS'],\n",
    "    'cypher_queries': [\n",
    "        \"MERGE (person:Entity {{name: 'Alice Johnson'}}) RETURN person\",\n",
    "        \"MERGE (school:Entity {{name: 'University of Texas'}}) RETURN school\",\n",
    "        \"MERGE (company:Entity {{name: 'IBM'}}) RETURN company\",\n",
    "        \"MERGE (role:Entity {{name: 'Data Scientist'}}) RETURN role\",\n",
    "        \"MERGE (skill1:Entity {{name: 'Python'}}) RETURN skill1\",\n",
    "        \"MERGE (skill2:Entity {{name: 'Machine Learning'}}) RETURN skill2\",\n",
    "        \"MERGE (skill3:Entity {{name: 'Data Analysis'}}) RETURN skill3\",\n",
    "        \"MATCH (person:Entity {{name: 'Alice Johnson'}}), (school:Entity {{name: 'University of Texas'}}) MERGE (person)-[:HAS_EDUCATION]->(school)\",\n",
    "        \"MATCH (person:Entity {{name: 'Alice Johnson'}}), (company:Entity {{name: 'IBM'}}) MERGE (person)-[:HAS_EXPERIENCE]->(company)\",\n",
    "        \"MATCH (person:Entity {{name: 'Alice Johnson'}}), (role:Entity {{name: 'Data Scientist'}}) MERGE (person)-[:HAS_EXPERIENCE]->(role)\",\n",
    "        \"MATCH (person:Entity {{name: 'Alice Johnson'}}), (skill1:Entity {{name: 'Python'}}) MERGE (person)-[:HAS_SKILLS]->(skill1)\",\n",
    "        \"MATCH (person:Entity {{name: 'Alice Johnson'}}), (skill2:Entity {{name: 'Machine Learning'}}) MERGE (person)-[:HAS_SKILLS]->(skill2)\",\n",
    "        \"MATCH (person:Entity {{name: 'Alice Johnson'}}), (skill3:Entity {{name: 'Data Analysis'}}) MERGE (person)-[:HAS_SKILLS]->(skill3)\"\n",
    "    ],\n",
    "    'root_entity_name': 'Alice Johnson'\n",
    "}}\n",
    "\n",
    "----------------------------------\n",
    "Example 2: Resume with Additional Details\n",
    "----------------------------------\n",
    "Resume:\n",
    "\"I am Bob Smith, living in San Francisco. I graduated with a Master's in Data Science from Stanford University, and I have experience at Google as a Machine Learning Engineer. I am proficient in Python, C++, and SQL. I also received the 'Innovator Award' for my contributions to AI research.\"\n",
    "\n",
    "Expected Output:\n",
    "{{\n",
    "    'entities': ['Bob Smith', 'San Francisco', 'Stanford University', 'Google', 'Machine Learning Engineer', 'Python', 'C++', 'SQL', 'Innovator Award', 'AI Research'],\n",
    "    'relationships': ['LIVES_IN', 'HAS_EDUCATION', 'HAS_EXPERIENCE', 'HAS_SKILLS', 'HAS_AWARDS', 'HAS_RESEARCH'],\n",
    "    'cypher_queries': [\n",
    "        \"MERGE (person:Entity {{name: 'Bob Smith'}}) RETURN person\",\n",
    "        \"MERGE (city:Entity {{name: 'San Francisco'}}) RETURN city\",\n",
    "        \"MERGE (university:Entity {{name: 'Stanford University'}}) RETURN university\",\n",
    "        \"MERGE (company:Entity {{name: 'Google'}}) RETURN company\",\n",
    "        \"MERGE (role:Entity {{name: 'Machine Learning Engineer'}}) RETURN role\",\n",
    "        \"MERGE (skill1:Entity {{name: 'Python'}}) RETURN skill1\",\n",
    "        \"MERGE (skill2:Entity {{name: 'C++'}}) RETURN skill2\",\n",
    "        \"MERGE (skill3:Entity {{name: 'SQL'}}) RETURN skill3\",\n",
    "        \"MERGE (award:Entity {{name: 'Innovator Award'}}) RETURN award\",\n",
    "        \"MERGE (research:Entity {{name: 'AI Research'}}) RETURN research\",\n",
    "        \"MATCH (person:Entity {{name: 'Bob Smith'}}), (city:Entity {{name: 'San Francisco'}}) MERGE (person)-[:LIVES_IN]->(city)\",\n",
    "        \"MATCH (person:Entity {{name: 'Bob Smith'}}), (university:Entity {{name: 'Stanford University'}}) MERGE (person)-[:HAS_EDUCATION]->(university)\",\n",
    "        \"MATCH (person:Entity {{name: 'Bob Smith'}}), (company:Entity {{name: 'Google'}}) MERGE (person)-[:HAS_EXPERIENCE]->(company)\",\n",
    "        \"MATCH (person:Entity {{name: 'Bob Smith'}}), (role:Entity {{name: 'Machine Learning Engineer'}}) MERGE (person)-[:HAS_EXPERIENCE]->(role)\",\n",
    "        \"MATCH (person:Entity {{name: 'Bob Smith'}}), (skill1:Entity {{name: 'Python'}}) MERGE (person)-[:HAS_SKILLS]->(skill1)\",\n",
    "        \"MATCH (person:Entity {{name: 'Bob Smith'}}), (skill2:Entity {{name: 'C++'}}) MERGE (person)-[:HAS_SKILLS]->(skill2)\",\n",
    "        \"MATCH (person:Entity {{name: 'Bob Smith'}}), (skill3:Entity {{name: 'SQL'}}) MERGE (person)-[:HAS_SKILLS]->(skill3)\",\n",
    "        \"MATCH (person:Entity {{name: 'Bob Smith'}}), (award:Entity {{name: 'Innovator Award'}}) MERGE (person)-[:HAS_AWARDS]->(award)\",\n",
    "        \"MATCH (person:Entity {{name: 'Bob Smith'}}), (research:Entity {{name: 'AI Research'}}) MERGE (person)-[:HAS_RESEARCH]->(research)\"\n",
    "    ],\n",
    "    'root_entity_name': 'Bob Smith'\n",
    "}}\n",
    "\n",
    "----------------------------------\n",
    "Example 3: Science Article\n",
    "----------------------------------\n",
    "Document:\n",
    "\"The article discusses the latest advancements in robotics, including the development of a new robotic arm that can perform complex tasks. The research highlights experimental methodologies and significant improvements in precision.\"\n",
    "\n",
    "Expected Output:\n",
    "{{\n",
    "    'entities': ['Robotics', 'Robotic Arm', 'Complex Tasks', 'Experimental Methodologies', 'Precision Improvements'],\n",
    "    'relationships': ['HAS_ADVANCES', 'HAS_DEVELOPMENT', 'HAS_METHODOLOGY', 'HAS_RESULTS'],\n",
    "    'cypher_queries': [\n",
    "        \"MERGE (article:Entity {{name: 'Robotics Article'}}) RETURN article\",\n",
    "        \"MERGE (advancement:Entity {{name: 'Robotics'}}) RETURN advancement\",\n",
    "        \"MERGE (arm:Entity {{name: 'Robotic Arm'}}) RETURN arm\",\n",
    "        \"MERGE (task:Entity {{name: 'Complex Tasks'}}) RETURN task\",\n",
    "        \"MERGE (method:Entity {{name: 'Experimental Methodologies'}}) RETURN method\",\n",
    "        \"MERGE (result:Entity {{name: 'Precision Improvements'}}) RETURN result\",\n",
    "        \"MATCH (article:Entity {{name: 'Robotics Article'}}), (advancement:Entity {{name: 'Robotics'}}) MERGE (article)-[:HAS_ADVANCES]->(advancement)\",\n",
    "        \"MATCH (article:Entity {{name: 'Robotics Article'}}), (arm:Entity {{name: 'Robotic Arm'}}) MERGE (article)-[:HAS_DEVELOPMENT]->(arm)\",\n",
    "        \"MATCH (article:Entity {{name: 'Robotics Article'}}), (method:Entity {{name: 'Experimental Methodologies'}}) MERGE (article)-[:HAS_METHODOLOGY]->(method)\",\n",
    "        \"MATCH (article:Entity {{name: 'Robotics Article'}}), (result:Entity {{name: 'Precision Improvements'}}) MERGE (article)-[:HAS_RESULTS]->(result)\"\n",
    "    ],\n",
    "    'root_entity_name': 'Robotics'\n",
    "}}\n",
    "\n",
    "----------------------------------\n",
    "Example 4: Technical Document\n",
    "----------------------------------\n",
    "Document:\n",
    "\"This Handbook is a comprehensive guide to the latest advancements in AI, including the development of a new AI model that can perform complex tasks. AI is the future of the world, influencing industries and transforming societies.\"\n",
    "\n",
    "Expected Output:\n",
    "{{\n",
    "    'entities': ['AI', 'AI Model', 'Complex Tasks', 'Future of the World', 'Industries', 'Societies'],\n",
    "    'relationships': ['HAS_ADVANCES', 'HAS_DEVELOPMENT', 'HAS_IMPACT', 'HAS_APPLICATION'],\n",
    "    'cypher_queries': [\n",
    "        \"MERGE (document:Entity {{name: 'Handbook'}}) RETURN document\",\n",
    "        \"MERGE (topic:Entity {{name: 'AI'}}) RETURN topic\",\n",
    "        \"MERGE (model:Entity {{name: 'AI Model'}}) RETURN model\",\n",
    "        \"MERGE (task:Entity {{name: 'Complex Tasks'}}) RETURN task\",\n",
    "        \"MERGE (impact:Entity {{name: 'Future of the World'}}) RETURN impact\",\n",
    "        \"MERGE (industry:Entity {{name: 'Industries'}}) RETURN industry\",\n",
    "        \"MERGE (society:Entity {{name: 'Societies'}}) RETURN society\",\n",
    "        \"MATCH (document:Entity {{name: 'Handbook'}}), (topic:Entity {{name: 'AI'}}) MERGE (document)-[:HAS_ADVANCES]->(topic)\",\n",
    "        \"MATCH (document:Entity {{name: 'Handbook'}}), (model:Entity {{name: 'AI Model'}}) MERGE (document)-[:HAS_DEVELOPMENT]->(model)\",\n",
    "        \"MATCH (document:Entity {{name: 'Handbook'}}), (task:Entity {{name: 'Complex Tasks'}}) MERGE (document)-[:HAS_DEVELOPMENT]->(task)\",\n",
    "        \"MATCH (document:Entity {{name: 'Handbook'}}), (impact:Entity {{name: 'Future of the World'}}) MERGE (document)-[:HAS_IMPACT]->(impact)\",\n",
    "        \"MATCH (document:Entity {{name: 'Handbook'}}), (industry:Entity {{name: 'Industries'}}) MERGE (document)-[:HAS_APPLICATION]->(industry)\",\n",
    "        \"MATCH (document:Entity {{name: 'Handbook'}}), (society:Entity {{name: 'Societies'}}) MERGE (document)-[:HAS_APPLICATION]->(society)\"\n",
    "    ],\n",
    "    'root_entity_name': 'AI'\n",
    "}}\n",
    "\n",
    "----------------------------------\n",
    "Example 5: Mixed Technical and Research Document\n",
    "----------------------------------\n",
    "Document:\n",
    "\"Dr. Emily Clark presents a whitepaper on quantum computing. The document outlines the principles of quantum mechanics, details the design of a quantum processor, and discusses the potential impact on cybersecurity and data encryption. It also covers experimental results from recent trials.\"\n",
    "\n",
    "Expected Output:\n",
    "{{\n",
    "    'entities': ['Dr. Emily Clark', 'Quantum Computing', 'Quantum Mechanics', 'Quantum Processor', 'Cybersecurity', 'Data Encryption', 'Experimental Results'],\n",
    "    'relationships': ['HAS_AUTHORED', 'HAS_TOPICS', 'HAS_DEVELOPMENT', 'HAS_IMPACT', 'HAS_RESULTS'],\n",
    "    'cypher_queries': [\n",
    "        \"MERGE (document:Entity {{name: 'Whitepaper on Quantum Computing'}}) RETURN document\",\n",
    "        \"MERGE (author:Entity {{name: 'Dr. Emily Clark'}}) RETURN author\",\n",
    "        \"MERGE (topic:Entity {{name: 'Quantum Computing'}}) RETURN topic\",\n",
    "        \"MERGE (mechanics:Entity {{name: 'Quantum Mechanics'}}) RETURN mechanics\",\n",
    "        \"MERGE (processor:Entity {{name: 'Quantum Processor'}}) RETURN processor\",\n",
    "        \"MERGE (cyber:Entity {{name: 'Cybersecurity'}}) RETURN cyber\",\n",
    "        \"MERGE (encryption:Entity {{name: 'Data Encryption'}}) RETURN encryption\",\n",
    "        \"MERGE (results:Entity {{name: 'Experimental Results'}}) RETURN results\",\n",
    "        \"MATCH (document:Entity {{name: 'Whitepaper on Quantum Computing'}}), (author:Entity {{name: 'Dr. Emily Clark'}}) MERGE (document)-[:HAS_AUTHORED]->(author)\",\n",
    "        \"MATCH (document:Entity {{name: 'Whitepaper on Quantum Computing'}}), (topic:Entity {{name: 'Quantum Computing'}}) MERGE (document)-[:HAS_TOPICS]->(topic)\",\n",
    "        \"MATCH (document:Entity {{name: 'Whitepaper on Quantum Computing'}}), (mechanics:Entity {{name: 'Quantum Mechanics'}}) MERGE (document)-[:HAS_TOPICS]->(mechanics)\",\n",
    "        \"MATCH (document:Entity {{name: 'Whitepaper on Quantum Computing'}}), (processor:Entity {{name: 'Quantum Processor'}}) MERGE (document)-[:HAS_DEVELOPMENT]->(processor)\",\n",
    "        \"MATCH (document:Entity {{name: 'Whitepaper on Quantum Computing'}}), (cyber:Entity {{name: 'Cybersecurity'}}) MERGE (document)-[:HAS_IMPACT]->(cyber)\",\n",
    "        \"MATCH (document:Entity {{name: 'Whitepaper on Quantum Computing'}}), (encryption:Entity {{name: 'Data Encryption'}}) MERGE (document)-[:HAS_IMPACT]->(encryption)\",\n",
    "        \"MATCH (document:Entity {{name: 'Whitepaper on Quantum Computing'}}), (results:Entity {{name: 'Experimental Results'}}) MERGE (document)-[:HAS_RESULTS]->(results)\"\n",
    "    ],\n",
    "    'root_entity_name': 'Quantum Computing'\n",
    "}}\n",
    "\n",
    "----------------------------------\n",
    "Instructions for Processing the Input:\n",
    "Now, using the same approach and output format structure shown in the examples above, parse the following inputs:\n",
    "\n",
    "- **Document:** {text}\n",
    "- **Document Class:** {doc_class}\n",
    "- **All Relationships:** {all_relationships}\n",
    "\n",
    "\n",
    "Your output should comprehensively list all relevant entities, determine the appropriate relationships (reusing existing relationship names when applicable), and generate clear, logically connected cypher queries that integrate every extracted entity with the chosen root entity. Make sure no entity is left unconnected.\n",
    "\n",
    "Remember:  \n",
    "- Use clear and descriptive relationship names that reflect the nature of the connection (e.g., HAS_EDUCATION, LIVES_IN, HAS_EXPERIENCE, HAS_ADVANCES, HAS_DEVELOPMENT, HAS_IMPACT, etc.).\n",
    "\"\"\""
   ]
  },
  {
   "cell_type": "code",
   "execution_count": 32,
   "id": "904f30da",
   "metadata": {},
   "outputs": [],
   "source": [
    "llm = ChatOpenAI(model=\"gpt-4o\")"
   ]
  },
  {
   "cell_type": "code",
   "execution_count": 33,
   "id": "00f90e19",
   "metadata": {},
   "outputs": [
    {
     "name": "stdout",
     "output_type": "stream",
     "text": [
      "content='Hello! How can I assist you today?' additional_kwargs={'refusal': None} response_metadata={'token_usage': {'completion_tokens': 9, 'prompt_tokens': 8, 'total_tokens': 17, 'completion_tokens_details': {'accepted_prediction_tokens': 0, 'audio_tokens': 0, 'reasoning_tokens': 0, 'rejected_prediction_tokens': 0}, 'prompt_tokens_details': {'audio_tokens': 0, 'cached_tokens': 0}}, 'model_name': 'gpt-4o-2024-08-06', 'system_fingerprint': 'fp_f33640a400', 'id': 'chatcmpl-CAHalLntyhPky0reNqbULE2M8O88N', 'finish_reason': 'stop', 'logprobs': None} id='run--f548db96-6cc1-4c8c-8f12-5ace3e5a348f-0' usage_metadata={'input_tokens': 8, 'output_tokens': 9, 'total_tokens': 17, 'input_token_details': {'audio': 0, 'cache_read': 0}, 'output_token_details': {'audio': 0, 'reasoning': 0}}\n"
     ]
    }
   ],
   "source": [
    "print(llm.invoke(\"hi\"))"
   ]
  },
  {
   "cell_type": "code",
   "execution_count": 34,
   "id": "f9d86c1f",
   "metadata": {},
   "outputs": [],
   "source": [
    "from pydantic import BaseModel, Field\n",
    "\n",
    "class ContentSchema(BaseModel):\n",
    "    entities: list[str] = Field(default=[], description=\"The list of entities in resume\")\n",
    "    relationships: list[str] = Field(default=[], description=\"The list of relationships between entities of resume\")\n",
    "    cypher_queries: list[str] = Field(default=[], description=\"The list of cypher queries to create a knowlege graph\")\n",
    "    root_entity_name: str = Field(default=\"\", description=\"The name of root entity e.g Hasnain, Bob Smith\")\n"
   ]
  },
  {
   "cell_type": "code",
   "execution_count": 35,
   "id": "34919485",
   "metadata": {},
   "outputs": [],
   "source": [
    "parser = PydanticOutputParser(pydantic_object=ContentSchema)"
   ]
  },
  {
   "cell_type": "code",
   "execution_count": 36,
   "id": "9a3a8ec6",
   "metadata": {},
   "outputs": [],
   "source": [
    "prompt = PromptTemplate.from_template(template)\n",
    "chain = prompt | llm"
   ]
  },
  {
   "cell_type": "code",
   "execution_count": 37,
   "id": "3baad151",
   "metadata": {},
   "outputs": [],
   "source": [
    "doc_class = \"resume\""
   ]
  },
  {
   "cell_type": "code",
   "execution_count": 38,
   "id": "95a63d0e",
   "metadata": {},
   "outputs": [],
   "source": [
    "response = chain.invoke({\"text\": full_text, \"doc_class\": doc_class, \"all_relationships\": all_relationships})"
   ]
  },
  {
   "cell_type": "code",
   "execution_count": 40,
   "id": "51710977",
   "metadata": {},
   "outputs": [],
   "source": [
    "parsed_response = parser.parse(response.content)"
   ]
  },
  {
   "cell_type": "code",
   "execution_count": 45,
   "id": "1638ac97",
   "metadata": {},
   "outputs": [],
   "source": [
    "entities = parsed_response.entities\n",
    "relationships = parsed_response.relationships\n",
    "cypher_queries = parsed_response.cypher_queries\n",
    "root_entity_node = parsed_response.root_entity_name"
   ]
  },
  {
   "cell_type": "code",
   "execution_count": 46,
   "id": "fd969f4a",
   "metadata": {},
   "outputs": [],
   "source": [
    "file_name = \"Hasnain Ali Resume\"\n",
    "file_query = \"\"\"MERGE (f: File {name: $file_name}) RETURN f\"\"\"\n",
    "file_query_params = {'file_name': file_name}\n",
    "\n",
    "neo4j_connection.write_transaction(file_query, file_query_params)"
   ]
  },
  {
   "cell_type": "code",
   "execution_count": 51,
   "id": "81c8f448",
   "metadata": {},
   "outputs": [
    {
     "data": {
      "text/plain": [
       "'resume'"
      ]
     },
     "execution_count": 51,
     "metadata": {},
     "output_type": "execute_result"
    }
   ],
   "source": [
    "doc_class"
   ]
  },
  {
   "cell_type": "code",
   "execution_count": 52,
   "id": "b10173d2",
   "metadata": {},
   "outputs": [],
   "source": [
    "belongs_query = f\"\"\"\n",
    "    MATCH (r:{doc_class} {{ name: '{doc_class.lower()}' }}), (f:File {{ name: $file_name }})\n",
    "    MERGE (f)-[:BELONGS_TO]->(r) \n",
    "    RETURN r, f\n",
    "\"\"\"\n",
    "neo4j_connection.write_transaction(belongs_query, file_query_params)"
   ]
  },
  {
   "cell_type": "code",
   "execution_count": 53,
   "id": "6b126760",
   "metadata": {},
   "outputs": [],
   "source": [
    "for cypher_query in cypher_queries:\n",
    "    neo4j_connection.write_transaction(cypher_query)"
   ]
  },
  {
   "cell_type": "code",
   "execution_count": 54,
   "id": "9704e7f9",
   "metadata": {},
   "outputs": [],
   "source": [
    "root_entity_query = \"\"\"\n",
    "    MATCH (b { name: $root_entity_name }), (f { name: $file_name })\n",
    "    MERGE (b)-[:HAS_FILE]->(f)\n",
    "    RETURN b, f\n",
    "\"\"\""
   ]
  },
  {
   "cell_type": "code",
   "execution_count": 55,
   "id": "5db114f1",
   "metadata": {},
   "outputs": [],
   "source": [
    "root_entity_query_params = {\n",
    "    'root_entity_name': root_entity_node,\n",
    "    'file_name': file_name\n",
    "}"
   ]
  },
  {
   "cell_type": "code",
   "execution_count": 56,
   "id": "ba3e359c",
   "metadata": {},
   "outputs": [],
   "source": [
    "neo4j_connection.write_transaction(root_entity_query, root_entity_query_params)"
   ]
  }
 ],
 "metadata": {
  "kernelspec": {
   "display_name": "Python 3",
   "language": "python",
   "name": "python3"
  },
  "language_info": {
   "codemirror_mode": {
    "name": "ipython",
    "version": 3
   },
   "file_extension": ".py",
   "mimetype": "text/x-python",
   "name": "python",
   "nbconvert_exporter": "python",
   "pygments_lexer": "ipython3",
   "version": "3.10.7"
  }
 },
 "nbformat": 4,
 "nbformat_minor": 5
}
