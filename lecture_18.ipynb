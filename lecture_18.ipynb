{
 "cells": [
  {
   "cell_type": "code",
   "execution_count": null,
   "id": "289153fe",
   "metadata": {},
   "outputs": [],
   "source": [
    "# Task: Using Langchain built a translation program that translates a given text from one language to another for e.g English to Urdu\n",
    "# Ali Mehdi Code\n",
    "\n",
    "from langchain.chat_models import ChatOpenAI\n",
    "from langchain.embeddings import OpenAIEmbeddings\n",
    "from langchain.prompts import PromptTemplate\n",
    "from langchain.chains import LLMChain\n",
    "\n",
    "translation_prompt = PromptTemplate(\n",
    "    input_variables=[\"text\", \"source_language\", \"target_language\"],\n",
    "    template=\"Translate the following {source_language} text to {target_language}:\\n\\n{text}\"\n",
    ")\n",
    "llm = ChatOpenAI( model=\"qwen3-1.7b\",\n",
    "      base_url=\"http://127.0.0.1:1234/v1\", \n",
    "      api_key=\"lm-studio\",\n",
    "      temperature=0.7,\n",
    "      max_completion_tokens=8000\n",
    ")\n",
    "translation_chain = LLMChain(llm=llm, prompt=translation_prompt)\n",
    "\n",
    "def translate_text(text, source_language, target_language):\n",
    "    return translation_chain.run(\n",
    "        text=text,\n",
    "        source_language=source_language,\n",
    "        target_language=target_language\n",
    "    )\n",
    "\n",
    "result = translate_text(\"Hello, how are you?\", \"English\", \"Urdu\")\n",
    "print(result)"
   ]
  },
  {
   "cell_type": "code",
   "execution_count": null,
   "id": "72a848aa",
   "metadata": {},
   "outputs": [],
   "source": [
    "# Mujtaba Hussain Code\n",
    "\n",
    "import streamlit as st\n",
    "from langchain_core.prompts import ChatPromptTemplate, MessagesPlaceholder\n",
    "from langchain_core.messages import AIMessage, HumanMessage\n",
    "from langchain_openai import ChatOpenAI\n",
    "from langchain.schema.output_parser import StrOutputParser\n",
    "from dotenv import load_dotenv\n",
    "load_dotenv()\n",
    "\n",
    "st.title(\"Your Translator\")\n",
    "llm = ChatOpenAI(model=\"gpt-4o-mini\",\n",
    "                 temperature=0.3,\n",
    "                 streaming=True\n",
    "                 )\n",
    "system_prompt = \"\"\"\n",
    "You are an language translator who translate different languages like from English to Urdu\n",
    "\"\"\"\n",
    "prompt = ChatPromptTemplate.from_messages(\n",
    "    [\n",
    "        (\"system\", system_prompt),\n",
    "        MessagesPlaceholder(variable_name=\"chat_history\"),\n",
    "        (\"human\", \"{query}\")\n",
    "    ]\n",
    ")\n",
    "output_parser = StrOutputParser()\n",
    "chain = prompt | llm | output_parser\n",
    "if \"chat_history\" not in st.session_state:\n",
    "    st.session_state.chat_history = []\n",
    "query = st.chat_input(\"Enter your query? \", key=\"query_1\")\n",
    "if query:\n",
    "    response_placeholder = st.empty()\n",
    "    response = \"\"\n",
    "    for token in chain.stream({\"query\": query, \"chat_history\": st.session_state.chat_history}):\n",
    "        response += token\n",
    "        response_placeholder.write(response)\n",
    "    human_questions = HumanMessage(content=query)\n",
    "    AI_response = AIMessage(content=response)\n",
    "    st.session_state.chat_history.extend([human_questions, AI_response])"
   ]
  },
  {
   "cell_type": "code",
   "execution_count": 2,
   "id": "c190fc11",
   "metadata": {},
   "outputs": [],
   "source": [
    "from dotenv import load_dotenv\n",
    "from langchain_tavily import TavilySearch\n",
    "from langchain.chat_models import init_chat_model\n",
    "from langgraph.prebuilt import create_react_agent"
   ]
  },
  {
   "cell_type": "code",
   "execution_count": 3,
   "id": "fb44d599",
   "metadata": {},
   "outputs": [],
   "source": [
    "llm = init_chat_model(model=\"gpt-4o\", model_provider=\"openai\")"
   ]
  },
  {
   "cell_type": "code",
   "execution_count": 4,
   "id": "d1db3c57",
   "metadata": {},
   "outputs": [],
   "source": [
    "tavily_search_tool = TavilySearch(\n",
    "    max_results=5,\n",
    "    topic=\"general\",\n",
    "    search_depth=\"basic\" \n",
    ")"
   ]
  },
  {
   "cell_type": "code",
   "execution_count": 5,
   "id": "769bf475",
   "metadata": {},
   "outputs": [],
   "source": [
    "tools = [tavily_search_tool]"
   ]
  },
  {
   "cell_type": "code",
   "execution_count": 6,
   "id": "9d1b0182",
   "metadata": {},
   "outputs": [],
   "source": [
    "agent = create_react_agent(llm, tools)"
   ]
  },
  {
   "cell_type": "code",
   "execution_count": 8,
   "id": "ea52bb7d",
   "metadata": {},
   "outputs": [],
   "source": [
    "response = agent.invoke({\n",
    "    \"messages\":\"what is the weather of karachi today?\"\n",
    "})"
   ]
  },
  {
   "cell_type": "code",
   "execution_count": null,
   "id": "5f0f2eb3",
   "metadata": {},
   "outputs": [
    {
     "name": "stdout",
     "output_type": "stream",
     "text": [
      "4\n"
     ]
    }
   ],
   "source": [
    "print(len(response[\"messages\"][-1]))"
   ]
  },
  {
   "cell_type": "code",
   "execution_count": null,
   "id": "c9e9974e",
   "metadata": {},
   "outputs": [],
   "source": []
  },
  {
   "cell_type": "code",
   "execution_count": 11,
   "id": "4b747381",
   "metadata": {},
   "outputs": [],
   "source": [
    "from langchain.agents.agent_types import AgentType\n",
    "from langchain_experimental.agents.agent_toolkits import create_pandas_dataframe_agent\n",
    "from langchain_openai import ChatOpenAI"
   ]
  },
  {
   "cell_type": "code",
   "execution_count": 13,
   "id": "9a4a50f2",
   "metadata": {},
   "outputs": [],
   "source": [
    "import pandas as pd\n",
    "\n",
    "df = pd.read_csv(\"Docs/bmi.csv\")"
   ]
  },
  {
   "cell_type": "code",
   "execution_count": 15,
   "id": "2e0a53fd",
   "metadata": {},
   "outputs": [
    {
     "data": {
      "text/html": [
       "<div>\n",
       "<style scoped>\n",
       "    .dataframe tbody tr th:only-of-type {\n",
       "        vertical-align: middle;\n",
       "    }\n",
       "\n",
       "    .dataframe tbody tr th {\n",
       "        vertical-align: top;\n",
       "    }\n",
       "\n",
       "    .dataframe thead th {\n",
       "        text-align: right;\n",
       "    }\n",
       "</style>\n",
       "<table border=\"1\" class=\"dataframe\">\n",
       "  <thead>\n",
       "    <tr style=\"text-align: right;\">\n",
       "      <th></th>\n",
       "      <th>Height</th>\n",
       "      <th>Weight</th>\n",
       "      <th>Index</th>\n",
       "    </tr>\n",
       "  </thead>\n",
       "  <tbody>\n",
       "    <tr>\n",
       "      <th>count</th>\n",
       "      <td>500.000000</td>\n",
       "      <td>500.000000</td>\n",
       "      <td>500.000000</td>\n",
       "    </tr>\n",
       "    <tr>\n",
       "      <th>mean</th>\n",
       "      <td>169.944000</td>\n",
       "      <td>106.000000</td>\n",
       "      <td>3.748000</td>\n",
       "    </tr>\n",
       "    <tr>\n",
       "      <th>std</th>\n",
       "      <td>16.375261</td>\n",
       "      <td>32.382607</td>\n",
       "      <td>1.355053</td>\n",
       "    </tr>\n",
       "    <tr>\n",
       "      <th>min</th>\n",
       "      <td>140.000000</td>\n",
       "      <td>50.000000</td>\n",
       "      <td>0.000000</td>\n",
       "    </tr>\n",
       "    <tr>\n",
       "      <th>25%</th>\n",
       "      <td>156.000000</td>\n",
       "      <td>80.000000</td>\n",
       "      <td>3.000000</td>\n",
       "    </tr>\n",
       "    <tr>\n",
       "      <th>50%</th>\n",
       "      <td>170.500000</td>\n",
       "      <td>106.000000</td>\n",
       "      <td>4.000000</td>\n",
       "    </tr>\n",
       "    <tr>\n",
       "      <th>75%</th>\n",
       "      <td>184.000000</td>\n",
       "      <td>136.000000</td>\n",
       "      <td>5.000000</td>\n",
       "    </tr>\n",
       "    <tr>\n",
       "      <th>max</th>\n",
       "      <td>199.000000</td>\n",
       "      <td>160.000000</td>\n",
       "      <td>5.000000</td>\n",
       "    </tr>\n",
       "  </tbody>\n",
       "</table>\n",
       "</div>"
      ],
      "text/plain": [
       "           Height      Weight       Index\n",
       "count  500.000000  500.000000  500.000000\n",
       "mean   169.944000  106.000000    3.748000\n",
       "std     16.375261   32.382607    1.355053\n",
       "min    140.000000   50.000000    0.000000\n",
       "25%    156.000000   80.000000    3.000000\n",
       "50%    170.500000  106.000000    4.000000\n",
       "75%    184.000000  136.000000    5.000000\n",
       "max    199.000000  160.000000    5.000000"
      ]
     },
     "execution_count": 15,
     "metadata": {},
     "output_type": "execute_result"
    }
   ],
   "source": [
    "df.describe()"
   ]
  },
  {
   "cell_type": "code",
   "execution_count": 21,
   "id": "00c63a94",
   "metadata": {},
   "outputs": [],
   "source": [
    "llm = ChatOpenAI(model= \"gpt-4o\")"
   ]
  },
  {
   "cell_type": "code",
   "execution_count": 22,
   "id": "f79551d4",
   "metadata": {},
   "outputs": [],
   "source": [
    "agent = create_pandas_dataframe_agent(\n",
    "    llm,\n",
    "    df,\n",
    "    verbose=True,\n",
    "    agent_type=AgentType.OPENAI_FUNCTIONS,\n",
    "    allow_dangerous_code=True\n",
    ")"
   ]
  },
  {
   "cell_type": "code",
   "execution_count": 25,
   "id": "1c1e13a7",
   "metadata": {},
   "outputs": [
    {
     "name": "stdout",
     "output_type": "stream",
     "text": [
      "\n",
      "\n",
      "\u001b[1m> Entering new AgentExecutor chain...\u001b[0m\n",
      "\u001b[32;1m\u001b[1;3m\n",
      "Invoking: `python_repl_ast` with `{'query': \"import matplotlib.pyplot as plt\\n\\n# Count the number of occurrences for each gender\\ngender_counts = df['Gender'].value_counts()\\n\\n# Plotting bar chart for gender distribution\\ngender_counts.plot(kind='bar', color=['blue', 'pink'])\\nplt.title('Gender Distribution')\\nplt.xlabel('Gender')\\nplt.ylabel('Count')\\nplt.xticks(rotation=0)\\nplt.show()\"}`\n",
      "\n",
      "\n",
      "\u001b[0m"
     ]
    },
    {
     "name": "stderr",
     "output_type": "stream",
     "text": [
      "Matplotlib is building the font cache; this may take a moment.\n"
     ]
    },
    {
     "data": {
      "image/png": "[encoded data removed]",
      "text/plain": [
       "<Figure size 640x480 with 1 Axes>"
      ]
     },
     "metadata": {},
     "output_type": "display_data"
    },
    {
     "name": "stdout",
     "output_type": "stream",
     "text": [
      "\u001b[36;1m\u001b[1;3m\u001b[0m\u001b[32;1m\u001b[1;3mThe bar chart for gender distribution has been plotted, showing the count of male vs. female in the dataset.\u001b[0m\n",
      "\n",
      "\u001b[1m> Finished chain.\u001b[0m\n"
     ]
    }
   ],
   "source": [
    "response = agent.invoke(\"Plot a bar chart for male vs female\")"
   ]
  },
  {
   "cell_type": "code",
   "execution_count": null,
   "id": "4ede1ac0",
   "metadata": {},
   "outputs": [],
   "source": []
  },
  {
   "cell_type": "code",
   "execution_count": null,
   "id": "e5a5e0e7",
   "metadata": {},
   "outputs": [],
   "source": []
  },
  {
   "cell_type": "code",
   "execution_count": 26,
   "id": "c6373e9d",
   "metadata": {},
   "outputs": [],
   "source": [
    "import nltk\n",
    "from nltk.stem.porter import *"
   ]
  },
  {
   "cell_type": "code",
   "execution_count": 27,
   "id": "3b393788",
   "metadata": {},
   "outputs": [],
   "source": [
    "p_stemmer = PorterStemmer()"
   ]
  },
  {
   "cell_type": "code",
   "execution_count": 28,
   "id": "7c0e74eb",
   "metadata": {},
   "outputs": [],
   "source": [
    "words = ['run', 'runner', 'running', 'ran', 'runs', 'easily', 'fairly']"
   ]
  },
  {
   "cell_type": "code",
   "execution_count": 29,
   "id": "0bf03f3f",
   "metadata": {},
   "outputs": [
    {
     "name": "stdout",
     "output_type": "stream",
     "text": [
      "run --> run\n",
      "runner --> runner\n",
      "running --> run\n",
      "ran --> ran\n",
      "runs --> run\n",
      "easily --> easili\n",
      "fairly --> fairli\n"
     ]
    }
   ],
   "source": [
    "for word in words:\n",
    "    print(f'{word} --> {p_stemmer.stem(word)}')"
   ]
  },
  {
   "cell_type": "code",
   "execution_count": 31,
   "id": "aee4789a",
   "metadata": {},
   "outputs": [
    {
     "name": "stdout",
     "output_type": "stream",
     "text": [
      "run --> run\n",
      "runner --> runner\n",
      "running --> run\n",
      "ran --> ran\n",
      "runs --> run\n",
      "easily --> easili\n",
      "fairly --> fair\n"
     ]
    }
   ],
   "source": [
    "from nltk.stem.snowball import SnowballStemmer\n",
    "\n",
    "s_stemmer = SnowballStemmer(language=\"english\")\n",
    "words = ['run', 'runner', 'running', 'ran', 'runs', 'easily', 'fairly']\n",
    "for word in words:\n",
    "    print(f'{word} --> {s_stemmer.stem(word)}')"
   ]
  },
  {
   "cell_type": "code",
   "execution_count": 1,
   "id": "e50475b9",
   "metadata": {},
   "outputs": [],
   "source": [
    "import spacy\n",
    "nlp = spacy.load(\"en_core_web_sm\")"
   ]
  },
  {
   "cell_type": "code",
   "execution_count": 2,
   "id": "c0324545",
   "metadata": {},
   "outputs": [],
   "source": [
    "doc1 = nlp(u\"I am a runner running in a race because I love to run since I ran today\")"
   ]
  },
  {
   "cell_type": "code",
   "execution_count": 3,
   "id": "9c64ca2d",
   "metadata": {},
   "outputs": [
    {
     "name": "stdout",
     "output_type": "stream",
     "text": [
      "I \t PRON \t I\n",
      "am \t AUX \t be\n",
      "a \t DET \t a\n",
      "runner \t NOUN \t runner\n",
      "running \t VERB \t run\n",
      "in \t ADP \t in\n",
      "a \t DET \t a\n",
      "race \t NOUN \t race\n",
      "because \t SCONJ \t because\n",
      "I \t PRON \t I\n",
      "love \t VERB \t love\n",
      "to \t PART \t to\n",
      "run \t VERB \t run\n",
      "since \t SCONJ \t since\n",
      "I \t PRON \t I\n",
      "ran \t VERB \t run\n",
      "today \t NOUN \t today\n"
     ]
    }
   ],
   "source": [
    "for token in doc1:\n",
    "    print(token.text, '\\t', token.pos_, '\\t', token.lemma_)"
   ]
  },
  {
   "cell_type": "code",
   "execution_count": 4,
   "id": "7e7794b1",
   "metadata": {},
   "outputs": [
    {
     "name": "stdout",
     "output_type": "stream",
     "text": [
      "I \t PRON \t I\n",
      "saw \t VERB \t see\n",
      "eighteen \t NUM \t eighteen\n",
      "mice \t NOUN \t mouse\n",
      "today \t NOUN \t today\n"
     ]
    }
   ],
   "source": [
    "doc2 = nlp(u\"I saw eighteen mice today\")\n",
    "\n",
    "for token in doc2:\n",
    "    print(token.text, '\\t', token.pos_, '\\t', token.lemma_)"
   ]
  },
  {
   "cell_type": "code",
   "execution_count": 5,
   "id": "aa99e636",
   "metadata": {},
   "outputs": [],
   "source": [
    "def show_lemma(doc):\n",
    "    for token in doc:\n",
    "        print(token.text, '\\t', token.pos_, '\\t', token.lemma_)"
   ]
  },
  {
   "cell_type": "code",
   "execution_count": 6,
   "id": "9d333b4c",
   "metadata": {},
   "outputs": [
    {
     "name": "stdout",
     "output_type": "stream",
     "text": [
      "I \t PRON \t I\n",
      "am \t AUX \t be\n",
      "meeting \t VERB \t meet\n",
      "him \t PRON \t he\n",
      "tomorrow \t NOUN \t tomorrow\n",
      "at \t ADP \t at\n",
      "the \t DET \t the\n",
      "meeting \t NOUN \t meeting\n"
     ]
    }
   ],
   "source": [
    "doc3 = nlp(u\"I am meeting him tomorrow at the meeting\")\n",
    "\n",
    "show_lemma(doc3)"
   ]
  },
  {
   "cell_type": "code",
   "execution_count": 7,
   "id": "cc8e5438",
   "metadata": {},
   "outputs": [],
   "source": [
    "import spacy\n",
    "nlp = spacy.load(\"en_core_web_sm\")"
   ]
  },
  {
   "cell_type": "code",
   "execution_count": 8,
   "id": "f8a5d02e",
   "metadata": {},
   "outputs": [
    {
     "name": "stdout",
     "output_type": "stream",
     "text": [
      "{'whereupon', 'behind', 'one', 'less', 'then', 'alone', 'same', 'whereas', 'indeed', 'give', 'hers', '’re', 'twelve', 'say', 'five', '‘d', 'onto', 'anyway', 'between', 'other', 'under', 'since', 'whether', 'nobody', 'twenty', 'rather', 'down', 'and', 'would', 'either', 'else', 'for', 'really', 'such', 'most', 'yourselves', 'herself', 'nevertheless', 'four', 'least', 'becoming', 'but', 'also', 'my', 'doing', 'two', 'what', 'afterwards', 'somewhere', 'nine', 'namely', 'each', 'formerly', 'may', 'there', 'keep', 'in', 'often', 'further', 'so', 'various', 'whereafter', 'the', 'anything', 'hereupon', 'below', '’s', 'hence', 'name', 'yours', 'well', 'meanwhile', 'back', 'themselves', 'whence', 'amount', 'from', 'none', 'thru', \"'ll\", 'can', 'hereafter', 'ever', 'how', 'something', 'more', 'besides', 'still', 'has', \"'m\", 'now', 'another', 'sometime', 'several', 'across', 'used', 'some', 'nowhere', 'they', 'me', 'your', 'become', 'neither', 'done', 'throughout', 'n‘t', 'per', 'are', 'ours', 'six', 'during', '‘s', 'a', 'n’t', 'again', 'empty', 'forty', 'whose', 'anywhere', 'an', 'might', 'hereby', 'our', 'those', 'above', 'mostly', 'anyone', 'elsewhere', 'front', 'always', 'becomes', 'toward', 'nothing', 'enough', 'seemed', 'please', 'take', 'once', 'why', 'we', 'after', 'herein', 'her', \"'d\", 'it', 'serious', 'latter', 'who', 'others', 'does', 'thereupon', 'thus', 'fifty', 'show', 'where', 'wherever', 'about', 'against', 'never', 'together', 'whither', 'him', 'them', 'which', 'cannot', 'see', 'regarding', 'he', 'i', 'whoever', 'fifteen', 'last', 'unless', 'everywhere', 'its', 'move', 'did', 'both', 'however', 'ourselves', 'around', 'when', 'could', 'using', 'get', 'should', 'due', 'mine', 'somehow', 'former', 'within', 'be', 'amongst', 'nor', 'though', 'any', '‘ll', 'no', 'everyone', 'already', 'except', 'if', 'before', 'into', 'until', 'someone', 'by', 'is', 'via', 'being', 'yourself', 'even', 'as', 'his', 'moreover', 're', 'us', 'therein', 'many', 'beforehand', 'put', 'bottom', 'had', 'itself', 'therefore', 'three', 'without', 'while', 'sometimes', 'must', 'whole', 'wherein', 'whenever', \"'s\", 'thence', 'top', 'much', 'these', 'part', 'almost', 'beyond', 'go', 'towards', 'latterly', 'ca', 'do', 'with', 'been', 'through', 'every', 'side', 'sixty', 'himself', 'everything', \"'ve\", 'off', 'of', '‘ve', 'ten', 'beside', 'upon', 'too', 'eleven', 'that', 'yet', '’ve', 'on', 'anyhow', 'whereby', 'you', 'were', 'this', 'next', 'seeming', 'over', 'only', 'out', 'or', 'than', 'because', 'she', 'whatever', 'seem', 'not', 'among', 'quite', 'thereafter', '’ll', \"n't\", 'am', 'along', 'whom', 'very', 'was', 'will', 'own', 'seems', 'up', 'eight', 'made', 'otherwise', 'their', 'thereby', 'all', 'at', 'although', 'third', 'became', 'have', 'noone', '‘m', 'to', 'here', '‘re', '’m', 'hundred', 'just', 'full', '’d', 'first', 'call', 'make', 'few', 'myself', 'perhaps', \"'re\"}\n"
     ]
    }
   ],
   "source": [
    "print(nlp.Defaults.stop_words)"
   ]
  },
  {
   "cell_type": "code",
   "execution_count": 9,
   "id": "7eefca02",
   "metadata": {},
   "outputs": [
    {
     "data": {
      "text/plain": [
       "326"
      ]
     },
     "execution_count": 9,
     "metadata": {},
     "output_type": "execute_result"
    }
   ],
   "source": [
    "len(nlp.Defaults.stop_words)"
   ]
  },
  {
   "cell_type": "code",
   "execution_count": 11,
   "id": "78116551",
   "metadata": {},
   "outputs": [
    {
     "data": {
      "text/plain": [
       "True"
      ]
     },
     "execution_count": 11,
     "metadata": {},
     "output_type": "execute_result"
    }
   ],
   "source": [
    "nlp.vocab['same'].is_stop"
   ]
  },
  {
   "cell_type": "code",
   "execution_count": 12,
   "id": "64cc7a87",
   "metadata": {},
   "outputs": [],
   "source": [
    "nlp.Defaults.stop_words.add('tbh')"
   ]
  },
  {
   "cell_type": "code",
   "execution_count": 13,
   "id": "826794a0",
   "metadata": {},
   "outputs": [
    {
     "data": {
      "text/plain": [
       "327"
      ]
     },
     "execution_count": 13,
     "metadata": {},
     "output_type": "execute_result"
    }
   ],
   "source": [
    "len(nlp.Defaults.stop_words)"
   ]
  }
 ],
 "metadata": {
  "kernelspec": {
   "display_name": "analytix_env",
   "language": "python",
   "name": "python3"
  },
  "language_info": {
   "codemirror_mode": {
    "name": "ipython",
    "version": 3
   },
   "file_extension": ".py",
   "mimetype": "text/x-python",
   "name": "python",
   "nbconvert_exporter": "python",
   "pygments_lexer": "ipython3",
   "version": "3.13.3"
  }
 },
 "nbformat": 4,
 "nbformat_minor": 5
}
