{
 "cells": [
  {
   "cell_type": "code",
   "execution_count": null,
   "id": "19abf61e",
   "metadata": {},
   "outputs": [],
   "source": [
    "print(\"My name is ___\")"
   ]
  }
 ],
 "metadata": {
  "language_info": {
   "name": "python"
  }
 },
 "nbformat": 4,
 "nbformat_minor": 5
}
