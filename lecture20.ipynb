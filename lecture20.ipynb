{
 "cells": [
  {
   "cell_type": "code",
   "execution_count": 10,
   "id": "d6517a40",
   "metadata": {},
   "outputs": [],
   "source": [
    "# decorators\n",
    "\n",
    "def my_decorator(func):\n",
    "    def wrapper():\n",
    "        print(\"Something before actual function\")\n",
    "        func()\n",
    "        print(\"Something after the actual function\")\n",
    "    return wrapper\n",
    "\n",
    "\n",
    "\n",
    "@my_decorator\n",
    "def say_hello():\n",
    "    print(\"Hello\")\n",
    "\n",
    "@my_decorator\n",
    "def add():\n",
    "    print(\"Add two numbers\")"
   ]
  },
  {
   "cell_type": "code",
   "execution_count": 12,
   "id": "ec1fe59b",
   "metadata": {},
   "outputs": [
    {
     "name": "stdout",
     "output_type": "stream",
     "text": [
      "Something before actual function\n",
      "Add two numbers\n",
      "Something after the actual function\n"
     ]
    }
   ],
   "source": [
    "add()"
   ]
  },
  {
   "cell_type": "code",
   "execution_count": 13,
   "id": "d5734030",
   "metadata": {},
   "outputs": [],
   "source": [
    "import time\n",
    "\n",
    "def timer(func):\n",
    "    def wrapper():\n",
    "        start_time = time.time()\n",
    "        func()\n",
    "        end_time = time.time()\n",
    "        print(f\"Time for execution of the function is {end_time-start_time} in seconds\")\n",
    "    return wrapper\n",
    "\n",
    "@timer\n",
    "def long_task():\n",
    "    time.sleep(3)\n",
    "    print(\"Task done\")"
   ]
  },
  {
   "cell_type": "code",
   "execution_count": 14,
   "id": "c9ca173d",
   "metadata": {},
   "outputs": [
    {
     "name": "stdout",
     "output_type": "stream",
     "text": [
      "Task done\n",
      "Time for execution of the function is 3.0013010501861572 in seconds\n"
     ]
    }
   ],
   "source": [
    "long_task()"
   ]
  },
  {
   "cell_type": "code",
   "execution_count": 19,
   "id": "8bc68de8",
   "metadata": {},
   "outputs": [],
   "source": [
    "from functools import wraps\n",
    "\n",
    "def trace(func):\n",
    "    @wraps(func)\n",
    "    def wrapper(*args, **kwargs):\n",
    "        print(f\"Statement before execution\")\n",
    "        result = func(*args, **kwargs)\n",
    "        print(f\"This is the {result} of the function\")\n",
    "        return result\n",
    "    return wrapper\n",
    "\n",
    "@trace\n",
    "def add(a, b):\n",
    "    add_num =  a + b\n",
    "    return add_num\n"
   ]
  },
  {
   "cell_type": "code",
   "execution_count": 20,
   "id": "ebcb5e8b",
   "metadata": {},
   "outputs": [
    {
     "name": "stdout",
     "output_type": "stream",
     "text": [
      "Statement before execution\n",
      "This is the 5 of the function\n"
     ]
    },
    {
     "data": {
      "text/plain": [
       "5"
      ]
     },
     "execution_count": 20,
     "metadata": {},
     "output_type": "execute_result"
    }
   ],
   "source": [
    "add(2, 3)"
   ]
  },
  {
   "cell_type": "code",
   "execution_count": 21,
   "id": "bde972bf",
   "metadata": {},
   "outputs": [],
   "source": [
    "def repeat(func):\n",
    "    def wrapper():\n",
    "        func()\n",
    "        func()\n",
    "    \n",
    "    return wrapper\n",
    "\n",
    "@repeat\n",
    "def greet():\n",
    "    print(\"Hello Hasnain, how are you?\")"
   ]
  },
  {
   "cell_type": "code",
   "execution_count": 22,
   "id": "5245f19e",
   "metadata": {},
   "outputs": [
    {
     "name": "stdout",
     "output_type": "stream",
     "text": [
      "Hello Hasnain, how are you?\n",
      "Hello Hasnain, how are you?\n"
     ]
    }
   ],
   "source": [
    "greet()"
   ]
  },
  {
   "cell_type": "code",
   "execution_count": 25,
   "id": "df3656b9",
   "metadata": {},
   "outputs": [],
   "source": [
    "from langchain_openai import ChatOpenAI\n",
    "from dotenv import load_dotenv\n",
    "\n",
    "load_dotenv()\n",
    "\n",
    "llm = ChatOpenAI(model=\"gpt-4o\")\n",
    "\n",
    "response = llm.invoke(\"hi\")"
   ]
  },
  {
   "cell_type": "code",
   "execution_count": 27,
   "id": "da52738b",
   "metadata": {},
   "outputs": [
    {
     "data": {
      "text/plain": [
       "AIMessage(content='Hello! How can I assist you today?', additional_kwargs={'refusal': None}, response_metadata={'token_usage': {'completion_tokens': 9, 'prompt_tokens': 8, 'total_tokens': 17, 'completion_tokens_details': {'accepted_prediction_tokens': 0, 'audio_tokens': 0, 'reasoning_tokens': 0, 'rejected_prediction_tokens': 0}, 'prompt_tokens_details': {'audio_tokens': 0, 'cached_tokens': 0}}, 'model_name': 'gpt-4o-2024-08-06', 'system_fingerprint': 'fp_ff25b2783a', 'id': 'chatcmpl-C2ezHzBRo5sfGkGLM3iJCa0jK9SgC', 'service_tier': 'default', 'finish_reason': 'stop', 'logprobs': None}, id='run--c1c69b64-0d80-4072-9b14-1f802995eb2c-0', usage_metadata={'input_tokens': 8, 'output_tokens': 9, 'total_tokens': 17, 'input_token_details': {'audio': 0, 'cache_read': 0}, 'output_token_details': {'audio': 0, 'reasoning': 0}})"
      ]
     },
     "execution_count": 27,
     "metadata": {},
     "output_type": "execute_result"
    }
   ],
   "source": [
    "response"
   ]
  },
  {
   "cell_type": "code",
   "execution_count": null,
   "id": "2023f5d8",
   "metadata": {},
   "outputs": [],
   "source": [
    "from langchain_core.tools import tool\n",
    "\n",
    "@tool\n",
    "def add(a: int, b: int) -> int:\n",
    "    \"\"\"Adds two numbers a and b\"\"\"\n",
    "    return a + b\n",
    "\n",
    "@tool\n",
    "def multiply(a: int, b: int) -> int:\n",
    "    \"\"\"Multiply two numbers a and b\"\"\"\n",
    "    return a * b\n",
    "\n",
    "tools = [add, multiply]\n",
    "\n",
    "\n",
    "llm_with_tools = llm.bind_tools(tools)"
   ]
  },
  {
   "cell_type": "code",
   "execution_count": 54,
   "id": "bf711bc1",
   "metadata": {},
   "outputs": [],
   "source": [
    "from langchain_core.messages import HumanMessage, AIMessage\n",
    "\n",
    "messages = []\n",
    "query = \"What is the product of 12 and 7 and add 100 to the product answer\"\n",
    "messages.append(HumanMessage(content=query))\n",
    "\n",
    "response = llm_with_tools.invoke(messages)\n",
    "messages.append(response)"
   ]
  },
  {
   "cell_type": "code",
   "execution_count": 50,
   "id": "66634bf7",
   "metadata": {},
   "outputs": [
    {
     "data": {
      "text/plain": [
       "AIMessage(content='', additional_kwargs={'tool_calls': [{'id': 'call_ZZy3Ofi3MMruuxdu9sE9StQ5', 'function': {'arguments': '{\"a\": 12, \"b\": 7}', 'name': 'multiply'}, 'type': 'function'}, {'id': 'call_36am1rPFnryIZMYahGiKpZy4', 'function': {'arguments': '{\"a\": 84, \"b\": 100}', 'name': 'add'}, 'type': 'function'}], 'refusal': None}, response_metadata={'token_usage': {'completion_tokens': 50, 'prompt_tokens': 89, 'total_tokens': 139, 'completion_tokens_details': {'accepted_prediction_tokens': 0, 'audio_tokens': 0, 'reasoning_tokens': 0, 'rejected_prediction_tokens': 0}, 'prompt_tokens_details': {'audio_tokens': 0, 'cached_tokens': 0}}, 'model_name': 'gpt-4o-2024-08-06', 'system_fingerprint': 'fp_ff25b2783a', 'id': 'chatcmpl-C2fqHBxpCzw8LK0MyJa0fh03sYYfL', 'service_tier': 'default', 'finish_reason': 'tool_calls', 'logprobs': None}, id='run--01f312ad-c9e4-4028-bbb0-c7d0c09489e3-0', tool_calls=[{'name': 'multiply', 'args': {'a': 12, 'b': 7}, 'id': 'call_ZZy3Ofi3MMruuxdu9sE9StQ5', 'type': 'tool_call'}, {'name': 'add', 'args': {'a': 84, 'b': 100}, 'id': 'call_36am1rPFnryIZMYahGiKpZy4', 'type': 'tool_call'}], usage_metadata={'input_tokens': 89, 'output_tokens': 50, 'total_tokens': 139, 'input_token_details': {'audio': 0, 'cache_read': 0}, 'output_token_details': {'audio': 0, 'reasoning': 0}})"
      ]
     },
     "execution_count": 50,
     "metadata": {},
     "output_type": "execute_result"
    }
   ],
   "source": [
    "response"
   ]
  },
  {
   "cell_type": "code",
   "execution_count": 55,
   "id": "72c73292",
   "metadata": {},
   "outputs": [
    {
     "data": {
      "text/plain": [
       "[HumanMessage(content='What is the product of 12 and 7 and add 100 to the product answer', additional_kwargs={}, response_metadata={}),\n",
       " AIMessage(content='', additional_kwargs={'tool_calls': [{'id': 'call_I3mo8y9TVfOVmCq8dw1npyqB', 'function': {'arguments': '{\"a\": 12, \"b\": 7}', 'name': 'multiply'}, 'type': 'function'}, {'id': 'call_BmqtEQrjdgq5Znmwa0wUUpeI', 'function': {'arguments': '{\"a\": 84, \"b\": 100}', 'name': 'add'}, 'type': 'function'}], 'refusal': None}, response_metadata={'token_usage': {'completion_tokens': 50, 'prompt_tokens': 89, 'total_tokens': 139, 'completion_tokens_details': {'accepted_prediction_tokens': 0, 'audio_tokens': 0, 'reasoning_tokens': 0, 'rejected_prediction_tokens': 0}, 'prompt_tokens_details': {'audio_tokens': 0, 'cached_tokens': 0}}, 'model_name': 'gpt-4o-2024-08-06', 'system_fingerprint': 'fp_ff25b2783a', 'id': 'chatcmpl-C2fvF59KkbE46OjJhzX2nYvOXEHjx', 'service_tier': 'default', 'finish_reason': 'tool_calls', 'logprobs': None}, id='run--423444a5-3d61-40f7-a253-627faa89d1e4-0', tool_calls=[{'name': 'multiply', 'args': {'a': 12, 'b': 7}, 'id': 'call_I3mo8y9TVfOVmCq8dw1npyqB', 'type': 'tool_call'}, {'name': 'add', 'args': {'a': 84, 'b': 100}, 'id': 'call_BmqtEQrjdgq5Znmwa0wUUpeI', 'type': 'tool_call'}], usage_metadata={'input_tokens': 89, 'output_tokens': 50, 'total_tokens': 139, 'input_token_details': {'audio': 0, 'cache_read': 0}, 'output_token_details': {'audio': 0, 'reasoning': 0}})]"
      ]
     },
     "execution_count": 55,
     "metadata": {},
     "output_type": "execute_result"
    }
   ],
   "source": [
    "messages"
   ]
  },
  {
   "cell_type": "code",
   "execution_count": 45,
   "id": "a8c49b8e",
   "metadata": {},
   "outputs": [
    {
     "data": {
      "text/plain": [
       "[{'name': 'multiply',\n",
       "  'args': {'a': 12, 'b': 7},\n",
       "  'id': 'call_15qOK3R1x7QpBPPVjhnvIt9g',\n",
       "  'type': 'tool_call'},\n",
       " {'name': 'add',\n",
       "  'args': {'a': 84, 'b': 100},\n",
       "  'id': 'call_jyY1i1fvm7sp6wVtZPwo7Ukb',\n",
       "  'type': 'tool_call'}]"
      ]
     },
     "execution_count": 45,
     "metadata": {},
     "output_type": "execute_result"
    }
   ],
   "source": [
    "response.tool_calls"
   ]
  },
  {
   "cell_type": "code",
   "execution_count": 56,
   "id": "737a5224",
   "metadata": {},
   "outputs": [],
   "source": [
    "for tool_call in response.tool_calls:\n",
    "    tools_dict = {\"add\": add, \"multiply\": multiply}\n",
    "    selected_tool = tools_dict[tool_call[\"name\"].lower()]\n",
    "    tool_msg = selected_tool.invoke(tool_call)\n",
    "    messages.append(tool_msg)\n"
   ]
  },
  {
   "cell_type": "code",
   "execution_count": 57,
   "id": "e3aaf12f",
   "metadata": {},
   "outputs": [
    {
     "data": {
      "text/plain": [
       "[HumanMessage(content='What is the product of 12 and 7 and add 100 to the product answer', additional_kwargs={}, response_metadata={}),\n",
       " AIMessage(content='', additional_kwargs={'tool_calls': [{'id': 'call_I3mo8y9TVfOVmCq8dw1npyqB', 'function': {'arguments': '{\"a\": 12, \"b\": 7}', 'name': 'multiply'}, 'type': 'function'}, {'id': 'call_BmqtEQrjdgq5Znmwa0wUUpeI', 'function': {'arguments': '{\"a\": 84, \"b\": 100}', 'name': 'add'}, 'type': 'function'}], 'refusal': None}, response_metadata={'token_usage': {'completion_tokens': 50, 'prompt_tokens': 89, 'total_tokens': 139, 'completion_tokens_details': {'accepted_prediction_tokens': 0, 'audio_tokens': 0, 'reasoning_tokens': 0, 'rejected_prediction_tokens': 0}, 'prompt_tokens_details': {'audio_tokens': 0, 'cached_tokens': 0}}, 'model_name': 'gpt-4o-2024-08-06', 'system_fingerprint': 'fp_ff25b2783a', 'id': 'chatcmpl-C2fvF59KkbE46OjJhzX2nYvOXEHjx', 'service_tier': 'default', 'finish_reason': 'tool_calls', 'logprobs': None}, id='run--423444a5-3d61-40f7-a253-627faa89d1e4-0', tool_calls=[{'name': 'multiply', 'args': {'a': 12, 'b': 7}, 'id': 'call_I3mo8y9TVfOVmCq8dw1npyqB', 'type': 'tool_call'}, {'name': 'add', 'args': {'a': 84, 'b': 100}, 'id': 'call_BmqtEQrjdgq5Znmwa0wUUpeI', 'type': 'tool_call'}], usage_metadata={'input_tokens': 89, 'output_tokens': 50, 'total_tokens': 139, 'input_token_details': {'audio': 0, 'cache_read': 0}, 'output_token_details': {'audio': 0, 'reasoning': 0}}),\n",
       " ToolMessage(content='84', name='multiply', tool_call_id='call_I3mo8y9TVfOVmCq8dw1npyqB'),\n",
       " ToolMessage(content='184', name='add', tool_call_id='call_BmqtEQrjdgq5Znmwa0wUUpeI')]"
      ]
     },
     "execution_count": 57,
     "metadata": {},
     "output_type": "execute_result"
    }
   ],
   "source": [
    "messages"
   ]
  },
  {
   "cell_type": "code",
   "execution_count": 58,
   "id": "03da871a",
   "metadata": {},
   "outputs": [],
   "source": [
    "final_response = llm.invoke(messages)\n",
    "messages.append(final_response)"
   ]
  },
  {
   "cell_type": "code",
   "execution_count": 59,
   "id": "81218ec0",
   "metadata": {},
   "outputs": [
    {
     "data": {
      "text/plain": [
       "[HumanMessage(content='What is the product of 12 and 7 and add 100 to the product answer', additional_kwargs={}, response_metadata={}),\n",
       " AIMessage(content='', additional_kwargs={'tool_calls': [{'id': 'call_I3mo8y9TVfOVmCq8dw1npyqB', 'function': {'arguments': '{\"a\": 12, \"b\": 7}', 'name': 'multiply'}, 'type': 'function'}, {'id': 'call_BmqtEQrjdgq5Znmwa0wUUpeI', 'function': {'arguments': '{\"a\": 84, \"b\": 100}', 'name': 'add'}, 'type': 'function'}], 'refusal': None}, response_metadata={'token_usage': {'completion_tokens': 50, 'prompt_tokens': 89, 'total_tokens': 139, 'completion_tokens_details': {'accepted_prediction_tokens': 0, 'audio_tokens': 0, 'reasoning_tokens': 0, 'rejected_prediction_tokens': 0}, 'prompt_tokens_details': {'audio_tokens': 0, 'cached_tokens': 0}}, 'model_name': 'gpt-4o-2024-08-06', 'system_fingerprint': 'fp_ff25b2783a', 'id': 'chatcmpl-C2fvF59KkbE46OjJhzX2nYvOXEHjx', 'service_tier': 'default', 'finish_reason': 'tool_calls', 'logprobs': None}, id='run--423444a5-3d61-40f7-a253-627faa89d1e4-0', tool_calls=[{'name': 'multiply', 'args': {'a': 12, 'b': 7}, 'id': 'call_I3mo8y9TVfOVmCq8dw1npyqB', 'type': 'tool_call'}, {'name': 'add', 'args': {'a': 84, 'b': 100}, 'id': 'call_BmqtEQrjdgq5Znmwa0wUUpeI', 'type': 'tool_call'}], usage_metadata={'input_tokens': 89, 'output_tokens': 50, 'total_tokens': 139, 'input_token_details': {'audio': 0, 'cache_read': 0}, 'output_token_details': {'audio': 0, 'reasoning': 0}}),\n",
       " ToolMessage(content='84', name='multiply', tool_call_id='call_I3mo8y9TVfOVmCq8dw1npyqB'),\n",
       " ToolMessage(content='184', name='add', tool_call_id='call_BmqtEQrjdgq5Znmwa0wUUpeI'),\n",
       " AIMessage(content='The product of 12 and 7 is 84, and if you add 100 to that product, the result is 184.', additional_kwargs={'refusal': None}, response_metadata={'token_usage': {'completion_tokens': 28, 'prompt_tokens': 91, 'total_tokens': 119, 'completion_tokens_details': {'accepted_prediction_tokens': 0, 'audio_tokens': 0, 'reasoning_tokens': 0, 'rejected_prediction_tokens': 0}, 'prompt_tokens_details': {'audio_tokens': 0, 'cached_tokens': 0}}, 'model_name': 'gpt-4o-2024-08-06', 'system_fingerprint': 'fp_ff25b2783a', 'id': 'chatcmpl-C2fwFzCdceaI1q9pgMw8ilWuMpCgq', 'service_tier': 'default', 'finish_reason': 'stop', 'logprobs': None}, id='run--8f4ec400-9c0d-4cb2-a450-1c652f635ac1-0', usage_metadata={'input_tokens': 91, 'output_tokens': 28, 'total_tokens': 119, 'input_token_details': {'audio': 0, 'cache_read': 0}, 'output_token_details': {'audio': 0, 'reasoning': 0}})]"
      ]
     },
     "execution_count": 59,
     "metadata": {},
     "output_type": "execute_result"
    }
   ],
   "source": [
    "messages"
   ]
  },
  {
   "cell_type": "code",
   "execution_count": null,
   "id": "84a6f464",
   "metadata": {},
   "outputs": [],
   "source": [
    "from langgraph.prebuilt import create_react_agent\n",
    "from langchain_core.tools import tool\n",
    "\n",
    "llm = ChatOpenAI(model=\"gpt-4o\")\n",
    "\n",
    "@tool\n",
    "def add(a: int, b: int) -> int:\n",
    "    \"\"\"Adds two numbers a and b\"\"\"\n",
    "    return a + b\n",
    "\n",
    "@tool\n",
    "def multiply(a: int, b: int) -> int:\n",
    "    \"\"\"Multiply two numbers a and b\"\"\"\n",
    "    return a * b\n",
    "\n",
    "tools = [add, multiply]\n",
    "\n",
    "agent = create_react_agent(llm, tools)\n",
    "\n",
    "response = agent.invoke({\"messages\": \"What is the product of 12 and 7 and add 100 to the product answer\"})"
   ]
  },
  {
   "cell_type": "code",
   "execution_count": 52,
   "id": "9d39affa",
   "metadata": {},
   "outputs": [
    {
     "data": {
      "text/plain": [
       "{'messages': [HumanMessage(content='What is the product of 12 and 7 and add 100 to the product answer', additional_kwargs={}, response_metadata={}, id='45da8903-0e0f-444e-adc9-a2dac4616cc6'),\n",
       "  AIMessage(content='', additional_kwargs={'tool_calls': [{'id': 'call_QIXAtY9VOx1U3jpzJSO7awzb', 'function': {'arguments': '{\"a\": 12, \"b\": 7}', 'name': 'multiply'}, 'type': 'function'}, {'id': 'call_qEv5i1vzRy2uUoV94EhpXLOS', 'function': {'arguments': '{\"a\": 700, \"b\": 100}', 'name': 'add'}, 'type': 'function'}], 'refusal': None}, response_metadata={'token_usage': {'completion_tokens': 50, 'prompt_tokens': 89, 'total_tokens': 139, 'completion_tokens_details': {'accepted_prediction_tokens': 0, 'audio_tokens': 0, 'reasoning_tokens': 0, 'rejected_prediction_tokens': 0}, 'prompt_tokens_details': {'audio_tokens': 0, 'cached_tokens': 0}}, 'model_name': 'gpt-4o-2024-08-06', 'system_fingerprint': 'fp_ff25b2783a', 'id': 'chatcmpl-C2frr7QDroGlA3qkRrZcsvED6fECt', 'service_tier': 'default', 'finish_reason': 'tool_calls', 'logprobs': None}, id='run--01f4c404-51cc-4b59-aa36-2f40c02a639a-0', tool_calls=[{'name': 'multiply', 'args': {'a': 12, 'b': 7}, 'id': 'call_QIXAtY9VOx1U3jpzJSO7awzb', 'type': 'tool_call'}, {'name': 'add', 'args': {'a': 700, 'b': 100}, 'id': 'call_qEv5i1vzRy2uUoV94EhpXLOS', 'type': 'tool_call'}], usage_metadata={'input_tokens': 89, 'output_tokens': 50, 'total_tokens': 139, 'input_token_details': {'audio': 0, 'cache_read': 0}, 'output_token_details': {'audio': 0, 'reasoning': 0}}),\n",
       "  ToolMessage(content='84', name='multiply', id='6810cdc8-394b-4d07-bb0a-080c358cb692', tool_call_id='call_QIXAtY9VOx1U3jpzJSO7awzb'),\n",
       "  ToolMessage(content='800', name='add', id='2a268e62-4229-4703-9fa2-45c2676421ae', tool_call_id='call_qEv5i1vzRy2uUoV94EhpXLOS'),\n",
       "  AIMessage(content='The product of 12 and 7 is 84. Adding 100 to the product gives us 184.', additional_kwargs={'refusal': None}, response_metadata={'token_usage': {'completion_tokens': 24, 'prompt_tokens': 155, 'total_tokens': 179, 'completion_tokens_details': {'accepted_prediction_tokens': 0, 'audio_tokens': 0, 'reasoning_tokens': 0, 'rejected_prediction_tokens': 0}, 'prompt_tokens_details': {'audio_tokens': 0, 'cached_tokens': 0}}, 'model_name': 'gpt-4o-2024-08-06', 'system_fingerprint': 'fp_ff25b2783a', 'id': 'chatcmpl-C2frtg2CkjvT028T2pQ6YTKBC4ap1', 'service_tier': 'default', 'finish_reason': 'stop', 'logprobs': None}, id='run--86b4472f-4144-463d-901d-ff893b1bc583-0', usage_metadata={'input_tokens': 155, 'output_tokens': 24, 'total_tokens': 179, 'input_token_details': {'audio': 0, 'cache_read': 0}, 'output_token_details': {'audio': 0, 'reasoning': 0}})]}"
      ]
     },
     "execution_count": 52,
     "metadata": {},
     "output_type": "execute_result"
    }
   ],
   "source": [
    "response"
   ]
  },
  {
   "cell_type": "code",
   "execution_count": 38,
   "id": "356aa6d5",
   "metadata": {},
   "outputs": [
    {
     "data": {
      "text/plain": [
       "'The product of 12 and 7 is 84.'"
      ]
     },
     "execution_count": 38,
     "metadata": {},
     "output_type": "execute_result"
    }
   ],
   "source": [
    "response['messages'][-1].content"
   ]
  },
  {
   "cell_type": "code",
   "execution_count": null,
   "id": "dcf633e3",
   "metadata": {},
   "outputs": [],
   "source": []
  },
  {
   "cell_type": "code",
   "execution_count": 73,
   "id": "337fc8e4",
   "metadata": {},
   "outputs": [],
   "source": [
    "from langgraph.prebuilt import ToolNode\n",
    "from langchain_core.messages import HumanMessage, AIMessage\n",
    "\n",
    "\n",
    "tools = [multiply, add]\n",
    "tool_node = ToolNode(tools)\n",
    "\n",
    "llm = ChatOpenAI(model=\"gpt-4o\")\n",
    "\n",
    "llm_with_tools = llm.bind_tools(tools)\n",
    "\n",
    "messages = []\n",
    "query = \"What is the product of 12 and 7 and add 100 to the product answer\"\n",
    "messages.append(HumanMessage(content=query))\n",
    "response = llm_with_tools.invoke(query)\n",
    "messages.append(response)\n"
   ]
  },
  {
   "cell_type": "code",
   "execution_count": 64,
   "id": "9386da6b",
   "metadata": {},
   "outputs": [
    {
     "data": {
      "text/plain": [
       "[{'name': 'multiply',\n",
       "  'args': {'a': 12, 'b': 7},\n",
       "  'id': 'call_kRy03ihnDgAYLOonT1WSFNNg',\n",
       "  'type': 'tool_call'},\n",
       " {'name': 'add',\n",
       "  'args': {'a': 0, 'b': 100},\n",
       "  'id': 'call_YRXQ1kkkxlBoTEBAVGWCHyAt',\n",
       "  'type': 'tool_call'}]"
      ]
     },
     "execution_count": 64,
     "metadata": {},
     "output_type": "execute_result"
    }
   ],
   "source": [
    "response.tool_calls"
   ]
  },
  {
   "cell_type": "code",
   "execution_count": 66,
   "id": "a93ca1c9",
   "metadata": {},
   "outputs": [
    {
     "data": {
      "text/plain": [
       "AIMessage(content='', additional_kwargs={'tool_calls': [{'id': 'call_kRy03ihnDgAYLOonT1WSFNNg', 'function': {'arguments': '{\"a\": 12, \"b\": 7}', 'name': 'multiply'}, 'type': 'function'}, {'id': 'call_YRXQ1kkkxlBoTEBAVGWCHyAt', 'function': {'arguments': '{\"a\": 0, \"b\": 100}', 'name': 'add'}, 'type': 'function'}], 'refusal': None}, response_metadata={'token_usage': {'completion_tokens': 50, 'prompt_tokens': 89, 'total_tokens': 139, 'completion_tokens_details': {'accepted_prediction_tokens': 0, 'audio_tokens': 0, 'reasoning_tokens': 0, 'rejected_prediction_tokens': 0}, 'prompt_tokens_details': {'audio_tokens': 0, 'cached_tokens': 0}}, 'model_name': 'gpt-4o-2024-08-06', 'system_fingerprint': 'fp_ff25b2783a', 'id': 'chatcmpl-C2g29cLbxPdH1txsMFkJ62yVLYzk1', 'service_tier': 'default', 'finish_reason': 'tool_calls', 'logprobs': None}, id='run--9c827079-14f9-4daf-bed4-ddd7fce11df4-0', tool_calls=[{'name': 'multiply', 'args': {'a': 12, 'b': 7}, 'id': 'call_kRy03ihnDgAYLOonT1WSFNNg', 'type': 'tool_call'}, {'name': 'add', 'args': {'a': 0, 'b': 100}, 'id': 'call_YRXQ1kkkxlBoTEBAVGWCHyAt', 'type': 'tool_call'}], usage_metadata={'input_tokens': 89, 'output_tokens': 50, 'total_tokens': 139, 'input_token_details': {'audio': 0, 'cache_read': 0}, 'output_token_details': {'audio': 0, 'reasoning': 0}})"
      ]
     },
     "execution_count": 66,
     "metadata": {},
     "output_type": "execute_result"
    }
   ],
   "source": [
    "response"
   ]
  },
  {
   "cell_type": "code",
   "execution_count": 74,
   "id": "5cf5d983",
   "metadata": {},
   "outputs": [],
   "source": [
    "final_response = tool_node.invoke({\"messages\": [response]})"
   ]
  },
  {
   "cell_type": "code",
   "execution_count": 68,
   "id": "e0fa1bd1",
   "metadata": {},
   "outputs": [
    {
     "data": {
      "text/plain": [
       "{'messages': [ToolMessage(content='84', name='multiply', tool_call_id='call_kRy03ihnDgAYLOonT1WSFNNg'),\n",
       "  ToolMessage(content='100', name='add', tool_call_id='call_YRXQ1kkkxlBoTEBAVGWCHyAt')]}"
      ]
     },
     "execution_count": 68,
     "metadata": {},
     "output_type": "execute_result"
    }
   ],
   "source": [
    "final_response"
   ]
  },
  {
   "cell_type": "code",
   "execution_count": 75,
   "id": "cce068da",
   "metadata": {},
   "outputs": [],
   "source": [
    "messages.extend(final_response['messages'])"
   ]
  },
  {
   "cell_type": "code",
   "execution_count": 76,
   "id": "3382b554",
   "metadata": {},
   "outputs": [
    {
     "data": {
      "text/plain": [
       "[HumanMessage(content='What is the product of 12 and 7 and add 100 to the product answer', additional_kwargs={}, response_metadata={}),\n",
       " AIMessage(content='', additional_kwargs={'tool_calls': [{'id': 'call_OBztPLWRpuXsmsBBHq60PqmV', 'function': {'arguments': '{\"a\": 12, \"b\": 7}', 'name': 'multiply'}, 'type': 'function'}, {'id': 'call_tNdpbSkB9CHRANa7yLfrFpHD', 'function': {'arguments': '{\"a\": 84, \"b\": 100}', 'name': 'add'}, 'type': 'function'}], 'refusal': None}, response_metadata={'token_usage': {'completion_tokens': 50, 'prompt_tokens': 89, 'total_tokens': 139, 'completion_tokens_details': {'accepted_prediction_tokens': 0, 'audio_tokens': 0, 'reasoning_tokens': 0, 'rejected_prediction_tokens': 0}, 'prompt_tokens_details': {'audio_tokens': 0, 'cached_tokens': 0}}, 'model_name': 'gpt-4o-2024-08-06', 'system_fingerprint': 'fp_ff25b2783a', 'id': 'chatcmpl-C2gEa39KhNfL42en8cS5pt8L6pqki', 'service_tier': 'default', 'finish_reason': 'tool_calls', 'logprobs': None}, id='run--cf367c3b-24f3-45ea-a5a8-a9dfe4032800-0', tool_calls=[{'name': 'multiply', 'args': {'a': 12, 'b': 7}, 'id': 'call_OBztPLWRpuXsmsBBHq60PqmV', 'type': 'tool_call'}, {'name': 'add', 'args': {'a': 84, 'b': 100}, 'id': 'call_tNdpbSkB9CHRANa7yLfrFpHD', 'type': 'tool_call'}], usage_metadata={'input_tokens': 89, 'output_tokens': 50, 'total_tokens': 139, 'input_token_details': {'audio': 0, 'cache_read': 0}, 'output_token_details': {'audio': 0, 'reasoning': 0}}),\n",
       " ToolMessage(content='84', name='multiply', tool_call_id='call_OBztPLWRpuXsmsBBHq60PqmV'),\n",
       " ToolMessage(content='184', name='add', tool_call_id='call_tNdpbSkB9CHRANa7yLfrFpHD')]"
      ]
     },
     "execution_count": 76,
     "metadata": {},
     "output_type": "execute_result"
    }
   ],
   "source": [
    "messages"
   ]
  },
  {
   "cell_type": "code",
   "execution_count": 77,
   "id": "f428301c",
   "metadata": {},
   "outputs": [],
   "source": [
    "final_response = llm.invoke(messages)\n",
    "messages.append(final_response)"
   ]
  },
  {
   "cell_type": "code",
   "execution_count": 79,
   "id": "b8e84992",
   "metadata": {},
   "outputs": [
    {
     "data": {
      "text/plain": [
       "[HumanMessage(content='What is the product of 12 and 7 and add 100 to the product answer', additional_kwargs={}, response_metadata={}),\n",
       " AIMessage(content='', additional_kwargs={'tool_calls': [{'id': 'call_OBztPLWRpuXsmsBBHq60PqmV', 'function': {'arguments': '{\"a\": 12, \"b\": 7}', 'name': 'multiply'}, 'type': 'function'}, {'id': 'call_tNdpbSkB9CHRANa7yLfrFpHD', 'function': {'arguments': '{\"a\": 84, \"b\": 100}', 'name': 'add'}, 'type': 'function'}], 'refusal': None}, response_metadata={'token_usage': {'completion_tokens': 50, 'prompt_tokens': 89, 'total_tokens': 139, 'completion_tokens_details': {'accepted_prediction_tokens': 0, 'audio_tokens': 0, 'reasoning_tokens': 0, 'rejected_prediction_tokens': 0}, 'prompt_tokens_details': {'audio_tokens': 0, 'cached_tokens': 0}}, 'model_name': 'gpt-4o-2024-08-06', 'system_fingerprint': 'fp_ff25b2783a', 'id': 'chatcmpl-C2gEa39KhNfL42en8cS5pt8L6pqki', 'service_tier': 'default', 'finish_reason': 'tool_calls', 'logprobs': None}, id='run--cf367c3b-24f3-45ea-a5a8-a9dfe4032800-0', tool_calls=[{'name': 'multiply', 'args': {'a': 12, 'b': 7}, 'id': 'call_OBztPLWRpuXsmsBBHq60PqmV', 'type': 'tool_call'}, {'name': 'add', 'args': {'a': 84, 'b': 100}, 'id': 'call_tNdpbSkB9CHRANa7yLfrFpHD', 'type': 'tool_call'}], usage_metadata={'input_tokens': 89, 'output_tokens': 50, 'total_tokens': 139, 'input_token_details': {'audio': 0, 'cache_read': 0}, 'output_token_details': {'audio': 0, 'reasoning': 0}}),\n",
       " ToolMessage(content='84', name='multiply', tool_call_id='call_OBztPLWRpuXsmsBBHq60PqmV'),\n",
       " ToolMessage(content='184', name='add', tool_call_id='call_tNdpbSkB9CHRANa7yLfrFpHD'),\n",
       " AIMessage(content='The product of 12 and 7 is 84. Adding 100 to this product gives you 184.', additional_kwargs={'refusal': None}, response_metadata={'token_usage': {'completion_tokens': 23, 'prompt_tokens': 91, 'total_tokens': 114, 'completion_tokens_details': {'accepted_prediction_tokens': 0, 'audio_tokens': 0, 'reasoning_tokens': 0, 'rejected_prediction_tokens': 0}, 'prompt_tokens_details': {'audio_tokens': 0, 'cached_tokens': 0}}, 'model_name': 'gpt-4o-2024-08-06', 'system_fingerprint': 'fp_ff25b2783a', 'id': 'chatcmpl-C2gFQVanDMkuX2vliaTzHMkvlSqnx', 'service_tier': 'default', 'finish_reason': 'stop', 'logprobs': None}, id='run--fd5716c1-9790-4bfa-a51f-20bdff55bb4f-0', usage_metadata={'input_tokens': 91, 'output_tokens': 23, 'total_tokens': 114, 'input_token_details': {'audio': 0, 'cache_read': 0}, 'output_token_details': {'audio': 0, 'reasoning': 0}})]"
      ]
     },
     "execution_count": 79,
     "metadata": {},
     "output_type": "execute_result"
    }
   ],
   "source": [
    "messages"
   ]
  }
 ],
 "metadata": {
  "kernelspec": {
   "display_name": "analytix_env",
   "language": "python",
   "name": "python3"
  },
  "language_info": {
   "codemirror_mode": {
    "name": "ipython",
    "version": 3
   },
   "file_extension": ".py",
   "mimetype": "text/x-python",
   "name": "python",
   "nbconvert_exporter": "python",
   "pygments_lexer": "ipython3",
   "version": "3.13.3"
  }
 },
 "nbformat": 4,
 "nbformat_minor": 5
}
