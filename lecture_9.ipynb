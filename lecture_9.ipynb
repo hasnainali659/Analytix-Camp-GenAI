{
 "cells": [
  {
   "cell_type": "code",
   "execution_count": null,
   "id": "b0d1da10",
   "metadata": {},
   "outputs": [],
   "source": [
    "class Animal:\n",
    "    def speak(self):\n",
    "        return \"Sound of the animal\"\n",
    "\n",
    "class Dog(Animal):\n",
    "    def speak(self):\n",
    "        return \"Bark ....\"\n",
    "\n",
    "class Cat(Animal):\n",
    "    def speak(self):\n",
    "        return \"Meow...\""
   ]
  },
  {
   "cell_type": "code",
   "execution_count": null,
   "id": "893741fc",
   "metadata": {},
   "outputs": [],
   "source": [
    "\n",
    "class Cat(Animal):\n",
    "    def speak(self):\n",
    "        return \"Meow...\""
   ]
  },
  {
   "cell_type": "code",
   "execution_count": 2,
   "id": "287623a3",
   "metadata": {},
   "outputs": [],
   "source": [
    "def animal_speak(animal):\n",
    "    print(animal.speak())"
   ]
  },
  {
   "cell_type": "code",
   "execution_count": 3,
   "id": "4c91feea",
   "metadata": {},
   "outputs": [
    {
     "name": "stdout",
     "output_type": "stream",
     "text": [
      "Bark ....\n",
      "Meow...\n"
     ]
    }
   ],
   "source": [
    "dog = Dog()\n",
    "cat = Cat()\n",
    "\n",
    "print(dog.speak())\n",
    "print(cat.speak())"
   ]
  },
  {
   "cell_type": "code",
   "execution_count": 5,
   "id": "eca5423f",
   "metadata": {},
   "outputs": [
    {
     "name": "stdout",
     "output_type": "stream",
     "text": [
      "Meow...\n"
     ]
    }
   ],
   "source": [
    "animal_speak(cat)"
   ]
  },
  {
   "cell_type": "code",
   "execution_count": null,
   "id": "9eab566b",
   "metadata": {},
   "outputs": [],
   "source": []
  },
  {
   "cell_type": "code",
   "execution_count": null,
   "id": "4b87dd82",
   "metadata": {},
   "outputs": [],
   "source": [
    "class Shape:\n",
    "    def area(self):\n",
    "        return \"The area of the shape\"\n",
    "\n",
    "class Rectangle(Shape):\n",
    "    def __init__(self, length, width):\n",
    "        self.width = width\n",
    "        self.length = length\n",
    "    \n",
    "    def area(self):\n",
    "        return self.length * self.width\n",
    "    \n",
    "class Circle(Shape):\n",
    "    def __init__(self, radius):\n",
    "        self.radius = radius\n",
    "    \n",
    "    def area(self):\n",
    "        return 3.142 * (self.radius ** 2)\n",
    "\n",
    "def print_area(shape):\n",
    "    print(f\"The area of the shape is {shape.area()}\")"
   ]
  },
  {
   "cell_type": "code",
   "execution_count": null,
   "id": "94e55f78",
   "metadata": {},
   "outputs": [
    {
     "name": "stdout",
     "output_type": "stream",
     "text": [
      "The area of the shape is 28.278\n",
      "The area of the shape is 20\n"
     ]
    }
   ],
   "source": [
    "rectangle = Rectangle(5, 4)\n",
    "circle = Circle(3)\n",
    "\n",
    "print_area(circle)\n",
    "print_area(rectangle)"
   ]
  },
  {
   "cell_type": "code",
   "execution_count": null,
   "id": "2aaa2ef8",
   "metadata": {},
   "outputs": [],
   "source": [
    "\n",
    "print_area(circle)\n",
    "print_area(rectangle)"
   ]
  },
  {
   "cell_type": "code",
   "execution_count": 8,
   "id": "727fdf98",
   "metadata": {},
   "outputs": [],
   "source": [
    "from abc import ABC, abstractmethod\n",
    "\n",
    "class Vehicle(ABC):\n",
    "    @abstractmethod\n",
    "    def start_engine(self):\n",
    "        pass\n",
    "\n",
    "class Car(Vehicle):\n",
    "    def start_engine(self):\n",
    "        return \"Car engine started\"\n",
    "\n",
    "class Motorcycle(Vehicle):\n",
    "    def start_engine(self):\n",
    "        return \"Motorcycle engine started\"\n",
    "\n",
    "def start_vehicle(vehicle):\n",
    "    print(vehicle.start_engine())"
   ]
  },
  {
   "cell_type": "code",
   "execution_count": 11,
   "id": "5c3d8030",
   "metadata": {},
   "outputs": [
    {
     "name": "stdout",
     "output_type": "stream",
     "text": [
      "Motorcycle engine started\n"
     ]
    }
   ],
   "source": [
    "car = Car()\n",
    "motorcycle = Motorcycle()\n",
    "\n",
    "start_vehicle(motorcycle)"
   ]
  },
  {
   "cell_type": "code",
   "execution_count": null,
   "id": "36f095ee",
   "metadata": {},
   "outputs": [],
   "source": []
  },
  {
   "cell_type": "code",
   "execution_count": null,
   "id": "b1c83dc7",
   "metadata": {},
   "outputs": [],
   "source": []
  },
  {
   "cell_type": "code",
   "execution_count": 1,
   "id": "5b531f4d",
   "metadata": {},
   "outputs": [],
   "source": [
    "path1 = \"C:/Repos/Docs/plan_and_solve.pdf\"\n",
    "path2 = \"C:/Repos/Docs/ai-in-the-enterprise.pdf\""
   ]
  },
  {
   "cell_type": "code",
   "execution_count": 3,
   "id": "0731995c",
   "metadata": {},
   "outputs": [],
   "source": [
    "import PyPDF2"
   ]
  },
  {
   "cell_type": "code",
   "execution_count": 2,
   "id": "23bd3ca1",
   "metadata": {},
   "outputs": [],
   "source": [
    "f = open(path1, 'rb')"
   ]
  },
  {
   "cell_type": "code",
   "execution_count": 5,
   "id": "a1328124",
   "metadata": {},
   "outputs": [],
   "source": [
    "pdf_reader = PyPDF2.PdfReader(f)"
   ]
  },
  {
   "cell_type": "code",
   "execution_count": 7,
   "id": "eaf35aba",
   "metadata": {},
   "outputs": [
    {
     "data": {
      "text/plain": [
       "24"
      ]
     },
     "execution_count": 7,
     "metadata": {},
     "output_type": "execute_result"
    }
   ],
   "source": [
    "len(pdf_reader.pages)"
   ]
  },
  {
   "cell_type": "code",
   "execution_count": 9,
   "id": "85ecf108",
   "metadata": {},
   "outputs": [],
   "source": [
    "page_one = pdf_reader.pages[0]"
   ]
  },
  {
   "cell_type": "code",
   "execution_count": null,
   "id": "4788300c",
   "metadata": {},
   "outputs": [],
   "source": [
    "print(page_one.extract_text())"
   ]
  },
  {
   "cell_type": "code",
   "execution_count": null,
   "id": "50abf6ad",
   "metadata": {},
   "outputs": [],
   "source": [
    "pdf_reader = PyPDF2.PdfReader(f)\n",
    "for p in range(1, len(pdf_reader.pages)):\n",
    "    page = pdf_reader.pages[p]\n",
    "    print(page.extract_text())"
   ]
  },
  {
   "cell_type": "code",
   "execution_count": null,
   "id": "9ac416c7",
   "metadata": {},
   "outputs": [],
   "source": []
  },
  {
   "cell_type": "code",
   "execution_count": 16,
   "id": "216b7263",
   "metadata": {},
   "outputs": [],
   "source": [
    "import spacy\n",
    "\n",
    "nlp = spacy.load('en_core_web_sm')"
   ]
  },
  {
   "cell_type": "code",
   "execution_count": 17,
   "id": "d45da433",
   "metadata": {},
   "outputs": [],
   "source": [
    "doc = nlp(u\"Tesla is looking at buying U.S. startup for $6 million\")"
   ]
  },
  {
   "cell_type": "code",
   "execution_count": 20,
   "id": "757c061e",
   "metadata": {},
   "outputs": [
    {
     "name": "stdout",
     "output_type": "stream",
     "text": [
      "Tesla PROPN\n",
      "is AUX\n",
      "looking VERB\n",
      "at ADP\n",
      "buying VERB\n",
      "U.S. PROPN\n",
      "startup VERB\n",
      "for ADP\n",
      "$ SYM\n",
      "6 NUM\n",
      "million NUM\n"
     ]
    }
   ],
   "source": [
    "for token in doc:\n",
    "    print(token.text, token.pos_)"
   ]
  },
  {
   "cell_type": "code",
   "execution_count": 22,
   "id": "4299e8ae",
   "metadata": {},
   "outputs": [
    {
     "data": {
      "text/plain": [
       "['tok2vec', 'tagger', 'parser', 'attribute_ruler', 'lemmatizer', 'ner']"
      ]
     },
     "execution_count": 22,
     "metadata": {},
     "output_type": "execute_result"
    }
   ],
   "source": [
    "nlp.pipe_names"
   ]
  },
  {
   "cell_type": "code",
   "execution_count": 28,
   "id": "aa8a7249",
   "metadata": {},
   "outputs": [
    {
     "name": "stdout",
     "output_type": "stream",
     "text": [
      "Tesla Tesla\n",
      "is be\n",
      "n't not\n",
      "looking look\n",
      "into into\n",
      "startups startup\n",
      "anymore anymore\n"
     ]
    }
   ],
   "source": [
    "doc2 = nlp(u\"Tesla isn't looking into startups anymore\")\n",
    "\n",
    "for token in doc2:\n",
    "    print(token.text, token.lemma_)"
   ]
  },
  {
   "cell_type": "code",
   "execution_count": 25,
   "id": "442ad879",
   "metadata": {},
   "outputs": [
    {
     "data": {
      "text/plain": [
       "into"
      ]
     },
     "execution_count": 25,
     "metadata": {},
     "output_type": "execute_result"
    }
   ],
   "source": [
    "doc2[4]"
   ]
  },
  {
   "cell_type": "code",
   "execution_count": 26,
   "id": "d4364e6e",
   "metadata": {},
   "outputs": [
    {
     "data": {
      "text/plain": [
       "'adverbial modifier'"
      ]
     },
     "execution_count": 26,
     "metadata": {},
     "output_type": "execute_result"
    }
   ],
   "source": [
    "spacy.explain('advmod')"
   ]
  },
  {
   "cell_type": "code",
   "execution_count": 29,
   "id": "33a3db76",
   "metadata": {},
   "outputs": [],
   "source": [
    "doc3 = nlp(u\"Born and raised in the Austrian Empire, Tesla first studied engineering and physics in the 1870s without receiving a degree. He then gained practical experience in the early 1880s working in telephony and at Continental Edison in the new electric power industry. In 1884 he immigrated to the United States, where he became a naturalized citizen. He worked for a short time at the Edison Machine Works in New York City before he struck out on his own. With the help of partners to finance and market his ideas, Tesla set up laboratories and companies in New York to develop a range of electrical and mechanical devices. His AC induction motor and related polyphase AC patents, licensed by Westinghouse Electric in 1888, earned him a considerable amount of money and became the cornerstone of the polyphase system which that company eventually marketed\")"
   ]
  },
  {
   "cell_type": "code",
   "execution_count": null,
   "id": "1dfc5238",
   "metadata": {},
   "outputs": [],
   "source": [
    "for idx, token in enumerate(doc3):\n",
    "    print(idx, token.text)"
   ]
  },
  {
   "cell_type": "code",
   "execution_count": 31,
   "id": "c8ae6982",
   "metadata": {},
   "outputs": [],
   "source": [
    "span1 = doc3[45:53]"
   ]
  },
  {
   "cell_type": "code",
   "execution_count": 32,
   "id": "00aae130",
   "metadata": {},
   "outputs": [
    {
     "name": "stdout",
     "output_type": "stream",
     "text": [
      "In 1884 he immigrated to the United States\n"
     ]
    }
   ],
   "source": [
    "print(span1)"
   ]
  },
  {
   "cell_type": "code",
   "execution_count": 33,
   "id": "caaa6f42",
   "metadata": {},
   "outputs": [
    {
     "name": "stdout",
     "output_type": "stream",
     "text": [
      "This is the first sentence.\n",
      "This is the second sentence.\n",
      "This is the third sentence.\n"
     ]
    }
   ],
   "source": [
    "doc4 = nlp(u\"This is the first sentence. This is the second sentence. This is the third sentence.\")\n",
    "\n",
    "for sent in doc4.sents:\n",
    "    print(sent)"
   ]
  },
  {
   "cell_type": "code",
   "execution_count": 34,
   "id": "b65893cb",
   "metadata": {},
   "outputs": [
    {
     "name": "stdout",
     "output_type": "stream",
     "text": [
      "This\n",
      "is\n",
      "the\n",
      "first\n",
      "sentence\n",
      ".\n",
      "This\n",
      "is\n",
      "the\n",
      "second\n",
      "sentence\n",
      ".\n",
      "This\n",
      "is\n",
      "the\n",
      "third\n",
      "sentence\n",
      ".\n"
     ]
    }
   ],
   "source": [
    "for token in doc4:\n",
    "    print(token.text)"
   ]
  },
  {
   "cell_type": "code",
   "execution_count": 37,
   "id": "71f5e884",
   "metadata": {},
   "outputs": [
    {
     "data": {
      "text/plain": [
       "False"
      ]
     },
     "execution_count": 37,
     "metadata": {},
     "output_type": "execute_result"
    }
   ],
   "source": [
    "doc4[7].is_sent_start"
   ]
  }
 ],
 "metadata": {
  "kernelspec": {
   "display_name": "analytix_env",
   "language": "python",
   "name": "python3"
  },
  "language_info": {
   "codemirror_mode": {
    "name": "ipython",
    "version": 3
   },
   "file_extension": ".py",
   "mimetype": "text/x-python",
   "name": "python",
   "nbconvert_exporter": "python",
   "pygments_lexer": "ipython3",
   "version": "3.13.3"
  }
 },
 "nbformat": 4,
 "nbformat_minor": 5
}
