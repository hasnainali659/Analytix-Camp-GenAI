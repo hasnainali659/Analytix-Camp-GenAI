{
 "cells": [
  {
   "cell_type": "code",
   "execution_count": null,
   "id": "2bc29d35",
   "metadata": {},
   "outputs": [
    {
     "name": "stdout",
     "output_type": "stream",
     "text": [
      "content='I\\'m an artificial intelligence model known as Llama. Llama stands for \"Large Language Model Meta AI.\"' additional_kwargs={'refusal': None} response_metadata={'token_usage': {'completion_tokens': 22, 'prompt_tokens': 14, 'total_tokens': 36, 'completion_tokens_details': None, 'prompt_tokens_details': None}, 'model_name': 'llama-3.2-1b-instruct', 'system_fingerprint': 'llama-3.2-1b-instruct', 'id': 'chatcmpl-l695isf16qlmv6rte75cqc', 'service_tier': None, 'finish_reason': 'stop', 'logprobs': None} id='run--2c40dd7b-b890-4542-8b17-377848b7e10f-0' usage_metadata={'input_tokens': 14, 'output_tokens': 22, 'total_tokens': 36, 'input_token_details': {}, 'output_token_details': {}}\n"
     ]
    }
   ],
   "source": [
    "from langchain_openai import ChatOpenAI\n",
    "\n",
    "llm = ChatOpenAI(model=\"llama-3.2-1b-instruct\", base_url=\"http://127.0.0.1:1234/v1\", api_key=\"lm-studio\", temperature=0.7, max_completion_tokens=8000)\n",
    "\n",
    "response = llm.invoke(\"who are you?\")\n",
    "\n",
    "print(response)"
   ]
  },
  {
   "cell_type": "code",
   "execution_count": 3,
   "id": "ae44edc9",
   "metadata": {},
   "outputs": [
    {
     "name": "stdout",
     "output_type": "stream",
     "text": [
      "content='<think>\\n\\n</think>\\n\\nHello! How can I assist you today? 😊' additional_kwargs={} response_metadata={'model': 'deepcoder:14b', 'created_at': '2025-06-29T14:10:22.5868709Z', 'done': True, 'done_reason': 'stop', 'total_duration': 7037086600, 'load_duration': 4332929900, 'prompt_eval_count': 4, 'prompt_eval_duration': 430111900, 'eval_count': 16, 'eval_duration': 2272044100, 'model_name': 'deepcoder:14b'} id='run--e57dad17-754d-4ef7-9aa0-189dcf3cc914-0' usage_metadata={'input_tokens': 4, 'output_tokens': 16, 'total_tokens': 20}\n"
     ]
    }
   ],
   "source": [
    "from langchain_ollama import ChatOllama\n",
    "\n",
    "llm = ChatOllama(model=\"deepcoder:14b\", base_url=\"http://127.0.0.1:11435\")\n",
    "response = llm.invoke(\"hi\")\n",
    "\n",
    "print(response)"
   ]
  },
  {
   "cell_type": "code",
   "execution_count": 22,
   "id": "be008de0",
   "metadata": {},
   "outputs": [],
   "source": [
    "from langchain_core.prompts import ChatPromptTemplate\n",
    "from langchain_core.output_parsers import StrOutputParser\n",
    "\n",
    "output_parser = StrOutputParser()\n",
    "prompt = ChatPromptTemplate.from_messages(\n",
    "    [\n",
    "        (\"system\", \"You are an expert Doctor. Please provide me answers based on the questions\"),\n",
    "        (\"user\",\"{input}\")\n",
    "    ]\n",
    ")\n",
    "\n",
    "chain = prompt | llm | output_parser"
   ]
  },
  {
   "cell_type": "code",
   "execution_count": null,
   "id": "29cd8b34",
   "metadata": {},
   "outputs": [],
   "source": [
    "response = chain.invoke({\"input\": \"Tell something about malaria\"})"
   ]
  },
  {
   "cell_type": "code",
   "execution_count": 24,
   "id": "7417c590",
   "metadata": {},
   "outputs": [
    {
     "data": {
      "text/plain": [
       "\"A very important topic! As a doctor, I'd like to give you an update on malaria.\\n\\n**What is Malaria?**\\n\\nMalaria is a serious and sometimes life-threatening disease caused by a parasite that is transmitted through the bite of an infected mosquito. The parasite, called Plasmodium, lives in red blood cells and multiplies when it enters a new host.\\n\\n**Types of Malaria:**\\n\\nThere are several types of malaria, but the most common ones are:\\n\\n1. **Plasmodium falciparum**: This is the most deadly form of malaria, accounting for about 90% of cases.\\n2. **Plasmodium vivax**: This type causes a milder form of malaria, often leading to fever and anemia.\\n3. **Plasmodium malariae**: This form can lead to chronic infections, which may cause fatigue, weakness, and organ damage.\\n\\n**Symptoms:**\\n\\nThe symptoms of malaria can vary depending on the type of parasite and individual susceptibility. Common symptoms include:\\n\\n1. **Fever**: High temperature (usually above 103°F/39.4°C)\\n2. **Chills**\\n3. **Headache**\\n4. **Fatigue**\\n5. **Muscle and joint pain**\\n6. **Nausea and vomiting**\\n\\n**Risk Factors:**\\n\\nCertain groups are at higher risk for malaria, including:\\n\\n1. **Travelers**: People who travel to tropical or subtropical regions.\\n2. **Urban dwellers**: Those living in urban areas, especially those without access to clean water and mosquito control measures.\\n3. **Migrant workers**: People working abroad, where they may not have access to preventive measures.\\n\\n**Prevention:**\\n\\nTo prevent malaria:\\n\\n1. **Use insecticide-treated bed nets**: Nets with a treated surface that prevents mosquitoes from landing on your skin.\\n2. **Wear protective clothing**: Wear long-sleeved shirts, long pants, and socks when outdoors.\\n3. **Avoid mosquito bites**: Use air conditioning or fans to reduce the number of mosquitoes present.\\n4. **Take antimalarial medication**: If you're traveling to a tropical area, take prophylactic measures as soon as possible.\\n\\n**Treatment:**\\n\\nFor malaria, treatment typically involves:\\n\\n1. **Antimalarial medications**: Chloroquine (if susceptible), mefloquine (in certain regions), and others.\\n2. **Supportive care**: Rest, fluids, and hydration to manage symptoms.\\n\\nIt's essential to seek medical attention immediately if you suspect you have malaria or experience any of the above symptoms. Early treatment can significantly improve outcomes.\""
      ]
     },
     "execution_count": 24,
     "metadata": {},
     "output_type": "execute_result"
    }
   ],
   "source": [
    "response"
   ]
  },
  {
   "cell_type": "code",
   "execution_count": null,
   "id": "73b6d7b5",
   "metadata": {},
   "outputs": [],
   "source": []
  },
  {
   "cell_type": "code",
   "execution_count": null,
   "id": "5f3d1cee",
   "metadata": {},
   "outputs": [],
   "source": []
  }
 ],
 "metadata": {
  "kernelspec": {
   "display_name": "analytix_env",
   "language": "python",
   "name": "python3"
  },
  "language_info": {
   "codemirror_mode": {
    "name": "ipython",
    "version": 3
   },
   "file_extension": ".py",
   "mimetype": "text/x-python",
   "name": "python",
   "nbconvert_exporter": "python",
   "pygments_lexer": "ipython3",
   "version": "3.13.3"
  }
 },
 "nbformat": 4,
 "nbformat_minor": 5
}
