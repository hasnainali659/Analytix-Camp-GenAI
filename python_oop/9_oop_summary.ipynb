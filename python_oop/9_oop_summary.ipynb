{
 "cells": [
  {
   "cell_type": "markdown",
   "metadata": {},
   "source": [
    "# 🐍 2.0 Python OOP Adventure\n",
    "\n",
    "## 🎯 Learning Goals\n",
    "\n",
    "By the end of this tutorial, you'll be able to:\n",
    "\n",
    "- Understand what classes and objects are\n",
    "- Create your own classes with attributes and methods\n",
    "- Use inheritance (single and multiple) to reuse code\n",
    "- Apply polymorphism with method overriding and abstract classes\n",
    "- Protect data using encapsulation\n",
    "- Hide complexity with abstraction\n",
    "- Use magic/dunder methods to make your classes powerful\n",
    "- Overload operators for custom behavior\n"
   ]
  },
  {
   "cell_type": "markdown",
   "metadata": {},
   "source": [
    "## 🛠️ 1. Classes and Objects\n",
    "\n",
    "A **class** is like a blueprint for creating objects. An **object** is an instance of a class.\n",
    "\n",
    "### Real-Life Analogy\n",
    "Imagine a class `Car` as the plan for building cars. Each actual car you can drive is an object created from that plan!\n"
   ]
  },
  {
   "cell_type": "code",
   "execution_count": null,
   "metadata": {},
   "outputs": [],
   "source": [
    "# Example: simple class\n",
    "class Car:\n",
    "    def __init__(self, brand, model):\n",
    "        self.brand = brand\n",
    "        self.model = model\n",
    "    \n",
    "    def honk(self):\n",
    "        print(f'🚗 {self.brand} {self.model} says Beep!')\n",
    "\n",
    "# Creating objects\n",
    "my_car = Car('Toyota', 'Corolla')\n",
    "friend_car = Car('Honda', 'Civic')\n",
    "\n",
    "my_car.honk()\n",
    "friend_car.honk()"
   ]
  },
  {
   "cell_type": "markdown",
   "metadata": {},
   "source": [
    "### 🎯 Practice 1\n",
    "Create a class called `Dog` with attributes `name` and `age`. Add a method `bark()` that prints a fun message. Then make two dogs and call `bark()` on each."
   ]
  },
  {
   "cell_type": "markdown",
   "metadata": {},
   "source": [
    "## 🏰 2. Inheritance\n",
    "\n",
    "Inheritance lets one class take on properties and methods of another. This avoids repeating code!\n"
   ]
  },
  {
   "cell_type": "code",
   "execution_count": null,
   "metadata": {},
   "outputs": [],
   "source": [
    "# Single inheritance example\n",
    "class Animal:\n",
    "    def speak(self):\n",
    "        print('Some sound')\n",
    "\n",
    "class Dog(Animal):\n",
    "    def speak(self):\n",
    "        print('Woof!')\n",
    "\n",
    "pet = Dog()\n",
    "pet.speak()"
   ]
  },
  {
   "cell_type": "code",
   "execution_count": null,
   "metadata": {},
   "outputs": [],
   "source": [
    "# Multiple inheritance example\n",
    "class Flyer:\n",
    "    def fly(self):\n",
    "        print('Flying high!')\n",
    "\n",
    "class Swimmer:\n",
    "    def swim(self):\n",
    "        print('Swimming fast!')\n",
    "\n",
    "class FlyingFish(Flyer, Swimmer):\n",
    "    pass\n",
    "\n",
    "fish = FlyingFish()\n",
    "fish.fly()\n",
    "fish.swim()"
   ]
  },
  {
   "cell_type": "markdown",
   "metadata": {},
   "source": [
    "### 🎯 Practice 2\n",
    "Create a base class `Vehicle` with a method `move()`. Derive a class `Bicycle` that overrides `move()` with a bicycle specific message."
   ]
  },
  {
   "cell_type": "markdown",
   "metadata": {},
   "source": [
    "## 🎭 3. Polymorphism\n",
    "\n",
    "Polymorphism means many forms. In Python, different classes can share the same method name, each giving its own behavior.\n"
   ]
  },
  {
   "cell_type": "code",
   "execution_count": null,
   "metadata": {},
   "outputs": [],
   "source": [
    "class Cat(Animal):\n",
    "    def speak(self):\n",
    "        print('Meow!')\n",
    "\n",
    "animals = [Dog(), Cat()]\n",
    "for a in animals:\n",
    "    a.speak()  # Different output depending on object type"
   ]
  },
  {
   "cell_type": "markdown",
   "metadata": {},
   "source": [
    "### Abstract Classes\n",
    "Use the `abc` module to create abstract base classes with methods that must be overridden."
   ]
  },
  {
   "cell_type": "code",
   "execution_count": null,
   "metadata": {},
   "outputs": [],
   "source": [
    "from abc import ABC, abstractmethod\n",
    "\n",
    "class Shape(ABC):\n",
    "    @abstractmethod\n",
    "    def area(self):\n",
    "        pass\n",
    "\n",
    "class Square(Shape):\n",
    "    def __init__(self, side):\n",
    "        self.side = side\n",
    "    def area(self):\n",
    "        return self.side ** 2\n",
    "\n",
    "sq = Square(3)\n",
    "print('Area:', sq.area())"
   ]
  },
  {
   "cell_type": "markdown",
   "metadata": {},
   "source": [
    "### 🎯 Practice 3\n",
    "Make an abstract class `Appliance` with an abstract method `turn_on()`. Implement it in a subclass `Toaster`. "
   ]
  },
  {
   "cell_type": "markdown",
   "metadata": {},
   "source": [
    "## 🛡️ 4. Encapsulation\n",
    "\n",
    "Encapsulation means keeping data safe inside an object. We use leading underscores to hint that attributes are private.\n"
   ]
  },
  {
   "cell_type": "code",
   "execution_count": null,
   "metadata": {},
   "outputs": [],
   "source": [
    "class BankAccount:\n",
    "    def __init__(self, balance):\n",
    "        self.__balance = balance  # private attribute\n",
    "    def deposit(self, amount):\n",
    "        self.__balance += amount\n",
    "    def get_balance(self):\n",
    "        return self.__balance\n",
    "\n",
    "acct = BankAccount(100)\n",
    "acct.deposit(50)\n",
    "print('Balance:', acct.get_balance())"
   ]
  },
  {
   "cell_type": "markdown",
   "metadata": {},
   "source": [
    "### 🎯 Practice 4\n",
    "Add a `withdraw` method to `BankAccount` that checks you don't withdraw more than the balance."
   ]
  },
  {
   "cell_type": "markdown",
   "metadata": {},
   "source": [
    "## 🎨 5. Abstraction\n",
    "\n",
    "Abstraction hides complex details and shows only the important parts. Abstract classes are one form of abstraction. Another is providing simple methods that manage complex steps inside.\n"
   ]
  },
  {
   "cell_type": "code",
   "execution_count": null,
   "metadata": {},
   "outputs": [],
   "source": [
    "class CoffeeMachine:\n",
    "    def __init__(self):\n",
    "        self.__water = 100\n",
    "    def __boil_water(self):\n",
    "        print('Boiling water...')\n",
    "    def make_coffee(self):\n",
    "        self.__boil_water()\n",
    "        print('☕ Your coffee is ready!')\n",
    "\n",
    "machine = CoffeeMachine()\n",
    "machine.make_coffee()"
   ]
  },
  {
   "cell_type": "markdown",
   "metadata": {},
   "source": [
    "### 🎯 Practice 5\n",
    "Create your own `TeaMachine` class with a `make_tea()` method that calls a private method to boil water."
   ]
  },
  {
   "cell_type": "markdown",
   "metadata": {},
   "source": [
    "## ✨ 6. Magic (Dunder) Methods\n",
    "\n",
    "Magic methods start and end with double underscores (`__`). They let your objects work with Python's built-in features."
   ]
  },
  {
   "cell_type": "code",
   "execution_count": null,
   "metadata": {},
   "outputs": [],
   "source": [
    "class Book:\n",
    "    def __init__(self, title, pages):\n",
    "        self.title = title\n",
    "        self.pages = pages\n",
    "    def __str__(self):\n",
    "        return f'{self.title} ({self.pages} pages)'\n",
    "\n",
    "my_book = Book('Python 101', 250)\n",
    "print(my_book)"
   ]
  },
  {
   "cell_type": "markdown",
   "metadata": {},
   "source": [
    "### Operator Overloading\n",
    "We can redefine operators like `+` by implementing methods such as `__add__`.\n"
   ]
  },
  {
   "cell_type": "code",
   "execution_count": null,
   "metadata": {},
   "outputs": [],
   "source": [
    "class Vector:\n",
    "    def __init__(self, x, y):\n",
    "        self.x = x\n",
    "        self.y = y\n",
    "    def __add__(self, other):\n",
    "        return Vector(self.x + other.x, self.y + other.y)\n",
    "    def __repr__(self):\n",
    "        return f'Vector({self.x}, {self.y})'\n",
    "\n",
    "v1 = Vector(1, 2)\n",
    "v2 = Vector(3, 4)\n",
    "print(v1 + v2)"
   ]
  },
  {
   "cell_type": "markdown",
   "metadata": {},
   "source": [
    "### 🎯 Practice 6\n",
    "Implement `__sub__` for the `Vector` class so you can subtract one vector from another."
   ]
  },
  {
   "cell_type": "markdown",
   "metadata": {},
   "source": [
    "## 🎉 Summary\n",
    "\n",
    "- Classes are blueprints for objects\n",
    "- Inheritance lets us reuse code\n",
    "- Polymorphism gives shared method names with different behavior\n",
    "- Encapsulation protects data\n",
    "- Abstraction hides complexity\n",
    "- Magic methods make classes work with Python syntax\n",
    "- Operator overloading customizes operators\n",
    "\n",
    "Happy coding!"
   ]
  }
 ],
 "metadata": {
  "language_info": {
   "name": "python"
  }
 },
 "nbformat": 4,
 "nbformat_minor": 2
}
