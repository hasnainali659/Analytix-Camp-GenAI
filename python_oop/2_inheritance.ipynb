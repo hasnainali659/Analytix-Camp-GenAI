{
 "cells": [
  {
   "cell_type": "markdown",
   "metadata": {},
   "source": [
    "# 🎓 Python Inheritance Masterclass\n",
    "\n",
    "## 📚 Table of Contents\n",
    "1. Introduction to Inheritance\n",
    "2. Single Inheritance Deep Dive\n",
    "3. Multiple Inheritance Explorer\n",
    "4. Real-World Applications\n",
    "5. Practice Exercises\n",
    "6. Advanced Concepts\n",
    "\n",
    "## 🎯 Learning Objectives\n",
    "By the end of this notebook, you will:\n",
    "- Master the concept of inheritance in Python\n",
    "- Understand and implement single inheritance\n",
    "- Navigate multiple inheritance with confidence\n",
    "- Apply inheritance in real-world scenarios\n",
    "- Solve complex inheritance challenges\n",
    "\n",
    "## 1. Introduction to Inheritance 🌳\n",
    "\n",
    "### What is Inheritance?\n",
    "Think of inheritance like a family tree! Just as children inherit traits from their parents, in programming, classes can inherit properties and methods from other classes.\n",
    "\n",
    "```\n",
    "                    👴 Grandparent\n",
    "                          |\n",
    "                    👨 Parent\n",
    "                    /         \\\n",
    "               👦 Child1    👧 Child2\n",
    "```\n"
   ]
  },
  {
   "cell_type": "code",
   "execution_count": null,
   "metadata": {},
   "source": [
    "# Example 1: Basic Inheritance\n",
    "class Animal:\n",
    "    def __init__(self, name):\n",
    "        self.name = name\n",
    "    \n",
    "    def speak(self):\n",
    "        print(f\"{self.name} makes a sound\")\n",
    "\n",
    "class Dog(Animal):\n",
    "    def speak(self):\n",
    "        print(f\"{self.name} says Woof!\")\n",
    "\n",
    "# Creating instances\n",
    "generic_animal = Animal(\"Generic\")\n",
    "my_dog = Dog(\"Buddy\")\n",
    "\n",
    "generic_animal.speak()  # Output: Generic makes a sound\n",
    "my_dog.speak()         # Output: Buddy says Woof!"
   ]
  },
  {
   "cell_type": "markdown",
   "metadata": {},
   "source": [
    "## 2. Single Inheritance Deep Dive 🏊‍♂️\n",
    "\n",
    "### Real-World Analogy: Vehicle Hierarchy\n",
    "```\n",
    "                    🚗 Vehicle\n",
    "                    /    |    \\\n",
    "               🚙 Car  🏍️ Bike  🚌 Bus\n",
    "                /    \\\n",
    "            🏎️ Sports  🚐 SUV\n",
    "```\n"
   ]
  },
  {
   "cell_type": "code",
   "execution_count": null,
   "metadata": {},
   "source": [
    "# Example 2: Vehicle Hierarchy\n",
    "class Vehicle:\n",
    "    def __init__(self, brand, model, year):\n",
    "        self.brand = brand\n",
    "        self.model = model\n",
    "        self.year = year\n",
    "    \n",
    "    def start_engine(self):\n",
    "        return f\"{self.brand} {self.model}'s engine is starting\"\n",
    "\n",
    "class Car(Vehicle):\n",
    "    def __init__(self, brand, model, year, num_doors):\n",
    "        super().__init__(brand, model, year)\n",
    "        self.num_doors = num_doors\n",
    "    \n",
    "    def honk(self):\n",
    "        return \"Beep beep!\"\n",
    "\n",
    "# Example usage\n",
    "my_car = Car(\"Toyota\", \"Camry\", 2023, 4)\n",
    "print(my_car.start_engine())\n",
    "print(my_car.honk())"
   ]
  },
  {
   "cell_type": "markdown",
   "metadata": {},
   "source": [
    "## 3. Multiple Inheritance Explorer 🌟\n",
    "\n",
    "### Understanding Multiple Inheritance\n",
    "```\n",
    "    📱 Device      🔋 PowerSource\n",
    "         \\           /\n",
    "          \\         /\n",
    "        📱 Smartphone\n",
    "```\n"
   ]
  },
  {
   "cell_type": "code",
   "execution_count": null,
   "metadata": {},
   "source": [
    "# Example 3: Smart Device\n",
    "class Device:\n",
    "    def __init__(self, name):\n",
    "        self.name = name\n",
    "    \n",
    "    def turn_on(self):\n",
    "        return f\"{self.name} is turning on\"\n",
    "\n",
    "class PowerSource:\n",
    "    def __init__(self, battery_capacity):\n",
    "        self.battery_capacity = battery_capacity\n",
    "    \n",
    "    def check_battery(self):\n",
    "        return f\"Battery at {self.battery_capacity}%\"\n",
    "\n",
    "class Smartphone(Device, PowerSource):\n",
    "    def __init__(self, name, battery_capacity):\n",
    "        Device.__init__(self, name)\n",
    "        PowerSource.__init__(self, battery_capacity)\n",
    "    \n",
    "    def use_device(self):\n",
    "        return f\"{self.name} is in use. {self.check_battery()}\"\n",
    "\n",
    "# Example usage\n",
    "iphone = Smartphone(\"iPhone 14\", 85)\n",
    "print(iphone.turn_on())\n",
    "print(iphone.use_device())"
   ]
  },
  {
   "cell_type": "markdown",
   "metadata": {},
   "source": [
    "## 🏋️‍♂️ Practice Exercises\n",
    "\n",
    "### Exercise 1: Pet Shop System\n",
    "Create a hierarchy of pets with different characteristics and behaviors."
   ]
  },
  {
   "cell_type": "code",
   "execution_count": null,
   "metadata": {},
   "source": [
    "# Your code here\n",
    "class Pet:\n",
    "    pass\n",
    "\n",
    "class Dog(Pet):\n",
    "    pass\n",
    "\n",
    "class Cat(Pet):\n",
    "    pass"
   ]
  },
  {
   "cell_type": "markdown",
   "metadata": {},
   "source": [
    "### Exercise 2: Banking System\n",
    "Implement different types of bank accounts with inheritance."
   ]
  },
  {
   "cell_type": "code",
   "execution_count": null,
   "metadata": {},
   "source": [
    "# Your code here\n",
    "class BankAccount:\n",
    "    pass\n",
    "\n",
    "class SavingsAccount(BankAccount):\n",
    "    pass\n",
    "\n",
    "class CheckingAccount(BankAccount):\n",
    "    pass"
   ]
  },
  {
   "cell_type": "markdown",
   "metadata": {},
   "source": [
    "## 🌟 Real-World Scenarios\n",
    "\n",
    "1. E-commerce System\n",
    "2. Game Character System\n",
    "3. Employee Management System\n",
    "4. File System\n",
    "5. Vehicle Rental System\n",
    "\n",
    "Let's implement one example:"
   ]
  },
  {
   "cell_type": "code",
   "execution_count": null,
   "metadata": {},
   "source": [
    "# E-commerce System Example\n",
    "class Product:\n",
    "    def __init__(self, id, name, price):\n",
    "        self.id = id\n",
    "        self.name = name\n",
    "        self.price = price\n",
    "    \n",
    "    def display_info(self):\n",
    "        return f\"Product: {self.name}, Price: ${self.price}\"\n",
    "\n",
    "class PhysicalProduct(Product):\n",
    "    def __init__(self, id, name, price, weight):\n",
    "        super().__init__(id, name, price)\n",
    "        self.weight = weight\n",
    "    \n",
    "    def calculate_shipping(self):\n",
    "        return self.weight * 2\n",
    "\n",
    "class DigitalProduct(Product):\n",
    "    def __init__(self, id, name, price, download_size):\n",
    "        super().__init__(id, name, price)\n",
    "        self.download_size = download_size\n",
    "    \n",
    "    def get_download_link(self):\n",
    "        return f\"download.example.com/{self.id}\"\n",
    "\n",
    "# Example usage\n",
    "book = PhysicalProduct(1, \"Python Book\", 29.99, 0.5)\n",
    "ebook = DigitalProduct(2, \"Python E-Book\", 19.99, \"5MB\")\n",
    "\n",
    "print(book.display_info())\n",
    "print(f\"Shipping cost: ${book.calculate_shipping()}\")\n",
    "print(ebook.display_info())\n",
    "print(f\"Download from: {ebook.get_download_link()}\")"
   ]
  },
  {
   "cell_type": "markdown",
   "metadata": {},
   "source": [
    "## 🎯 More Practice Exercises\n",
    "\n",
    "### Exercise 3: Shape Hierarchy\n",
    "Create a system of geometric shapes with area and perimeter calculations."
   ]
  },
  {
   "cell_type": "code",
   "execution_count": null,
   "metadata": {},
   "source": [
    "from abc import ABC, abstractmethod\n",
    "import math\n",
    "\n",
    "class Shape(ABC):\n",
    "    @abstractmethod\n",
    "    def area(self):\n",
    "        pass\n",
    "    \n",
    "    @abstractmethod\n",
    "    def perimeter(self):\n",
    "        pass\n",
    "\n",
    "# Complete the implementation for Circle, Rectangle, and Triangle"
   ]
  },
  {
   "cell_type": "markdown",
   "metadata": {},
   "source": [
    "### Exercise 4: Media Player\n",
    "Implement a media player system with different types of media."
   ]
  },
  {
   "cell_type": "code",
   "execution_count": null,
   "metadata": {},
   "source": [
    "class MediaPlayer:\n",
    "    def play(self):\n",
    "        pass\n",
    "    \n",
    "    def stop(self):\n",
    "        pass\n",
    "\n",
    "# Implement VideoPlayer, AudioPlayer, and StreamingPlayer"
   ]
  },
  {
   "cell_type": "markdown",
   "metadata": {},
   "source": [
    "## 🎨 Advanced Concepts\n",
    "\n",
    "### Method Resolution Order (MRO)\n",
    "Understanding how Python resolves method calls in multiple inheritance:"
   ]
  },
  {
   "cell_type": "code",
   "execution_count": null,
   "metadata": {},
   "source": [
    "class A:\n",
    "    def method(self):\n",
    "        return \"A\"\n",
    "\n",
    "class B(A):\n",
    "    def method(self):\n",
    "        return \"B\"\n",
    "\n",
    "class C(A):\n",
    "    def method(self):\n",
    "        return \"C\"\n",
    "\n",
    "class D(B, C):\n",
    "    pass\n",
    "\n",
    "d = D()\n",
    "print(D.mro())  # See the method resolution order\n",
    "print(d.method())  # Which method gets called?"
   ]
  },
  {
   "cell_type": "markdown",
   "metadata": {},
   "source": [
    "## 🎯 Final Challenge\n",
    "\n",
    "Create a complete game character system with:\n",
    "- Different character types (Warrior, Mage, Archer)\n",
    "- Multiple abilities (Combat, Magic, Stealth)\n",
    "- Equipment system\n",
    "- Character stats\n",
    "\n",
    "This will test your understanding of both single and multiple inheritance!"
   ]
  }
 ],
 "metadata": {
  "kernelspec": {
   "display_name": "Python 3",
   "language": "python",
   "name": "python3"
  }
 },
 "nbformat": 4,
 "nbformat_minor": 2
}