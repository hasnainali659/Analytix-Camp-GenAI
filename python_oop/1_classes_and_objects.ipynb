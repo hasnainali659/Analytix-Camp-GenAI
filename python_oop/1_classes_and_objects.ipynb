{
 "cells": [
  {
   "cell_type": "markdown",
   "metadata": {},
   "source": [
    "# 🚗 Understanding Classes and Objects in Python: A Beginner's Guide 🚗"
   ]
  },
  {
   "cell_type": "markdown",
   "metadata": {},
   "source": [
    "Welcome to the world of Object-Oriented Programming (OOP) in Python! It might sound complex, but the core ideas are quite intuitive. Let's start with the two fundamental concepts: **Classes** and **Objects**.\n",
    "\n",
    "Imagine you are a toy car manufacturer. Before you start building thousands of cars, you first need a blueprint, right?"
   ]
  },
  {
   "cell_type": "markdown",
   "metadata": {},
   "source": [
    "## What is a Class?\n",
    "A **Class** is like that blueprint. It's a template or a plan for creating things. This blueprint defines:\n",
    "*   **Attributes**: The properties or characteristics of the thing (e.g., for a car, this would be its color, brand, model).\n",
    "*   **Methods**: The actions or behaviors the thing can perform (e.g., a car can start its engine, accelerate, and brake).\n",
    "\n",
    "In short: **A class is a blueprint for creating objects.**\n",
    "\n",
    "Let's see what a blueprint for a car might look like in Python."
   ]
  },
  {
   "cell_type": "code",
   "execution_count": null,
   "metadata": {},
   "outputs": [],
   "source": [
    "class Car:\n",
    "    # This is a special method called the constructor.\n",
    "    # It's called when you create a new car object.\n",
    "    def __init__(self, brand, model, color):\n",
    "        # These are the attributes\n",
    "        print(f\"Creating a new car: {color} {brand} {model}\")\n",
    "        self.brand = brand\n",
    "        self.model = model\n",
    "        self.color = color\n",
    "        self.engine_on = False\n",
    "\n",
    "    # These are the methods\n",
    "    def start_engine(self):\n",
    "        print(f\"The {self.color} {self.brand}'s engine is now on! Vroom vroom!\")\n",
    "        self.engine_on = True\n",
    "\n",
    "    def drive(self):\n",
    "        if self.engine_on:\n",
    "            print(f\"Driving the {self.color} {self.brand} {self.model}.\")\n",
    "        else:\n",
    "            print(\"Can't drive! The engine is off.\")"
   ]
  },
  {
   "cell_type": "markdown",
   "metadata": {},
   "source": [
    "## What is an Object?\n",
    "Now that we have the blueprint (the `Car` class), we can start building actual cars! An **Object** is a real thing built from that class (the blueprint).\n",
    "\n",
    "So, from our one `Car` blueprint, we can create many different car objects. Each car object will have its own specific attributes (like a \"Blue Tesla\" or a \"Red Ferrari\") but will share the same methods (they can all start their engine and drive).\n",
    "\n",
    "An object is also called an **instance** of a class."
   ]
  },
  {
   "cell_type": "markdown",
   "metadata": {},
   "source": [
    "### Class vs. Object Analogy\n",
    "Here is a visual to help you understand:"
   ]
  },
  {
   "cell_type": "markdown",
   "metadata": {},
   "source": [
    "```mermaid\n",
    "graph TD\n",
    "    A[Class: Car Blueprint] --> B[Object 1: Blue Tesla];\n",
    "    A --> C[Object 2: Red Ferrari];\n",
    "    A --> D[Object 3: Black BMW];\n",
    "\n",
    "    subgraph \"Class (Blueprint)\"\n",
    "        A\n",
    "    end\n",
    "\n",
    "    subgraph \"Objects (Actual Cars)\"\n",
    "        B\n",
    "        C\n",
    "        D\n",
    "    end\n",
    "\n",
    "    style A fill:#f9f,stroke:#333,stroke-width:4px\n",
    "    style B fill:#9cf,stroke:#333,stroke-width:2px\n",
    "    style C fill:#f99,stroke:#333,stroke-width:2px\n",
    "    style D fill:#ccc,stroke:#333,stroke-width:2px\n",
    "```"
   ]
  },
  {
   "cell_type": "markdown",
   "metadata": {},
   "source": [
    "## Creating Objects (Instances) in Python\n",
    "Let's create some car objects from our `Car` class. When we call the class like a function (`Car(...)`), Python creates a new object and then calls the `__init__` method for us."
   ]
  },
  {
   "cell_type": "code",
   "execution_count": null,
   "metadata": {},
   "outputs": [],
   "source": [
    "# Create a blue Tesla object from the Car class\n",
    "my_tesla = Car(brand=\"Tesla\", model=\"Model S\", color=\"Blue\")\n",
    "\n",
    "# Create a red Ferrari object\n",
    "my_ferrari = Car(brand=\"Ferrari\", model=\"488 GTB\", color=\"Red\")\n",
    "\n",
    "# Let's see what we've got!\n",
    "# We can access the object's attributes using the dot (.) notation\n",
    "print(f\"I have a {my_tesla.color} {my_tesla.brand} {my_tesla.model}.\")\n",
    "print(f\"I also have a {my_ferrari.color} {my_ferrari.brand} {my_ferrari.model}.\")"
   ]
  },
  {
   "cell_type": "markdown",
   "metadata": {},
   "source": [
    "## Accessing Attributes and Calling Methods\n",
    "\n",
    "Once you have an object, you can interact with it.\n",
    "\n",
    "- **Accessing Attributes:** `object_name.attribute_name`\n",
    "- **Calling Methods:** `object_name.method_name()`\n",
    "\n",
    "Let's try to drive our cars!"
   ]
  },
  {
   "cell_type": "code",
   "execution_count": null,
   "metadata": {},
   "outputs": [],
   "source": [
    "# Let's try to drive the Tesla\n",
    "my_tesla.drive() # What do you think will happen?\n",
    "\n",
    "# Oh right! We need to start the engine first.\n",
    "print(\"\\nLet's start the engine first.\")\n",
    "my_tesla.start_engine()\n",
    "\n",
    "# Now let's try driving again.\n",
    "my_tesla.drive()\n",
    "\n",
    "print(\"\\n--- Let's check on the Ferrari ---\")\n",
    "# The Ferrari's engine is still off, because it's a completely separate object!\n",
    "print(f\"Is the Ferrari's engine on? {my_ferrari.engine_on}\")\n",
    "my_ferrari.drive()"
   ]
  },
  {
   "cell_type": "markdown",
   "metadata": {},
   "source": [
    "## Key Takeaways\n",
    "\n",
    "**Congratulations!** You've just learned the basics of classes and objects in Python.\n",
    "\n",
    "Here's a quick recap:\n",
    "\n",
    "*   **Class**: A blueprint for creating objects (e.g., our `Car` class).\n",
    "*   **Object**: An *instance* of a class. A real thing built from the blueprint (e.g., `my_tesla`, `my_ferrari`). Each object has its own data.\n",
    "*   `__init__`: The special *constructor* method that runs when you create a new object. It's perfect for setting up initial attributes.\n",
    "*   **Attributes**: Variables that belong to an object (e.g., `my_tesla.color`). They represent the object's state.\n",
    "*   **Methods**: Functions that belong to an object (e.g., `my_tesla.start_engine()`). They represent the object's behavior.\n",
    "\n",
    "This is the foundation of Object-Oriented Programming (OOP), a powerful paradigm that helps you write organized, reusable, and more manageable code."
   ]
  }
 ],
 "metadata": {
  "language_info": {
   "name": "python"
  }
 },
 "nbformat": 4,
 "nbformat_minor": 2
}
