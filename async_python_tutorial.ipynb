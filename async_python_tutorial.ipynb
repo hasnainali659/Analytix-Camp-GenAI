{
 "cells": [
  {
   "cell_type": "markdown",
   "id": "53fb67ab",
   "metadata": {},
   "source": [
    "# Async in Python: A Practical Guide\n",
    "\n",
    "Python's `asyncio` library enables asynchronous programming, allowing you to write non-blocking code that handles many tasks at once. This tutorial covers the fundamentals through advanced concepts with engaging examples and exercises.\n",
    "\n",
    "## 1. Why Asynchronous Programming?\n",
    "\n",
    "Traditional synchronous code executes line by line, waiting for each task to finish. When operations involve waiting—like network requests or file I/O—this can slow down your program. Asynchronous code allows the program to continue running other tasks while waiting, improving efficiency.\n",
    "\n",
    "### Real-Life Analogy\n",
    "\n",
    "Imagine ordering food at a restaurant. In a synchronous world, the waiter would take one person's order, wait in the kitchen until it's ready, deliver the meal, then return to take the next order. Asynchronous service lets the waiter take multiple orders, deliver meals as they're ready, and keep everyone happy and fed.\n",
    "\n",
    "## 2. Event Loop and Coroutines\n",
    "\n",
    "`asyncio` relies on an **event loop**, a cycle that schedules and runs tasks. Functions defined with `async def` are **coroutines**, which can pause at `await` points so other tasks can run.\n",
    "\n"
   ]
  },
  {
   "cell_type": "code",
   "execution_count": null,
   "id": "5b66297c",
   "metadata": {},
   "outputs": [],
   "source": [
    "import asyncio\n",
    "\n",
    "async def greet(name):\n",
    "    print(f\"Hello, {name}!\")\n",
    "    await asyncio.sleep(1)  # Simulate a pause\n",
    "    print(f\"Goodbye, {name}!\")\n",
    "\n",
    "async def main():\n",
    "    await greet(\"Alice\")\n",
    "    await greet(\"Bob\")\n",
    "\n",
    "asyncio.run(main())\n"
   ]
  },
  {
   "cell_type": "markdown",
   "id": "93161f44",
   "metadata": {},
   "source": [
    "### Visualizing Concurrency\n",
    "The figure below shows two tasks overlapping in time."
   ]
  },
  {
   "cell_type": "code",
   "execution_count": null,
   "id": "84585202",
   "metadata": {},
   "outputs": [],
   "source": [
    "import matplotlib.pyplot as plt\n",
    "\n",
    "fig, ax = plt.subplots(figsize=(6,2))\n",
    "ax.broken_barh([(0, 2), (4, 2)], (10, 9), facecolors='tab:blue', label='Task A')\n",
    "ax.broken_barh([(2, 2), (6, 2)], (20, 9), facecolors='tab:orange', label='Task B')\n",
    "ax.set_ylim(5, 35)\n",
    "ax.set_xlim(0, 8)\n",
    "ax.set_xlabel('Time (s)')\n",
    "ax.set_yticks([15, 25])\n",
    "ax.set_yticklabels(['Task A', 'Task B'])\n",
    "ax.set_title('Concurrent Tasks Timeline')\n",
    "ax.grid(True)\n",
    "plt.show()"
   ]
  },
  {
   "cell_type": "markdown",
   "id": "6ac1eea9",
   "metadata": {},
   "source": [
    "\n",
    "Although the sleep pauses for a second, both greetings run sequentially. We'll see how to run them concurrently next.\n",
    "\n",
    "## 3. Running Tasks Concurrently\n",
    "\n",
    "Use `asyncio.gather` to schedule multiple coroutines at once. The event loop switches between them whenever they hit an `await`.\n",
    "\n"
   ]
  },
  {
   "cell_type": "code",
   "execution_count": null,
   "id": "900bc5f9",
   "metadata": {},
   "outputs": [],
   "source": [
    "async def main():\n",
    "    await asyncio.gather(greet(\"Alice\"), greet(\"Bob\"))\n",
    "\n",
    "asyncio.run(main())\n"
   ]
  },
  {
   "cell_type": "markdown",
   "id": "e076a882",
   "metadata": {},
   "source": [
    "\n",
    "Now, \"Goodbye\" messages appear after roughly one second rather than two, because both tasks waited for the same sleep concurrently.\n",
    "\n",
    "## 4. Practical Example: Fetching Web Pages\n",
    "\n",
    "Let's fetch several web pages in parallel.\n",
    "\n"
   ]
  },
  {
   "cell_type": "code",
   "execution_count": null,
   "id": "e4f6aa17",
   "metadata": {},
   "outputs": [],
   "source": [
    "import asyncio\n",
    "import aiohttp\n",
    "\n",
    "urls = [\n",
    "    \"https://example.com\",\n",
    "    \"https://httpbin.org/delay/2\",  # Simulates a slow page\n",
    "    \"https://python.org\",\n",
    "]\n",
    "\n",
    "async def fetch(url, session):\n",
    "    async with session.get(url) as response:\n",
    "        print(f\"Fetched {url} with status {response.status}\")\n",
    "        return await response.text()\n",
    "\n",
    "async def main():\n",
    "    async with aiohttp.ClientSession() as session:\n",
    "        pages = await asyncio.gather(*(fetch(url, session) for url in urls))\n",
    "    print(f\"Downloaded {len(pages)} pages\")\n",
    "\n",
    "asyncio.run(main())\n"
   ]
  },
  {
   "cell_type": "markdown",
   "id": "9dd5001b",
   "metadata": {},
   "source": [
    "\n",
    "The program begins all downloads nearly simultaneously and reports when each finishes.\n",
    "\n",
    "## 5. Tasks and Background Work\n",
    "\n",
    "`asyncio.create_task` schedules coroutines in the background, letting your program continue running other code.\n",
    "\n"
   ]
  },
  {
   "cell_type": "code",
   "execution_count": null,
   "id": "7d922b4f",
   "metadata": {},
   "outputs": [],
   "source": [
    "async def periodic():\n",
    "    while True:\n",
    "        print(\"Tick\")\n",
    "        await asyncio.sleep(1)\n",
    "\n",
    "async def main():\n",
    "    task = asyncio.create_task(periodic())\n",
    "    await asyncio.sleep(5)  # Let it tick a few times\n",
    "    task.cancel()           # Stop the background task\n",
    "\n",
    "asyncio.run(main())\n"
   ]
  },
  {
   "cell_type": "markdown",
   "id": "d231c818",
   "metadata": {},
   "source": [
    "\n",
    "## 6. Advanced: Synchronizing with Locks\n",
    "\n",
    "When multiple coroutines access shared data, you may need synchronization. `asyncio.Lock` works similarly to threading locks.\n",
    "\n"
   ]
  },
  {
   "cell_type": "code",
   "execution_count": null,
   "id": "7dc53f1b",
   "metadata": {},
   "outputs": [],
   "source": [
    "counter = 0\n",
    "lock = asyncio.Lock()\n",
    "\n",
    "async def add_one():\n",
    "    global counter\n",
    "    async with lock:\n",
    "        temp = counter\n",
    "        await asyncio.sleep(0.1)  # Simulate work\n",
    "        counter = temp + 1\n",
    "\n",
    "async def main():\n",
    "    await asyncio.gather(*(add_one() for _ in range(100)))\n",
    "    print(counter)  # Should print 100\n",
    "\n",
    "asyncio.run(main())\n"
   ]
  },
  {
   "cell_type": "markdown",
   "id": "54337bb4",
   "metadata": {},
   "source": [
    "\n",
    "## 7. Error Handling\n",
    "\n",
    "Use `try`/`except` around `await` expressions to handle errors gracefully.\n",
    "\n"
   ]
  },
  {
   "cell_type": "code",
   "execution_count": null,
   "id": "5ada2d4a",
   "metadata": {},
   "outputs": [],
   "source": [
    "async def safe_fetch(url, session):\n",
    "    try:\n",
    "        async with session.get(url) as resp:\n",
    "            return await resp.text()\n",
    "    except Exception as e:\n",
    "        print(f\"Failed to fetch {url}: {e}\")\n",
    "        return None\n"
   ]
  },
  {
   "cell_type": "markdown",
   "id": "4f2bd041",
   "metadata": {},
   "source": [
    "\n",
    "## 8. Exercises\n",
    "\n",
    "1. **Concurrent API Calls**: Modify the web-fetching example to retrieve JSON from several APIs and parse a specific field from each response.\n",
    "2. **Progress Indicator**: Write a coroutine that prints \".\" every half second while another coroutine performs a slow operation (like `asyncio.sleep(5)`). Use `asyncio.gather` to run them together.\n",
    "3. **Timeouts**: Implement a wrapper that cancels a coroutine if it takes longer than a specified number of seconds.\n",
    "4. **Chat Server (Advanced)**: Build a tiny chat server using `asyncio` sockets where multiple clients can send messages to each other.\n",
    "5. **Async File Processing**: Use `aiofiles` to read several files concurrently and count the total lines across them.\n",
    "\n",
    "Explore these exercises to become comfortable with asynchronous concepts!\n",
    "\n",
    "---\n",
    "\n",
    "Async programming lets your programs remain responsive and efficient when dealing with many I/O-bound tasks. Mastering these techniques will make your Python applications faster and more scalable.\n",
    "\n",
    "\n"
   ]
  }
 ],
 "metadata": {
  "kernelspec": {
   "display_name": "Python 3",
   "language": "python",
   "name": "python3"
  },
  "language_info": {
   "name": "python",
   "version": "3.12"
  }
 },
 "nbformat": 4,
 "nbformat_minor": 5
}
