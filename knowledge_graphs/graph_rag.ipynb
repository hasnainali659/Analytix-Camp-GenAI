{
 "cells": [
  {
   "cell_type": "code",
   "execution_count": 1,
   "id": "b34a425c",
   "metadata": {},
   "outputs": [
    {
     "data": {
      "text/plain": [
       "True"
      ]
     },
     "execution_count": 1,
     "metadata": {},
     "output_type": "execute_result"
    }
   ],
   "source": [
    "import os\n",
    "from dotenv import load_dotenv\n",
    "from langchain_community.document_loaders import PyPDFLoader\n",
    "from langchain.text_splitter import RecursiveCharacterTextSplitter\n",
    "from langchain.schema import Document\n",
    "from langchain.prompts import PromptTemplate\n",
    "from langchain_community.vectorstores import Neo4jVector\n",
    "from langchain_openai import ChatOpenAI\n",
    "from langchain_community.embeddings import OpenAIEmbeddings\n",
    "from langchain_community.graphs import Neo4jGraph\n",
    "from langchain_experimental.graph_transformers import LLMGraphTransformer\n",
    "from langchain_community.chains.graph_qa.cypher import GraphCypherQAChain\n",
    "from langchain_core.output_parsers import StrOutputParser\n",
    "from neo4j import GraphDatabase\n",
    "\n",
    "load_dotenv()"
   ]
  },
  {
   "cell_type": "code",
   "execution_count": 2,
   "id": "3ffe9cf7",
   "metadata": {},
   "outputs": [],
   "source": [
    "def init_neo4j_connection():\n",
    "    \"\"\"Initialize Neo4j connection with error handling\"\"\"\n",
    "    try:\n",
    "        graph = Neo4jGraph(\n",
    "            url=os.getenv(\"NEO4J_URI\", \"\"),\n",
    "            username=os.getenv(\"NEO4J_USERNAME\", \"\"),\n",
    "            password=os.getenv(\"NEO4J_PASSWORD\", \"\")\n",
    "        )\n",
    "        \n",
    "        driver = GraphDatabase.driver(\n",
    "            os.getenv(\"NEO4J_URI\", \"\"),\n",
    "            auth=(os.getenv(\"NEO4J_USERNAME\", \"\"), os.getenv(\"NEO4J_PASSWORD\", \"\"))\n",
    "        )\n",
    "        \n",
    "        return graph, driver\n",
    "    except Exception as e:\n",
    "        print(f\"Failed to initialize Neo4j connection: {str(e)}\")\n",
    "        return None, None"
   ]
  },
  {
   "cell_type": "code",
   "execution_count": 10,
   "id": "9da69f23",
   "metadata": {},
   "outputs": [],
   "source": [
    "graph, driver = init_neo4j_connection()"
   ]
  },
  {
   "cell_type": "code",
   "execution_count": 14,
   "id": "724dea51",
   "metadata": {},
   "outputs": [],
   "source": [
    "def get_schema(graph):\n",
    "    \"\"\"Get schema with error handling\"\"\"\n",
    "    try:\n",
    "        return graph.get_schema if graph else \"\"\n",
    "    except Exception as e:\n",
    "        print(f\"APOC error retrieving schema: {str(e)}\")\n",
    "        return \"\""
   ]
  },
  {
   "cell_type": "code",
   "execution_count": 15,
   "id": "79549e62",
   "metadata": {},
   "outputs": [],
   "source": [
    "schema = get_schema(graph)"
   ]
  },
  {
   "cell_type": "code",
   "execution_count": 16,
   "id": "b3a48d88",
   "metadata": {},
   "outputs": [
    {
     "data": {
      "text/plain": [
       "'Node properties:\\nresume {name: STRING}\\nFile {name: STRING}\\nEntity {name: STRING}\\nRelationship properties:\\n\\nThe relationships:\\n(:File)-[:BELONGS_TO]->(:resume)\\n(:Entity)-[:HAS_SKILLS]->(:Entity)\\n(:Entity)-[:LIVES_IN]->(:Entity)\\n(:Entity)-[:HAS_FILE]->(:File)\\n(:Entity)-[:HAS_EXPERIENCE]->(:Entity)\\n(:Entity)-[:LOCATED_IN]->(:Entity)\\n(:Entity)-[:HAS_CERTIFICATION]->(:Entity)\\n(:Entity)-[:HAS_PROJECTS]->(:Entity)\\n(:Entity)-[:HAS_EDUCATION]->(:Entity)\\n(:Entity)-[:HAS_CONFERENCE]->(:Entity)'"
      ]
     },
     "execution_count": 16,
     "metadata": {},
     "output_type": "execute_result"
    }
   ],
   "source": [
    "schema"
   ]
  },
  {
   "cell_type": "code",
   "execution_count": 41,
   "id": "20b2ab1b",
   "metadata": {},
   "outputs": [],
   "source": [
    "def init_qa_chain(graph):\n",
    "    \"\"\"Initialize QA chain with error handling\"\"\"\n",
    "    try:\n",
    "        template = \"\"\"\n",
    "        Task: Generate a Cypher statement to query the graph database.\n",
    "        You will be given a rephrased query.\n",
    "        Generate a cypher statement to answer the rephrased query.\n",
    "\n",
    "        Instructions:\n",
    "        1. Search for nodes and their relationships\n",
    "        2. Return relevant information about the queried entities\n",
    "        3. Don't restrict to specific labels, search across all nodes\n",
    "        4. Use CONTAINS or other fuzzy matching when appropriate\n",
    "\n",
    "        schema:\n",
    "        {schema}\n",
    "\n",
    "        Note: Focus on finding relevant information rather than exact matches.\n",
    "\n",
    "        Rephrased Query: {query}\n",
    "\n",
    "        Cypher Statement:\n",
    "        \"\"\" \n",
    "\n",
    "        question_prompt = PromptTemplate(\n",
    "            template=template, \n",
    "            input_variables=[\"schema\", \"query\"] \n",
    "        )\n",
    "\n",
    "        llm = ChatOpenAI(model=\"gpt-4o\", temperature=0)\n",
    "\n",
    "        return GraphCypherQAChain.from_llm(\n",
    "            llm=llm,\n",
    "            graph=graph,\n",
    "            cypher_prompt=question_prompt,\n",
    "            verbose=True,\n",
    "            allow_dangerous_requests=True,\n",
    "            return_intermediate_steps=True\n",
    "        )\n",
    "    except Exception as e:\n",
    "        print(f\"Error initializing QA chain: {str(e)}\")\n",
    "        return None"
   ]
  },
  {
   "cell_type": "code",
   "execution_count": 20,
   "id": "9871220f",
   "metadata": {},
   "outputs": [],
   "source": [
    "qa = init_qa_chain(graph)"
   ]
  },
  {
   "cell_type": "code",
   "execution_count": 33,
   "id": "864ce472",
   "metadata": {},
   "outputs": [],
   "source": [
    "def relationship_to_string(relationship):\n",
    "    \"\"\"Convert a Neo4j Relationship into a string like:\n",
    "       (:Entity {name: \"Hasnain Ali Poonja\"})-[:HAS_EDUCATION]->(:Entity {name: \"NUST SMME\"})\n",
    "    \"\"\"\n",
    "    try:\n",
    "        node1, node2 = relationship.nodes\n",
    "        \n",
    "        label1 = list(node1.labels)[0] if node1.labels else \"\"\n",
    "        label2 = list(node2.labels)[0] if node2.labels else \"\"\n",
    "        \n",
    "        name1 = node1.get(\"name\", \"Unknown\")\n",
    "        name2 = node2.get(\"name\", \"Unknown\")\n",
    "        \n",
    "        rel_type = relationship.type\n",
    "        \n",
    "        return f'(:{label1} {{name: \"{name1}\"}})-[:{rel_type}]->(:{label2} {{name: \"{name2}\"}})'\n",
    "    except Exception as e:\n",
    "        print(f\"Error in relationship_to_string: {str(e)}\")\n",
    "        return \"Unknown relationship\"\n",
    "\n",
    "def get_all_nodes_and_relationships(driver, file_names_list=None):\n",
    "    \"\"\"Get all nodes and relationships with robust error handling\"\"\"\n",
    "    if not driver:\n",
    "        return [], []\n",
    "        \n",
    "    nodes_list = []\n",
    "    relationships_list = []\n",
    "    \n",
    "    try:\n",
    "        with driver.session() as session:\n",
    "            base_query = \"\"\"\n",
    "                MATCH (n:Entity)\n",
    "                OPTIONAL MATCH (n)-[r]-(m:Entity)\n",
    "                RETURN DISTINCT n, r, m\n",
    "            \"\"\"\n",
    "            \n",
    "            result = session.run(base_query)\n",
    "            for record in result:\n",
    "                if record.get(\"n\") and record[\"n\"].get(\"name\"):\n",
    "                    nodes_list.append(record[\"n\"][\"name\"])\n",
    "                if record.get(\"m\") and record[\"m\"].get(\"name\"):\n",
    "                    nodes_list.append(record[\"m\"][\"name\"])\n",
    "                if record.get(\"r\") is not None:\n",
    "                    rel_str = relationship_to_string(record[\"r\"])\n",
    "                    relationships_list.append(rel_str)\n",
    "        \n",
    "        return list(set(nodes_list)), list(set(relationships_list))\n",
    "    except Exception as e:\n",
    "        print(f\"Error in get_all_nodes_and_relationships: {str(e)}\")\n",
    "        return [], []\n",
    "    \n",
    "nodes_list, relationships_list = get_all_nodes_and_relationships(driver)"
   ]
  },
  {
   "cell_type": "code",
   "execution_count": 34,
   "id": "9735db5a",
   "metadata": {},
   "outputs": [
    {
     "data": {
      "text/plain": [
       "['(:Entity {name: \"Khawer Ali\"})-[:HAS_SKILLS]->(:Entity {name: \"Agile\"})',\n",
       " '(:Entity {name: \"Khawer Ali\"})-[:HAS_SKILLS]->(:Entity {name: \"Problem Solving Skills\"})',\n",
       " '(:Entity {name: \"Khawer Ali\"})-[:HAS_SKILLS]->(:Entity {name: \"Asana\"})',\n",
       " '(:Entity {name: \"Khawer Ali\"})-[:HAS_SKILLS]->(:Entity {name: \"GIT Version Control\"})',\n",
       " '(:Entity {name: \"Khawer Ali\"})-[:HAS_SKILLS]->(:Entity {name: \"Wordpress\"})',\n",
       " '(:Entity {name: \"Khawer Ali\"})-[:HAS_PROJECTS]->(:Entity {name: \"Video Streaming Web App & Mobile APIs\"})',\n",
       " '(:Entity {name: \"Khawer Ali\"})-[:HAS_SKILLS]->(:Entity {name: \"RESTful APIs\"})',\n",
       " '(:Entity {name: \"Khawer Ali\"})-[:HAS_PROJECTS]->(:Entity {name: \"ERP for Sharmeen Group of Companies\"})',\n",
       " '(:Entity {name: \"Khawer Ali\"})-[:HAS_SKILLS]->(:Entity {name: \"API Integration\"})',\n",
       " '(:Entity {name: \"Khawer Ali\"})-[:HAS_SKILLS]->(:Entity {name: \"JavaScript\"})',\n",
       " '(:Entity {name: \"Khawer Ali\"})-[:HAS_SKILLS]->(:Entity {name: \"Scrum\"})',\n",
       " '(:Entity {name: \"Khawer Ali\"})-[:HAS_SKILLS]->(:Entity {name: \"Bitbucket\"})',\n",
       " '(:Entity {name: \"Khawer Ali\"})-[:HAS_SKILLS]->(:Entity {name: \"Vuex\"})',\n",
       " '(:Entity {name: \"Khawer Ali\"})-[:HAS_EXPERIENCE]->(:Entity {name: \"Web Developer\"})',\n",
       " '(:Entity {name: \"Khawer Ali\"})-[:HAS_CONFERENCE]->(:Entity {name: \"Corporate Connect\"})',\n",
       " '(:Entity {name: \"Khawer Ali\"})-[:HAS_SKILLS]->(:Entity {name: \"PHP\"})',\n",
       " '(:Entity {name: \"Khawer Ali\"})-[:HAS_CERTIFICATION]->(:Entity {name: \"Laravel Projects\"})',\n",
       " '(:Entity {name: \"Riyadh\"})-[:LOCATED_IN]->(:Entity {name: \"KSA\"})',\n",
       " '(:Entity {name: \"Khawer Ali\"})-[:HAS_SKILLS]->(:Entity {name: \"RESTful web services\"})',\n",
       " '(:Entity {name: \"Khawer Ali\"})-[:HAS_EDUCATION]->(:Entity {name: \"Szabist University\"})',\n",
       " '(:Entity {name: \"Khawer Ali\"})-[:LIVES_IN]->(:Entity {name: \"Karachi\"})',\n",
       " '(:Entity {name: \"Khawer Ali\"})-[:HAS_SKILLS]->(:Entity {name: \"Project Management\"})',\n",
       " '(:Entity {name: \"Khawer Ali\"})-[:HAS_SKILLS]->(:Entity {name: \"JIRA\"})',\n",
       " '(:Entity {name: \"Khawer Ali\"})-[:HAS_EXPERIENCE]->(:Entity {name: \"The Next Rex (Pvt) Ltd\"})',\n",
       " '(:Entity {name: \"Khawer Ali\"})-[:HAS_SKILLS]->(:Entity {name: \"Whm & Cpanel\"})',\n",
       " '(:Entity {name: \"Khawer Ali\"})-[:HAS_SKILLS]->(:Entity {name: \"Git\"})',\n",
       " '(:Entity {name: \"Ayaan\"})-[:HAS_EXPERIENCE]->(:Entity {name: \"ICS Arabia\"})',\n",
       " '(:Entity {name: \"Khawer Ali\"})-[:HAS_PROJECTS]->(:Entity {name: \"Day4Dubai Web and App\"})',\n",
       " '(:Entity {name: \"Khawer Ali\"})-[:HAS_CERTIFICATION]->(:Entity {name: \"Skill Development Council\"})',\n",
       " '(:Entity {name: \"Khawer Ali\"})-[:HAS_SKILLS]->(:Entity {name: \"MySQL\"})',\n",
       " '(:Entity {name: \"Khawer Ali\"})-[:HAS_EXPERIENCE]->(:Entity {name: \"Full Stack Developer\"})',\n",
       " '(:Entity {name: \"Khawer Ali\"})-[:HAS_EXPERIENCE]->(:Entity {name: \"IMS Engineering (Pvt) Ltd\"})',\n",
       " '(:Entity {name: \"Khawer Ali\"})-[:HAS_CERTIFICATION]->(:Entity {name: \"Laravel and CodeIgniter Projects\"})',\n",
       " '(:Entity {name: \"Khawer Ali\"})-[:HAS_SKILLS]->(:Entity {name: \"Bootstrap\"})',\n",
       " '(:Entity {name: \"Khawer Ali\"})-[:HAS_EDUCATION]->(:Entity {name: \"BACHELOR OF COMPUTER SCIENCE\"})',\n",
       " '(:Entity {name: \"Khawer Ali\"})-[:HAS_CONFERENCE]->(:Entity {name: \"Institute Of Business Administration\"})',\n",
       " '(:Entity {name: \"Khawer Ali\"})-[:HAS_SKILLS]->(:Entity {name: \"MS Office\"})',\n",
       " '(:Entity {name: \"Khawer Ali\"})-[:HAS_PROJECTS]->(:Entity {name: \"Multi Users Donation Web App\"})',\n",
       " '(:Entity {name: \"Khawer Ali\"})-[:HAS_EDUCATION]->(:Entity {name: \"MASTERS IN PROJECT MANAGEMENT\"})',\n",
       " '(:Entity {name: \"Khawer Ali\"})-[:HAS_EDUCATION]->(:Entity {name: \"Iqra University\"})',\n",
       " '(:Entity {name: \"Khawer Ali\"})-[:HAS_EXPERIENCE]->(:Entity {name: \"PHP Developer\"})',\n",
       " '(:Entity {name: \"Khawer Ali\"})-[:HAS_SKILLS]->(:Entity {name: \"Jquery\"})',\n",
       " '(:Entity {name: \"Ayaan\"})-[:LIVES_IN]->(:Entity {name: \"Riyadh\"})',\n",
       " '(:Entity {name: \"Khawer Ali\"})-[:HAS_CERTIFICATION]->(:Entity {name: \"Laravel, Vue Js and Nuxt Js Projects\"})',\n",
       " '(:Entity {name: \"Khawer Ali\"})-[:HAS_SKILLS]->(:Entity {name: \"Nuxt Js\"})',\n",
       " '(:Entity {name: \"Khawer Ali\"})-[:HAS_PROJECTS]->(:Entity {name: \"Multivendor Ecommerce Web and App\"})',\n",
       " '(:Entity {name: \"Khawer Ali\"})-[:HAS_SKILLS]->(:Entity {name: \"MongoDb\"})',\n",
       " '(:Entity {name: \"Khawer Ali\"})-[:HAS_CERTIFICATION]->(:Entity {name: \"Hardware & Network Solutions\"})',\n",
       " '(:Entity {name: \"Ayaan\"})-[:HAS_SKILLS]->(:Entity {name: \"JavaScript\"})',\n",
       " '(:Entity {name: \"Khawer Ali\"})-[:HAS_EXPERIENCE]->(:Entity {name: \"Salsoft Technologies\"})',\n",
       " '(:Entity {name: \"Khawer Ali\"})-[:HAS_CONFERENCE]->(:Entity {name: \"International Leadership Conference - 16\"})',\n",
       " '(:Entity {name: \"Khawer Ali\"})-[:HAS_EXPERIENCE]->(:Entity {name: \"Laravel Developer\"})',\n",
       " '(:Entity {name: \"Khawer Ali\"})-[:HAS_EXPERIENCE]->(:Entity {name: \"MT Pixels (Pvt) Ltd\"})',\n",
       " '(:Entity {name: \"Khawer Ali\"})-[:HAS_SKILLS]->(:Entity {name: \"Laravel MVC Framework\"})',\n",
       " '(:Entity {name: \"Khawer Ali\"})-[:HAS_SKILLS]->(:Entity {name: \"Vue Js\"})',\n",
       " '(:Entity {name: \"Khawer Ali\"})-[:LIVES_IN]->(:Entity {name: \"DHA, Karachi, Pakistan\"})',\n",
       " '(:Entity {name: \"Khawer Ali\"})-[:HAS_SKILLS]->(:Entity {name: \"Websockets\"})']"
      ]
     },
     "execution_count": 34,
     "metadata": {},
     "output_type": "execute_result"
    }
   ],
   "source": [
    "relationships_list"
   ]
  },
  {
   "cell_type": "code",
   "execution_count": 35,
   "id": "54d8c3d6",
   "metadata": {},
   "outputs": [],
   "source": [
    "def rephrase_query_chain(query, nodes, relationships):\n",
    "    \"\"\"Rephrase query with error handling\"\"\"\n",
    "    if not query:\n",
    "        return None\n",
    "        \n",
    "    try:\n",
    "        llm = ChatOpenAI(model=\"gpt-4o\", temperature=0)\n",
    "        prompt = PromptTemplate(\n",
    "            template=\"\"\" You are a highly skilled assistant that specializes in rephrasing user queries using the list of nodes and the \n",
    "            list of relationships in the graph database. \n",
    "\n",
    "            The rephrased query should include the exact node and the relevant relationship of the node from the list of nodes and the list of relationships.\n",
    "\n",
    "            List of nodes: {nodes}\n",
    "            List of relationships: {relationships}\n",
    "            Query: {query}\n",
    "\n",
    "            Rephrased Query:\n",
    "            \"\"\"\n",
    "        )\n",
    "        \n",
    "        chain = prompt | llm\n",
    "        return chain.invoke({\"nodes\": nodes, \"relationships\": relationships, \"query\": query})\n",
    "    except Exception as e:\n",
    "        print(f\"Error in rephrase_query_chain: {str(e)}\")\n",
    "        return None"
   ]
  },
  {
   "cell_type": "code",
   "execution_count": 48,
   "id": "301272d1",
   "metadata": {},
   "outputs": [],
   "source": [
    "query = \"Where they live?\"\n",
    "rephrased = rephrase_query_chain(query, nodes_list, relationships_list)"
   ]
  },
  {
   "cell_type": "code",
   "execution_count": 40,
   "id": "10cf16e3",
   "metadata": {},
   "outputs": [
    {
     "data": {
      "text/plain": [
       "AIMessage(content='What skills are shared between the entities \"Khawer Ali\" and \"Ayaan\" based on their respective [:HAS_SKILLS] relationships?', additional_kwargs={'refusal': None}, response_metadata={'token_usage': {'completion_tokens': 29, 'prompt_tokens': 2120, 'total_tokens': 2149, 'completion_tokens_details': {'accepted_prediction_tokens': 0, 'audio_tokens': 0, 'reasoning_tokens': 0, 'rejected_prediction_tokens': 0}, 'prompt_tokens_details': {'audio_tokens': 0, 'cached_tokens': 2048}}, 'model_name': 'gpt-4o-2024-08-06', 'system_fingerprint': 'fp_46bff0e0c8', 'id': 'chatcmpl-CACe0RfAoxvwocbgk0eTwZxhBf4J0', 'finish_reason': 'stop', 'logprobs': None}, id='run--bef0216e-0ff0-494e-b13d-8fec74d20ed4-0', usage_metadata={'input_tokens': 2120, 'output_tokens': 29, 'total_tokens': 2149, 'input_token_details': {'audio': 0, 'cache_read': 2048}, 'output_token_details': {'audio': 0, 'reasoning': 0}})"
      ]
     },
     "execution_count": 40,
     "metadata": {},
     "output_type": "execute_result"
    }
   ],
   "source": [
    "rephrased"
   ]
  },
  {
   "cell_type": "code",
   "execution_count": 49,
   "id": "fc81722d",
   "metadata": {},
   "outputs": [
    {
     "name": "stdout",
     "output_type": "stream",
     "text": [
      "\n",
      "\n",
      "\u001b[1m> Entering new GraphCypherQAChain chain...\u001b[0m\n",
      "Generated Cypher:\n",
      "\u001b[32;1m\u001b[1;3mcypher\n",
      "MATCH (e1:Entity {name: 'Khawer Ali'})-[:LIVES_IN]->(e2:Entity)\n",
      "WHERE e2.name CONTAINS 'Karachi'\n",
      "RETURN e2.name AS Location\n",
      "\u001b[0m\n",
      "Full Context:\n",
      "\u001b[32;1m\u001b[1;3m[{'Location': 'DHA, Karachi, Pakistan'}, {'Location': 'Karachi'}]\u001b[0m\n",
      "\n",
      "\u001b[1m> Finished chain.\u001b[0m\n"
     ]
    }
   ],
   "source": [
    "result = qa.invoke({\n",
    "    \"query\": rephrased.content,\n",
    "    \"schema\": schema\n",
    "})"
   ]
  },
  {
   "cell_type": "code",
   "execution_count": 50,
   "id": "369553ae",
   "metadata": {},
   "outputs": [],
   "source": [
    "template = \"\"\"\n",
    "You will be provided with user query, schema of knowledge graph and result from cypher query chain\n",
    "your task is to draft the final answer based on the result and the user query.\n",
    "\n",
    "Result: {result}\n",
    "Final Answer:\n",
    "\"\"\"\n",
    "\n",
    "prompt = PromptTemplate.from_template(template)\n",
    "\n",
    "llm = ChatOpenAI(model=\"gpt-4o\", temperature=0)\n",
    "\n",
    "chain = prompt | llm\n",
    "\n"
   ]
  },
  {
   "cell_type": "code",
   "execution_count": 51,
   "id": "0001dac8",
   "metadata": {},
   "outputs": [
    {
     "data": {
      "text/plain": [
       "'Khawer Ali resides in DHA, Karachi, Pakistan.'"
      ]
     },
     "execution_count": 51,
     "metadata": {},
     "output_type": "execute_result"
    }
   ],
   "source": [
    "final_answer = chain.invoke({\n",
    "    \"result\": result\n",
    "})\n",
    "\n",
    "final_answer.content"
   ]
  }
 ],
 "metadata": {
  "kernelspec": {
   "display_name": "Python 3",
   "language": "python",
   "name": "python3"
  },
  "language_info": {
   "codemirror_mode": {
    "name": "ipython",
    "version": 3
   },
   "file_extension": ".py",
   "mimetype": "text/x-python",
   "name": "python",
   "nbconvert_exporter": "python",
   "pygments_lexer": "ipython3",
   "version": "3.10.7"
  }
 },
 "nbformat": 4,
 "nbformat_minor": 5
}
