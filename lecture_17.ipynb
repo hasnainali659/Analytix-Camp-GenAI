{
 "cells": [
  {
   "cell_type": "code",
   "execution_count": 1,
   "id": "c5ce1236",
   "metadata": {},
   "outputs": [],
   "source": [
    "import spacy\n",
    "\n",
    "nlp = spacy.load(\"en_core_web_sm\")"
   ]
  },
  {
   "cell_type": "code",
   "execution_count": 2,
   "id": "00625daa",
   "metadata": {},
   "outputs": [
    {
     "name": "stdout",
     "output_type": "stream",
     "text": [
      "\"We're moving to L.A.!\"\n"
     ]
    }
   ],
   "source": [
    "my_string = '\"We\\'re moving to L.A.!\"'\n",
    "print(my_string)"
   ]
  },
  {
   "cell_type": "code",
   "execution_count": 3,
   "id": "8e65bdc7",
   "metadata": {},
   "outputs": [],
   "source": [
    "doc = nlp(my_string)"
   ]
  },
  {
   "cell_type": "code",
   "execution_count": 4,
   "id": "f7fdc479",
   "metadata": {},
   "outputs": [
    {
     "name": "stdout",
     "output_type": "stream",
     "text": [
      "\" | We | 're | moving | to | L.A. | ! | \" | "
     ]
    }
   ],
   "source": [
    "for token in doc:\n",
    "    print(token.text, end=\" | \")\n"
   ]
  },
  {
   "cell_type": "code",
   "execution_count": 5,
   "id": "b438e949",
   "metadata": {},
   "outputs": [
    {
     "name": "stdout",
     "output_type": "stream",
     "text": [
      "We\n",
      "'re\n",
      "here\n",
      "to\n",
      "help\n",
      "!\n",
      "Send\n",
      "snail\n",
      "-\n",
      "mail\n",
      ",\n",
      "email\n",
      "support@oursite.com\n",
      "or\n",
      "visit\n",
      "us\n",
      "at\n",
      "http://www.oursite.com\n",
      "!\n"
     ]
    }
   ],
   "source": [
    "text2 = \"We're here to help! Send snail-mail, email support@oursite.com or visit us at http://www.oursite.com!\"\n",
    "docs = nlp(text2)\n",
    "for token in docs:\n",
    "    print(token.text)"
   ]
  },
  {
   "cell_type": "code",
   "execution_count": 6,
   "id": "d666e5cb",
   "metadata": {},
   "outputs": [
    {
     "name": "stdout",
     "output_type": "stream",
     "text": [
      "A\n",
      "5\n",
      "km\n",
      "NYC\n",
      "cab\n",
      "ride\n",
      "costs\n",
      "$\n",
      "10.30\n"
     ]
    }
   ],
   "source": [
    "doc3 = nlp(u\"A 5km NYC cab ride costs $10.30\")\n",
    "\n",
    "for token in doc3:\n",
    "    print(token.text)"
   ]
  },
  {
   "cell_type": "code",
   "execution_count": 7,
   "id": "87b247e8",
   "metadata": {},
   "outputs": [
    {
     "name": "stdout",
     "output_type": "stream",
     "text": [
      "Let\n",
      "'s\n",
      "visit\n",
      "St.\n",
      "Louis\n",
      "in\n",
      "the\n",
      "U.S.\n",
      "next\n",
      "year\n",
      ".\n"
     ]
    }
   ],
   "source": [
    "doc4 = nlp(u\"Let's visit St. Louis in the U.S. next year.\")\n",
    "\n",
    "for token in doc4:\n",
    "    print(token)"
   ]
  },
  {
   "cell_type": "code",
   "execution_count": 10,
   "id": "6de8feb4",
   "metadata": {},
   "outputs": [
    {
     "name": "stdout",
     "output_type": "stream",
     "text": [
      "<class 'spacy.tokens.doc.Doc'>\n"
     ]
    }
   ],
   "source": [
    "print(type(doc4))"
   ]
  },
  {
   "cell_type": "code",
   "execution_count": 11,
   "id": "e9d9d3d7",
   "metadata": {},
   "outputs": [
    {
     "data": {
      "text/plain": [
       "794"
      ]
     },
     "execution_count": 11,
     "metadata": {},
     "output_type": "execute_result"
    }
   ],
   "source": [
    "len(doc.vocab)"
   ]
  },
  {
   "cell_type": "code",
   "execution_count": 12,
   "id": "eb01d6a8",
   "metadata": {},
   "outputs": [],
   "source": [
    "doc5 = nlp(u\"It is better to give than to recieve.\")"
   ]
  },
  {
   "cell_type": "code",
   "execution_count": 16,
   "id": "e11f5efb",
   "metadata": {},
   "outputs": [
    {
     "name": "stdout",
     "output_type": "stream",
     "text": [
      "better to give\n"
     ]
    }
   ],
   "source": [
    "print(doc5[2:5])"
   ]
  },
  {
   "cell_type": "code",
   "execution_count": 18,
   "id": "79acbd85",
   "metadata": {},
   "outputs": [
    {
     "ename": "TypeError",
     "evalue": "'spacy.tokens.doc.Doc' object does not support item assignment",
     "output_type": "error",
     "traceback": [
      "\u001b[31m---------------------------------------------------------------------------\u001b[39m",
      "\u001b[31mTypeError\u001b[39m                                 Traceback (most recent call last)",
      "\u001b[36mCell\u001b[39m\u001b[36m \u001b[39m\u001b[32mIn[18]\u001b[39m\u001b[32m, line 1\u001b[39m\n\u001b[32m----> \u001b[39m\u001b[32m1\u001b[39m \u001b[43mdoc5\u001b[49m\u001b[43m[\u001b[49m\u001b[32;43m4\u001b[39;49m\u001b[43m]\u001b[49m = \u001b[33m\"\u001b[39m\u001b[33mHasnain\u001b[39m\u001b[33m\"\u001b[39m\n",
      "\u001b[31mTypeError\u001b[39m: 'spacy.tokens.doc.Doc' object does not support item assignment"
     ]
    }
   ],
   "source": [
    "doc5[4] = \"Hasnain\""
   ]
  },
  {
   "cell_type": "code",
   "execution_count": 19,
   "id": "d6ea1ddd",
   "metadata": {},
   "outputs": [
    {
     "name": "stdout",
     "output_type": "stream",
     "text": [
      "Apple | to | build | a | Hong | Kong | factory | for | $ | 6 | million | "
     ]
    }
   ],
   "source": [
    "doc6 = nlp(u\"Apple to build a Hong Kong factory for $6 million\")\n",
    "\n",
    "for token in doc6:\n",
    "    print(token.text, end=\" | \")"
   ]
  },
  {
   "cell_type": "code",
   "execution_count": 20,
   "id": "f807e081",
   "metadata": {},
   "outputs": [
    {
     "name": "stdout",
     "output_type": "stream",
     "text": [
      "Apple - ORG - Companies, agencies, institutions, etc.\n",
      "Hong Kong - GPE - Countries, cities, states\n",
      "$6 million - MONEY - Monetary values, including unit\n"
     ]
    }
   ],
   "source": [
    "for ent in doc6.ents:\n",
    "    print(ent.text + \" - \" + ent.label_ + \" - \" + str(spacy.explain(ent.label_)))"
   ]
  },
  {
   "cell_type": "code",
   "execution_count": 21,
   "id": "fc05c3b2",
   "metadata": {},
   "outputs": [
    {
     "name": "stdout",
     "output_type": "stream",
     "text": [
      "Autonomous cars\n",
      "insurance liability\n",
      "manufacturers\n"
     ]
    }
   ],
   "source": [
    "doc7 = nlp(u\"Autonomous cars shift insurance liability towards manufacturers\")\n",
    "\n",
    "for chunk in doc7.noun_chunks:\n",
    "    print(chunk.text)"
   ]
  },
  {
   "cell_type": "code",
   "execution_count": null,
   "id": "aca9281b",
   "metadata": {},
   "outputs": [],
   "source": [
    "from spacy import displacy\n",
    "\n",
    "doc = nlp(u\"Apple is going to build a Hong Kong factory for $6 million\")\n",
    "\n",
    "displacy.serve(doc, style=\"ent\")"
   ]
  },
  {
   "cell_type": "code",
   "execution_count": null,
   "id": "bc2897ba",
   "metadata": {},
   "outputs": [],
   "source": []
  },
  {
   "cell_type": "code",
   "execution_count": 29,
   "id": "bdf8045a",
   "metadata": {},
   "outputs": [],
   "source": [
    "from pydantic import BaseModel, Field\n",
    "from typing import List\n",
    "\n",
    "class EntityRecognitionResponse(BaseModel):\n",
    "    phone_number: str = Field(description=\"Phone number mentioned in the text\")\n",
    "    credit_card_number: str = Field(description=\"Credit card number mentioned in the text\")\n",
    "    name: str =  Field(description=\"Names mentioned in the text\")\n",
    "    address: str = Field(description=\"Address mentioned in the text\")\n",
    "    masked_paragraph: str = Field(description=\"Exactly same paragraph as text but with masked entitites\")"
   ]
  },
  {
   "cell_type": "code",
   "execution_count": 33,
   "id": "683d631f",
   "metadata": {},
   "outputs": [],
   "source": [
    "from langchain_anthropic import ChatAnthropic\n",
    "\n",
    "llm = ChatAnthropic(model=\"claude-3-5-sonnet-latest\")\n",
    "\n",
    "llm_with_structured_output = llm.with_structured_output(EntityRecognitionResponse)"
   ]
  },
  {
   "cell_type": "code",
   "execution_count": 34,
   "id": "f38ed614",
   "metadata": {},
   "outputs": [],
   "source": [
    "from langchain_core.prompts import PromptTemplate\n",
    "\n",
    "template = \"\"\"\n",
    "You are an expert Named Entity Recognition expert with experience in extracting key PII informations.\n",
    "Here is the provided text for PII/Entity Recognition\n",
    "\n",
    "Text:\n",
    "{text}\n",
    "\"\"\"\n",
    "\n",
    "entity_prompt = PromptTemplate.from_template(template)"
   ]
  },
  {
   "cell_type": "code",
   "execution_count": 35,
   "id": "b372132e",
   "metadata": {},
   "outputs": [],
   "source": [
    "entity_chain = entity_prompt | llm_with_structured_output"
   ]
  },
  {
   "cell_type": "code",
   "execution_count": 36,
   "id": "e7c5f5de",
   "metadata": {},
   "outputs": [],
   "source": [
    "text = \"\"\"\n",
    "John Doe recently placed an order with XYZ Electronics. His shipping address is 123 Main Street, Apt 4B, Springfield, IL 62704, USA. For billing, he used his Visa card with the number *4111 1111 1111 1111* (expiry *05/25*, CVV *123*).\n",
    "\n",
    "You can contact him at his phone number *+1 (555) 123-4567* or via email at john.doe@example.com. His order will be delivered by FedEx with tracking number *1234 5678 9012*.\"\"\"\n",
    "\n",
    "response = entity_chain.invoke({\"text\": text})"
   ]
  },
  {
   "cell_type": "code",
   "execution_count": 40,
   "id": "e832910c",
   "metadata": {},
   "outputs": [
    {
     "name": "stdout",
     "output_type": "stream",
     "text": [
      "Name Identified: John Doe\n",
      "Address Identified: 123 Main Street, Apt 4B, Springfield, IL 62704, USA\n",
      "Credit Card Number Identified: 4111 1111 1111 1111\n",
      "Phone Number Identified: +1 (555) 123-4567\n",
      "Masked Response: [NAME] recently placed an order with XYZ Electronics. His shipping address is [ADDRESS]. For billing, he used his Visa card with the number [CREDIT_CARD] (expiry *05/25*, CVV *123*).\n",
      "\n",
      "You can contact him at his phone number [PHONE] or via email at [EMAIL]. His order will be delivered by FedEx with tracking number *1234 5678 9012*.\n"
     ]
    }
   ],
   "source": [
    "print(f\"Name Identified: {response.name}\")\n",
    "print(f\"Address Identified: {response.address}\")\n",
    "print(f\"Credit Card Number Identified: {response.credit_card_number}\")\n",
    "print(f\"Phone Number Identified: {response.phone_number}\")\n",
    "print(f\"Masked Response: {response.masked_paragraph}\")"
   ]
  }
 ],
 "metadata": {
  "kernelspec": {
   "display_name": "analytix_env",
   "language": "python",
   "name": "python3"
  },
  "language_info": {
   "codemirror_mode": {
    "name": "ipython",
    "version": 3
   },
   "file_extension": ".py",
   "mimetype": "text/x-python",
   "name": "python",
   "nbconvert_exporter": "python",
   "pygments_lexer": "ipython3",
   "version": "3.13.3"
  }
 },
 "nbformat": 4,
 "nbformat_minor": 5
}
