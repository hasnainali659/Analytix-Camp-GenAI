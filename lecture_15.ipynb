{
 "cells": [
  {
   "cell_type": "code",
   "execution_count": 11,
   "id": "49fb3ea0",
   "metadata": {},
   "outputs": [
    {
     "name": "stderr",
     "output_type": "stream",
     "text": [
      "c:\\Repos\\Projects\\Analytix Camp GenAI\\Analytix-Camp-GenAI\\analytix_env\\Lib\\site-packages\\torch\\utils\\data\\dataloader.py:665: UserWarning: 'pin_memory' argument is set as true but no accelerator is found, then device pinned memory won't be used.\n",
      "  warnings.warn(warn_msg)\n",
      "c:\\Repos\\Projects\\Analytix Camp GenAI\\Analytix-Camp-GenAI\\analytix_env\\Lib\\site-packages\\torch\\utils\\data\\dataloader.py:665: UserWarning: 'pin_memory' argument is set as true but no accelerator is found, then device pinned memory won't be used.\n",
      "  warnings.warn(warn_msg)\n",
      "Token indices sequence length is longer than the specified maximum sequence length for this model (625 > 512). Running this sequence through the model will result in indexing errors\n"
     ]
    }
   ],
   "source": [
    "from langchain_docling import DoclingLoader\n",
    "from dotenv import load_dotenv\n",
    "\n",
    "load_dotenv()\n",
    "\n",
    "FILE_PATH = \"Docs/plan_and_solve.pdf\"\n",
    "\n",
    "loader = DoclingLoader(file_path=FILE_PATH)\n",
    "\n",
    "docs = loader.load()"
   ]
  },
  {
   "cell_type": "code",
   "execution_count": 12,
   "id": "6464c062",
   "metadata": {},
   "outputs": [
    {
     "data": {
      "text/plain": [
       "95"
      ]
     },
     "execution_count": 12,
     "metadata": {},
     "output_type": "execute_result"
    }
   ],
   "source": [
    "len(docs)"
   ]
  },
  {
   "cell_type": "code",
   "execution_count": 13,
   "id": "2bff410c",
   "metadata": {},
   "outputs": [],
   "source": [
    "from langchain_text_splitters import RecursiveCharacterTextSplitter\n",
    "doc_splitter = RecursiveCharacterTextSplitter(chunk_size=10000, chunk_overlap=0)\n",
    "splitted_docs = doc_splitter.split_documents(docs)"
   ]
  },
  {
   "cell_type": "code",
   "execution_count": 19,
   "id": "1e8c2c30",
   "metadata": {},
   "outputs": [
    {
     "data": {
      "text/plain": [
       "95"
      ]
     },
     "execution_count": 19,
     "metadata": {},
     "output_type": "execute_result"
    }
   ],
   "source": [
    "len(splitted_docs)"
   ]
  },
  {
   "cell_type": "code",
   "execution_count": 14,
   "id": "8aa6a29e",
   "metadata": {},
   "outputs": [],
   "source": [
    "from langchain_openai import ChatOpenAI\n",
    "\n",
    "llm = ChatOpenAI(model=\"gpt-4o-mini\", temperature=0.3)"
   ]
  },
  {
   "cell_type": "code",
   "execution_count": 7,
   "id": "a6a85747",
   "metadata": {},
   "outputs": [],
   "source": [
    "from langchain_groq import ChatGroq\n",
    "llm_groq = ChatGroq(model=\"llama-3.1-8b-instant\", temperature=0.3)"
   ]
  },
  {
   "cell_type": "code",
   "execution_count": 9,
   "id": "5aa60a51",
   "metadata": {},
   "outputs": [],
   "source": [
    "from langchain_anthropic import ChatAnthropic\n",
    "\n",
    "llm_anthropic = ChatAnthropic(model=\"claude-3-5-haiku-20241022\", temperature=0.3)"
   ]
  },
  {
   "cell_type": "code",
   "execution_count": 21,
   "id": "ed400b71",
   "metadata": {},
   "outputs": [],
   "source": [
    "from pydantic import BaseModel, Field\n",
    "from typing import List\n",
    "\n",
    "class SummaryResponse(BaseModel):\n",
    "    summary: str = Field(description=\"Summary for the provided text. Summary should be strictly in urdu.\")\n",
    "    document_class: str = Field(description=\"Suggest a document class for the provided text in urdu\")\n",
    "    questions: List[str] = Field(description=\"10 questions from the provided text in urdu\")"
   ]
  },
  {
   "cell_type": "code",
   "execution_count": 22,
   "id": "48e9373d",
   "metadata": {},
   "outputs": [],
   "source": [
    "llm_with_structured_output = llm.with_structured_output(SummaryResponse)"
   ]
  },
  {
   "cell_type": "code",
   "execution_count": 23,
   "id": "279be6e1",
   "metadata": {},
   "outputs": [],
   "source": [
    "from langchain_core.prompts import PromptTemplate\n",
    "\n",
    "template = \"\"\"\n",
    "You are an expert document summarizer with experience in extracting key informations and insights from various types of documents\n",
    "\n",
    "Document for Analysis:\n",
    "{doc}\n",
    "\"\"\"\n",
    "\n",
    "summary_prompt = PromptTemplate.from_template(template)"
   ]
  },
  {
   "cell_type": "code",
   "execution_count": 24,
   "id": "19b8530e",
   "metadata": {},
   "outputs": [],
   "source": [
    "summary_chain = summary_prompt | llm_with_structured_output "
   ]
  },
  {
   "cell_type": "code",
   "execution_count": 25,
   "id": "8dfdcaa4",
   "metadata": {},
   "outputs": [],
   "source": [
    "response = summary_chain.invoke(splitted_docs[:10])"
   ]
  },
  {
   "cell_type": "code",
   "execution_count": null,
   "id": "c601b2a1",
   "metadata": {},
   "outputs": [
    {
     "data": {
      "text/plain": [
       "['بڑے زبان ماڈلز (LLMs) کیا ہیں؟',\n",
       " 'زیرو شاٹ چین آف تھوٹ (CoT) پرامپٹنگ کی کیا خصوصیات ہیں؟',\n",
       " 'پلان اینڈ سالو (PS) پرامپٹنگ کا مقصد کیا ہے؟',\n",
       " 'زیرو شاٹ-CoT میں کون سی خامیاں ہیں؟',\n",
       " 'PS پرامپٹنگ میں کیا شامل ہے؟',\n",
       " 'PS+ پرامپٹنگ کی خصوصیات کیا ہیں؟',\n",
       " 'کون سی ڈیٹا سیٹس پر تجربات کیے گئے؟',\n",
       " 'PS+ پرامپٹنگ کی کارکردگی کیسی ہے؟',\n",
       " 'یہ تحقیق کس مسئلے کو حل کرنے کی کوشش کر رہی ہے؟',\n",
       " 'کیا PS+ پرامپٹنگ کو دستی مظاہرہ کی ضرورت ہے؟']"
      ]
     },
     "execution_count": 29,
     "metadata": {},
     "output_type": "execute_result"
    }
   ],
   "source": [
    "print(response.summary)\n",
    "print(response.doc_class)\n",
    "print(response.questions)"
   ]
  },
  {
   "cell_type": "code",
   "execution_count": null,
   "id": "30682c8a",
   "metadata": {},
   "outputs": [],
   "source": []
  },
  {
   "cell_type": "code",
   "execution_count": null,
   "id": "5f563a18",
   "metadata": {},
   "outputs": [],
   "source": [
    "# RAG Question Answer"
   ]
  },
  {
   "cell_type": "code",
   "execution_count": 30,
   "id": "93a1533e",
   "metadata": {},
   "outputs": [],
   "source": [
    "from langchain_community.document_loaders import PyPDFLoader\n",
    "\n",
    "path = \"Docs/GraphRAG_for_structured_data_1.pdf\"\n",
    "\n",
    "loader = PyPDFLoader(path)\n",
    "docs = loader.load()"
   ]
  },
  {
   "cell_type": "code",
   "execution_count": 33,
   "id": "f7c35969",
   "metadata": {},
   "outputs": [
    {
     "data": {
      "text/plain": [
       "'Enhancing Structured-Data Retrieval with GraphRAG: Soccer\\nData Case Study\\nZahra Sepasdar\\nForzasys & SimulaMet\\nOslo, Norway\\nzahra.sepasdar@gmail.com\\nSushant Gautam\\nSimulaMet & OsloMet\\nOslo, Norway\\nsushant@simula.no\\nCise Midoglu\\nSimulaMet\\nOslo, Norway\\ncise@simula.no\\nMichael A. Riegler\\nSimulaMet & OsloMet\\nOslo, Norway\\nmichael@simula.no\\nPål Halvorsen\\nSimulaMet, Forzasys & OsloMet\\nOslo, Norway\\npaalh@simula.no\\nABSTRACT\\nExtracting meaningful insights from large and complex datasets\\nposes significant challenges, particularly in ensuring the accuracy\\nand relevance of retrieved information. Traditional data retrieval\\nmethods such as sequential search and index-based retrieval often\\nfail when handling intricate and interconnected data structures,\\nresulting in incomplete or misleading outputs. To overcome these\\nlimitations, we introduce Structured-GraphRAG, a versatile frame-\\nwork designed to enhance information retrieval across structured\\ndatasets in natural language queries. Structured-GraphRAG utilizes\\nmultiple knowledge graphs, which represent data in a structured for-\\nmat and capture complex relationships between entities, enabling\\na more nuanced and comprehensive retrieval of information. This\\ngraph-based approach reduces the risk of errors in language model\\noutputs by grounding responses in a structured format, thereby en-\\nhancing the reliability of results. We demonstrate the effectiveness\\nof Structured-GraphRAG by comparing its performance with that of\\na recently published method using traditional retrieval-augmented\\ngeneration. Our findings show that Structured-GraphRAG signifi-\\ncantly improves query processing efficiency and reduces response\\ntimes. While our case study focuses on soccer data, the framework’s\\ndesign is broadly applicable, offering a powerful tool for data anal-\\nysis and enhancing language model applications across various\\nstructured domains.\\nCCS CONCEPTS\\n• Information systems →Database design and models; Informa-\\ntion retrieval query processing ; • Computing methodologies\\n→Knowledge representation and reasoning; • Theory of computa-\\ntion →Data structures design and analysis.\\nKEYWORDS\\nKnowledge Graphs, Large Language Models, Retrieval Augmented\\nGeneration, Soccer\\n1 INTRODUCTION AND RELATED WORK\\nAs digital content continues to expand rapidly, the need for ad-\\nvanced retrieval systems has become more critical. Users increas-\\ningly prefer to interact with these systems through natural language\\nqueries—posing questions as they would to another person—making\\nit essential for retrieval technologies to understand and process\\nlanguage in a human-like manner [ 4, 5]. Large language models\\n(LLMs) are integral to these systems for interpreting user queries ac-\\ncurately. However, LLMs face several challenges that impact their\\nability to retrieve relevant information effectively. Firstly, these\\nmodels often struggle to fully comprehend the context embedded\\nwithin questions, which can lead to responses that do not align\\nprecisely with the user’s intentions. Furthermore, language models\\nencounter challenges related to \"hallucinating\" information, i.e.,\\ngenerating entirely fictional facts. Another issue is that the train-\\ning datasets may not be updated regularly, potentially leading to\\nincorrect outputs. To address these challenges, one effective ap-\\nproach is using Retrieval-Augmented Generation (RAG), which\\nintegrates the advantages of retrieval-based methods to access up-\\nto-date information with generation-based models for coherent and\\ncontext-aware responses. This hybrid method helps mitigate issues\\nrelated to outdated data and enhances the model’s ability to provide\\naccurate and relevant information.\\nTo further advance beyond the traditional RAG framework, Graph-\\nRAG introduces a novel enhancement by integrating knowledge\\ngraphs (KGs). By leveraging the structured relationships and rich\\nsemantics within knowledge graphs, GraphRAG not only improves\\nthe retrieval process but also enables more nuanced and contextu-\\nally aware responses. This incorporation of KGs allows the model\\nto understand complex queries better and provide more detailed\\nand interconnected information, thereby pushing the boundaries\\nof what RAG frameworks can achieve.\\nKG is a structured representation of knowledge that captures\\nrelationships between data points within a specific domain. This\\nstructure is composed of nodes that represent entities and edges\\nthat depict the relationships between these entities, forming an\\ninterconnected information. KGs are effective tools for organizing\\nand integrating vast amounts of data from various sources, enhanc-\\ning the accessibility and usability of this information. They play a\\ncrucial role in improving search engines by providing structured,\\ninterconnected search results, thereby offering users more relevant\\nand comprehensive answers [1, 10]. Moreover, KGs are essential\\nin advancing artificial intelligence applications, including recom-\\nmendation systems and natural language processing, by supplying\\na robust framework for understanding context and semantics. By\\nserving as a structured source of information, KGs help reduce\\nhallucinations in LLMs, leading to more accurate and reliable out-\\nputs [6, 15].\\narXiv:2409.17580v1  [cs.IR]  26 Sep 2024'"
      ]
     },
     "execution_count": 33,
     "metadata": {},
     "output_type": "execute_result"
    }
   ],
   "source": [
    "docs[0].page_content"
   ]
  },
  {
   "cell_type": "code",
   "execution_count": 34,
   "id": "4bda98be",
   "metadata": {},
   "outputs": [],
   "source": [
    "from langchain_text_splitters import RecursiveCharacterTextSplitter\n",
    "\n",
    "text_splitter = RecursiveCharacterTextSplitter(\n",
    "    chunk_size = 2500,\n",
    "    chunk_overlap = 100,\n",
    "    is_separator_regex=False\n",
    ")"
   ]
  },
  {
   "cell_type": "code",
   "execution_count": 35,
   "id": "b48840dc",
   "metadata": {},
   "outputs": [],
   "source": [
    "splitted_docs = text_splitter.split_documents(docs)"
   ]
  },
  {
   "cell_type": "code",
   "execution_count": 36,
   "id": "0a224a8e",
   "metadata": {},
   "outputs": [
    {
     "name": "stderr",
     "output_type": "stream",
     "text": [
      "C:\\Users\\Hasnainali659\\AppData\\Local\\Temp\\ipykernel_23452\\2810778682.py:8: LangChainDeprecationWarning: The class `HuggingFaceBgeEmbeddings` was deprecated in LangChain 0.2.2 and will be removed in 1.0. An updated version of the class exists in the :class:`~langchain-huggingface package and should be used instead. To use it run `pip install -U :class:`~langchain-huggingface` and import as `from :class:`~langchain_huggingface import HuggingFaceEmbeddings``.\n",
      "  embedding = HuggingFaceBgeEmbeddings(\n"
     ]
    }
   ],
   "source": [
    "import torch\n",
    "from langchain_community.embeddings import HuggingFaceBgeEmbeddings\n",
    "\n",
    "model_kwargs = {\"device\": \"cuda\" if torch.cuda.is_available() else \"cpu\"}\n",
    "model_name = \"BAAI/bge-m3\"\n",
    "encode_kwargs = {\"normalize_embeddings\": True}\n",
    "\n",
    "embedding = HuggingFaceBgeEmbeddings(\n",
    "\n",
    "    model_name=model_name,\n",
    "    model_kwargs=model_kwargs,\n",
    "    encode_kwargs=encode_kwargs \n",
    ")"
   ]
  },
  {
   "cell_type": "code",
   "execution_count": 37,
   "id": "4efe5d7a",
   "metadata": {},
   "outputs": [
    {
     "data": {
      "text/plain": [
       "Document(metadata={'producer': 'pdfTeX, Version 3.141592653-2.6-1.40.25 (TeX Live 2023) kpathsea version 6.3.5', 'creator': 'LaTeX with acmart 2023/03/30 v1.90 Typesetting articles for the Association for Computing Machinery and hyperref 2023-04-22 v7.00x Hypertext links for LaTeX', 'creationdate': '2024-09-27T00:30:35+00:00', 'moddate': '2024-09-27T00:30:35+00:00', 'ptex.fullbanner': 'This is pdfTeX, Version 3.141592653-2.6-1.40.25 (TeX Live 2023) kpathsea version 6.3.5', 'subject': '-  Information systems  ->  Database design and models.Information retrieval query processing.-  Computing methodologies  ->  Knowledge representation and reasoning.-  Theory of computation  ->  Data structures design and analysis.', 'title': 'Enhancing Structured-Data Retrieval with GraphRAG: Soccer Data Case Study', 'trapped': '/False', 'source': 'Docs/GraphRAG_for_structured_data_1.pdf', 'total_pages': 8, 'page': 0, 'page_label': '1'}, page_content='Enhancing Structured-Data Retrieval with GraphRAG: Soccer\\nData Case Study\\nZahra Sepasdar\\nForzasys & SimulaMet\\nOslo, Norway\\nzahra.sepasdar@gmail.com\\nSushant Gautam\\nSimulaMet & OsloMet\\nOslo, Norway\\nsushant@simula.no\\nCise Midoglu\\nSimulaMet\\nOslo, Norway\\ncise@simula.no\\nMichael A. Riegler\\nSimulaMet & OsloMet\\nOslo, Norway\\nmichael@simula.no\\nPål Halvorsen\\nSimulaMet, Forzasys & OsloMet\\nOslo, Norway\\npaalh@simula.no\\nABSTRACT\\nExtracting meaningful insights from large and complex datasets\\nposes significant challenges, particularly in ensuring the accuracy\\nand relevance of retrieved information. Traditional data retrieval\\nmethods such as sequential search and index-based retrieval often\\nfail when handling intricate and interconnected data structures,\\nresulting in incomplete or misleading outputs. To overcome these\\nlimitations, we introduce Structured-GraphRAG, a versatile frame-\\nwork designed to enhance information retrieval across structured\\ndatasets in natural language queries. Structured-GraphRAG utilizes\\nmultiple knowledge graphs, which represent data in a structured for-\\nmat and capture complex relationships between entities, enabling\\na more nuanced and comprehensive retrieval of information. This\\ngraph-based approach reduces the risk of errors in language model\\noutputs by grounding responses in a structured format, thereby en-\\nhancing the reliability of results. We demonstrate the effectiveness\\nof Structured-GraphRAG by comparing its performance with that of\\na recently published method using traditional retrieval-augmented\\ngeneration. Our findings show that Structured-GraphRAG signifi-\\ncantly improves query processing efficiency and reduces response\\ntimes. While our case study focuses on soccer data, the framework’s\\ndesign is broadly applicable, offering a powerful tool for data anal-\\nysis and enhancing language model applications across various\\nstructured domains.\\nCCS CONCEPTS\\n• Information systems →Database design and models; Informa-\\ntion retrieval query processing ; • Computing methodologies\\n→Knowledge representation and reasoning; • Theory of computa-\\ntion →Data structures design and analysis.\\nKEYWORDS\\nKnowledge Graphs, Large Language Models, Retrieval Augmented\\nGeneration, Soccer\\n1 INTRODUCTION AND RELATED WORK\\nAs digital content continues to expand rapidly, the need for ad-\\nvanced retrieval systems has become more critical. Users increas-\\ningly prefer to interact with these systems through natural language')"
      ]
     },
     "execution_count": 37,
     "metadata": {},
     "output_type": "execute_result"
    }
   ],
   "source": [
    "splitted_docs[0]"
   ]
  },
  {
   "cell_type": "code",
   "execution_count": 38,
   "id": "18feab1c",
   "metadata": {},
   "outputs": [],
   "source": [
    "from langchain_qdrant import Qdrant\n",
    "from qdrant_client import QdrantClient, models\n",
    "import uuid\n",
    "\n",
    "collection_name = \"analytix_camp\"\n",
    "url = \"http://localhost:6333\"\n",
    "\n",
    "file_uuid = uuid.uuid4()\n",
    "\n",
    "document_with_payload = []\n",
    "\n",
    "for chunk in splitted_docs:\n",
    "    chunk.metadata[\"user_name\"] = \"Hasnain Ali Poonja\"\n",
    "    chunk.metadata[\"file_uuid\"] = file_uuid\n",
    "    chunk.metadata[\"no of pages\"] = len(docs) \n",
    "\n",
    "    document_with_payload.append(chunk)"
   ]
  },
  {
   "cell_type": "code",
   "execution_count": 43,
   "id": "df6d91cf",
   "metadata": {},
   "outputs": [
    {
     "data": {
      "text/plain": [
       "[Document(metadata={'producer': 'pdfTeX, Version 3.141592653-2.6-1.40.25 (TeX Live 2023) kpathsea version 6.3.5', 'creator': 'LaTeX with acmart 2023/03/30 v1.90 Typesetting articles for the Association for Computing Machinery and hyperref 2023-04-22 v7.00x Hypertext links for LaTeX', 'creationdate': '2024-09-27T00:30:35+00:00', 'moddate': '2024-09-27T00:30:35+00:00', 'ptex.fullbanner': 'This is pdfTeX, Version 3.141592653-2.6-1.40.25 (TeX Live 2023) kpathsea version 6.3.5', 'subject': '-  Information systems  ->  Database design and models.Information retrieval query processing.-  Computing methodologies  ->  Knowledge representation and reasoning.-  Theory of computation  ->  Data structures design and analysis.', 'title': 'Enhancing Structured-Data Retrieval with GraphRAG: Soccer Data Case Study', 'trapped': '/False', 'source': 'Docs/GraphRAG_for_structured_data_1.pdf', 'total_pages': 8, 'page': 0, 'page_label': '1', 'user_name': 'Hasnain Ali Poonja', 'file_uuid': UUID('aabbc23d-192f-44af-9c34-32eff14d8d4f'), 'no of pages': 8}, page_content='Enhancing Structured-Data Retrieval with GraphRAG: Soccer\\nData Case Study\\nZahra Sepasdar\\nForzasys & SimulaMet\\nOslo, Norway\\nzahra.sepasdar@gmail.com\\nSushant Gautam\\nSimulaMet & OsloMet\\nOslo, Norway\\nsushant@simula.no\\nCise Midoglu\\nSimulaMet\\nOslo, Norway\\ncise@simula.no\\nMichael A. Riegler\\nSimulaMet & OsloMet\\nOslo, Norway\\nmichael@simula.no\\nPål Halvorsen\\nSimulaMet, Forzasys & OsloMet\\nOslo, Norway\\npaalh@simula.no\\nABSTRACT\\nExtracting meaningful insights from large and complex datasets\\nposes significant challenges, particularly in ensuring the accuracy\\nand relevance of retrieved information. Traditional data retrieval\\nmethods such as sequential search and index-based retrieval often\\nfail when handling intricate and interconnected data structures,\\nresulting in incomplete or misleading outputs. To overcome these\\nlimitations, we introduce Structured-GraphRAG, a versatile frame-\\nwork designed to enhance information retrieval across structured\\ndatasets in natural language queries. Structured-GraphRAG utilizes\\nmultiple knowledge graphs, which represent data in a structured for-\\nmat and capture complex relationships between entities, enabling\\na more nuanced and comprehensive retrieval of information. This\\ngraph-based approach reduces the risk of errors in language model\\noutputs by grounding responses in a structured format, thereby en-\\nhancing the reliability of results. We demonstrate the effectiveness\\nof Structured-GraphRAG by comparing its performance with that of\\na recently published method using traditional retrieval-augmented\\ngeneration. Our findings show that Structured-GraphRAG signifi-\\ncantly improves query processing efficiency and reduces response\\ntimes. While our case study focuses on soccer data, the framework’s\\ndesign is broadly applicable, offering a powerful tool for data anal-\\nysis and enhancing language model applications across various\\nstructured domains.\\nCCS CONCEPTS\\n• Information systems →Database design and models; Informa-\\ntion retrieval query processing ; • Computing methodologies\\n→Knowledge representation and reasoning; • Theory of computa-\\ntion →Data structures design and analysis.\\nKEYWORDS\\nKnowledge Graphs, Large Language Models, Retrieval Augmented\\nGeneration, Soccer\\n1 INTRODUCTION AND RELATED WORK\\nAs digital content continues to expand rapidly, the need for ad-\\nvanced retrieval systems has become more critical. Users increas-\\ningly prefer to interact with these systems through natural language'),\n",
       " Document(metadata={'producer': 'pdfTeX, Version 3.141592653-2.6-1.40.25 (TeX Live 2023) kpathsea version 6.3.5', 'creator': 'LaTeX with acmart 2023/03/30 v1.90 Typesetting articles for the Association for Computing Machinery and hyperref 2023-04-22 v7.00x Hypertext links for LaTeX', 'creationdate': '2024-09-27T00:30:35+00:00', 'moddate': '2024-09-27T00:30:35+00:00', 'ptex.fullbanner': 'This is pdfTeX, Version 3.141592653-2.6-1.40.25 (TeX Live 2023) kpathsea version 6.3.5', 'subject': '-  Information systems  ->  Database design and models.Information retrieval query processing.-  Computing methodologies  ->  Knowledge representation and reasoning.-  Theory of computation  ->  Data structures design and analysis.', 'title': 'Enhancing Structured-Data Retrieval with GraphRAG: Soccer Data Case Study', 'trapped': '/False', 'source': 'Docs/GraphRAG_for_structured_data_1.pdf', 'total_pages': 8, 'page': 0, 'page_label': '1', 'user_name': 'Hasnain Ali Poonja', 'file_uuid': UUID('aabbc23d-192f-44af-9c34-32eff14d8d4f'), 'no of pages': 8}, page_content='ingly prefer to interact with these systems through natural language\\nqueries—posing questions as they would to another person—making\\nit essential for retrieval technologies to understand and process\\nlanguage in a human-like manner [ 4, 5]. Large language models\\n(LLMs) are integral to these systems for interpreting user queries ac-\\ncurately. However, LLMs face several challenges that impact their\\nability to retrieve relevant information effectively. Firstly, these\\nmodels often struggle to fully comprehend the context embedded\\nwithin questions, which can lead to responses that do not align\\nprecisely with the user’s intentions. Furthermore, language models\\nencounter challenges related to \"hallucinating\" information, i.e.,\\ngenerating entirely fictional facts. Another issue is that the train-\\ning datasets may not be updated regularly, potentially leading to\\nincorrect outputs. To address these challenges, one effective ap-\\nproach is using Retrieval-Augmented Generation (RAG), which\\nintegrates the advantages of retrieval-based methods to access up-\\nto-date information with generation-based models for coherent and\\ncontext-aware responses. This hybrid method helps mitigate issues\\nrelated to outdated data and enhances the model’s ability to provide\\naccurate and relevant information.\\nTo further advance beyond the traditional RAG framework, Graph-\\nRAG introduces a novel enhancement by integrating knowledge\\ngraphs (KGs). By leveraging the structured relationships and rich\\nsemantics within knowledge graphs, GraphRAG not only improves\\nthe retrieval process but also enables more nuanced and contextu-\\nally aware responses. This incorporation of KGs allows the model\\nto understand complex queries better and provide more detailed\\nand interconnected information, thereby pushing the boundaries\\nof what RAG frameworks can achieve.\\nKG is a structured representation of knowledge that captures\\nrelationships between data points within a specific domain. This\\nstructure is composed of nodes that represent entities and edges\\nthat depict the relationships between these entities, forming an\\ninterconnected information. KGs are effective tools for organizing\\nand integrating vast amounts of data from various sources, enhanc-\\ning the accessibility and usability of this information. They play a\\ncrucial role in improving search engines by providing structured,\\ninterconnected search results, thereby offering users more relevant\\nand comprehensive answers [1, 10]. Moreover, KGs are essential'),\n",
       " Document(metadata={'producer': 'pdfTeX, Version 3.141592653-2.6-1.40.25 (TeX Live 2023) kpathsea version 6.3.5', 'creator': 'LaTeX with acmart 2023/03/30 v1.90 Typesetting articles for the Association for Computing Machinery and hyperref 2023-04-22 v7.00x Hypertext links for LaTeX', 'creationdate': '2024-09-27T00:30:35+00:00', 'moddate': '2024-09-27T00:30:35+00:00', 'ptex.fullbanner': 'This is pdfTeX, Version 3.141592653-2.6-1.40.25 (TeX Live 2023) kpathsea version 6.3.5', 'subject': '-  Information systems  ->  Database design and models.Information retrieval query processing.-  Computing methodologies  ->  Knowledge representation and reasoning.-  Theory of computation  ->  Data structures design and analysis.', 'title': 'Enhancing Structured-Data Retrieval with GraphRAG: Soccer Data Case Study', 'trapped': '/False', 'source': 'Docs/GraphRAG_for_structured_data_1.pdf', 'total_pages': 8, 'page': 0, 'page_label': '1', 'user_name': 'Hasnain Ali Poonja', 'file_uuid': UUID('aabbc23d-192f-44af-9c34-32eff14d8d4f'), 'no of pages': 8}, page_content='and comprehensive answers [1, 10]. Moreover, KGs are essential\\nin advancing artificial intelligence applications, including recom-\\nmendation systems and natural language processing, by supplying\\na robust framework for understanding context and semantics. By\\nserving as a structured source of information, KGs help reduce\\nhallucinations in LLMs, leading to more accurate and reliable out-\\nputs [6, 15].\\narXiv:2409.17580v1  [cs.IR]  26 Sep 2024'),\n",
       " Document(metadata={'producer': 'pdfTeX, Version 3.141592653-2.6-1.40.25 (TeX Live 2023) kpathsea version 6.3.5', 'creator': 'LaTeX with acmart 2023/03/30 v1.90 Typesetting articles for the Association for Computing Machinery and hyperref 2023-04-22 v7.00x Hypertext links for LaTeX', 'creationdate': '2024-09-27T00:30:35+00:00', 'moddate': '2024-09-27T00:30:35+00:00', 'ptex.fullbanner': 'This is pdfTeX, Version 3.141592653-2.6-1.40.25 (TeX Live 2023) kpathsea version 6.3.5', 'subject': '-  Information systems  ->  Database design and models.Information retrieval query processing.-  Computing methodologies  ->  Knowledge representation and reasoning.-  Theory of computation  ->  Data structures design and analysis.', 'title': 'Enhancing Structured-Data Retrieval with GraphRAG: Soccer Data Case Study', 'trapped': '/False', 'source': 'Docs/GraphRAG_for_structured_data_1.pdf', 'total_pages': 8, 'page': 1, 'page_label': '2', 'user_name': 'Hasnain Ali Poonja', 'file_uuid': UUID('aabbc23d-192f-44af-9c34-32eff14d8d4f'), 'no of pages': 8}, page_content='Zahra Sepasdar, Sushant Gautam, Cise Midoglu, Michael A. Riegler, and Pål Halvorsen\\nUnlike RAG, which primarily focuses on retrieving relevant data\\nwithout explicitly modeling the connections between pieces of in-\\nformation, GraphRAG uses KGs to capture the relationships and\\ndependencies among data points. This approach allows for a deeper\\nunderstanding of the retrieved information, leading to more accu-\\nrate and context-aware responses. By structuring knowledge in a\\ngraph format, GraphRAG can reason over interconnected data, pro-\\nviding richer insights and more coherent outputs [9]. This method\\ninvolves a retrieval module that sources additional data from exter-\\nnal repositories, creating a \"grounding context\" that is integrated\\ninto the LLM’s prompt. By incorporating this context, the model can\\ngenerate responses that are not only more accurate but also more\\nrelevant to specific queries [3, 16]. In GraphRAG, the integration of\\nKGs with LLMs significantly boosts their accuracy and reliability,\\nensuring that the outputs are both precise and trustworthy [8].\\nIt is worth noting that while RAG systems based on SQL are\\nhighly capable, the advantages of using a graph-based structure\\nare: more accurate responses and reduced retrieval times. In fields\\nsuch as digital content creation, news generation, and chatbots (like\\nthe current study) the ability to provide correct answers is crucial,\\nparticularly because language models can sometimes generate hal-\\nlucinations. One of the key strengths of a graph-based approach is\\nthat it adds a greater level of detail to the dataset. This additional\\nlayer enables better data representation and helps mitigate hallu-\\ncinations by improving the model’s ability to find relevant and\\naccurate connections. Furthermore, graph structures make it easier\\nto identify nodes and their related edges, which streamlines data\\nretrieval and results in shorter response times. The combination of\\nimproved accuracy and faster response times is a major reason for\\nthe growing interest in graph-based systems for language models.\\nThese systems are particularly effective in applications where accu-\\nracy and timeliness are critical, providing a robust solution to some\\nof the limitations inherent in more traditional retrieval methods.\\nApplying GraphRAG models requires the expertise of a graph\\ntheory specialist to construct KGs tailored to each dataset. In this pa-\\nper, we introduce a novel framework called Structured-GraphRAG,'),\n",
       " Document(metadata={'producer': 'pdfTeX, Version 3.141592653-2.6-1.40.25 (TeX Live 2023) kpathsea version 6.3.5', 'creator': 'LaTeX with acmart 2023/03/30 v1.90 Typesetting articles for the Association for Computing Machinery and hyperref 2023-04-22 v7.00x Hypertext links for LaTeX', 'creationdate': '2024-09-27T00:30:35+00:00', 'moddate': '2024-09-27T00:30:35+00:00', 'ptex.fullbanner': 'This is pdfTeX, Version 3.141592653-2.6-1.40.25 (TeX Live 2023) kpathsea version 6.3.5', 'subject': '-  Information systems  ->  Database design and models.Information retrieval query processing.-  Computing methodologies  ->  Knowledge representation and reasoning.-  Theory of computation  ->  Data structures design and analysis.', 'title': 'Enhancing Structured-Data Retrieval with GraphRAG: Soccer Data Case Study', 'trapped': '/False', 'source': 'Docs/GraphRAG_for_structured_data_1.pdf', 'total_pages': 8, 'page': 1, 'page_label': '2', 'user_name': 'Hasnain Ali Poonja', 'file_uuid': UUID('aabbc23d-192f-44af-9c34-32eff14d8d4f'), 'no of pages': 8}, page_content='per, we introduce a novel framework called Structured-GraphRAG,\\nspecifically designed to enhance data retrieval across various struc-\\ntured datasets. Structured data refers to datasets that adhere to a\\npredefined format, which can be efficiently managed and queried\\nusing SQL. Our approach presents a novel method for automatically\\ngenerating KGs from structured datasets. This innovation removes\\nthe need for specialized, enabling a broader range of users to ana-\\nlyze data or build chatbots from structured data without requiring\\ndeep expertise in graph theory. Theroperty is the key advance-\\nment of our Structured-GraphRAG framework. To demonstrate the\\ncapabilities of Structured-GraphRAG, we applied it to the soccer\\ndata from the SoccerNet dataset [ 7]. By constructing KGs from\\nthis dataset, Structured-GraphRAG improves both the precision\\nand ease of process in natural language queries. The results of our\\nexperiments show that compared to traditional RAG methods ap-\\nplied to the same dataset [17], Structured-GraphRAG offers several\\nkey advantages. Notably, the structured nature of KGs significantly\\nreduces the incidence of hallucinations in LLMs, thereby enhancing\\nthe reliability and accuracy of the outputs. Moreover, the graph-\\nbased architecture of our framework facilitates faster data retrieval,\\noptimizing query performance and reducing response times. While\\nour initial demonstration of Structured-GraphRAG ’s effectiveness\\nis based on soccer data, the framework is designed to be adaptable\\nto any structured dataset, making it a versatile tool for a broad\\nrange of applications.\\nA key challenge with existing graph-based approaches, such as\\nGraphRAG, is that they often require a domain expert to meticu-\\nlously design the KGs tailored to the specific data source to achieve\\noptimal results. Without this specialized input, these methods may\\nnot perform better than non-graph-based approaches, limiting their\\nutility. To address this limitation in data analysis, our paper provides\\na comprehensive explanation of how to systematically construct\\ngraphs from structured data sources. We propose a novel method\\nfor generating KGs from structured datasets, using the SoccerNet\\ndataset as a practical example. This method not only simplifies\\nthe process of creating graphs but also demonstrates the broader\\napplicability of our approach to a wide range of structured data.\\nBy providing a clear methodology for graph construction, we aim'),\n",
       " Document(metadata={'producer': 'pdfTeX, Version 3.141592653-2.6-1.40.25 (TeX Live 2023) kpathsea version 6.3.5', 'creator': 'LaTeX with acmart 2023/03/30 v1.90 Typesetting articles for the Association for Computing Machinery and hyperref 2023-04-22 v7.00x Hypertext links for LaTeX', 'creationdate': '2024-09-27T00:30:35+00:00', 'moddate': '2024-09-27T00:30:35+00:00', 'ptex.fullbanner': 'This is pdfTeX, Version 3.141592653-2.6-1.40.25 (TeX Live 2023) kpathsea version 6.3.5', 'subject': '-  Information systems  ->  Database design and models.Information retrieval query processing.-  Computing methodologies  ->  Knowledge representation and reasoning.-  Theory of computation  ->  Data structures design and analysis.', 'title': 'Enhancing Structured-Data Retrieval with GraphRAG: Soccer Data Case Study', 'trapped': '/False', 'source': 'Docs/GraphRAG_for_structured_data_1.pdf', 'total_pages': 8, 'page': 1, 'page_label': '2', 'user_name': 'Hasnain Ali Poonja', 'file_uuid': UUID('aabbc23d-192f-44af-9c34-32eff14d8d4f'), 'no of pages': 8}, page_content='By providing a clear methodology for graph construction, we aim\\nto make advanced data retrieval and analysis accessible to a wider\\naudience, beyond those with specific graph expertise.\\nThe structure of the paper is as follows: we introduce Structured-\\nGraphRAG in Section 2. Section 3 describes our source dataset. In\\nSection 4, we explain how to create KGs for structured data. In\\nSection 5, our framework is illustrated with a comprehensive exam-\\nple. Section 6 presents evaluations of the framework performance.\\nSection 7 discusses the weaknesses and strengths of the method,\\nand Section 8 concludes the paper.\\n2 INTRODUCTION TO\\nSTRUCTURED-GRAPHRAG\\nThis section describes the methodology of our framework and its\\noperation in response to user queries. To begin using the framework,\\nthe initial step is to create KGs from the source dataset. A complete\\nexplanation of the KGs structures is provided in Section 4. For now,\\nlet’s assume the KGs have been created, and we want to utilize\\nthem. These KGs are designed to provide accurate and detailed\\ninformation from the source dataset and are stored in a graph\\ndatabase such as Neo4j. In this research, we employed the Neo4j\\nPython driver to establish and manage connections with the Neo4j\\ndatabase, enabling efficient query execution and manipulation of\\ngraph data. This integration is part of our Python-based analytical\\nframework.\\nOnce the KGs are set up, the system is prepared for user interac-\\ntion. When a user asks a question, Structured-GraphRAG processes\\nthis query using an LLM. The LLM translates the user’s natural\\nlanguage query into a Cypher query, which is a specialized query\\nlanguage for interacting with graph databases. The Cypher query\\nis then used by a smart search tool, which navigates through the\\ngraph database to identify relevant nodes and edges, effectively\\npinpointing the most pertinent pieces of information from the con-\\nstructed KGs. This process allows the system to extract specific data\\npoints and relationships that directly address the user’s query. After\\nretrieving this data, the system combines it with the context of the\\nuser’s original question and re-inputs it into the LLM. The LLM\\nutilizes this combined information to generate a comprehensive and\\nnuanced response, providing the user with a detailed answer that\\nis both accurate and informative. Figure 1 illustrates the complete\\nprocess, from query to the final response.'),\n",
       " Document(metadata={'producer': 'pdfTeX, Version 3.141592653-2.6-1.40.25 (TeX Live 2023) kpathsea version 6.3.5', 'creator': 'LaTeX with acmart 2023/03/30 v1.90 Typesetting articles for the Association for Computing Machinery and hyperref 2023-04-22 v7.00x Hypertext links for LaTeX', 'creationdate': '2024-09-27T00:30:35+00:00', 'moddate': '2024-09-27T00:30:35+00:00', 'ptex.fullbanner': 'This is pdfTeX, Version 3.141592653-2.6-1.40.25 (TeX Live 2023) kpathsea version 6.3.5', 'subject': '-  Information systems  ->  Database design and models.Information retrieval query processing.-  Computing methodologies  ->  Knowledge representation and reasoning.-  Theory of computation  ->  Data structures design and analysis.', 'title': 'Enhancing Structured-Data Retrieval with GraphRAG: Soccer Data Case Study', 'trapped': '/False', 'source': 'Docs/GraphRAG_for_structured_data_1.pdf', 'total_pages': 8, 'page': 2, 'page_label': '3', 'user_name': 'Hasnain Ali Poonja', 'file_uuid': UUID('aabbc23d-192f-44af-9c34-32eff14d8d4f'), 'no of pages': 8}, page_content='Enhancing Structured-Data Retrieval with GraphRAG: Soccer Data Case Study\\nFigure 1: Framework overview.\\nIn summary, our framework operates through a series of steps\\ndesigned to maximize the efficiency and accuracy of information\\nretrieval and response generation:\\nStep 1. KGs Construction: The framework begins by con-\\nstructing KGs from the dataset, which are then stored within a\\ngraph database.\\nStep 2. Query Translation: When a user submits a query, the\\nsystem translates it into Cypher queries to interact with the graph\\ndatabase effectively.\\nStep 3. Information Retrieval: These Cypher queries are\\nemployed to navigate the graph database, extracting relevant nodes\\nand edges that provide the necessary information.\\nStep 4. Answer Generation: Finally, the LLM uses the retrieved\\ngraph data, combined with the context of the original user query,\\nto generate a detailed and accurate response.\\nThis methodology leverages advanced LLMs and graph technol-\\nogy to develop a dynamic system that provides precise, relevant,\\nand comprehensive answers to user queries about dataset sources.\\nIt is important to clarify that we use OpenAI’s GPT-3 [13] and GPT-\\n4 [14] because other emerging models, such as Llama 2 [12, 18] and\\nMistral-7B [11], lack the advanced function-calling capabilities nec-\\nessary for integrating language models with external tools. While\\nfine-tuning these models might improve their functionality, it is a\\nresource-intensive and time-consuming process. Therefore, GPT-3\\nand GPT-4 provide a more reliable and efficient solution for the\\nobjectives of this research.\\n3 SHOWCASE STUDY: SOCCER DATA\\nTo demonstrate the performance and effectiveness of our frame-\\nwork, we use soccer data from SoccerNet [2, 7], an extensive dataset\\ndesigned for the analysis and understanding of soccer videos. Ta-\\nble 1 summarizes the source dataset, detailing sub-datasets, divi-\\nsions, corresponding files, and data types. In this section, we pro-\\nvide a comprehensive description of the data structure to enhance\\nunderstanding of the KGs construction process. This detailed expla-\\nnation ensures the methodology behind the graph’s architecture is\\ntransparent and reproducible, facilitating further research.\\nSource Dataset Corresponding File(s) TypeSub-dataset Division\\nLabels - Labels-v2.json Structured\\nCaptions Players Labels-caption.json Structured\\nAnnotations Labels-caption.json Unstructured\\nTable 1: Summary of the source dataset.\\nLabel Dataset: The structure of the data in the Labels file is'),\n",
       " Document(metadata={'producer': 'pdfTeX, Version 3.141592653-2.6-1.40.25 (TeX Live 2023) kpathsea version 6.3.5', 'creator': 'LaTeX with acmart 2023/03/30 v1.90 Typesetting articles for the Association for Computing Machinery and hyperref 2023-04-22 v7.00x Hypertext links for LaTeX', 'creationdate': '2024-09-27T00:30:35+00:00', 'moddate': '2024-09-27T00:30:35+00:00', 'ptex.fullbanner': 'This is pdfTeX, Version 3.141592653-2.6-1.40.25 (TeX Live 2023) kpathsea version 6.3.5', 'subject': '-  Information systems  ->  Database design and models.Information retrieval query processing.-  Computing methodologies  ->  Knowledge representation and reasoning.-  Theory of computation  ->  Data structures design and analysis.', 'title': 'Enhancing Structured-Data Retrieval with GraphRAG: Soccer Data Case Study', 'trapped': '/False', 'source': 'Docs/GraphRAG_for_structured_data_1.pdf', 'total_pages': 8, 'page': 2, 'page_label': '3', 'user_name': 'Hasnain Ali Poonja', 'file_uuid': UUID('aabbc23d-192f-44af-9c34-32eff14d8d4f'), 'no of pages': 8}, page_content='Label Dataset: The structure of the data in the Labels file is\\nshown in Figure 2.\\nFigure 2: Samples of data in Labels file.\\nCaption Dataset: The structure of data in the Captions file is\\nshown in Figure 3. The format of the player data in Caption file\\nFigure 3: Captions file.\\n(Line 8 of Figure 3) is depicted in Figure 4. As you see in Figure 4,\\nfact of player data consist of different types. These are categorized\\ninto seven types, as detailed in Table 2 (no fact of type 5).\\n4 KG CONSTRUCTION\\nIn this section, we explore a novel approach to transforming struc-\\ntured datasets into KGs. Leveraging the SoccerNet dataset as a'),\n",
       " Document(metadata={'producer': 'pdfTeX, Version 3.141592653-2.6-1.40.25 (TeX Live 2023) kpathsea version 6.3.5', 'creator': 'LaTeX with acmart 2023/03/30 v1.90 Typesetting articles for the Association for Computing Machinery and hyperref 2023-04-22 v7.00x Hypertext links for LaTeX', 'creationdate': '2024-09-27T00:30:35+00:00', 'moddate': '2024-09-27T00:30:35+00:00', 'ptex.fullbanner': 'This is pdfTeX, Version 3.141592653-2.6-1.40.25 (TeX Live 2023) kpathsea version 6.3.5', 'subject': '-  Information systems  ->  Database design and models.Information retrieval query processing.-  Computing methodologies  ->  Knowledge representation and reasoning.-  Theory of computation  ->  Data structures design and analysis.', 'title': 'Enhancing Structured-Data Retrieval with GraphRAG: Soccer Data Case Study', 'trapped': '/False', 'source': 'Docs/GraphRAG_for_structured_data_1.pdf', 'total_pages': 8, 'page': 3, 'page_label': '4', 'user_name': 'Hasnain Ali Poonja', 'file_uuid': UUID('aabbc23d-192f-44af-9c34-32eff14d8d4f'), 'no of pages': 8}, page_content='Zahra Sepasdar, Sushant Gautam, Cise Midoglu, Michael A. Riegler, and Pål Halvorsen\\nFigure 4: Samples of Players Data.\\nType Description\\n1 Relates to yellow cards\\n2 Relates to red cards\\n3 Relates to goals\\n4 Relates to own goals\\n6 & 7 Related to substitutions\\n8 Indicates who assisted the goal\\nTable 2: Description of Fact Types.\\nprimary example, we demonstrate how this methodology can be\\ngeneralized to any dataset that is organized in a tabular format. By\\nconverting structured data into a KG, we aim to provide a flexible\\nframework that reveals the complex relationships and deeper in-\\nsights within the data, which are often not immediately apparent\\nin traditional formats. This approach not only facilitates enhanced\\ndata visualization and analysis but also opens up new possibilities\\nfor uncovering meaningful connections across diverse domains.\\nFor each game, we work with two separate datasets: Labels\\nand Captions-Players. We generate a unique KG for each of these\\ndatasets to capture the distinct information they contain.\\n4.1 Game & Team Nodes\\nEach game in the dataset is represented as a node, labeled as Game,\\nwith its attributes obtained from Figure 3. An example of such a\\nnode and its attributes is illustrated in Figure 5, which shows the\\nChelsea vs. Crystal Palace game. Each team is represented by a\\nnode with two attributes league, and season. Figure 6 shows an\\nexample of a team node for Bayer Leverkusen.\\nEach team is connected to the corresponding game with an edge\\nnamed PARTICIPATED_IN. Additionally, each team is connected to\\nthe game by an edge named HOME_TEAM or AWAY_TEAM, depending\\non whether the team is hosting. If the result of the game is not\\na draw, then two additional edges named WINNER and LOSER are\\nadded. Refer to Figure 7 to see the connections between the game\\nand the teams for the Chelsea vs. Crystal Palace game.\\nFigure 5: An example of Game node.\\nFigure 6: An example of Team node.\\nFigure 7: An example of Game and Team connections.\\n4.2 Labels KG Construction\\nEach entry in the Label file represents a node with the label Event,\\nwhere the node’s name is specified by data.label. For example, Fig-\\nure 8 illustrates a node created for a foul event along with its\\nattributes.\\nFigure 8: An example of Label node.'),\n",
       " Document(metadata={'producer': 'pdfTeX, Version 3.141592653-2.6-1.40.25 (TeX Live 2023) kpathsea version 6.3.5', 'creator': 'LaTeX with acmart 2023/03/30 v1.90 Typesetting articles for the Association for Computing Machinery and hyperref 2023-04-22 v7.00x Hypertext links for LaTeX', 'creationdate': '2024-09-27T00:30:35+00:00', 'moddate': '2024-09-27T00:30:35+00:00', 'ptex.fullbanner': 'This is pdfTeX, Version 3.141592653-2.6-1.40.25 (TeX Live 2023) kpathsea version 6.3.5', 'subject': '-  Information systems  ->  Database design and models.Information retrieval query processing.-  Computing methodologies  ->  Knowledge representation and reasoning.-  Theory of computation  ->  Data structures design and analysis.', 'title': 'Enhancing Structured-Data Retrieval with GraphRAG: Soccer Data Case Study', 'trapped': '/False', 'source': 'Docs/GraphRAG_for_structured_data_1.pdf', 'total_pages': 8, 'page': 4, 'page_label': '5', 'user_name': 'Hasnain Ali Poonja', 'file_uuid': UUID('aabbc23d-192f-44af-9c34-32eff14d8d4f'), 'no of pages': 8}, page_content='Enhancing Structured-Data Retrieval with GraphRAG: Soccer Data Case Study\\nAs shown in Figure 2, data.team can take various categorical val-\\nues. If data.team is not ’not applicable’, the event node is connected\\nto the corresponding team by an edge named ASSOCIATED_TO.\\nEach event node is connected to the correspondent game node with\\nthe edge named IS_PART_OF. Figure 9 illustrates the connections\\nof the event node for Arsenal mach.\\nFigure 9: An example of Event connections.\\n4.3 Captions KG Construction\\nFor each player, a node with label Player is created. An example\\nof a player node and its attributes is illustrated in Figure 10. Each\\nFigure 10: An example of a Player node.\\nplayer is connected to the corresponding game by an edge named\\nPLAYED_IN. Each player is connected to the corresponding team\\nby an edge named PLAYS_FOR. An example of such connections\\nare shown in Figure 11. If the player has data in the fact part, we\\nFigure 11: An example of a Player node connections.\\ncreate additional nodes. As shown in Table 2, there are different\\nfacts types. To explain the construction of the graph, we describe\\nthe method for one of theseFfct s and do not detail the others, as\\nthey can be created similarly.\\nThe structure of fact with Type 1 is presented in Figure 4. As\\nillustrated, \"time\" consists of three elements: first, the exact time\\nevents occurred; second, the name of the player who received the\\nyellow card, and third the reason why the player received the card.\\nWe create one node for Yellow Card with labelFact. An example of\\na Fact node with Type 1 and its attributes is illustrated in Figure 12.\\nEach Fact node is connected to the corresponding game by an\\nFigure 12: An example of Fact node with Type 1.\\nedge named IS_PAR_OF, to the corresponding team by an edge\\nnamed ASSOCIATED_TO, and to the player node by an edge named\\nRECEIVED. These connections are shown in Figure 13.\\nFigure 13: All connections for Yellow Card node.\\nEven though we detailed the process of constructing KGs using\\nthe SoccerNet dataset as a case study, the methodology is not limited\\nto this specific dataset; it is a versatile approach that can be applied\\nto any structured dataset, typically organized in a tabular format.\\nThe core idea is to transform the structured data into a KG by\\nselecting one column (or row) to represent the nodes and using\\nthe remaining columns (or rows) to define the attributes of these\\nnodes. The edges, or the connections between nodes, are then'),\n",
       " Document(metadata={'producer': 'pdfTeX, Version 3.141592653-2.6-1.40.25 (TeX Live 2023) kpathsea version 6.3.5', 'creator': 'LaTeX with acmart 2023/03/30 v1.90 Typesetting articles for the Association for Computing Machinery and hyperref 2023-04-22 v7.00x Hypertext links for LaTeX', 'creationdate': '2024-09-27T00:30:35+00:00', 'moddate': '2024-09-27T00:30:35+00:00', 'ptex.fullbanner': 'This is pdfTeX, Version 3.141592653-2.6-1.40.25 (TeX Live 2023) kpathsea version 6.3.5', 'subject': '-  Information systems  ->  Database design and models.Information retrieval query processing.-  Computing methodologies  ->  Knowledge representation and reasoning.-  Theory of computation  ->  Data structures design and analysis.', 'title': 'Enhancing Structured-Data Retrieval with GraphRAG: Soccer Data Case Study', 'trapped': '/False', 'source': 'Docs/GraphRAG_for_structured_data_1.pdf', 'total_pages': 8, 'page': 4, 'page_label': '5', 'user_name': 'Hasnain Ali Poonja', 'file_uuid': UUID('aabbc23d-192f-44af-9c34-32eff14d8d4f'), 'no of pages': 8}, page_content='nodes. The edges, or the connections between nodes, are then\\ndefined based on the specific relationships pertinent to the dataset’s\\ndomain. For instance, in a healthcare dataset, edges might represent\\nrelationships such as \"diagnosed with, \" \"prescribed, \" or \"related to a\\nsymptom, \" reflecting the unique connections within that context.\\nThis method of converting structured data into a KG allows for a\\ntailored representation of data, where the semantics of the edges are\\nthoughtfully chosen to convey the most meaningful relationships.\\nThis approach enables the transformation of structured data into\\na KG that captures the underlying complexities and interrelations\\ninherent in the data. This not only enhances data visualization\\nand analysis but also unveils hidden patterns and insights that\\nmay remain obscured in traditional tabular formats. Ultimately,'),\n",
       " Document(metadata={'producer': 'pdfTeX, Version 3.141592653-2.6-1.40.25 (TeX Live 2023) kpathsea version 6.3.5', 'creator': 'LaTeX with acmart 2023/03/30 v1.90 Typesetting articles for the Association for Computing Machinery and hyperref 2023-04-22 v7.00x Hypertext links for LaTeX', 'creationdate': '2024-09-27T00:30:35+00:00', 'moddate': '2024-09-27T00:30:35+00:00', 'ptex.fullbanner': 'This is pdfTeX, Version 3.141592653-2.6-1.40.25 (TeX Live 2023) kpathsea version 6.3.5', 'subject': '-  Information systems  ->  Database design and models.Information retrieval query processing.-  Computing methodologies  ->  Knowledge representation and reasoning.-  Theory of computation  ->  Data structures design and analysis.', 'title': 'Enhancing Structured-Data Retrieval with GraphRAG: Soccer Data Case Study', 'trapped': '/False', 'source': 'Docs/GraphRAG_for_structured_data_1.pdf', 'total_pages': 8, 'page': 5, 'page_label': '6', 'user_name': 'Hasnain Ali Poonja', 'file_uuid': UUID('aabbc23d-192f-44af-9c34-32eff14d8d4f'), 'no of pages': 8}, page_content='Zahra Sepasdar, Sushant Gautam, Cise Midoglu, Michael A. Riegler, and Pål Halvorsen\\nthis method provides a powerful tool to derive information from\\nstructured datasets across various domains.\\n5 DETAILED EXAMPLE\\nTo demonstrate retrieval of information from KG structures, we\\nprovide a comprehensive example to illustrate how our framework\\nfunctions in practice and how it leverages the interconnected na-\\nture of KGs to efficiently extract relevant data. By doing so, we\\naim to highlight the advantages of using graph-based approaches\\nfor knowledge representation and retrieval, including enhanced\\nquery capabilities, improved data integration, and more intuitive\\nexploration of complex datasets.\\nExample: Suppose a user submits the following query: \"Give\\nme the total home goals for Bayern Munich in the 2014-15 season. \"\\n• Step 1. The KGs as described in Section 4 are created from\\nthe SoccerNet dataset and stored in Neo4j. It is important to\\nmention that the KGs creation from the dataset occurs only\\nonce, and when using the framework, we actually begin\\nfrom Step 2.\\n• Step 2. To extract relevant information from our KGs, the\\nfirst task is to translate the user query into a format that\\nthe KGs can process. This involves using an LLM to convert\\nthe natural language query into a Cypher query, a special-\\nized language for querying graph databases. In this Cypher\\nquery, elements of the user query are mapped to nodes and\\nedges within the KGs. For instance, ’goal’ is treated as an\\n’Event’ node, ’Bayern Munich’ as a ’Team’ node, and the\\nrelationship between them as an ’ASSOCIATED_TO’ edge.\\nThe Cypher query then searches for a ’Game’ node with\\nthe attributes ’season’ set to 2014-2015 and ’home_team’ as\\nBayern Munich, which is linked to an ’Event’ node via an\\n’IS_PART_OF’ edge. This process is illustrated in Figure 14\\n(Generated Cypher).\\n• Step 3. The Cypher query generated in Step 1 is executed\\nagainst the KG, retrieving the relevant nodes and edges. The\\ndetails of this execution and the retrieved data are provided\\nin the ‘Full Context’ section of Figure 14.\\n• Step 4. Finally, the initial user query, along with the re-\\ntrieved data from the ’Full Context, ’ are fed into the LLM.\\nUsing this combined information, the LLM generates the\\nanswer, which is shown in the ‘Result’ section of Figure 14.\\nFigure 14: Sample of a Q&A application.\\n6 EVALUATION\\nIn this section, we evaluate the performance of Structured-GraphRAG\\nand provide an in-depth analysis. Table 3 highlights a sample set'),\n",
       " Document(metadata={'producer': 'pdfTeX, Version 3.141592653-2.6-1.40.25 (TeX Live 2023) kpathsea version 6.3.5', 'creator': 'LaTeX with acmart 2023/03/30 v1.90 Typesetting articles for the Association for Computing Machinery and hyperref 2023-04-22 v7.00x Hypertext links for LaTeX', 'creationdate': '2024-09-27T00:30:35+00:00', 'moddate': '2024-09-27T00:30:35+00:00', 'ptex.fullbanner': 'This is pdfTeX, Version 3.141592653-2.6-1.40.25 (TeX Live 2023) kpathsea version 6.3.5', 'subject': '-  Information systems  ->  Database design and models.Information retrieval query processing.-  Computing methodologies  ->  Knowledge representation and reasoning.-  Theory of computation  ->  Data structures design and analysis.', 'title': 'Enhancing Structured-Data Retrieval with GraphRAG: Soccer Data Case Study', 'trapped': '/False', 'source': 'Docs/GraphRAG_for_structured_data_1.pdf', 'total_pages': 8, 'page': 5, 'page_label': '6', 'user_name': 'Hasnain Ali Poonja', 'file_uuid': UUID('aabbc23d-192f-44af-9c34-32eff14d8d4f'), 'no of pages': 8}, page_content='and provide an in-depth analysis. Table 3 highlights a sample set\\nof questions derived from the dataset. It is important to note that\\nthe examples listed are not exhaustive, there could be many more\\nexamples for each category. For the purposes of demonstrating\\nthe effectiveness of our approach, we have selected a subset of 10\\nquestions.\\nQ # Category Example\\nQ1 Questions about existence of a team/player\\nin a dataset:\\nIs Manchester United in the database?\\nQ2 Questions about the total home events for a\\nteam in a specific season:\\nGive me the total home goals for Bayern Munich in\\nthe 2014-15 season.\\nQ3 Questions about the home team advantage\\nin a season:\\nCalculate the home advantage for Real Madrid in the\\n2015-16 season.\\nQ4 Questions about the number of goals that a\\nplayer scored in a specific season/league:\\nHow many goals did Messi score in the 2015-16 sea-\\nson?\\nQ5 Questions about the number of yellow card-\\ns/red cards that a player received in a specific\\nseason/league:\\nHow many yellow cards did Enzo Perez get in the\\n15-2016 season?\\nQ6 Questions about all teams that played against\\na specified team in a particular season and\\nleague:\\nList all the teams that played a game against Napoli\\nin the 2016-17 season in Serie A.\\nQ7 Questions about all teams in a specific league,\\nin a specific season:\\nGive all the teams in the league UCL in the 2015-2016\\nseason.\\nQ8 Questions to obtain information from events\\nin the first/second half of a season/league:\\nGive me all games in the EPL with yellow cards in the\\nfirst half in the 2015-2016 season.\\nQ9 Questions to obtain information related to\\nteams of a player:\\nWhat teams and leagues has Adnan Januzaj played\\nin?\\nQ10 Questions about the number of goals in a\\nspecific game in a season/league:\\nHow many goals did E. Hazard score in the game\\nbetween Bournemouth and Chelsea in the 2015-2016\\nseason?\\nQ11 Questions to obtain detailed information\\nabout goals in a specific game within a sea-\\nson or league:\\nWho assisted Marcelo with goals in the 2015-16 sea-\\nson?\\nQ12 Questions about the reason for yellow card-\\ns/red cards that a player received in a specific\\nseason/league:\\nWhy did Enzo Perez get yellow cards in the 2015-2016\\nseason?\\nQ13 Questions about the number of yellow card-\\ns/red cards in a specific season/league:\\nHow many yellow and red cards were given in the\\nUEFA Champions League in 2015-2016, and did any-\\none receive a red card?\\nQ14 Questions to obtain detailed information\\nabout events in a specific game within a sea-\\nson or league:'),\n",
       " Document(metadata={'producer': 'pdfTeX, Version 3.141592653-2.6-1.40.25 (TeX Live 2023) kpathsea version 6.3.5', 'creator': 'LaTeX with acmart 2023/03/30 v1.90 Typesetting articles for the Association for Computing Machinery and hyperref 2023-04-22 v7.00x Hypertext links for LaTeX', 'creationdate': '2024-09-27T00:30:35+00:00', 'moddate': '2024-09-27T00:30:35+00:00', 'ptex.fullbanner': 'This is pdfTeX, Version 3.141592653-2.6-1.40.25 (TeX Live 2023) kpathsea version 6.3.5', 'subject': '-  Information systems  ->  Database design and models.Information retrieval query processing.-  Computing methodologies  ->  Knowledge representation and reasoning.-  Theory of computation  ->  Data structures design and analysis.', 'title': 'Enhancing Structured-Data Retrieval with GraphRAG: Soccer Data Case Study', 'trapped': '/False', 'source': 'Docs/GraphRAG_for_structured_data_1.pdf', 'total_pages': 8, 'page': 5, 'page_label': '6', 'user_name': 'Hasnain Ali Poonja', 'file_uuid': UUID('aabbc23d-192f-44af-9c34-32eff14d8d4f'), 'no of pages': 8}, page_content='about events in a specific game within a sea-\\nson or league:\\nWhich events happened in the game between\\nBournemouth and Chelsea in the 2015-2016 season?\\nQ15 Questions about the dates when a specific\\nevent happened in a given league during a\\nparticular season:\\nMake a list of when corners happened in the English\\nPremier League (EPL) 2015-2016 season.\\nQ16 Questions to obtain information about a\\nplayer:\\nWhat information do you have about Cristiano\\nRonaldo in your dataset?\\nQ17 Questions about referees: Tell me about the games that Atkinson M. was the\\nreferee for.\\nQ18 Questions about coaches: List the names of the coaches for Arsenal.\\nQ19 Questions about venues: Which games are played at Santiago Bernabéu Sta-\\ndium?\\nQ20 Questions about game information:Tell me all information about the game between\\nChelsea and Burnley in 2014-2015.\\nQ21 Questions about determining which team\\nwon more games in a season:\\nWhich team won more games in the 2014-15 season,\\nArsenal or Liverpool?\\nQ22 Questions about the number of games a team\\nwon in a season:\\nHow many games did Arsenal win in the 2014-15\\nseason?\\nQ23 Questions about leagues that involved sev-\\neral teams:\\nWhat league is Manchester United, Arsenal,\\nBournemouth, Real Madrid, Chelsea, and Liverpool\\nin?\\nTable 3: Examples of Different Types of Questions.\\n6.1 Optimal KGs\\nOne of the main advantages of applying graph-based methods is\\nthat the data processing time is significantly shorter compared to\\nother methods. However, this only occurs when the KGs structures\\ncreated from the source dataset are optimal. In this context, an\\noptimal graph is one that contains all relevant information from\\nthe dataset while being organized in a way that minimizes com-\\nplexity. This efficient structure ensures that the system can quickly\\nidentify important nodes and edges without requiring extensive\\ncomputation.'),\n",
       " Document(metadata={'producer': 'pdfTeX, Version 3.141592653-2.6-1.40.25 (TeX Live 2023) kpathsea version 6.3.5', 'creator': 'LaTeX with acmart 2023/03/30 v1.90 Typesetting articles for the Association for Computing Machinery and hyperref 2023-04-22 v7.00x Hypertext links for LaTeX', 'creationdate': '2024-09-27T00:30:35+00:00', 'moddate': '2024-09-27T00:30:35+00:00', 'ptex.fullbanner': 'This is pdfTeX, Version 3.141592653-2.6-1.40.25 (TeX Live 2023) kpathsea version 6.3.5', 'subject': '-  Information systems  ->  Database design and models.Information retrieval query processing.-  Computing methodologies  ->  Knowledge representation and reasoning.-  Theory of computation  ->  Data structures design and analysis.', 'title': 'Enhancing Structured-Data Retrieval with GraphRAG: Soccer Data Case Study', 'trapped': '/False', 'source': 'Docs/GraphRAG_for_structured_data_1.pdf', 'total_pages': 8, 'page': 6, 'page_label': '7', 'user_name': 'Hasnain Ali Poonja', 'file_uuid': UUID('aabbc23d-192f-44af-9c34-32eff14d8d4f'), 'no of pages': 8}, page_content='Enhancing Structured-Data Retrieval with GraphRAG: Soccer Data Case Study\\nIn Section 4, we explained how the KGs are designed to com-\\nprehensively represent all the information in the dataset. However,\\nit is also crucial to demonstrate that these structures, while being\\nhighly informative, are not excessively complex. To illustrate the\\nsimplicity of these graphs, we use the concept density from graph\\ntheory.\\nDefinition: Suppose that 𝐺 = (𝑉,𝐸 )is a directed graph, where\\n|𝑉|represents the number of nodes, and |𝐸|represents the number\\nof edges. The density of 𝐺 is shown by 𝐷(𝐺)and defined as the\\nratio of the number of directed edges to the maximum possible\\nnumber of directed edges.\\n𝐷(𝐺)= |𝐸|\\n|𝑉|×(|𝑉|−1).\\nThe density of a directed graph ranges from 0 to 1, where a lower\\ndensity indicates a graph with fewer edges relative to the number\\nof possible edges, making it simpler and less computationally de-\\nmanding to manage. This simplicity is particularly advantageous\\nwhen working with large datasets, as it allows for faster processing\\nand retrieval of information. In our framework, the low densities\\nof the Labels KG (2.85 ×10−6) and the Captions KG (4.47 ×10−4)\\nindicate that these graphs are sparse, meaning they have very few\\nedges compared to the maximum number of possible edges. Such\\nsparsity is crucial for efficiency because it reduces the computa-\\ntional overhead required to traverse the graph and locate relevant\\nnodes and edges. The sparsity of the Label and Caption KGs ensures\\nthat our framework can quickly identify and retrieve the necessary\\ninformation without being bogged down by an excessive number\\nof irrelevant connections. Therefore, our designed KGs structure\\nsignificantly enhances the system’s performance, enabling it to\\nhandle large-scale data efficiently.\\n6.2 Execution Time\\nAs previously discussed, our KGs are optimal, leading to a sub-\\nstantial reduction in execution time. To illustrate this reduction,\\nwe conduct a performance comparison with a recently published\\npaper [17], which utilized the same dataset as our study. The key\\ndistinction between the two approaches lies in how the data is\\nprocessed: while the authors of [17] analyze the dataset in its raw\\nform, our method first transforms the data into KGs before perform-\\ning analysis. This comparison clearly demonstrates the superior\\nperformance of our KG-based approach in reducing execution time\\ncompared to the direct data analysis method employed in [17].'),\n",
       " Document(metadata={'producer': 'pdfTeX, Version 3.141592653-2.6-1.40.25 (TeX Live 2023) kpathsea version 6.3.5', 'creator': 'LaTeX with acmart 2023/03/30 v1.90 Typesetting articles for the Association for Computing Machinery and hyperref 2023-04-22 v7.00x Hypertext links for LaTeX', 'creationdate': '2024-09-27T00:30:35+00:00', 'moddate': '2024-09-27T00:30:35+00:00', 'ptex.fullbanner': 'This is pdfTeX, Version 3.141592653-2.6-1.40.25 (TeX Live 2023) kpathsea version 6.3.5', 'subject': '-  Information systems  ->  Database design and models.Information retrieval query processing.-  Computing methodologies  ->  Knowledge representation and reasoning.-  Theory of computation  ->  Data structures design and analysis.', 'title': 'Enhancing Structured-Data Retrieval with GraphRAG: Soccer Data Case Study', 'trapped': '/False', 'source': 'Docs/GraphRAG_for_structured_data_1.pdf', 'total_pages': 8, 'page': 6, 'page_label': '7', 'user_name': 'Hasnain Ali Poonja', 'file_uuid': UUID('aabbc23d-192f-44af-9c34-32eff14d8d4f'), 'no of pages': 8}, page_content='compared to the direct data analysis method employed in [17].\\nFor the evaluation, we applied both methods to a series of sam-\\nple queries and measured their execution times. The results are\\npresented in Table 4, where the column indicating percentage im-\\nprovement clearly shows that our KG-based approach consistently\\ndelivers faster response times compared to the method used in [17].\\nThese results highlight the efficiency gains achieved by our frame-\\nwork, demonstrating its ability to process and respond to queries\\nwith significantly greater speed, thereby confirming the superior\\nperformance of Structured-GraphRAG over the direct data analysis\\napproach employed in [17].\\n6.3 Accuracy\\nFor the accuracy evaluation, we designed an experiment to measure\\nthe consistency of the language model’s responses. We posed the\\nQueryTime (Method in [17])Time (Structured-GraphRAG)Percentage Improvement (%)\\nQ1 4.61 1.66 64.00%\\nQ2 22.23 4.00 82.01%\\nQ3 595.98 6.16 98.97%\\nQ4 94.74 2.48 97.38%\\nQ5 49.47 3.40 93.13%\\nQ6 109.46 3.90 96.44%\\nQ7 56.97 3.80 93.33%\\nQ8 106.33 4.80 95.48%\\nQ9 63.60 3.90 93.87%\\nQ10 59.52 6.90 88.41%\\nTable 4: Execution Time Comparison Between Method in\\n[17] and Structured-GraphRAG.\\nset of ten questions to the model five times consecutively, focusing\\non whether it consistently generated the correct answers across\\nall iterations. This repetitive questioning approach is crucial for\\nevaluating how well the model handles hallucination, which is a\\ncommon issue in LLMs. The result of our experiments are indicated\\nin Table 5.\\nThe accuracy percentage is obtained using the formula in Equa-\\ntion 1:\\nAccuracy =\\n\\x12 number of correct answers\\ntotal number of questions\\n\\x13\\n×100. (1)\\nAs we have 10 questions, each asked 5 times, this results in a total\\nof 50 questions. According to Table 5, there are 18 correct answers\\nwhen applying the method from [ 17], resulting in 36% accuracy,\\nand 32 correct answers when applying Structured-GraphRAG, re-\\nsulting in 64% accuracy. Our experimental results demonstrate that\\nthe graph-based approach we employed significantly improves ac-\\ncuracy compared to the method used in [17]. This highlights the\\neffectiveness of integrating graph-based techniques to reduce hal-\\nlucinations and provide more consistent, accurate outputs across\\nmultiple iterations.\\nQuery ↓\\nIteration→\\nMethod in [17] Structured-GraphRAG\\n1 2 3 4 5 1 2 3 4 5\\nQ1 ✓ ✓ ✓ ✓ ✓ ✓ ✓ ✓ ✓ ✓\\nQ2 ✗ ✗ ✓ ✗ ✗ ✓ ✓ ✗ ✓ ✓\\nQ3 ✗ ✓ ✗ ✗ ✓ ✗ ✓ ✗ ✓ ✓\\nQ4 ✗ ✗ ✗ ✗ ✓ ✓ ✓ ✓ ✓ ✓\\nQ5 ✗ ✗ ✗ ✗ ✗ ✓ ✓ ✗ ✓ ✓'),\n",
       " Document(metadata={'producer': 'pdfTeX, Version 3.141592653-2.6-1.40.25 (TeX Live 2023) kpathsea version 6.3.5', 'creator': 'LaTeX with acmart 2023/03/30 v1.90 Typesetting articles for the Association for Computing Machinery and hyperref 2023-04-22 v7.00x Hypertext links for LaTeX', 'creationdate': '2024-09-27T00:30:35+00:00', 'moddate': '2024-09-27T00:30:35+00:00', 'ptex.fullbanner': 'This is pdfTeX, Version 3.141592653-2.6-1.40.25 (TeX Live 2023) kpathsea version 6.3.5', 'subject': '-  Information systems  ->  Database design and models.Information retrieval query processing.-  Computing methodologies  ->  Knowledge representation and reasoning.-  Theory of computation  ->  Data structures design and analysis.', 'title': 'Enhancing Structured-Data Retrieval with GraphRAG: Soccer Data Case Study', 'trapped': '/False', 'source': 'Docs/GraphRAG_for_structured_data_1.pdf', 'total_pages': 8, 'page': 6, 'page_label': '7', 'user_name': 'Hasnain Ali Poonja', 'file_uuid': UUID('aabbc23d-192f-44af-9c34-32eff14d8d4f'), 'no of pages': 8}, page_content='Q2 ✗ ✗ ✓ ✗ ✗ ✓ ✓ ✗ ✓ ✓\\nQ3 ✗ ✓ ✗ ✗ ✓ ✗ ✓ ✗ ✓ ✓\\nQ4 ✗ ✗ ✗ ✗ ✓ ✓ ✓ ✓ ✓ ✓\\nQ5 ✗ ✗ ✗ ✗ ✗ ✓ ✓ ✗ ✓ ✓\\nQ6 ✗ ✗ ✗ ✗ ✓ ✗ ✗ ✗ ✓ ✗\\nQ7 ✓ ✗ ✓ ✗ ✓ ✓ ✗ ✓ ✓ ✗\\nQ8 ✗ ✗ ✗ ✗ ✗ ✗ ✓ ✗ ✗ ✓\\nQ9 ✗ ✓ ✗ ✓ ✗ ✓ ✗ ✓ ✗ ✗\\nQ10 ✗ ✓ ✗ ✓ ✓ ✗ ✓ ✓ ✗ ✓\\nTable 5: Comparison of accuracy between Method in [ 17] and\\nStructured-GraphRAG.'),\n",
       " Document(metadata={'producer': 'pdfTeX, Version 3.141592653-2.6-1.40.25 (TeX Live 2023) kpathsea version 6.3.5', 'creator': 'LaTeX with acmart 2023/03/30 v1.90 Typesetting articles for the Association for Computing Machinery and hyperref 2023-04-22 v7.00x Hypertext links for LaTeX', 'creationdate': '2024-09-27T00:30:35+00:00', 'moddate': '2024-09-27T00:30:35+00:00', 'ptex.fullbanner': 'This is pdfTeX, Version 3.141592653-2.6-1.40.25 (TeX Live 2023) kpathsea version 6.3.5', 'subject': '-  Information systems  ->  Database design and models.Information retrieval query processing.-  Computing methodologies  ->  Knowledge representation and reasoning.-  Theory of computation  ->  Data structures design and analysis.', 'title': 'Enhancing Structured-Data Retrieval with GraphRAG: Soccer Data Case Study', 'trapped': '/False', 'source': 'Docs/GraphRAG_for_structured_data_1.pdf', 'total_pages': 8, 'page': 7, 'page_label': '8', 'user_name': 'Hasnain Ali Poonja', 'file_uuid': UUID('aabbc23d-192f-44af-9c34-32eff14d8d4f'), 'no of pages': 8}, page_content='Zahra Sepasdar, Sushant Gautam, Cise Midoglu, Michael A. Riegler, and Pål Halvorsen\\n7 DISCUSSION\\nIn designing Structured-GraphRAG, a key feature is its ability to\\nidentify and correct inaccuracies in team names, league names, or\\nplayer names caused by user queries. This functionality is crucial\\nas it significantly reduces the occurrence of errors associated with\\nretrieving incorrect data due to input mistakes.\\nWithin the Player-Facts KG structure, some players are repre-\\nsented both as attributes within event nodes and as separate nodes\\nconnected to these events. This design aims to minimize hallucina-\\ntions that can occur when generating Cypher queries with LLMs.\\nThe KGs developed here are dynamic, allowing for updates with\\nnew data and adaptation as new information becomes available\\nregarding game events, players, teams, coaches, referees, and sta-\\ndiums. Additionally, this method for constructing KG structures\\nis flexible and adaptable to various structured datasets, making it\\nsuitable for creating KG structures from different sources.\\nThe Structured-GraphRAG framework presented in this paper is\\nadaptable to various datasets and can be utilized for querying data\\nfrom other datasets. To demonstrate its effectiveness, we applied it\\nto the SoccerNet dataset [7].\\nAs illustrated in Table 5, Structured-GraphRAG outperforms the\\nmethod presented in [17] on Questions 4 and 5. This highlights\\nthe advantage of employing a graph-based approach, where the\\nsmart search efficiently locates nodes with the desired attributes.\\nConsequently, this reduces processing time and enhances answer\\naccuracy. However, for tasks involving listing, the performance\\nof our framework is comparable to that of the method in [17].\\nOne of the challenges in Structured-GraphRAG using LLM lies in\\nhandling questions that ask for lists. In such cases, while the LLM\\ncan generate the correct Cypher query and retrieve all relevant\\nanswers, it often fails to present the complete list.\\nOur results in Figure 14 differ from those obtained through a\\nGoogle search. This discrepancy arises because our dataset is Soc-\\ncerNet, and we have only analyzed games from this specific dataset.\\n8 CONCLUSION\\nIn this paper, we introduced Structured-GraphRAG, a novel frame-\\nwork designed to enhance data retrieval across various structured\\ndatasets by utilizing the capabilities of KGs and graph-based archi-\\ntectures. Our results demonstrate that Structured-GraphRAG not'),\n",
       " Document(metadata={'producer': 'pdfTeX, Version 3.141592653-2.6-1.40.25 (TeX Live 2023) kpathsea version 6.3.5', 'creator': 'LaTeX with acmart 2023/03/30 v1.90 Typesetting articles for the Association for Computing Machinery and hyperref 2023-04-22 v7.00x Hypertext links for LaTeX', 'creationdate': '2024-09-27T00:30:35+00:00', 'moddate': '2024-09-27T00:30:35+00:00', 'ptex.fullbanner': 'This is pdfTeX, Version 3.141592653-2.6-1.40.25 (TeX Live 2023) kpathsea version 6.3.5', 'subject': '-  Information systems  ->  Database design and models.Information retrieval query processing.-  Computing methodologies  ->  Knowledge representation and reasoning.-  Theory of computation  ->  Data structures design and analysis.', 'title': 'Enhancing Structured-Data Retrieval with GraphRAG: Soccer Data Case Study', 'trapped': '/False', 'source': 'Docs/GraphRAG_for_structured_data_1.pdf', 'total_pages': 8, 'page': 7, 'page_label': '8', 'user_name': 'Hasnain Ali Poonja', 'file_uuid': UUID('aabbc23d-192f-44af-9c34-32eff14d8d4f'), 'no of pages': 8}, page_content='tectures. Our results demonstrate that Structured-GraphRAG not\\nonly improves precision and reduces hallucinations in language\\nmodels but also optimizes query performance and reduces response\\ntimes. These advanced data retrieval techniques pave the way for\\napplications in diverse fields, showcasing the versatility and adapt-\\nability of Structured-GraphRAG.\\nAdditionally, by addressing the challenges of traditional graph-\\nbased methods, particularly the need for domain-specific expertise\\nin KG design, we present a more accessible approach to graph\\nconstruction for structured datasets, broadening its usability to a\\nwider range of users.\\nREFERENCES\\n[1] Xiaojun Chen, Shengbin Jia, and Yang Xiang. 2020. A review: Knowledge\\nreasoning over knowledge graphs. Expert Systems with Applications(2020).\\nhttps://doi.org/10.1016/j.eswa.2019.112948\\n[2] Adrien Deliège, Anthony Cioppa, Silvio Giancola, Meisam J. Seikavandi, Ja-\\ncob V. Dueholm, Kamal Nasrollahi, Bernard Ghanem, Thomas B. Moeslund,\\nand Marc Van Droogenbroeck. 2021. SoccerNet-v2: A Dataset and Bench-\\nmarks for Holistic Understanding of Broadcast Soccer Videos. In Conference\\non Computer Vision and Pattern Recognition Workshops. IEEE, 19–25. https:\\n//doi.org/10.1109/CVPRW53098.2021.00508\\n[3] Yunfan Gaoa, Yun Xiongb, Xinyu Gaob, Kangxiang Jiab, Jinliu Panb, Yuxi Bic, Yi\\nDaia, Jiawei Suna, Meng Wangc, and Haofen Wang. 2023. Retrieval-Augmented\\nGeneration for Large Language Models: A Survey. arXiv (2023). https://doi.org/\\n10.48550/arXiv.2312.10997\\n[4] Sushant Gautam. 2023. Bridging Multimedia Modalities: Enhanced Multimodal\\nAI Understanding and Intelligent Agents. In Proceedings of the 25th International\\nConference on Multimodal Interaction (ICMI). ACM, 695–699. https://doi.org/10.\\n1145/3577190.3614225\\n[5] Sushant Gautam, Cise Midoglu, Saeed Shafiee Sabet, Dinesh Baniya Kshatri, and\\nPål Halvorsen. 2022. Assisting Soccer Game Summarization via Audio Intensity\\nAnalysis of Game Highlights. In Proceedings of 12th IOE Graduate Conference.\\nTribhuvan University, 25–32. https://doi.org/10.13140/RG.2.2.34457.70240/1\\n[6] Balloccu Giacomo, Boratto Ludovico, Fenu Gianni, Malloci Francesca Maridina,\\nand Marras Mirko. 2024. Explainable Recommender Systems with Knowledge\\nGraphs and Language Models. Advances in Information Retrieval(2024). https:\\n//doi.org/10.1007/978-3-031-56069-9_46\\n[7] Silvio Giancola, Mohieddine Amine, Tarek Dghaily, and Bernard Ghanem. 2018.'),\n",
       " Document(metadata={'producer': 'pdfTeX, Version 3.141592653-2.6-1.40.25 (TeX Live 2023) kpathsea version 6.3.5', 'creator': 'LaTeX with acmart 2023/03/30 v1.90 Typesetting articles for the Association for Computing Machinery and hyperref 2023-04-22 v7.00x Hypertext links for LaTeX', 'creationdate': '2024-09-27T00:30:35+00:00', 'moddate': '2024-09-27T00:30:35+00:00', 'ptex.fullbanner': 'This is pdfTeX, Version 3.141592653-2.6-1.40.25 (TeX Live 2023) kpathsea version 6.3.5', 'subject': '-  Information systems  ->  Database design and models.Information retrieval query processing.-  Computing methodologies  ->  Knowledge representation and reasoning.-  Theory of computation  ->  Data structures design and analysis.', 'title': 'Enhancing Structured-Data Retrieval with GraphRAG: Soccer Data Case Study', 'trapped': '/False', 'source': 'Docs/GraphRAG_for_structured_data_1.pdf', 'total_pages': 8, 'page': 7, 'page_label': '8', 'user_name': 'Hasnain Ali Poonja', 'file_uuid': UUID('aabbc23d-192f-44af-9c34-32eff14d8d4f'), 'no of pages': 8}, page_content='[7] Silvio Giancola, Mohieddine Amine, Tarek Dghaily, and Bernard Ghanem. 2018.\\nSoccerNet: A Scalable Dataset for Action Spotting in Soccer Videos. InConference\\non Computer Vision and Pattern Recognition Workshops. IEEE, 18–22. https:\\n//doi.org/10.1109/CVPRW.2018.00223\\n[8] Xiaoxin He, Yijun Tian, Yifei Sun, Nitesh V. Chawla, Thomas Laurent, Yann\\nLeCun, Xavier Bresson, and Bryan Hooi. 2024. G-Retriever: Retrieval-Augmented\\nGeneration for Textual Graph Understanding and Question Answering . arXiv\\n(2024). https://doi.org/10.48550/arXiv.2402.07630\\n[9] Yuntong Hu, Zhihan Lei, Zheng Zhang, Bo Pan, Chen Ling, and Liang Zhao. 2023.\\nGRAG: Graph Retrieval-Augmented Generation. Artifcial Intelligence Review\\n(2023). https://doi.org/10.48550/arXiv.2405.16506\\n[10] Shaoxiong Ji, Shirui Pan, Erik Cambria, Pekka Marttinen, and Philip S. Yu. 2022.\\nA Survey on Knowledge Graphs: Representation, Acquisition, and Applications.\\nIEEE Transactions on Neural Networks and Learning Systems(Oct. 2022), 494–514.\\nhttps://doi.org/10.1109/TNNLS.2021.3070843\\n[11] Albert Q. Jiang, Alexandre Sablayrolles, Arthur Mensch, Chris Bamford, De-\\nvendra Singh Chaplot, Diego de las Casas, Florian Bressand, Gianna Lengyel,\\nGuillaume Lample, Lucile Saulnier, Lélio Renard Lavaud, Marie-Anne Lachaux,\\nPierre Stock, Teven Le Scao, Thibaut Lavril, Thomas Wang, Timothée Lacroix,\\nand William El Sayed. 2023. Mistral 7B. arXiv (2023). https://doi.org/10.48550/\\narXiv.2310.06825\\n[12] Meta. 2024. Llama 2. https://llama.meta.com/llama2/ [Accessed: 2024-07-19].\\n[13] OpenAI. 2024. GPT-3.5-Turbo. https://platform.openai.com/docs/models/gpt-3-\\n5-turbo [Accessed: 2024-07-19].\\n[14] OpenAI. 2024. GPT-4. https://openai.com/gpt-4 [Accessed: 2024-07-19].\\n[15] Ciyuan Peng, Feng Xia, Mehdi Naseriparsa, and Francesco Osborne. 2023. Knowl-\\nedge Graphs: Opportunities and Challenges. Artifcial Intelligence Review(2023).\\nhttps://doi.org/10.1007/s10462-023-10465-9\\n[16] Zahra Sepasdar, Sushant Gautam, Cise Midoglu, Michael A. Riegler, and Pål\\nHalvorsen. 2024. Soccer-GraphRAG: Applications of GraphRAG in Soccer. In\\nFirst International Workshop on Graph-Based Approaches in Information Retrieval\\n(IRonGraphs 2024). Springer, Glasgow, Scotland.\\n[17] Aleksander Theo Strand, Sushant Gautam, Cise Midoglu, and Pål Halvorsen.\\n2024. SoccerRAG: Multimodal Soccer Information Retrieval via Natural Queries.\\narXiv (2024). https://doi.org/10.48550/arXiv.2406.01273\\n[18] Hugo Touvron, Louis Martin, Kevin Stone, Peter Albert, Amjad Almahairi, Yas-'),\n",
       " Document(metadata={'producer': 'pdfTeX, Version 3.141592653-2.6-1.40.25 (TeX Live 2023) kpathsea version 6.3.5', 'creator': 'LaTeX with acmart 2023/03/30 v1.90 Typesetting articles for the Association for Computing Machinery and hyperref 2023-04-22 v7.00x Hypertext links for LaTeX', 'creationdate': '2024-09-27T00:30:35+00:00', 'moddate': '2024-09-27T00:30:35+00:00', 'ptex.fullbanner': 'This is pdfTeX, Version 3.141592653-2.6-1.40.25 (TeX Live 2023) kpathsea version 6.3.5', 'subject': '-  Information systems  ->  Database design and models.Information retrieval query processing.-  Computing methodologies  ->  Knowledge representation and reasoning.-  Theory of computation  ->  Data structures design and analysis.', 'title': 'Enhancing Structured-Data Retrieval with GraphRAG: Soccer Data Case Study', 'trapped': '/False', 'source': 'Docs/GraphRAG_for_structured_data_1.pdf', 'total_pages': 8, 'page': 7, 'page_label': '8', 'user_name': 'Hasnain Ali Poonja', 'file_uuid': UUID('aabbc23d-192f-44af-9c34-32eff14d8d4f'), 'no of pages': 8}, page_content='[18] Hugo Touvron, Louis Martin, Kevin Stone, Peter Albert, Amjad Almahairi, Yas-\\nmine Babaei, Nikolay Bashlykov, Soumya Batra, Prajjwal Bhargava, Shruti Bhos-\\nale, Dan Bikel, Lukas Blecher, Cristian Canton Ferrer, Moya Chen, Guillem\\nCucurull, David Esiobu, Jude Fernandes, Jeremy Fu, Wenyin Fu, Brian Fuller,\\nCynthia Gao, Vedanuj Goswami, Naman Goyal, Anthony Hartshorn, Saghar\\nHosseini, Rui Hou, Hakan Inan, Marcin Kardas, Viktor Kerkez, Madian Khabsa,\\nIsabel Kloumann, Artem Korenev, Punit Singh Koura, Marie-Anne Lachaux,\\nThibaut Lavril, Jenya Lee, Diana Liskovich, Yinghai Lu, Yuning Mao, Xavier\\nMartinet, Todor Mihaylov, Pushkar Mishra, Igor Molybog, Yixin Nie, Andrew\\nPoulton, Jeremy Reizenstein, Rashi Rungta, Kalyan Saladi, Alan Schelten, Ruan\\nSilva, Eric Michael Smith, Ranjan Subramanian, Xiaoqing Ellen Tan, Binh Tang,\\nRoss Taylor, Adina Williams, Jian Xiang Kuan, Puxin Xu, Zheng Yan, Iliyan\\nZarov, Yuchen Zhang, Angela Fan, Melanie Kambadur, Sharan Narang, Au-\\nrelien Rodriguez, Robert Stojnic, Sergey Edunov, and Thomas Scialom. 2023.\\nLlama 2: Open Foundation and Fine-Tuned Chat Models. arXiv (2023). https:\\n//doi.org/10.48550/arXiv.2307.09288')]"
      ]
     },
     "execution_count": 43,
     "metadata": {},
     "output_type": "execute_result"
    }
   ],
   "source": [
    "document_with_payload"
   ]
  },
  {
   "cell_type": "code",
   "execution_count": 42,
   "id": "7c96c946",
   "metadata": {},
   "outputs": [],
   "source": [
    "vector_store = Qdrant.from_documents(\n",
    "    document_with_payload,\n",
    "    embedding,\n",
    "    collection_name=collection_name,\n",
    "    url=url\n",
    ")"
   ]
  },
  {
   "cell_type": "code",
   "execution_count": null,
   "id": "e840eca7",
   "metadata": {},
   "outputs": [
    {
     "data": {
      "text/plain": [
       "UpdateResult(operation_id=1, status=<UpdateStatus.COMPLETED: 'completed'>)"
      ]
     },
     "execution_count": 44,
     "metadata": {},
     "output_type": "execute_result"
    }
   ],
   "source": [
    "from qdrant_client import QdrantClient, models\n",
    "\n",
    "qdrant_client = QdrantClient(url=url)\n",
    "\n",
    "qdrant_client.delete(\n",
    "    collection_name=\"analytix_camp\",\n",
    "    points_selector=models.FilterSelector(\n",
    "        filter = models.Filter(\n",
    "            must=[\n",
    "                models.FieldCondition(\n",
    "                    key=\"metadata.user_name\",\n",
    "                    match=models.MatchValue(value=\"Hasnain Ali Poonja\")\n",
    "                )\n",
    "            ]\n",
    "        )\n",
    "    )\n",
    ")"
   ]
  }
 ],
 "metadata": {
  "kernelspec": {
   "display_name": "analytix_env",
   "language": "python",
   "name": "python3"
  },
  "language_info": {
   "codemirror_mode": {
    "name": "ipython",
    "version": 3
   },
   "file_extension": ".py",
   "mimetype": "text/x-python",
   "name": "python",
   "nbconvert_exporter": "python",
   "pygments_lexer": "ipython3",
   "version": "3.13.3"
  }
 },
 "nbformat": 4,
 "nbformat_minor": 5
}
