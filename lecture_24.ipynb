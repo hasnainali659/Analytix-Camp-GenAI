{
 "cells": [
  {
   "cell_type": "code",
   "execution_count": null,
   "id": "db8b4f0b",
   "metadata": {},
   "outputs": [],
   "source": [
    "# NEO4J_URI=bolt://localhost:7687\n",
    "# NEO4J_USERNAME=neo4j\n",
    "# NEO4J_PASSWORD=Admin@123\n",
    "# NEO4J_DATABASE=neo4j\n",
    "\n",
    "# OPENAI_API_KEY=<api-key>"
   ]
  },
  {
   "cell_type": "code",
   "execution_count": null,
   "id": "3f83eaa7",
   "metadata": {},
   "outputs": [],
   "source": [
    "# pip install\n",
    "# langchain\n",
    "# langchain-community\n",
    "# sentence-transformers\n",
    "# langchain-experimental\n",
    "# neo4j\n",
    "# pypdf\n",
    "# python-dotenv\n",
    "# langchain-openai\n",
    "# streamlit"
   ]
  },
  {
   "cell_type": "code",
   "execution_count": 5,
   "id": "76a901a9",
   "metadata": {},
   "outputs": [
    {
     "data": {
      "text/plain": [
       "True"
      ]
     },
     "execution_count": 5,
     "metadata": {},
     "output_type": "execute_result"
    }
   ],
   "source": [
    "from neo4j import GraphDatabase\n",
    "from typing import Union\n",
    "import os\n",
    "from dotenv import load_dotenv\n",
    "\n",
    "load_dotenv()"
   ]
  },
  {
   "cell_type": "code",
   "execution_count": 26,
   "id": "93688372",
   "metadata": {},
   "outputs": [],
   "source": [
    "class Neo4jConnection:\n",
    "    def __init__(self, uri, username, password, database):\n",
    "        self.uri = uri\n",
    "        self.username = username\n",
    "        self.password = password\n",
    "        self.database = database\n",
    "        self.driver = None\n",
    "        \n",
    "        self.driver = GraphDatabase.driver(self.uri, auth=(self.username, self.password))\n",
    "        print(\"Connection to Neo4j DB successful\")\n",
    "        \n",
    "    def query(self, query, parameters={}):\n",
    "        assert self.driver is not None, \"Driver is not initialized\"\n",
    "        \n",
    "        try:\n",
    "            session = self.driver.session(database=self.database)\n",
    "            response = list(session.run(query, parameters))\n",
    "            \n",
    "        except Exception as e:\n",
    "            print(f\"query failed: {e}\")\n",
    "            \n",
    "        return response\n",
    "            \n",
    "    def write_transaction(self, query, parameters={}):\n",
    "        assert self.driver is not None, \"Driver not initialized\"\n",
    "        session = None\n",
    "        \n",
    "        try:\n",
    "            session = self.driver .session(database= self.database)\n",
    "            session.execute_write(lambda tx: tx.run(query, parameters or {}))\n",
    "            \n",
    "        except Exception as e:\n",
    "            print(f\"Write transaction failed: {e}\")"
   ]
  },
  {
   "cell_type": "code",
   "execution_count": 27,
   "id": "81251525",
   "metadata": {},
   "outputs": [
    {
     "name": "stdout",
     "output_type": "stream",
     "text": [
      "Connection to Neo4j DB successful\n",
      "Total nodes in the database: 4\n",
      "created test node succesfully\n",
      "Test node found, {'name': 'Test User', 'age': 28}\n"
     ]
    }
   ],
   "source": [
    "uri = os.getenv(\"NEO4J_URI\")\n",
    "username = os.getenv(\"NEO4J_USERNAME\")\n",
    "password = os.getenv(\"NEO4J_PASSWORD\")\n",
    "database = os.getenv(\"NEO4J_DATBASE\", \"neo4j\")\n",
    "\n",
    "conn = Neo4jConnection(uri, username, password, database)\n",
    "\n",
    "try:\n",
    "    test_query = \"MATCH (n) RETURN count(n) as node_count\"\n",
    "    result = conn.query(test_query)\n",
    "    \n",
    "    if result:\n",
    "        print(f\"Total nodes in the database: {result[0]['node_count']}\")\n",
    "        \n",
    "    create_query = \"\"\"\n",
    "    CREATE (p:Person {name: 'Test User', age: 28})\n",
    "    RETURN p\n",
    "    \"\"\"\n",
    "    \n",
    "    conn.write_transaction(create_query)\n",
    "    print(\"created test node succesfully\")\n",
    "    \n",
    "    verify_query = \"MATCH (p:Person {name: 'Test User'}) RETURN p\"\n",
    "    result = conn.query(verify_query)\n",
    "    \n",
    "    if result:\n",
    "        print(f\"Test node found, {dict(result[0]['p'])}\")\n",
    "    \n",
    "except Exception as e:\n",
    "    print(f\"query failed: {e}\")\n",
    "    "
   ]
  }
 ],
 "metadata": {
  "kernelspec": {
   "display_name": "Python 3",
   "language": "python",
   "name": "python3"
  },
  "language_info": {
   "codemirror_mode": {
    "name": "ipython",
    "version": 3
   },
   "file_extension": ".py",
   "mimetype": "text/x-python",
   "name": "python",
   "nbconvert_exporter": "python",
   "pygments_lexer": "ipython3",
   "version": "3.10.7"
  }
 },
 "nbformat": 4,
 "nbformat_minor": 5
}
