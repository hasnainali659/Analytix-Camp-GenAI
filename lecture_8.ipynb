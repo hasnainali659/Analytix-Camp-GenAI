{
 "cells": [
  {
   "cell_type": "code",
   "execution_count": null,
   "id": "88cbc4ee",
   "metadata": {},
   "outputs": [
    {
     "ename": "AttributeError",
     "evalue": "'int' object has no attribute 'capitalize'",
     "output_type": "error",
     "traceback": [
      "\u001b[31m---------------------------------------------------------------------------\u001b[39m",
      "\u001b[31mAttributeError\u001b[39m                            Traceback (most recent call last)",
      "\u001b[36mCell\u001b[39m\u001b[36m \u001b[39m\u001b[32mIn[5]\u001b[39m\u001b[32m, line 9\u001b[39m\n\u001b[32m      4\u001b[39m fruits = [\u001b[33m\"\u001b[39m\u001b[33mapple\u001b[39m\u001b[33m\"\u001b[39m, \u001b[33m\"\u001b[39m\u001b[33mbanana\u001b[39m\u001b[33m\"\u001b[39m]\n\u001b[32m      5\u001b[39m name = \u001b[33m\"\u001b[39m\u001b[33mHasnain\u001b[39m\u001b[33m\"\u001b[39m\n\u001b[32m----> \u001b[39m\u001b[32m9\u001b[39m \u001b[38;5;28mprint\u001b[39m(\u001b[43mnumber\u001b[49m\u001b[43m.\u001b[49m\u001b[43mcapitalize\u001b[49m())\n",
      "\u001b[31mAttributeError\u001b[39m: 'int' object has no attribute 'capitalize'"
     ]
    }
   ],
   "source": [
    "number1 = 7\n",
    "number2 = 16\n",
    "number3 = 100\n",
    "deci_num = 4.5\n",
    "is_rainy = True\n",
    "fruits = [\"apple\", \"banana\"]\n",
    "name = \"Hasnain\"\n",
    "\n",
    "\n",
    "\n",
    "print(number.capitalize())"
   ]
  },
  {
   "cell_type": "code",
   "execution_count": 23,
   "id": "bc168b29",
   "metadata": {},
   "outputs": [],
   "source": [
    "class Car:\n",
    "\n",
    "    def __init__(self, brand, model, color):\n",
    "        self.brand = brand\n",
    "        self.model = model\n",
    "        self.color = color\n",
    "        self.engine_on = False\n",
    "\n",
    "    def start_engine(self):\n",
    "        print(f\"The {self.color} {self.brand}'s engine is now on\")\n",
    "        self.engine_on = True\n",
    "\n",
    "    def drive(self, is_four_wheel):\n",
    "        if self.engine_on and is_four_wheel:\n",
    "            print(f\"The car is ready to drive\")\n",
    "        else:\n",
    "            print(\"Can't drive\")\n",
    "\n",
    "\n",
    "\n",
    "bmw = Car(\"BMW\", \"2025\", \"black\")\n",
    "mercedes = Car(\"Mercedes\", \"2020\", \"Silver\")\n",
    "\n",
    "is_four_wheel = True\n",
    "\n"
   ]
  },
  {
   "cell_type": "code",
   "execution_count": 25,
   "id": "f318716b",
   "metadata": {},
   "outputs": [
    {
     "name": "stdout",
     "output_type": "stream",
     "text": [
      "The Silver Mercedes's engine is now on\n",
      "The car is ready to drive\n"
     ]
    }
   ],
   "source": [
    "mercedes.start_engine()\n",
    "mercedes.drive(is_four_wheel)"
   ]
  },
  {
   "cell_type": "code",
   "execution_count": null,
   "id": "fa4252cb",
   "metadata": {},
   "outputs": [],
   "source": [
    "class Rectangle:\n",
    "    def __init__(self):\n",
    "        self.length = self.length\n",
    "        self.width = self.width\n",
    "        self.is_square_or_not = False \n",
    "    \n",
    "    def area(self):\n",
    "        return self.length * self.width\n",
    "    \n",
    "    def perimeter(self):\n",
    "        return 2 * (self.length + self.width)\n",
    "    \n",
    "    def is_square(self):\n",
    "        if self.length == self.width:\n",
    "            self.is_square_or_not = True\n",
    "            "
   ]
  },
  {
   "cell_type": "code",
   "execution_count": null,
   "id": "7f59d0b3",
   "metadata": {},
   "outputs": [],
   "source": [
    "rect = Rectangle(5, 4)"
   ]
  },
  {
   "cell_type": "code",
   "execution_count": 42,
   "id": "8beee7f0",
   "metadata": {},
   "outputs": [
    {
     "name": "stdout",
     "output_type": "stream",
     "text": [
      "The area of rectangle is 120 and its perimter is 44 and is rectangle square or not False\n"
     ]
    }
   ],
   "source": [
    "rect_area = rect.area()\n",
    "rect_perimeter = rect.perimeter()\n",
    "is_rect_square = rect.is_square()\n",
    "\n",
    "print(f\"The area of rectangle is {rect_area} and its perimter is {rect_perimeter} and is rectangle square or not {rect.is_square_or_not}\")"
   ]
  },
  {
   "cell_type": "code",
   "execution_count": 1,
   "id": "673a02c2",
   "metadata": {},
   "outputs": [],
   "source": [
    "class Car:\n",
    "    def __init__(self, windows, doors, engine_type):\n",
    "        self.windows = windows\n",
    "        self.doors = doors\n",
    "        self.engine_type = engine_type\n",
    "\n",
    "    def drive(self):\n",
    "        print(f\"The person will drive the {self.engine_type} car\")"
   ]
  },
  {
   "cell_type": "code",
   "execution_count": 2,
   "id": "072b23b6",
   "metadata": {},
   "outputs": [
    {
     "name": "stdout",
     "output_type": "stream",
     "text": [
      "The person will drive the petrol car\n"
     ]
    }
   ],
   "source": [
    "car1 = Car(4, 2, \"petrol\")\n",
    "car1.drive()"
   ]
  },
  {
   "cell_type": "code",
   "execution_count": 3,
   "id": "43e9fcf5",
   "metadata": {},
   "outputs": [],
   "source": [
    "class Tesla(Car):\n",
    "    def __init__(self, windows, doors, engine_type, is_self_driving):\n",
    "        super().__init__(windows, doors, engine_type)\n",
    "        self.is_self_driving = is_self_driving\n",
    "\n",
    "    def self_driving(self):\n",
    "        print(f\"Tesla supports self driving: {self.is_self_driving}\")"
   ]
  },
  {
   "cell_type": "code",
   "execution_count": 4,
   "id": "b80ac2ce",
   "metadata": {},
   "outputs": [
    {
     "name": "stdout",
     "output_type": "stream",
     "text": [
      "Tesla supports self driving: True\n"
     ]
    }
   ],
   "source": [
    "tesla1 = Tesla(4, 4, \"electric\", True)\n",
    "tesla1.self_driving()"
   ]
  },
  {
   "cell_type": "code",
   "execution_count": 5,
   "id": "fa5e5626",
   "metadata": {},
   "outputs": [
    {
     "name": "stdout",
     "output_type": "stream",
     "text": [
      "The person will drive the electric car\n"
     ]
    }
   ],
   "source": [
    "tesla1.drive()"
   ]
  },
  {
   "cell_type": "code",
   "execution_count": 6,
   "id": "29ef59ec",
   "metadata": {},
   "outputs": [],
   "source": [
    "class Animal:\n",
    "    def __init__(self, name):\n",
    "        self.name = name\n",
    "\n",
    "    def speak(self):\n",
    "        print(f\"The animal speaks this\")"
   ]
  },
  {
   "cell_type": "code",
   "execution_count": 7,
   "id": "c50f3b50",
   "metadata": {},
   "outputs": [],
   "source": [
    "class Pet:\n",
    "    def __init__(self, owner):\n",
    "        self.owner = owner"
   ]
  },
  {
   "cell_type": "code",
   "execution_count": 8,
   "id": "8d20b9a6",
   "metadata": {},
   "outputs": [],
   "source": [
    "class Dog(Animal, Pet):\n",
    "    def __init__(self, name, owner):\n",
    "        Animal.__init__(self, name)\n",
    "        Pet.__init__(self, owner)\n",
    "\n",
    "    def speak(self):\n",
    "        return f\"{self.name} say woof\"\n",
    "        "
   ]
  },
  {
   "cell_type": "code",
   "execution_count": 9,
   "id": "8c591316",
   "metadata": {},
   "outputs": [
    {
     "name": "stdout",
     "output_type": "stream",
     "text": [
      "Tom say woof\n"
     ]
    }
   ],
   "source": [
    "dog = Dog(\"Tom\", \"Hasnain\")\n",
    "print(dog.speak())"
   ]
  },
  {
   "cell_type": "code",
   "execution_count": 10,
   "id": "09ebd94f",
   "metadata": {},
   "outputs": [
    {
     "name": "stdout",
     "output_type": "stream",
     "text": [
      "The owner of dog is Hasnain\n"
     ]
    }
   ],
   "source": [
    "print(f\"The owner of dog is {dog.owner}\")"
   ]
  },
  {
   "cell_type": "code",
   "execution_count": 1,
   "id": "cc70de69",
   "metadata": {},
   "outputs": [],
   "source": [
    "my_file = open(\"sample.txt\")"
   ]
  },
  {
   "cell_type": "code",
   "execution_count": 6,
   "id": "c8386a75",
   "metadata": {},
   "outputs": [
    {
     "data": {
      "text/plain": [
       "0"
      ]
     },
     "execution_count": 6,
     "metadata": {},
     "output_type": "execute_result"
    }
   ],
   "source": [
    "my_file.read()\n",
    "my_file.seek(0)"
   ]
  },
  {
   "cell_type": "code",
   "execution_count": 9,
   "id": "5f7602a6",
   "metadata": {},
   "outputs": [
    {
     "data": {
      "text/plain": [
       "0"
      ]
     },
     "execution_count": 9,
     "metadata": {},
     "output_type": "execute_result"
    }
   ],
   "source": [
    "my_file.read()\n",
    "my_file.seek(0)"
   ]
  },
  {
   "cell_type": "code",
   "execution_count": 13,
   "id": "c25b7f8a",
   "metadata": {},
   "outputs": [
    {
     "data": {
      "text/plain": [
       "0"
      ]
     },
     "execution_count": 13,
     "metadata": {},
     "output_type": "execute_result"
    }
   ],
   "source": [
    "my_file.readlines()\n",
    "my_file.seek(0)"
   ]
  },
  {
   "cell_type": "code",
   "execution_count": 14,
   "id": "e5bad59f",
   "metadata": {},
   "outputs": [],
   "source": [
    "my_file.close()"
   ]
  },
  {
   "cell_type": "code",
   "execution_count": 24,
   "id": "59089b7f",
   "metadata": {},
   "outputs": [
    {
     "name": "stdout",
     "output_type": "stream",
     "text": [
      "['this is my new linethis is my new linethis is my new linethis is my new line']\n"
     ]
    }
   ],
   "source": [
    "with open(\"C:/Repos/sample.txt\", \"r\") as f:\n",
    "    print(f.readlines())"
   ]
  },
  {
   "cell_type": "code",
   "execution_count": null,
   "id": "cd00f1cb",
   "metadata": {},
   "outputs": [],
   "source": [
    "with open(\"sample.\", \"a+\") as f:\n",
    "    f.writelines(\"this is my new line\")"
   ]
  }
 ],
 "metadata": {
  "kernelspec": {
   "display_name": "analytix_env",
   "language": "python",
   "name": "python3"
  },
  "language_info": {
   "codemirror_mode": {
    "name": "ipython",
    "version": 3
   },
   "file_extension": ".py",
   "mimetype": "text/x-python",
   "name": "python",
   "nbconvert_exporter": "python",
   "pygments_lexer": "ipython3",
   "version": "3.13.3"
  }
 },
 "nbformat": 4,
 "nbformat_minor": 5
}
