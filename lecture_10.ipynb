{
 "cells": [
  {
   "cell_type": "code",
   "execution_count": 2,
   "id": "e2ecf7fa",
   "metadata": {},
   "outputs": [],
   "source": [
    "class Person:\n",
    "    def __init__(self, name, age):\n",
    "        self.name = name\n",
    "        self.age = age\n",
    "\n",
    "def get_name(person):\n",
    "    return person.name"
   ]
  },
  {
   "cell_type": "code",
   "execution_count": 3,
   "id": "2e0a0d3b",
   "metadata": {},
   "outputs": [
    {
     "data": {
      "text/plain": [
       "'Hasnain'"
      ]
     },
     "execution_count": 3,
     "metadata": {},
     "output_type": "execute_result"
    }
   ],
   "source": [
    "person = Person(\"Hasnain\", 28)\n",
    "get_name(person)"
   ]
  },
  {
   "cell_type": "code",
   "execution_count": 4,
   "id": "f3bfb0e6",
   "metadata": {},
   "outputs": [
    {
     "data": {
      "text/plain": [
       "['__class__',\n",
       " '__delattr__',\n",
       " '__dict__',\n",
       " '__dir__',\n",
       " '__doc__',\n",
       " '__eq__',\n",
       " '__firstlineno__',\n",
       " '__format__',\n",
       " '__ge__',\n",
       " '__getattribute__',\n",
       " '__getstate__',\n",
       " '__gt__',\n",
       " '__hash__',\n",
       " '__init__',\n",
       " '__init_subclass__',\n",
       " '__le__',\n",
       " '__lt__',\n",
       " '__module__',\n",
       " '__ne__',\n",
       " '__new__',\n",
       " '__reduce__',\n",
       " '__reduce_ex__',\n",
       " '__repr__',\n",
       " '__setattr__',\n",
       " '__sizeof__',\n",
       " '__static_attributes__',\n",
       " '__str__',\n",
       " '__subclasshook__',\n",
       " '__weakref__',\n",
       " 'age',\n",
       " 'name']"
      ]
     },
     "execution_count": 4,
     "metadata": {},
     "output_type": "execute_result"
    }
   ],
   "source": [
    "dir(person)"
   ]
  },
  {
   "cell_type": "code",
   "execution_count": 7,
   "id": "1f1fe473",
   "metadata": {},
   "outputs": [
    {
     "name": "stdout",
     "output_type": "stream",
     "text": [
      "28\n",
      "Hasnain\n"
     ]
    }
   ],
   "source": [
    "print(person.age)\n",
    "print(person.name)\n"
   ]
  },
  {
   "cell_type": "code",
   "execution_count": 8,
   "id": "aa4acd19",
   "metadata": {},
   "outputs": [],
   "source": [
    "class Person:\n",
    "    def __init__(self, name, age, gender):\n",
    "        self.__name = name\n",
    "        self.__age = age\n",
    "        self.gender = gender\n",
    "\n",
    "def get_name(person):\n",
    "    return person.__name\n"
   ]
  },
  {
   "cell_type": "code",
   "execution_count": 9,
   "id": "8d55b47a",
   "metadata": {},
   "outputs": [
    {
     "ename": "AttributeError",
     "evalue": "'Person' object has no attribute '__name'",
     "output_type": "error",
     "traceback": [
      "\u001b[31m---------------------------------------------------------------------------\u001b[39m",
      "\u001b[31mAttributeError\u001b[39m                            Traceback (most recent call last)",
      "\u001b[36mCell\u001b[39m\u001b[36m \u001b[39m\u001b[32mIn[9]\u001b[39m\u001b[32m, line 2\u001b[39m\n\u001b[32m      1\u001b[39m person = Person(\u001b[33m\"\u001b[39m\u001b[33mHasnain\u001b[39m\u001b[33m\"\u001b[39m, \u001b[32m28\u001b[39m, \u001b[33m\"\u001b[39m\u001b[33mmale\u001b[39m\u001b[33m\"\u001b[39m)\n\u001b[32m----> \u001b[39m\u001b[32m2\u001b[39m \u001b[43mget_name\u001b[49m\u001b[43m(\u001b[49m\u001b[43mperson\u001b[49m\u001b[43m)\u001b[49m\n",
      "\u001b[36mCell\u001b[39m\u001b[36m \u001b[39m\u001b[32mIn[8]\u001b[39m\u001b[32m, line 8\u001b[39m, in \u001b[36mget_name\u001b[39m\u001b[34m(person)\u001b[39m\n\u001b[32m      7\u001b[39m \u001b[38;5;28;01mdef\u001b[39;00m\u001b[38;5;250m \u001b[39m\u001b[34mget_name\u001b[39m(person):\n\u001b[32m----> \u001b[39m\u001b[32m8\u001b[39m     \u001b[38;5;28;01mreturn\u001b[39;00m \u001b[43mperson\u001b[49m\u001b[43m.\u001b[49m\u001b[43m__name\u001b[49m\n",
      "\u001b[31mAttributeError\u001b[39m: 'Person' object has no attribute '__name'"
     ]
    }
   ],
   "source": [
    "person = Person(\"Hasnain\", 28, \"male\")\n",
    "get_name(person)"
   ]
  },
  {
   "cell_type": "code",
   "execution_count": 10,
   "id": "7b9f90dd",
   "metadata": {},
   "outputs": [
    {
     "data": {
      "text/plain": [
       "['_Person__age',\n",
       " '_Person__name',\n",
       " '__class__',\n",
       " '__delattr__',\n",
       " '__dict__',\n",
       " '__dir__',\n",
       " '__doc__',\n",
       " '__eq__',\n",
       " '__firstlineno__',\n",
       " '__format__',\n",
       " '__ge__',\n",
       " '__getattribute__',\n",
       " '__getstate__',\n",
       " '__gt__',\n",
       " '__hash__',\n",
       " '__init__',\n",
       " '__init_subclass__',\n",
       " '__le__',\n",
       " '__lt__',\n",
       " '__module__',\n",
       " '__ne__',\n",
       " '__new__',\n",
       " '__reduce__',\n",
       " '__reduce_ex__',\n",
       " '__repr__',\n",
       " '__setattr__',\n",
       " '__sizeof__',\n",
       " '__static_attributes__',\n",
       " '__str__',\n",
       " '__subclasshook__',\n",
       " '__weakref__',\n",
       " 'gender']"
      ]
     },
     "execution_count": 10,
     "metadata": {},
     "output_type": "execute_result"
    }
   ],
   "source": [
    "dir(person)"
   ]
  },
  {
   "cell_type": "code",
   "execution_count": 13,
   "id": "a8ccf3dc",
   "metadata": {},
   "outputs": [
    {
     "data": {
      "text/plain": [
       "'male'"
      ]
     },
     "execution_count": 13,
     "metadata": {},
     "output_type": "execute_result"
    }
   ],
   "source": [
    "person.gender"
   ]
  },
  {
   "cell_type": "code",
   "execution_count": 2,
   "id": "b5a2a4d8",
   "metadata": {},
   "outputs": [],
   "source": [
    "class Person:\n",
    "    def __init__(self, name, age, gender):\n",
    "        self._name = name\n",
    "        self._age = age\n",
    "        self.gender = gender\n",
    "\n",
    "class Employee(Person):\n",
    "    def __init__(self, name, age, gender):\n",
    "        super().__init__(name, age, gender)"
   ]
  },
  {
   "cell_type": "code",
   "execution_count": 3,
   "id": "20317b0c",
   "metadata": {},
   "outputs": [],
   "source": [
    "employee = Employee(\"Hasnain\", 28, \"Male\")\n",
    "person = Person(\"Hasnain\", 28, \"Male\")"
   ]
  },
  {
   "cell_type": "code",
   "execution_count": 7,
   "id": "624c4dbb",
   "metadata": {},
   "outputs": [
    {
     "name": "stdout",
     "output_type": "stream",
     "text": [
      "28\n",
      "28\n"
     ]
    }
   ],
   "source": [
    "print(person._age)\n",
    "print(employee._age)"
   ]
  },
  {
   "cell_type": "code",
   "execution_count": 1,
   "id": "f73431d1",
   "metadata": {},
   "outputs": [],
   "source": [
    "class Person:\n",
    "    def __init__(self, name, age):\n",
    "        self.__name = name\n",
    "        self.__age = age\n",
    "    \n",
    "    def get_name(self):\n",
    "        return self.__name\n",
    "    \n",
    "    def get_age(self):\n",
    "        return self.__age\n",
    "\n",
    "    def set_name(self, name):\n",
    "        self.__name = name\n",
    "    \n",
    "    def set_age(self, age):\n",
    "        self.__age = age\n"
   ]
  },
  {
   "cell_type": "code",
   "execution_count": 4,
   "id": "2dfed74d",
   "metadata": {},
   "outputs": [],
   "source": [
    "person = Person(\"Hasnain\", 28)\n",
    "person.set_age(30)"
   ]
  },
  {
   "cell_type": "code",
   "execution_count": 6,
   "id": "dc1b7cdc",
   "metadata": {},
   "outputs": [],
   "source": [
    "text = \"The agent's phone number is 408-555-1234. Call soon!\""
   ]
  },
  {
   "cell_type": "code",
   "execution_count": 9,
   "id": "a09448e3",
   "metadata": {},
   "outputs": [
    {
     "data": {
      "text/plain": [
       "True"
      ]
     },
     "execution_count": 9,
     "metadata": {},
     "output_type": "execute_result"
    }
   ],
   "source": [
    "'408-555-1234' in text"
   ]
  },
  {
   "cell_type": "code",
   "execution_count": 11,
   "id": "9966289f",
   "metadata": {},
   "outputs": [],
   "source": [
    "import re"
   ]
  },
  {
   "cell_type": "code",
   "execution_count": 13,
   "id": "b5ee5f6b",
   "metadata": {},
   "outputs": [],
   "source": [
    "pattern = \"phone\"\n",
    "match = re.search(pattern, text)"
   ]
  },
  {
   "cell_type": "code",
   "execution_count": 16,
   "id": "9d96f9db",
   "metadata": {},
   "outputs": [
    {
     "data": {
      "text/plain": [
       "17"
      ]
     },
     "execution_count": 16,
     "metadata": {},
     "output_type": "execute_result"
    }
   ],
   "source": [
    "match.end()"
   ]
  },
  {
   "cell_type": "code",
   "execution_count": 17,
   "id": "41eb2400",
   "metadata": {},
   "outputs": [],
   "source": [
    "text = \"my phone is a new phone\""
   ]
  },
  {
   "cell_type": "code",
   "execution_count": 18,
   "id": "66d726e7",
   "metadata": {},
   "outputs": [],
   "source": [
    "match = re.search(\"phone\", text)"
   ]
  },
  {
   "cell_type": "code",
   "execution_count": 19,
   "id": "ae1b3a0a",
   "metadata": {},
   "outputs": [
    {
     "data": {
      "text/plain": [
       "(3, 8)"
      ]
     },
     "execution_count": 19,
     "metadata": {},
     "output_type": "execute_result"
    }
   ],
   "source": [
    "match.span()"
   ]
  },
  {
   "cell_type": "code",
   "execution_count": 20,
   "id": "0d21efc4",
   "metadata": {},
   "outputs": [],
   "source": [
    "matches = re.findall(\"phone\", text)"
   ]
  },
  {
   "cell_type": "code",
   "execution_count": 21,
   "id": "357217e2",
   "metadata": {},
   "outputs": [
    {
     "data": {
      "text/plain": [
       "['phone', 'phone']"
      ]
     },
     "execution_count": 21,
     "metadata": {},
     "output_type": "execute_result"
    }
   ],
   "source": [
    "matches"
   ]
  },
  {
   "cell_type": "code",
   "execution_count": 22,
   "id": "5cd8eab3",
   "metadata": {},
   "outputs": [
    {
     "name": "stdout",
     "output_type": "stream",
     "text": [
      "(3, 8)\n",
      "(18, 23)\n"
     ]
    }
   ],
   "source": [
    "for match in re.finditer(\"phone\", text):\n",
    "    print(match.span())"
   ]
  },
  {
   "cell_type": "code",
   "execution_count": null,
   "id": "3040178b",
   "metadata": {},
   "outputs": [],
   "source": [
    "text = \"My telephone number is 408-555-1234\"\n",
    "\n",
    "pattern1 = r'\\d\\d\\d-\\d\\d\\d-\\d\\d\\d\\d'\n",
    "\n",
    "phone = re.search(pattern1, text)"
   ]
  },
  {
   "cell_type": "code",
   "execution_count": 25,
   "id": "3271d8d8",
   "metadata": {},
   "outputs": [
    {
     "data": {
      "text/plain": [
       "'408-555-1234'"
      ]
     },
     "execution_count": 25,
     "metadata": {},
     "output_type": "execute_result"
    }
   ],
   "source": [
    "phone.group()"
   ]
  },
  {
   "cell_type": "code",
   "execution_count": 26,
   "id": "34691412",
   "metadata": {},
   "outputs": [
    {
     "data": {
      "text/plain": [
       "'408-555-1234'"
      ]
     },
     "execution_count": 26,
     "metadata": {},
     "output_type": "execute_result"
    }
   ],
   "source": [
    "pattern2 = r'\\d{3}-\\d{3}-\\d{4}'\n",
    "phone = re.search(pattern2, text)\n",
    "phone.group()"
   ]
  },
  {
   "cell_type": "code",
   "execution_count": 28,
   "id": "53394c34",
   "metadata": {},
   "outputs": [],
   "source": [
    "pattern3 = re.compile(r'(\\d{3})-(\\d{3})-(\\d{4})')"
   ]
  },
  {
   "cell_type": "code",
   "execution_count": 29,
   "id": "46d5d78b",
   "metadata": {},
   "outputs": [],
   "source": [
    "results = re.search(pattern3, text)"
   ]
  },
  {
   "cell_type": "code",
   "execution_count": 33,
   "id": "f85029ab",
   "metadata": {},
   "outputs": [
    {
     "data": {
      "text/plain": [
       "'1234'"
      ]
     },
     "execution_count": 33,
     "metadata": {},
     "output_type": "execute_result"
    }
   ],
   "source": [
    "results.group(3)"
   ]
  },
  {
   "cell_type": "code",
   "execution_count": 36,
   "id": "bde01b0d",
   "metadata": {},
   "outputs": [],
   "source": [
    "text = \"This woman was here\"\n",
    "pattern = r'man|woman'\n",
    "\n",
    "result = re.search(pattern, text)"
   ]
  },
  {
   "cell_type": "code",
   "execution_count": 35,
   "id": "41b43ac2",
   "metadata": {},
   "outputs": [
    {
     "data": {
      "text/plain": [
       "(5, 8)"
      ]
     },
     "execution_count": 35,
     "metadata": {},
     "output_type": "execute_result"
    }
   ],
   "source": [
    "result.span()"
   ]
  },
  {
   "cell_type": "code",
   "execution_count": 37,
   "id": "f03724ef",
   "metadata": {},
   "outputs": [],
   "source": [
    "text = \"The cat in the hat sat here.\"\n",
    "pattern = r'.at'\n",
    "\n",
    "result = re.findall(pattern, text)"
   ]
  },
  {
   "cell_type": "code",
   "execution_count": 38,
   "id": "8e77ef0b",
   "metadata": {},
   "outputs": [
    {
     "data": {
      "text/plain": [
       "['cat', 'hat', 'sat']"
      ]
     },
     "execution_count": 38,
     "metadata": {},
     "output_type": "execute_result"
    }
   ],
   "source": [
    "result"
   ]
  },
  {
   "cell_type": "code",
   "execution_count": 43,
   "id": "aee44d9b",
   "metadata": {},
   "outputs": [],
   "source": [
    "text = \"The bat went splat\"\n",
    "\n",
    "result = re.findall(r'...at', text)"
   ]
  },
  {
   "cell_type": "code",
   "execution_count": 44,
   "id": "a8b3f67e",
   "metadata": {},
   "outputs": [
    {
     "data": {
      "text/plain": [
       "['e bat', 'splat']"
      ]
     },
     "execution_count": 44,
     "metadata": {},
     "output_type": "execute_result"
    }
   ],
   "source": [
    "result"
   ]
  },
  {
   "cell_type": "code",
   "execution_count": null,
   "id": "c4dc4f7b",
   "metadata": {},
   "outputs": [],
   "source": [
    "file_25 --> file_\\d\\d \n",
    "A-b_1 --> \\w-\\w\\w\\w\n",
    "a b c --> a\\sb\\sc\n",
    "\n",
    "ABC --> \\D\\D\\D\n",
    "*-+=) --> \\W\\W\\W\\W\\W\n",
    "Yoyo --> \\S\\S\\S\\S"
   ]
  },
  {
   "cell_type": "code",
   "execution_count": null,
   "id": "0a60375e",
   "metadata": {},
   "outputs": [],
   "source": [
    "A-bf_ --> \\w-\\w+\n",
    "888-335-1234 --> \\d{3}-\\d{3}-\\d{4}\n",
    "123, 1234, 1345, 12 --> \\d{2,4}\n",
    "anycharacters \\w{3,}\n",
    "AAACC --> A\\*C\\*\n"
   ]
  },
  {
   "cell_type": "code",
   "execution_count": 48,
   "id": "6fb0abac",
   "metadata": {},
   "outputs": [
    {
     "name": "stdout",
     "output_type": "stream",
     "text": [
      "['bat', 'splat']\n"
     ]
    }
   ],
   "source": [
    "text = \"The bat went splat\"\n",
    "\n",
    "result = re.findall(r'\\S+at', text)\n",
    "print(result)"
   ]
  },
  {
   "cell_type": "code",
   "execution_count": 49,
   "id": "debf412b",
   "metadata": {},
   "outputs": [],
   "source": [
    "text = \"This ends with a number 2\"\n",
    "pattern = r'\\d$'\n",
    "\n",
    "result = re.findall(pattern, text)"
   ]
  },
  {
   "cell_type": "code",
   "execution_count": 50,
   "id": "5561b2bf",
   "metadata": {},
   "outputs": [
    {
     "data": {
      "text/plain": [
       "['2']"
      ]
     },
     "execution_count": 50,
     "metadata": {},
     "output_type": "execute_result"
    }
   ],
   "source": [
    "result"
   ]
  },
  {
   "cell_type": "code",
   "execution_count": 51,
   "id": "c19358d2",
   "metadata": {},
   "outputs": [
    {
     "name": "stdout",
     "output_type": "stream",
     "text": [
      "['1']\n"
     ]
    }
   ],
   "source": [
    "text = \"1 is the lonliest number\"\n",
    "pattern = r'^\\d'\n",
    "\n",
    "print(re.findall(pattern, text))"
   ]
  },
  {
   "cell_type": "code",
   "execution_count": 53,
   "id": "c8261242",
   "metadata": {},
   "outputs": [
    {
     "name": "stdout",
     "output_type": "stream",
     "text": [
      "['there are ', ' numbers ', ' inside ', ' this sentence.']\n"
     ]
    }
   ],
   "source": [
    "phrase = \"there are 3 numbers 34 inside 5 this sentence.\"\n",
    "pattern = r'[^\\d]+'\n",
    "print(re.findall(pattern, phrase))"
   ]
  },
  {
   "cell_type": "code",
   "execution_count": 59,
   "id": "a2b34afe",
   "metadata": {},
   "outputs": [],
   "source": [
    "text = \"This is a string! But it has lot of punctuations. How can I remove it?\"\n",
    "result = re.findall(r'[^!.?><]+', text)"
   ]
  },
  {
   "cell_type": "code",
   "execution_count": 60,
   "id": "f3fa50da",
   "metadata": {},
   "outputs": [
    {
     "data": {
      "text/plain": [
       "['This is a string', ' But it has lot of punctuations', ' How can I remove it']"
      ]
     },
     "execution_count": 60,
     "metadata": {},
     "output_type": "execute_result"
    }
   ],
   "source": [
    "result"
   ]
  },
  {
   "cell_type": "code",
   "execution_count": 57,
   "id": "857a1c2e",
   "metadata": {},
   "outputs": [],
   "source": [
    "clean = ' '.join(result)"
   ]
  },
  {
   "cell_type": "code",
   "execution_count": 58,
   "id": "cf6ad3e9",
   "metadata": {},
   "outputs": [
    {
     "data": {
      "text/plain": [
       "'This is a string  But it has lot of punctuations  How can I remove it'"
      ]
     },
     "execution_count": 58,
     "metadata": {},
     "output_type": "execute_result"
    }
   ],
   "source": [
    "clean"
   ]
  }
 ],
 "metadata": {
  "kernelspec": {
   "display_name": "Python 3",
   "language": "python",
   "name": "python3"
  },
  "language_info": {
   "codemirror_mode": {
    "name": "ipython",
    "version": 3
   },
   "file_extension": ".py",
   "mimetype": "text/x-python",
   "name": "python",
   "nbconvert_exporter": "python",
   "pygments_lexer": "ipython3",
   "version": "3.10.7"
  }
 },
 "nbformat": 4,
 "nbformat_minor": 5
}
