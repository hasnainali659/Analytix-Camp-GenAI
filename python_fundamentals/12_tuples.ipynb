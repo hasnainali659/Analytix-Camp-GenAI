{
 "cells": [
  {
   "cell_type": "markdown",
   "id": "d6187bb1",
   "metadata": {},
   "source": [
    "# 📦 1.12 Python Tuples — The Unchangeable Boxes!\n",
    "\n",
    "## 🧠 What is a Tuple?\n",
    "A tuple is like a **sealed box** 📦 that holds multiple items in order, but once you close it, you **cannot change** what's inside!\n",
    "\n",
    "Think of it as:\n",
    "- A **list** that cannot be modified\n",
    "- A **permanent collection** of items\n",
    "- A **time capsule** that preserves things exactly as they are\n",
    "\n",
    "## 🏠 Real-Life Analogy\n",
    "Imagine you have a **photo album** 📸 from your birthday party:\n",
    "- The photos are in a specific order\n",
    "- You can look at any photo\n",
    "- But you **cannot remove or add** photos to this particular album\n",
    "- The memories are **preserved forever** in that exact order!\n"
   ]
  },
  {
   "cell_type": "markdown",
   "id": "ba7726d9",
   "metadata": {},
   "source": [
    "## 🔍 Basic Tuple Syntax\n",
    "\n",
    "```python\n",
    "my_tuple = (item1, item2, item3)\n",
    "```\n",
    "\n",
    "**Important**\n",
    "- Use round brackets `()`\n",
    "- Separate items with comma `,`\n",
    "- Items stay in the same order forever!\n"
   ]
  },
  {
   "cell_type": "markdown",
   "id": "a2367adf",
   "metadata": {},
   "source": [
    "## 🌈 Example 1: Colors of the Rainbow"
   ]
  },
  {
   "cell_type": "code",
   "execution_count": null,
   "id": "55ffbd2e",
   "metadata": {},
   "outputs": [],
   "source": [
    "# The colors of the rainbow never change their order!\n",
    "rainbow_colors = (\"Red\", \"Orange\", \"Yellow\", \"Green\", \"Blue\", \"Indigo\", \"Violet\")\n",
    "\n",
    "print(\"🌈 Rainbow Colors:\")\n",
    "print(rainbow_colors)\n",
    "print(f\"\\n🎨 Total colors: {len(rainbow_colors)}\")\n",
    "print(f\"🔴 First color: {rainbow_colors[0]}\")\n",
    "print(f\"🟣 Last color: {rainbow_colors[-1]}\")"
   ]
  },
  {
   "cell_type": "markdown",
   "id": "7e0d4392",
   "metadata": {},
   "source": [
    "## 📅 Example 2: Days of the Week"
   ]
  },
  {
   "cell_type": "code",
   "execution_count": null,
   "id": "c29c2a4e",
   "metadata": {},
   "outputs": [],
   "source": [
    "# Days of the week never change their order!\n",
    "weekdays = (\"Monday\", \"Tuesday\", \"Wednesday\", \"Thursday\", \"Friday\", \"Saturday\", \"Sunday\")\n",
    "\n",
    "print(\"📅 Days of the Week:\")\n",
    "for i, day in enumerate(weekdays, 1):\n",
    "    print(f\"{i}. {day}\")\n",
    "\n",
    "print(f\"\\n🎉 Weekend starts on: {weekdays[5]}\")\n",
    "print(f\"😴 Weekend ends on: {weekdays[6]}\")\n",
    "print(f\"📚 School week starts on: {weekdays[0]}\")"
   ]
  },
  {
   "cell_type": "markdown",
   "id": "b0f90dcc",
   "metadata": {},
   "source": [
    "## 🔍 Accessing Tuple Items (Just Like Lists!)"
   ]
  },
  {
   "cell_type": "code",
   "execution_count": null,
   "id": "664c3057",
   "metadata": {},
   "outputs": [],
   "source": [
    "family = (\"Baby Sister\", \"You\", \"Big Brother\", \"Mom\", \"Dad\", \"Grandpa\", \"Grandma\")\n",
    "\n",
    "print(\"👨‍👩‍👧‍👦 My Family (youngest to oldest):\")\n",
    "print(f\"👶 Youngest: {family[0]}\")\n",
    "print(f\"🧒 That's me: {family[1]}\")\n",
    "print(f\"👴 Oldest: {family[-1]}\")\n",
    "\n",
    "# Slicing\n",
    "print(f\"\\n👨‍👩‍👧‍👦 Parents: {family[3:5]}\")\n",
    "print(f\"👶👧👦 Kids: {family[0:3]}\")"
   ]
  },
  {
   "cell_type": "markdown",
   "id": "4a8dd587",
   "metadata": {},
   "source": [
    "## ❌ Why Tuples Cannot Be Changed"
   ]
  },
  {
   "cell_type": "code",
   "execution_count": null,
   "id": "7d6f2e4a",
   "metadata": {},
   "outputs": [],
   "source": [
    "coordinates = (10, 20)\n",
    "print(f\"📍 Original coordinates: {coordinates}\")\n",
    "\n",
    "# Uncommenting next line raises a TypeError\n",
    "# coordinates[0] = 15\n",
    "\n",
    "print(\"❌ Cannot change tuple items - they are immutable!\")\n",
    "new_coordinates = (15, 25)\n",
    "print(f\"📍 New coordinates: {new_coordinates}\")"
   ]
  },
  {
   "cell_type": "markdown",
   "id": "99816172",
   "metadata": {},
   "source": [
    "## 🎮 Example 3: Game Character Position"
   ]
  },
  {
   "cell_type": "code",
   "execution_count": null,
   "id": "e4496790",
   "metadata": {},
   "outputs": [],
   "source": [
    "player_position = (100, 250)\n",
    "enemy_position = (300, 180)\n",
    "treasure_position = (450, 320)\n",
    "\n",
    "print(\"🎮 Game Positions:\")\n",
    "print(f\"🧙‍♂️ Player at: {player_position}\")\n",
    "print(f\"👹 Enemy at: {enemy_position}\")\n",
    "print(f\"💰 Treasure at: {treasure_position}\")\n",
    "\n",
    "x_distance = treasure_position[0] - player_position[0]\n",
    "y_distance = treasure_position[1] - player_position[1]\n",
    "\n",
    "print(f\"\\n📏 Distance to treasure:\")\n",
    "print(f\"➡️ Horizontal: {x_distance} pixels\")\n",
    "print(f\"⬆️ Vertical: {y_distance} pixels\")"
   ]
  },
  {
   "cell_type": "markdown",
   "id": "cc1de353",
   "metadata": {},
   "source": [
    "## 🔍 Useful Tuple Methods"
   ]
  },
  {
   "cell_type": "code",
   "execution_count": null,
   "id": "988d9f61",
   "metadata": {},
   "outputs": [],
   "source": [
    "dice_rolls = (1, 3, 6, 3, 2, 6, 1, 6, 4, 6)\n",
    "\n",
    "print(f\"🎲 Dice rolls: {dice_rolls}\")\n",
    "print(f\"📊 Total rolls: {len(dice_rolls)}\")\n",
    "\n",
    "print(f\"🎯 Number of sixes: {dice_rolls.count(6)}\")\n",
    "print(f\"🔍 First 3 is at position: {dice_rolls.index(3)}\")\n",
    "\n",
    "if 5 in dice_rolls:\n",
    "    print(\"✅ We rolled a 5!\")\n",
    "else:\n",
    "    print(\"❌ No 5 was rolled\")"
   ]
  },
  {
   "cell_type": "markdown",
   "id": "a9d60937",
   "metadata": {},
   "source": [
    "## 🔄 Converting Between Lists and Tuples"
   ]
  },
  {
   "cell_type": "code",
   "execution_count": null,
   "id": "a89d2b00",
   "metadata": {},
   "outputs": [],
   "source": [
    "shopping_list = [\"apples\", \"bananas\", \"milk\", \"bread\"]\n",
    "print(f\"📝 Shopping list (changeable): {shopping_list}\")\n",
    "\n",
    "shopping_tuple = tuple(shopping_list)\n",
    "print(f\"📦 Shopping tuple (permanent): {shopping_tuple}\")\n",
    "\n",
    "new_shopping_list = list(shopping_tuple)\n",
    "new_shopping_list.append(\"chocolate\")\n",
    "print(f\"📝 Updated shopping list: {new_shopping_list}\")"
   ]
  },
  {
   "cell_type": "code",
   "execution_count": null,
   "id": "1ff031b4",
   "metadata": {},
   "outputs": [],
   "source": [
    "# 🧠 Practice Questions - Test Your Tuple Knowledge!\n",
    "\n",
    "print(\"🎯 TUPLE PRACTICE QUESTIONS\")\n",
    "print(\"=\" * 50)\n",
    "\n",
    "# Question 1: Create a tuple\n",
    "print(\"\\n1. Create a tuple called 'colors' with: red, blue, green, yellow\")\n",
    "# Your answer here:\n",
    "# colors = \n",
    "\n",
    "print(\"\\n2. What will this code print?\")\n",
    "print(\"   coordinates = (10, 20)\")\n",
    "print(\"   print(coordinates[1])\")\n",
    "# Your answer:\n",
    "\n",
    "print(\"\\n3. Create a tuple with just one item (the number 42)\")\n",
    "# Your answer here:\n",
    "# single_item = \n",
    "\n",
    "print(\"\\n4. What's wrong with this code?\")\n",
    "print(\"   my_tuple = (1, 2, 3)\")\n",
    "print(\"   my_tuple[0] = 5\")\n",
    "# Your answer:\n",
    "\n",
    "print(\"\\n5. How do you find how many times 'apple' appears in this tuple?\")\n",
    "print(\"   fruits = ('apple', 'banana', 'apple', 'orange', 'apple')\")\n",
    "# Your answer here:\n",
    "# count = \n",
    "\n",
    "print(\"\\n6. What method finds the position of the first 'banana'?\")\n",
    "print(\"   fruits = ('apple', 'banana', 'apple', 'orange')\")\n",
    "# Your answer here:\n",
    "# position = \n",
    "\n",
    "print(\"\\n7. Convert this list to a tuple:\")\n",
    "print(\"   numbers = [1, 2, 3, 4, 5]\")\n",
    "# Your answer here:\n",
    "# numbers_tuple = \n",
    "\n",
    "print(\"\\n8. How do you check if 'cat' is in this tuple?\")\n",
    "print(\"   animals = ('dog', 'cat', 'bird', 'fish')\")\n",
    "# Your answer here:\n",
    "# if _____ in animals:\")\n",
    "\n",
    "print(\"\\n9. What are the x and y coordinates?\")\n",
    "print(\"   player_pos = (150, 75)\")\n",
    "print(\"   x = ?\")\n",
    "print(\"   y = ?\")\n",
    "# Your answers:\n",
    "# x = \n",
    "# y = \n",
    "\n",
    "print(\"\\n10. Which is better for storing days of the week - tuple or list? Why?\")\n",
    "# Your answer:\n",
    "\n",
    "print(\"\\n🎉 Great job practicing! Check your answers with the examples above.\")\n"
   ]
  },
  {
   "cell_type": "markdown",
   "id": "a4bc6ef1",
   "metadata": {},
   "source": [
    "## 🆚 Tuples vs Lists - When to Use What?\n",
    "\n",
    "| Feature            | Tuples 📦 | Lists 📝 |\n",
    "|--------------------|-----------|----------|\n",
    "| **Changeable**     | ❌ No     | ✅ Yes   |\n",
    "| **Brackets**       | `()`      | `[]`     |\n",
    "| **Speed**          | 🚀 Faster | 🐌 Slower|\n",
    "| **Memory**         | 💾 Less   | 💾 More  |\n",
    "| **Use When**       | Data won't change | Data might change |\n",
    "\n",
    "### 📦 Use Tuples For:\n",
    "- 📅 Days of week, months\n",
    "- 🌈 Rainbow colors\n",
    "- 📍 Coordinates (x, y)\n",
    "- 🎓 Student records\n",
    "- 🏆 Competition results\n",
    "\n",
    "### 📝 Use Lists For:\n",
    "- 🛒 Shopping lists\n",
    "- 👥 Friend lists\n",
    "- 📚 Homework tasks\n",
    "- 🎮 Game scores\n",
    "- 📱 App features\n"
   ]
  },
  {
   "cell_type": "markdown",
   "id": "93c7472a",
   "metadata": {},
   "source": [
    "## 🎉 Fun Facts About Tuples\n",
    "\n",
    "1. **🚀 Lightning Fast:** Tuples are faster than lists!\n",
    "2. **🔒 Secure:** Once created, nobody can accidentally change them\n",
    "3. **💾 Memory Efficient:** They use less computer memory\n",
    "4. **🗝️ Dictionary Keys:** Tuples can be used as dictionary keys\n",
    "5. **🎯 Perfect for Coordinates:** Great for storing (x, y) positions\n",
    "\n",
    "## 🏆 What You Learned\n",
    "- ✅ How to create tuples with `()`\n",
    "- ✅ How to access tuple items\n",
    "- ✅ Why tuples are immutable\n",
    "- ✅ Useful tuple methods like `.count()` and `.index()`\n",
    "- ✅ When to choose tuples vs lists\n",
    "- ✅ Converting between tuples and lists\n",
    "\n",
    "**Next up:** Sets - The unique collections with no duplicates! 🎯\n"
   ]
  }
 ],
 "metadata": {
  "language_info": {
   "name": "python"
  }
 },
 "nbformat": 4,
 "nbformat_minor": 5
}
