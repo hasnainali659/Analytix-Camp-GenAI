{
 "cells": [
  {
   "cell_type": "code",
   "execution_count": null,
   "id": "aca54db8",
   "metadata": {},
   "outputs": [],
   "source": [
    "player = (x, y, z) # tuples"
   ]
  },
  {
   "cell_type": "code",
   "execution_count": 2,
   "id": "153fbef3",
   "metadata": {},
   "outputs": [],
   "source": [
    "num_list = [1, 2, 3, 4]\n"
   ]
  },
  {
   "cell_type": "code",
   "execution_count": 3,
   "id": "a259390e",
   "metadata": {},
   "outputs": [],
   "source": [
    "num_list[1] = 5"
   ]
  },
  {
   "cell_type": "code",
   "execution_count": 4,
   "id": "ed74c536",
   "metadata": {},
   "outputs": [
    {
     "data": {
      "text/plain": [
       "[1, 5, 3, 4]"
      ]
     },
     "execution_count": 4,
     "metadata": {},
     "output_type": "execute_result"
    }
   ],
   "source": [
    "num_list"
   ]
  },
  {
   "cell_type": "code",
   "execution_count": 5,
   "id": "4e1b7080",
   "metadata": {},
   "outputs": [],
   "source": [
    "weekdays = (\"monday\", \"tuesday\", \"wednesday\", \"thursday\", \"friday\", \"saturday\", \"sunday\")"
   ]
  },
  {
   "cell_type": "code",
   "execution_count": 7,
   "id": "1254eb29",
   "metadata": {},
   "outputs": [
    {
     "name": "stdout",
     "output_type": "stream",
     "text": [
      "1\n",
      "2\n",
      "3\n",
      "4\n"
     ]
    }
   ],
   "source": [
    "for i in range(1, 5):\n",
    "    print(i)"
   ]
  },
  {
   "cell_type": "code",
   "execution_count": 8,
   "id": "ebbe7e53",
   "metadata": {},
   "outputs": [
    {
     "name": "stdout",
     "output_type": "stream",
     "text": [
      "monday\n",
      "tuesday\n",
      "wednesday\n",
      "thursday\n",
      "friday\n",
      "saturday\n",
      "sunday\n"
     ]
    }
   ],
   "source": [
    "for day in weekdays:\n",
    "    print(day)\n"
   ]
  },
  {
   "cell_type": "code",
   "execution_count": 9,
   "id": "3458e074",
   "metadata": {},
   "outputs": [
    {
     "name": "stdout",
     "output_type": "stream",
     "text": [
      "the 0day is monday\n",
      "the 1day is tuesday\n",
      "the 2day is wednesday\n",
      "the 3day is thursday\n",
      "the 4day is friday\n",
      "the 5day is saturday\n",
      "the 6day is sunday\n"
     ]
    }
   ],
   "source": [
    "for idx, day in enumerate(weekdays):\n",
    "    print(f\"the {idx}day is {day}\")"
   ]
  },
  {
   "cell_type": "code",
   "execution_count": 13,
   "id": "5710fae9",
   "metadata": {},
   "outputs": [
    {
     "name": "stdout",
     "output_type": "stream",
     "text": [
      "sunday\n"
     ]
    }
   ],
   "source": [
    "last_day = weekdays[-1]\n",
    "print(last_day)"
   ]
  },
  {
   "cell_type": "code",
   "execution_count": 14,
   "id": "ace2f6f4",
   "metadata": {},
   "outputs": [
    {
     "ename": "TypeError",
     "evalue": "'tuple' object does not support item assignment",
     "output_type": "error",
     "traceback": [
      "\u001b[31m---------------------------------------------------------------------------\u001b[39m",
      "\u001b[31mTypeError\u001b[39m                                 Traceback (most recent call last)",
      "\u001b[36mCell\u001b[39m\u001b[36m \u001b[39m\u001b[32mIn[14]\u001b[39m\u001b[32m, line 3\u001b[39m\n\u001b[32m      1\u001b[39m coordinates = (\u001b[32m10\u001b[39m, \u001b[32m20\u001b[39m)\n\u001b[32m----> \u001b[39m\u001b[32m3\u001b[39m \u001b[43mcoordinates\u001b[49m\u001b[43m[\u001b[49m\u001b[32;43m0\u001b[39;49m\u001b[43m]\u001b[49m = \u001b[32m15\u001b[39m\n",
      "\u001b[31mTypeError\u001b[39m: 'tuple' object does not support item assignment"
     ]
    }
   ],
   "source": [
    "coordinates = (10, 20)\n",
    "\n",
    "coordinates[0] = 15"
   ]
  },
  {
   "cell_type": "code",
   "execution_count": null,
   "id": "1d5fa2dd",
   "metadata": {},
   "outputs": [
    {
     "name": "stdout",
     "output_type": "stream",
     "text": [
      "10\n"
     ]
    }
   ],
   "source": [
    "dice_rolls = (1, 3, 6, 3, 2, 6, 1, 6, 4, 6)\n",
    "\n",
    "print(len(dice_rolls))"
   ]
  },
  {
   "cell_type": "code",
   "execution_count": null,
   "id": "7b8b82a4",
   "metadata": {},
   "outputs": [
    {
     "data": {
      "text/plain": [
       "4"
      ]
     },
     "execution_count": 19,
     "metadata": {},
     "output_type": "execute_result"
    }
   ],
   "source": [
    "dice_rolls.count(6)\n",
    "dice_rolls.index(2)"
   ]
  },
  {
   "cell_type": "code",
   "execution_count": 20,
   "id": "73bc294e",
   "metadata": {},
   "outputs": [],
   "source": [
    "shopping_list = [\"apples\", \"bananas\", \"milk\", \"bread\"]\n",
    "\n",
    "shopping_tuple = tuple(shopping_list)"
   ]
  },
  {
   "cell_type": "code",
   "execution_count": 21,
   "id": "283802b2",
   "metadata": {},
   "outputs": [
    {
     "name": "stdout",
     "output_type": "stream",
     "text": [
      "('apples', 'bananas', 'milk', 'bread')\n"
     ]
    }
   ],
   "source": [
    "print(shopping_tuple)"
   ]
  },
  {
   "cell_type": "code",
   "execution_count": 22,
   "id": "adda3348",
   "metadata": {},
   "outputs": [
    {
     "name": "stdout",
     "output_type": "stream",
     "text": [
      "['apples', 'bananas', 'milk', 'bread']\n"
     ]
    }
   ],
   "source": [
    "new_list = list(shopping_tuple)\n",
    "print(new_list)"
   ]
  },
  {
   "cell_type": "code",
   "execution_count": null,
   "id": "b286d646",
   "metadata": {},
   "outputs": [],
   "source": [
    "# Sets"
   ]
  },
  {
   "cell_type": "code",
   "execution_count": 24,
   "id": "3ffe163c",
   "metadata": {},
   "outputs": [],
   "source": [
    "colors = [\"red\", \"blue\", \"green\", \"orange\", \"red\", \"purple\", \"blue\", \"blue\"]"
   ]
  },
  {
   "cell_type": "code",
   "execution_count": 25,
   "id": "07b0c405",
   "metadata": {},
   "outputs": [],
   "source": [
    "unique_color = set(colors)"
   ]
  },
  {
   "cell_type": "code",
   "execution_count": 26,
   "id": "835befe7",
   "metadata": {},
   "outputs": [
    {
     "name": "stdout",
     "output_type": "stream",
     "text": [
      "{'purple', 'blue', 'orange', 'red', 'green'}\n"
     ]
    }
   ],
   "source": [
    "print(unique_color)"
   ]
  },
  {
   "cell_type": "code",
   "execution_count": 32,
   "id": "8dc4622f",
   "metadata": {},
   "outputs": [],
   "source": [
    "colors = {'purple', 'blue', 'orange', 'red', 'blue', 'red', 'green'}"
   ]
  },
  {
   "cell_type": "code",
   "execution_count": 33,
   "id": "bc0aaa74",
   "metadata": {},
   "outputs": [
    {
     "name": "stdout",
     "output_type": "stream",
     "text": [
      "{'purple', 'orange', 'blue', 'red', 'green'}\n"
     ]
    }
   ],
   "source": [
    "print(colors)"
   ]
  },
  {
   "cell_type": "code",
   "execution_count": 35,
   "id": "cba738ad",
   "metadata": {},
   "outputs": [],
   "source": [
    "set_1 = {\"Ali\", \"Sara\", \"Ahmed\"}\n",
    "set_2 = {\"Sara\", \"Ali\", \"Zara\"}\n",
    "set_3 = {\"Ahmed\", \"Hassan\"}"
   ]
  },
  {
   "cell_type": "code",
   "execution_count": 36,
   "id": "e2a8b91c",
   "metadata": {},
   "outputs": [
    {
     "name": "stdout",
     "output_type": "stream",
     "text": [
      "{'Ali', 'Zara', 'Ahmed', 'Hassan', 'Sara'}\n"
     ]
    }
   ],
   "source": [
    "all_players = set_1 | set_2 | set_3\n",
    "\n",
    "print(all_players)"
   ]
  },
  {
   "cell_type": "code",
   "execution_count": 41,
   "id": "4762c13c",
   "metadata": {},
   "outputs": [],
   "source": [
    "visited_cities = {\"Karachi\", \"Lahore\", \"Islamabad\"}"
   ]
  },
  {
   "cell_type": "code",
   "execution_count": 42,
   "id": "4b6f735c",
   "metadata": {},
   "outputs": [],
   "source": [
    "visited_cities.add(\"Peshawar\")"
   ]
  },
  {
   "cell_type": "code",
   "execution_count": 45,
   "id": "2495fad0",
   "metadata": {},
   "outputs": [
    {
     "name": "stdout",
     "output_type": "stream",
     "text": [
      "{'Islamabad', 'Lahore', 'Karachi', 'Peshawar'}\n"
     ]
    }
   ],
   "source": [
    "print(visited_cities)"
   ]
  },
  {
   "cell_type": "code",
   "execution_count": 44,
   "id": "b2e58c4e",
   "metadata": {},
   "outputs": [],
   "source": [
    "visited_cities.add(\"Karachi\")"
   ]
  },
  {
   "cell_type": "code",
   "execution_count": 46,
   "id": "c071a5be",
   "metadata": {},
   "outputs": [
    {
     "name": "stdout",
     "output_type": "stream",
     "text": [
      "{'Islamabad', 'Lahore', 'Karachi', 'Peshawar'}\n"
     ]
    }
   ],
   "source": [
    "print(visited_cities)"
   ]
  },
  {
   "cell_type": "code",
   "execution_count": 47,
   "id": "67f17504",
   "metadata": {},
   "outputs": [],
   "source": [
    "cities_list = [\"Faisalabad\", \"Multan\"]\n",
    "\n",
    "visited_cities.update(cities_list)"
   ]
  },
  {
   "cell_type": "code",
   "execution_count": 48,
   "id": "5c043e09",
   "metadata": {},
   "outputs": [
    {
     "name": "stdout",
     "output_type": "stream",
     "text": [
      "{'Multan', 'Lahore', 'Islamabad', 'Peshawar', 'Karachi', 'Faisalabad'}\n"
     ]
    }
   ],
   "source": [
    "print(visited_cities)"
   ]
  },
  {
   "cell_type": "code",
   "execution_count": 49,
   "id": "15067b0e",
   "metadata": {},
   "outputs": [
    {
     "data": {
      "text/plain": [
       "{'Faisalabad', 'Islamabad', 'Karachi', 'Lahore', 'Multan', 'Peshawar'}"
      ]
     },
     "execution_count": 49,
     "metadata": {},
     "output_type": "execute_result"
    }
   ],
   "source": [
    "visited_cities"
   ]
  },
  {
   "cell_type": "code",
   "execution_count": 50,
   "id": "82ec8894",
   "metadata": {},
   "outputs": [],
   "source": [
    "visited_cities.remove(\"Karachi\")"
   ]
  },
  {
   "cell_type": "code",
   "execution_count": 51,
   "id": "74ee21c5",
   "metadata": {},
   "outputs": [
    {
     "data": {
      "text/plain": [
       "{'Faisalabad', 'Islamabad', 'Lahore', 'Multan', 'Peshawar'}"
      ]
     },
     "execution_count": 51,
     "metadata": {},
     "output_type": "execute_result"
    }
   ],
   "source": [
    "visited_cities"
   ]
  },
  {
   "cell_type": "code",
   "execution_count": 54,
   "id": "3c945e18",
   "metadata": {},
   "outputs": [],
   "source": [
    "removed_item = visited_cities.pop()"
   ]
  },
  {
   "cell_type": "code",
   "execution_count": 56,
   "id": "54d2a50e",
   "metadata": {},
   "outputs": [
    {
     "name": "stdout",
     "output_type": "stream",
     "text": [
      "Lahore\n"
     ]
    }
   ],
   "source": [
    "print(removed_item)"
   ]
  },
  {
   "cell_type": "code",
   "execution_count": 57,
   "id": "5d163ca8",
   "metadata": {},
   "outputs": [
    {
     "name": "stdout",
     "output_type": "stream",
     "text": [
      "{'Islamabad', 'Peshawar', 'Faisalabad'}\n"
     ]
    }
   ],
   "source": [
    "print(visited_cities)"
   ]
  },
  {
   "cell_type": "code",
   "execution_count": 58,
   "id": "6e193d5c",
   "metadata": {},
   "outputs": [],
   "source": [
    "set_1 = {\"Ali\", \"Sara\", \"Ahmed\"}\n",
    "set_2 = {\"Sara\", \"Ali\", \"Zara\"}"
   ]
  },
  {
   "cell_type": "code",
   "execution_count": 61,
   "id": "bb82fffc",
   "metadata": {},
   "outputs": [],
   "source": [
    "mutual_student = set_1 & set_2\n",
    "difference_set1_set_2 = set_1 - set_2\n",
    "difference_set2_set_1 = set_2 - set_1"
   ]
  },
  {
   "cell_type": "code",
   "execution_count": 63,
   "id": "064e129c",
   "metadata": {},
   "outputs": [
    {
     "name": "stdout",
     "output_type": "stream",
     "text": [
      "{'Zara'}\n"
     ]
    }
   ],
   "source": [
    "print(difference_set2_set_1)"
   ]
  },
  {
   "cell_type": "code",
   "execution_count": 64,
   "id": "94771fbd",
   "metadata": {},
   "outputs": [
    {
     "name": "stdout",
     "output_type": "stream",
     "text": [
      "Ali\n",
      "Sara\n",
      "Ahmed\n"
     ]
    }
   ],
   "source": [
    "for value in set_1:\n",
    "    print(value)"
   ]
  },
  {
   "cell_type": "code",
   "execution_count": 65,
   "id": "197e7542",
   "metadata": {},
   "outputs": [],
   "source": [
    "def sum_of_two_num(a, b):\n",
    "    add_num = a + b\n",
    "    return add_num"
   ]
  },
  {
   "cell_type": "code",
   "execution_count": 66,
   "id": "77a56834",
   "metadata": {},
   "outputs": [
    {
     "name": "stdout",
     "output_type": "stream",
     "text": [
      "11\n"
     ]
    }
   ],
   "source": [
    "print(sum_of_two_num(6, 5))"
   ]
  },
  {
   "cell_type": "code",
   "execution_count": 67,
   "id": "0284b45b",
   "metadata": {},
   "outputs": [],
   "source": [
    "def say_hello():\n",
    "    print(\"Hello there\")"
   ]
  },
  {
   "cell_type": "code",
   "execution_count": 68,
   "id": "778eb34e",
   "metadata": {},
   "outputs": [
    {
     "name": "stdout",
     "output_type": "stream",
     "text": [
      "Hello there\n"
     ]
    }
   ],
   "source": [
    "say_hello()"
   ]
  },
  {
   "cell_type": "code",
   "execution_count": 69,
   "id": "9e84aea8",
   "metadata": {},
   "outputs": [],
   "source": [
    "def greet_person(name):\n",
    "    print(f\"Hello how are you {name}\")"
   ]
  },
  {
   "cell_type": "code",
   "execution_count": 70,
   "id": "4089fb9e",
   "metadata": {},
   "outputs": [
    {
     "name": "stdout",
     "output_type": "stream",
     "text": [
      "Hello how are you Hasnain\n"
     ]
    }
   ],
   "source": [
    "greet_person(\"Hasnain\")"
   ]
  },
  {
   "cell_type": "code",
   "execution_count": 71,
   "id": "1ceae3a7",
   "metadata": {},
   "outputs": [],
   "source": [
    "def max_number(list_of_numbers):\n",
    "    max_number = max(list_of_numbers)\n",
    "    print(f\"here is the max number {max_number}\")"
   ]
  },
  {
   "cell_type": "code",
   "execution_count": 72,
   "id": "9ce1478e",
   "metadata": {},
   "outputs": [
    {
     "name": "stdout",
     "output_type": "stream",
     "text": [
      "here is the max number 101\n"
     ]
    }
   ],
   "source": [
    "list_of_num = [1, 2, 6, 100, 50, 70, 101, 80]\n",
    "\n",
    "max_number(list_of_num)"
   ]
  },
  {
   "cell_type": "code",
   "execution_count": 73,
   "id": "70ba2ba9",
   "metadata": {},
   "outputs": [],
   "source": [
    "def sum(num1, num2):\n",
    "    add_num = num1 + num2\n",
    "    return add_num"
   ]
  },
  {
   "cell_type": "code",
   "execution_count": 74,
   "id": "8c3be58a",
   "metadata": {},
   "outputs": [
    {
     "name": "stdout",
     "output_type": "stream",
     "text": [
      "60\n"
     ]
    }
   ],
   "source": [
    "add_number = sum(5, 7)\n",
    "multiply_num = add_number * 5\n",
    "\n",
    "print(multiply_num)"
   ]
  },
  {
   "cell_type": "code",
   "execution_count": 1,
   "id": "ea89fdd7",
   "metadata": {},
   "outputs": [],
   "source": [
    "def say_hello():\n",
    "    print(\"Hello how are you\")"
   ]
  },
  {
   "cell_type": "code",
   "execution_count": 2,
   "id": "e3044914",
   "metadata": {},
   "outputs": [
    {
     "name": "stdout",
     "output_type": "stream",
     "text": [
      "Hello how are you\n"
     ]
    }
   ],
   "source": [
    "say_hello()"
   ]
  },
  {
   "cell_type": "code",
   "execution_count": 7,
   "id": "119558f9",
   "metadata": {},
   "outputs": [],
   "source": [
    "def say_hello(name):\n",
    "    capital_name = name.capitalize()\n",
    "    print(f\"Hello how are you {capital_name}\")"
   ]
  },
  {
   "cell_type": "code",
   "execution_count": 9,
   "id": "1eb8f3d5",
   "metadata": {},
   "outputs": [
    {
     "name": "stdout",
     "output_type": "stream",
     "text": [
      "Hello how are you Hasnain\n"
     ]
    }
   ],
   "source": [
    "say_hello(\"hasnain\")"
   ]
  },
  {
   "cell_type": "code",
   "execution_count": null,
   "id": "9d3e92f4",
   "metadata": {},
   "outputs": [],
   "source": [
    "describe_pet()\n",
    "pet_name, pet_age, pet_food\n",
    "\n",
    "print"
   ]
  },
  {
   "cell_type": "code",
   "execution_count": null,
   "id": "b2763382",
   "metadata": {},
   "outputs": [],
   "source": [
    "print(\"Hasnain\")"
   ]
  },
  {
   "cell_type": "code",
   "execution_count": null,
   "id": "32c6ac7d",
   "metadata": {},
   "outputs": [],
   "source": [
    "def add_num(num1, num2):\n",
    "    num3 = num1 + num2\n",
    "    return num3"
   ]
  },
  {
   "cell_type": "code",
   "execution_count": null,
   "id": "36f42c6f",
   "metadata": {},
   "outputs": [
    {
     "ename": "TypeError",
     "evalue": "add_num() takes 2 positional arguments but 3 were given",
     "output_type": "error",
     "traceback": [
      "\u001b[31m---------------------------------------------------------------------------\u001b[39m",
      "\u001b[31mTypeError\u001b[39m                                 Traceback (most recent call last)",
      "\u001b[36mCell\u001b[39m\u001b[36m \u001b[39m\u001b[32mIn[35]\u001b[39m\u001b[32m, line 1\u001b[39m\n\u001b[32m----> \u001b[39m\u001b[32m1\u001b[39m added_nums = \u001b[43madd_num\u001b[49m\u001b[43m(\u001b[49m\u001b[32;43m5\u001b[39;49m\u001b[43m,\u001b[49m\u001b[43m \u001b[49m\u001b[32;43m6\u001b[39;49m\u001b[43m,\u001b[49m\u001b[43m \u001b[49m\u001b[32;43m7\u001b[39;49m\u001b[43m)\u001b[49m\n\u001b[32m      3\u001b[39m \u001b[38;5;28mprint\u001b[39m(added_nums * \u001b[32m7\u001b[39m )\n",
      "\u001b[31mTypeError\u001b[39m: add_num() takes 2 positional arguments but 3 were given"
     ]
    }
   ],
   "source": [
    "added_nums = add_num(5, 6)\n",
    "\n",
    "print(added_nums * 7 )"
   ]
  },
  {
   "cell_type": "code",
   "execution_count": null,
   "id": "77fa2d17",
   "metadata": {},
   "outputs": [],
   "source": [
    "create_full_name\n",
    "first_name\n",
    "last_name\n",
    "\n",
    "print()"
   ]
  },
  {
   "cell_type": "code",
   "execution_count": null,
   "id": "e3c7576a",
   "metadata": {},
   "outputs": [],
   "source": [
    "def calculate(num1, num2, operation=\"add\"):\n",
    "    if operation == \"add\":\n",
    "        result = num1 + num2\n",
    "    elif operation == \"multiply\":\n",
    "        result = num1 * num2\n",
    "    elif operation == \"subtract\":\n",
    "        result = num1 - num2\n",
    "    elif operation == \"division\":\n",
    "        result = num1/num2\n",
    "    return result"
   ]
  },
  {
   "cell_type": "code",
   "execution_count": 17,
   "id": "09e1c875",
   "metadata": {},
   "outputs": [
    {
     "name": "stdout",
     "output_type": "stream",
     "text": [
      "3.0\n"
     ]
    }
   ],
   "source": [
    "res = calculate(6, 2, \"division\")\n",
    "print(res)"
   ]
  },
  {
   "cell_type": "code",
   "execution_count": 19,
   "id": "610a3162",
   "metadata": {},
   "outputs": [],
   "source": [
    "def celsius_to_fahrenheit(celsius):\n",
    "    fahrenheit = (celsius * 9/5) + 32\n",
    "    return fahrenheit\n",
    "\n",
    "def fahrenheit_to_celsius(fahrenheit):\n",
    "    celsius = (fahrenheit - 32) * 5/9\n",
    "    return celsius\n",
    "\n",
    "def temperature_report(temp, unit):\n",
    "    if unit.lower() == \"c\":\n",
    "        other_temperature = celsius_to_fahrenheit(temp)\n",
    "        print(f\"{temp} C = {other_temperature} F\")\n",
    "\n",
    "    elif unit.lower() == \"f\":\n",
    "        other_temperature = fahrenheit_to_celsius(temp)\n",
    "        print(f\"{temp} F = {other_temperature} C\")\n",
    "\n",
    "    else:\n",
    "        print(\"invalid unit\")"
   ]
  },
  {
   "cell_type": "code",
   "execution_count": null,
   "id": "b78607ce",
   "metadata": {},
   "outputs": [
    {
     "name": "stdout",
     "output_type": "stream",
     "text": [
      "invalid unit\n"
     ]
    }
   ],
   "source": [
    "temperature_report(40, \"G\")"
   ]
  },
  {
   "cell_type": "code",
   "execution_count": 23,
   "id": "ac7a84cc",
   "metadata": {},
   "outputs": [],
   "source": [
    "def analyze_text(text):\n",
    "    word_count = len(text.split())\n",
    "    char_count = len(text)\n",
    "    \n",
    "    return word_count, char_count"
   ]
  },
  {
   "cell_type": "code",
   "execution_count": 27,
   "id": "25bf2deb",
   "metadata": {},
   "outputs": [
    {
     "name": "stdout",
     "output_type": "stream",
     "text": [
      "6\n"
     ]
    }
   ],
   "source": [
    "text = \"My name is Hasnain Ali Poonja\"\n",
    "print(len(text.split()))"
   ]
  },
  {
   "cell_type": "code",
   "execution_count": 25,
   "id": "e4f362f2",
   "metadata": {},
   "outputs": [
    {
     "name": "stdout",
     "output_type": "stream",
     "text": [
      "The count of words is 6 and the count of char is 29\n"
     ]
    }
   ],
   "source": [
    "word_count, char_count = analyze_text(\"My name is Hasnain Ali Poonja\")\n",
    "\n",
    "print(f\"The count of words is {word_count} and the count of char is {char_count}\")"
   ]
  },
  {
   "cell_type": "code",
   "execution_count": null,
   "id": "8a3d52b8",
   "metadata": {},
   "outputs": [],
   "source": [
    "def add_all_numbers(*numbers):\n",
    "    add_nums = sum(numbers)\n",
    "    return add_nums"
   ]
  },
  {
   "cell_type": "code",
   "execution_count": null,
   "id": "5d968d88",
   "metadata": {},
   "outputs": [
    {
     "name": "stdout",
     "output_type": "stream",
     "text": [
      "80\n"
     ]
    }
   ],
   "source": [
    "result = add_all_numbers(1, 8, 9, 7, 5)\n",
    "print(result)"
   ]
  },
  {
   "cell_type": "code",
   "execution_count": 33,
   "id": "563b32f5",
   "metadata": {},
   "outputs": [],
   "source": [
    "def create_profile(**info):\n",
    "    for key, value in info.items():\n",
    "        print(f\"The key is {key} and the value is {value}\")"
   ]
  },
  {
   "cell_type": "code",
   "execution_count": 34,
   "id": "5348a234",
   "metadata": {},
   "outputs": [
    {
     "name": "stdout",
     "output_type": "stream",
     "text": [
      "The key is name and the value is Alice\n",
      "The key is age and the value is 12\n",
      "The key is hobby and the value is reading\n",
      "The key is name and the value is Bob\n",
      "The key is grade and the value is 7\n",
      "The key is sports and the value is soccer\n"
     ]
    }
   ],
   "source": [
    "create_profile(name=\"Alice\", age=\"12\", hobby=\"reading\")\n",
    "create_profile(name=\"Bob\", grade=7, sports=\"soccer\")"
   ]
  },
  {
   "cell_type": "code",
   "execution_count": 36,
   "id": "648a8015",
   "metadata": {},
   "outputs": [],
   "source": [
    "def greet_all(*names):\n",
    "    for name in names:\n",
    "        print(f\"Hi how are you {name}\")"
   ]
  },
  {
   "cell_type": "code",
   "execution_count": null,
   "id": "5c9d685b",
   "metadata": {},
   "outputs": [],
   "source": [
    "*args **kwargs"
   ]
  },
  {
   "cell_type": "code",
   "execution_count": 38,
   "id": "b528c565",
   "metadata": {},
   "outputs": [
    {
     "name": "stdout",
     "output_type": "stream",
     "text": [
      "Hi how are you Hasnain\n",
      "Hi how are you Ali\n",
      "Hi how are you Sara\n",
      "Hi how are you Muzammil\n"
     ]
    }
   ],
   "source": [
    "greet_all(\"Hasnain\", \"Ali\", \"Sara\", \"Muzammil\")"
   ]
  }
 ],
 "metadata": {
  "kernelspec": {
   "display_name": "Python 3",
   "language": "python",
   "name": "python3"
  },
  "language_info": {
   "codemirror_mode": {
    "name": "ipython",
    "version": 3
   },
   "file_extension": ".py",
   "mimetype": "text/x-python",
   "name": "python",
   "nbconvert_exporter": "python",
   "pygments_lexer": "ipython3",
   "version": "3.13.3"
  }
 },
 "nbformat": 4,
 "nbformat_minor": 5
}
