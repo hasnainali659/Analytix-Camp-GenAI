{
 "cells": [
  {
   "cell_type": "markdown",
   "metadata": {},
   "source": [
    "🧰 Python Lists – Your Personal Organizer!\n",
    "\n",
    "🔍 What is a List?\n",
    "A list in Python is a collection of items that are ordered, changeable (mutable), and can contain duplicates.\n",
    "\n",
    "🎒 Real-life Analogy:\n",
    "Think of a shopping bag 🛍️ — you can:\n",
    "\n",
    "Put items in it (append)\n",
    "\n",
    "Remove items from it (remove)\n",
    "\n",
    "Change items inside (modify)\n",
    "\n",
    "Peek inside (indexing)\n",
    "\n",
    "And even organize it (sort, reverse)"
   ]
  },
  {
   "cell_type": "code",
   "execution_count": null,
   "metadata": {},
   "outputs": [],
   "source": [
    "fruits = [\"apple\", \"banana\", \"cherry\"]"
   ]
  },
  {
   "cell_type": "markdown",
   "metadata": {},
   "source": [
    "📦 Storing Different Data Types\n",
    "Python lists can contain different data types:"
   ]
  },
  {
   "cell_type": "code",
   "execution_count": null,
   "metadata": {},
   "outputs": [],
   "source": [
    "mixed = [\"Ali\", 17, True, 95.6]"
   ]
  }
 ],
 "metadata": {
  "language_info": {
   "name": "python"
  }
 },
 "nbformat": 4,
 "nbformat_minor": 2
}
