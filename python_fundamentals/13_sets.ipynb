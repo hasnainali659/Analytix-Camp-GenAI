{
 "cells": [
  {
   "cell_type": "markdown",
   "id": "55ef7671",
   "metadata": {},
   "source": [
    "# 🎯 1.13 Python Sets — The Unique Collections!\n",
    "\n",
    "## 🧠 What is a Set?\n",
    "A set is like a **special box** that only keeps **unique items** – no duplicates allowed! 🚫\n",
    "\n",
    "Think of it as:\n",
    "- A **collection** where each item appears only **once**\n",
    "- A **magic bag** that automatically removes duplicates\n",
    "- A **club membership list** where each person can only join once\n",
    "\n",
    "## 🎪 Real‑Life Analogy\n",
    "Imagine you're collecting **unique stickers** 🌟:\n",
    "- You have a special album where each sticker design can appear **only once**\n",
    "- If someone gives you a sticker you already have, your album **automatically rejects** it\n",
    "- You can quickly check if you have a specific sticker\n",
    "- Order doesn't matter – you only care about **which unique stickers** you have!\n"
   ]
  },
  {
   "cell_type": "markdown",
   "id": "c2af963b",
   "metadata": {},
   "source": [
    "## 🔍 Basic Set Syntax\n",
    "\n",
    "```python\n",
    "my_set = {item1, item2, item3}\n",
    "# OR\n",
    "my_set = set([item1, item2, item3])\n",
    "```\n",
    "\n",
    "**Important**\n",
    "- Use curly braces `{}` (like dictionaries, but with no key : value pairs)\n",
    "- No duplicate items allowed\n",
    "- No guaranteed order (unordered)\n",
    "- Items must be immutable (strings, numbers, tuples)\n"
   ]
  },
  {
   "cell_type": "markdown",
   "id": "3afa26b2",
   "metadata": {},
   "source": [
    "## 🌟 Example 1: Unique Favorite Colors"
   ]
  },
  {
   "cell_type": "code",
   "execution_count": null,
   "id": "45d3f8ce",
   "metadata": {},
   "outputs": [],
   "source": [
    "# Let's say you ask friends about their favorite colors\n",
    "color_responses = [\"red\", \"blue\", \"green\", \"red\", \"yellow\", \"blue\", \"red\", \"purple\"]\n",
    "print(f\"🎨 All responses: {color_responses}\")\n",
    "print(f\"📊 Total responses: {len(color_responses)}\")\n",
    "\n",
    "# Convert to set to get unique colors only\n",
    "unique_colors = set(color_responses)\n",
    "print(f\"\\n🌈 Unique colors mentioned: {unique_colors}\")\n",
    "print(f\"🎯 Number of unique colors: {len(unique_colors)}\")\n",
    "\n",
    "# Notice: duplicates are automatically removed!\n"
   ]
  },
  {
   "cell_type": "markdown",
   "id": "8acfcaea",
   "metadata": {},
   "source": [
    "## 🎮 Example 2: Unique Players in a Game"
   ]
  },
  {
   "cell_type": "code",
   "execution_count": null,
   "id": "74011abe",
   "metadata": {},
   "outputs": [],
   "source": [
    "# Players who joined different game sessions\n",
    "session1_players = {\"Ali\", \"Sara\", \"Ahmed\", \"Fatima\"}\n",
    "session2_players = {\"Sara\", \"Omar\", \"Zara\", \"Ali\"}\n",
    "session3_players = {\"Ahmed\", \"Layla\", \"Hassan\", \"Sara\"}\n",
    "\n",
    "print(\"🎮 Game Sessions:\")\n",
    "print(f\"Session 1: {session1_players}\")\n",
    "print(f\"Session 2: {session2_players}\")\n",
    "print(f\"Session 3: {session3_players}\")\n",
    "\n",
    "# All unique players across all sessions\n",
    "all_players = session1_players | session2_players | session3_players\n",
    "print(f\"\\n👥 All unique players: {all_players}\")\n",
    "print(f\"🎯 Total unique players: {len(all_players)}\")\n"
   ]
  },
  {
   "cell_type": "markdown",
   "id": "ac9d6153",
   "metadata": {},
   "source": [
    "## ➕ Adding Items to Sets"
   ]
  },
  {
   "cell_type": "code",
   "execution_count": null,
   "id": "425334c0",
   "metadata": {},
   "outputs": [],
   "source": [
    "visited_cities = {\"Karachi\", \"Lahore\", \"Islamabad\"}\n",
    "print(f\"🏙️ Cities I've visited: {visited_cities}\")\n",
    "\n",
    "visited_cities.add(\"Peshawar\")\n",
    "print(f\"✈️ After visiting Peshawar: {visited_cities}\")\n",
    "\n",
    "visited_cities.add(\"Karachi\")  # Duplicate ignored\n",
    "print(f\"🔄 After trying to add Karachi again: {visited_cities}\")\n",
    "\n",
    "visited_cities.update([\"Multan\", \"Faisalabad\", \"Quetta\"])\n",
    "print(f\"🗺️ After adding more cities: {visited_cities}\")"
   ]
  },
  {
   "cell_type": "markdown",
   "id": "1ea42650",
   "metadata": {},
   "source": [
    "## 🗑️ Removing Items from Sets"
   ]
  },
  {
   "cell_type": "code",
   "execution_count": null,
   "id": "ef73d035",
   "metadata": {},
   "outputs": [],
   "source": [
    "favorite_subjects = {\"Math\", \"Science\", \"English\", \"Art\", \"History\"}\n",
    "print(f\"📚 My favorite subjects: {favorite_subjects}\")\n",
    "\n",
    "favorite_subjects.remove(\"History\")\n",
    "print(f\"❌ After removing History: {favorite_subjects}\")\n",
    "\n",
    "favorite_subjects.discard(\"Geography\")  # Safe remove\n",
    "print(f\"🔍 After trying to remove Geography: {favorite_subjects}\")\n",
    "\n",
    "removed_subject = favorite_subjects.pop()\n",
    "print(f\"🎲 Randomly removed: {removed_subject}\")\n",
    "print(f\"📖 Remaining subjects: {favorite_subjects}\")"
   ]
  },
  {
   "cell_type": "markdown",
   "id": "14ae61f8",
   "metadata": {},
   "source": [
    "## 🔍 Checking Membership in Sets"
   ]
  },
  {
   "cell_type": "code",
   "execution_count": null,
   "id": "18a90566",
   "metadata": {},
   "outputs": [],
   "source": [
    "zoo_animals = {\"lion\", \"elephant\", \"giraffe\", \"monkey\", \"zebra\", \"tiger\"}\n",
    "print(f\"🦁 Animals I saw at the zoo: {zoo_animals}\")\n",
    "\n",
    "animals_to_check = [\"lion\", \"panda\", \"elephant\", \"kangaroo\"]\n",
    "print(\"\\n🔍 Did I see these animals?\")\n",
    "for animal in animals_to_check:\n",
    "    if animal in zoo_animals:\n",
    "        print(f\"✅ Yes, I saw a {animal}!\")\n",
    "    else:\n",
    "        print(f\"❌ No, I didn't see a {animal}\")"
   ]
  },
  {
   "cell_type": "markdown",
   "id": "d92801ca",
   "metadata": {},
   "source": [
    "## 🤝 Set Operations – Like Math!"
   ]
  },
  {
   "cell_type": "markdown",
   "id": "8f5a61f3",
   "metadata": {},
   "source": [
    "### 🔗 Union (Combining Sets)"
   ]
  },
  {
   "cell_type": "code",
   "execution_count": null,
   "id": "2bdcddc2",
   "metadata": {},
   "outputs": [],
   "source": [
    "my_friends = {\"Ali\", \"Sara\", \"Omar\", \"Zara\"}\n",
    "sibling_friends = {\"Sara\", \"Ahmed\", \"Fatima\", \"Hassan\"}\n",
    "\n",
    "print(f\"👫 My friends: {my_friends}\")\n",
    "print(f\"👭 Sibling's friends: {sibling_friends}\")\n",
    "\n",
    "all_friends = my_friends | sibling_friends\n",
    "print(f\"\\n👥 All friends combined: {all_friends}\")\n",
    "print(f\"🎯 Total unique friends: {len(all_friends)}\")"
   ]
  },
  {
   "cell_type": "markdown",
   "id": "977123e1",
   "metadata": {},
   "source": [
    "### 🤝 Intersection (Common Items)"
   ]
  },
  {
   "cell_type": "code",
   "execution_count": null,
   "id": "7607ce37",
   "metadata": {},
   "outputs": [],
   "source": [
    "mutual_friends = my_friends & sibling_friends\n",
    "print(f\"🤝 Mutual friends: {mutual_friends}\")\n"
   ]
  },
  {
   "cell_type": "markdown",
   "id": "b2e3fa5d",
   "metadata": {},
   "source": [
    "### ➖ Difference (What's Different)"
   ]
  },
  {
   "cell_type": "code",
   "execution_count": null,
   "id": "2867aeed",
   "metadata": {},
   "outputs": [],
   "source": [
    "only_my_friends = my_friends - sibling_friends\n",
    "only_sibling_friends = sibling_friends - my_friends\n",
    "\n",
    "print(f\"👤 Friends only I have: {only_my_friends}\")\n",
    "print(f\"👤 Friends only my sibling has: {only_sibling_friends}\")"
   ]
  },
  {
   "cell_type": "markdown",
   "id": "510a2b06",
   "metadata": {},
   "source": [
    "### ⚡ Symmetric Difference (Exclusive Items)"
   ]
  },
  {
   "cell_type": "code",
   "execution_count": null,
   "id": "6c449404",
   "metadata": {},
   "outputs": [],
   "source": [
    "exclusive_friends = my_friends ^ sibling_friends\n",
    "print(f\"⚡ Friends that belong to only one of us: {exclusive_friends}\")"
   ]
  },
  {
   "cell_type": "markdown",
   "id": "c96bdc38",
   "metadata": {},
   "source": [
    "## 🍕 Example 3: Pizza Toppings Preferences"
   ]
  },
  {
   "cell_type": "code",
   "execution_count": null,
   "id": "91298cee",
   "metadata": {},
   "outputs": [],
   "source": [
    "ali_toppings = {\"cheese\", \"pepperoni\", \"mushrooms\", \"olives\"}\n",
    "sara_toppings = {\"cheese\", \"chicken\", \"peppers\", \"onions\"}\n",
    "ahmed_toppings = {\"cheese\", \"pepperoni\", \"chicken\", \"tomatoes\"}\n",
    "\n",
    "everyone_likes = ali_toppings & sara_toppings & ahmed_toppings\n",
    "all_toppings = ali_toppings | sara_toppings | ahmed_toppings\n",
    "only_ali = ali_toppings - sara_toppings - ahmed_toppings\n",
    "\n",
    "print(f\"🎯 Toppings everyone likes: {everyone_likes}\")\n",
    "print(f\"🌟 All possible toppings: {all_toppings}\")\n",
    "print(f\"👤 Toppings only Ali likes: {only_ali}\")"
   ]
  },
  {
   "cell_type": "markdown",
   "id": "58b6adab",
   "metadata": {},
   "source": [
    "## 📚 Example 4: School Subjects Across Grades"
   ]
  },
  {
   "cell_type": "code",
   "execution_count": null,
   "id": "d3b01a81",
   "metadata": {},
   "outputs": [],
   "source": [
    "grade_8_subjects = {\"Math\", \"English\", \"Science\", \"History\", \"Art\"}\n",
    "grade_9_subjects = {\"Math\", \"English\", \"Physics\", \"Chemistry\", \"Biology\", \"History\"}\n",
    "grade_10_subjects = {\"Math\", \"English\", \"Physics\", \"Chemistry\", \"Biology\", \"Computer Science\"}\n",
    "\n",
    "core_subjects = grade_8_subjects & grade_9_subjects & grade_10_subjects\n",
    "new_in_grade9 = grade_9_subjects - grade_8_subjects\n",
    "new_in_grade10 = grade_10_subjects - grade_9_subjects\n",
    "dropped_in_grade10 = grade_9_subjects - grade_10_subjects\n",
    "\n",
    "print(f\"📖 Core subjects (all grades): {core_subjects}\")\n",
    "print(f\"🆕 New subjects in Grade 9: {new_in_grade9}\")\n",
    "print(f\"🆕 New subjects in Grade 10: {new_in_grade10}\")\n",
    "print(f\"❌ Subjects dropped in Grade 10: {dropped_in_grade10}\")"
   ]
  },
  {
   "cell_type": "markdown",
   "id": "1fcbf539",
   "metadata": {},
   "source": [
    "## 🔄 Looping Through Sets"
   ]
  },
  {
   "cell_type": "code",
   "execution_count": null,
   "id": "71035e31",
   "metadata": {},
   "outputs": [],
   "source": [
    "video_games = {\"Minecraft\", \"FIFA\", \"Call of Duty\", \"Among Us\", \"Fortnite\"}\n",
    "\n",
    "print(\"🎮 My Video Game Collection:\")\n",
    "for game in video_games:\n",
    "    print(f\"  🕹️ {game}\")\n",
    "print(\"\\n⚠️ Order is arbitrary each run!\")"
   ]
  },
  {
   "cell_type": "markdown",
   "id": "222915e6",
   "metadata": {},
   "source": [
    "## 🎯 Practice Exercises – try these on your own!"
   ]
  },
  {
   "cell_type": "markdown",
   "id": "75d0f4cc",
   "metadata": {},
   "source": [
    "**Exercise 1:** Unique letters in your name  \n",
    "**Exercise 2:** Favorite food survey using three sets  \n",
    "**Exercise 3:** Class attendance tracker across days  \n",
    "**Exercise 4:** Social‑media follower comparison  \n",
    "**Exercise 5:** Programming‑language skills overlap\n"
   ]
  },
  {
   "cell_type": "markdown",
   "id": "3782176c",
   "metadata": {},
   "source": [
    "## 🆚 Sets vs Lists vs Tuples vs Dictionaries\n",
    "\n",
    "| Feature | Sets 🎯 | Lists 📝 | Tuples 📦 | Dictionaries 📚 |\n",
    "|---------|---------|----------|-----------|------------------|\n",
    "| **Duplicates** | ❌ No | ✅ Yes | ✅ Yes | ❌ No (keys) |\n",
    "| **Ordered** | ❌ No | ✅ Yes | ✅ Yes | ✅ Yes* |\n",
    "| **Changeable** | ✅ Yes | ✅ Yes | ❌ No | ✅ Yes |\n",
    "| **Brackets** | `{}` | `[]` | `()` | `{key: value}` |\n",
    "| **Indexing** | ❌ No | ✅ Yes | ✅ Yes | ✅ (by key) |\n",
    "| **Best For** | Unique items | Ordered data | Fixed data | Key‑value pairs |\n",
    "\n",
    "\\*Dicts preserve insertion order in Python 3.7+.\n"
   ]
  },
  {
   "cell_type": "markdown",
   "id": "a01c4358",
   "metadata": {},
   "source": [
    "## 🎉 Fun Facts About Sets\n",
    "\n",
    "1. **⚡ Super‑fast lookup** – membership testing is lightning‑quick.  \n",
    "2. **🧮 Math‑friendly** – supports true set operations.  \n",
    "3. **🚫 No duplicates ever** – Python enforces uniqueness.  \n",
    "4. **🔄 Unordered** – order of elements is not preserved.  \n",
    "5. **🎯 Perfect for uniqueness** – great for de‑duplicating data.\n",
    "\n",
    "## 🏆 What You Learned\n",
    "- ✅ Creating sets with `{}` or `set()`  \n",
    "- ✅ Automatic de‑duplication  \n",
    "- ✅ Adding and removing items  \n",
    "- ✅ Fast membership tests with `in`  \n",
    "- ✅ Operations: union `|`, intersection `&`, difference `-`, symmetric difference `^`  \n",
    "- ✅ When to choose sets vs other data types  \n",
    "- ✅ Real‑world applications of sets\n",
    "\n",
    "**Next up:** Functions – creating your own reusable code blocks! 🔧\n"
   ]
  }
 ],
 "metadata": {
  "language_info": {
   "name": "python"
  }
 },
 "nbformat": 4,
 "nbformat_minor": 5
}
