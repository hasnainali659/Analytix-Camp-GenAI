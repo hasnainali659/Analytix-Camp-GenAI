{
 "cells": [
  {
   "cell_type": "markdown",
   "metadata": {},
   "source": [
    "📢 1.2 print() Statement — Speak to the Screen!\n",
    "\n",
    "🧠 What is print()?\n",
    "It is a built-in Python function that displays output on the screen.\n",
    "\n",
    "Think of it as your megaphone 🗣️ — anything you write inside print() is said out loud by your program."
   ]
  },
  {
   "cell_type": "markdown",
   "metadata": {},
   "source": [
    "🔍 Basic Syntax:"
   ]
  },
  {
   "cell_type": "code",
   "execution_count": null,
   "metadata": {
    "vscode": {
     "languageId": "plaintext"
    }
   },
   "outputs": [],
   "source": [
    "print(\"Hello, world!\")"
   ]
  },
  {
   "cell_type": "markdown",
   "metadata": {},
   "source": [
    "💡 Real-Life Analogy:\n",
    "\n",
    "Imagine you're a robot with a screen on your chest.\n",
    "You type a message in your program using print() — the robot displays it on its screen."
   ]
  },
  {
   "cell_type": "markdown",
   "metadata": {},
   "source": [
    "📦 Print Variables:\n",
    "You can print not only text but also values stored in variables:"
   ]
  },
  {
   "cell_type": "code",
   "execution_count": null,
   "metadata": {},
   "outputs": [],
   "source": [
    "name = \"Ali\"\n",
    "age = 17\n",
    "print(\"My name is\", name, \"and I am\", age, \"years old.\")"
   ]
  },
  {
   "cell_type": "markdown",
   "metadata": {},
   "source": [
    "🧮 Print Calculations:"
   ]
  },
  {
   "cell_type": "code",
   "execution_count": null,
   "metadata": {},
   "outputs": [],
   "source": [
    "print(\"5 + 3 =\", 5 + 3)"
   ]
  },
  {
   "cell_type": "markdown",
   "metadata": {},
   "source": [
    "🪄 Formatting Strings (Advanced):"
   ]
  },
  {
   "cell_type": "code",
   "execution_count": null,
   "metadata": {},
   "outputs": [],
   "source": [
    "fruit = \"apple\"\n",
    "price = 150\n",
    "print(f\"The price of one {fruit} is {price} rupees.\")"
   ]
  }
 ],
 "metadata": {
  "language_info": {
   "name": "python"
  }
 },
 "nbformat": 4,
 "nbformat_minor": 2
}
