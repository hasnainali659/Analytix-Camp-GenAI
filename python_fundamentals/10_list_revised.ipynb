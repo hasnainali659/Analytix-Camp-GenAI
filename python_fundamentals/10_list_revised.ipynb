{
 "cells": [
  {
   "cell_type": "markdown",
   "metadata": {},
   "source": [
    "📌 Accessing Items (Indexing)\n",
    "Lists are zero-indexed:"
   ]
  },
  {
   "cell_type": "code",
   "execution_count": null,
   "metadata": {},
   "outputs": [],
   "source": [
    "fruits = [\"apple\", \"banana\", \"orange\"]\n",
    "print(fruits[0])   # \"apple\"\n",
    "print(fruits[1])   # \"banana\""
   ]
  },
  {
   "cell_type": "markdown",
   "metadata": {},
   "source": [
    "🔁 Looping Through a List"
   ]
  },
  {
   "cell_type": "code",
   "execution_count": null,
   "metadata": {},
   "outputs": [],
   "source": [
    "for fruit in fruits:\n",
    "    print(\"I like\", fruit)"
   ]
  },
  {
   "cell_type": "markdown",
   "metadata": {},
   "source": [
    "🛠️ List Operations\n",
    "\n",
    "| Operation       | Example                    | Description                 |\n",
    "| --------------- | -------------------------- | --------------------------- |\n",
    "| Append item     | `fruits.append(\"mango\")`   | Adds to the end             |\n",
    "| Insert at index | `fruits.insert(1, \"kiwi\")` | Adds at a specific position |\n",
    "| Remove by value | `fruits.remove(\"banana\")`  | Removes specific item       |\n",
    "| Remove by index | `fruits.pop(2)`            | Removes item at index       |\n",
    "| Length          | `len(fruits)`              | Number of items in list     |\n",
    "| Change value    | `fruits[0] = \"grape\"`      | Modifies a specific item    |\n",
    "| Clear all       | `fruits.clear()`           | Empties the list            |\n",
    "| Delete list     | `del fruits`               | Deletes the list entirely   |\n"
   ]
  },
  {
   "cell_type": "markdown",
   "metadata": {},
   "source": [
    "📊 Sorting and Reversing"
   ]
  },
  {
   "cell_type": "code",
   "execution_count": null,
   "metadata": {},
   "outputs": [],
   "source": [
    "numbers = [3, 1, 4, 2]\n",
    "numbers.sort()\n",
    "print(numbers)  # [1, 2, 3, 4]\n",
    "\n",
    "numbers.reverse()\n",
    "print(numbers)  # [4, 3, 2, 1]"
   ]
  },
  {
   "cell_type": "markdown",
   "metadata": {},
   "source": [
    "🛍️ Shopping List"
   ]
  },
  {
   "cell_type": "code",
   "execution_count": null,
   "metadata": {},
   "outputs": [],
   "source": [
    "shopping = []\n",
    "\n",
    "shopping.append(\"milk\")\n",
    "shopping.append(\"bread\")\n",
    "shopping.append(\"eggs\")\n",
    "\n",
    "print(\"Shopping List:\", shopping)\n",
    "\n",
    "# Replace eggs with butter\n",
    "shopping[2] = \"butter\"\n",
    "print(\"Updated List:\", shopping)\n"
   ]
  },
  {
   "cell_type": "markdown",
   "metadata": {},
   "source": [
    "🧮 Average of Marks"
   ]
  },
  {
   "cell_type": "code",
   "execution_count": null,
   "metadata": {},
   "outputs": [],
   "source": [
    "marks = [85, 90, 78, 92]\n",
    "average = sum(marks) / len(marks)\n",
    "print(\"Average Marks:\", average)"
   ]
  },
  {
   "cell_type": "markdown",
   "metadata": {},
   "source": [
    "🎯 Some Advanced List Features"
   ]
  },
  {
   "cell_type": "markdown",
   "metadata": {},
   "source": [
    "🔁 List Comprehension"
   ]
  },
  {
   "cell_type": "code",
   "execution_count": null,
   "metadata": {},
   "outputs": [],
   "source": [
    "squares = [x*x for x in range(1, 6)]\n",
    "print(squares)  # [1, 4, 9, 16, 25]"
   ]
  },
  {
   "cell_type": "markdown",
   "metadata": {},
   "source": [
    "🧬 Nested Lists"
   ]
  },
  {
   "cell_type": "code",
   "execution_count": null,
   "metadata": {},
   "outputs": [],
   "source": [
    "matrix = [\n",
    "    [1, 2, 3],\n",
    "    [4, 5, 6]\n",
    "]\n",
    "print(matrix[1][2])  # 6"
   ]
  },
  {
   "cell_type": "markdown",
   "metadata": {},
   "source": [
    "⚠️ Common Mistakes to Avoid\n",
    "\n",
    "| Mistake                        | Fix                                                   |\n",
    "| ------------------------------ | ----------------------------------------------------- |\n",
    "| Accessing out-of-range index   | Always check `len(list)` before accessing             |\n",
    "| Mixing data types for sorting  | Don’t mix strings and numbers in same list            |\n",
    "| Using wrong index with `pop()` | Use correct index or just `pop()` to remove last item |\n"
   ]
  },
  {
   "cell_type": "markdown",
   "metadata": {},
   "source": [
    "🧪 Mini Project: To-Do List"
   ]
  },
  {
   "cell_type": "code",
   "execution_count": null,
   "metadata": {},
   "outputs": [],
   "source": [
    "todo = []\n",
    "\n",
    "# Adding tasks\n",
    "todo.append(\"Study Python\")\n",
    "todo.append(\"Do homework\")\n",
    "todo.append(\"Go for walk\")\n",
    "\n",
    "# Removing one task\n",
    "todo.remove(\"Go for walk\")\n",
    "\n",
    "# Show tasks\n",
    "print(\"Your Tasks:\")\n",
    "for task in todo:\n",
    "    print(\"-\", task)\n"
   ]
  },
  {
   "cell_type": "markdown",
   "metadata": {},
   "source": [
    "| Feature     | Syntax                      | Description               |\n",
    "| ----------- | --------------------------- | ------------------------- |\n",
    "| Create List | `mylist = [1, 2, 3]`        | A list with 3 numbers     |\n",
    "| Access Item | `mylist[0]`                 | First item                |\n",
    "| Change Item | `mylist[1] = 9`             | Change 2nd item to 9      |\n",
    "| Add Item    | `mylist.append(4)`          | Add 4 to end              |\n",
    "| Insert Item | `mylist.insert(1, \"apple\")` | Insert \"apple\" at index 1 |\n",
    "| Remove Item | `mylist.remove(\"apple\")`    | Removes \"apple\"           |\n",
    "| Pop Item    | `mylist.pop()`              | Removes last item         |\n",
    "| Length      | `len(mylist)`               | Returns length            |\n",
    "| Sort        | `mylist.sort()`             | Sorts list                |\n",
    "| Reverse     | `mylist.reverse()`          | Reverses list             |\n"
   ]
  },
  {
   "cell_type": "markdown",
   "metadata": {},
   "source": [
    "4️⃣ List (list)\n",
    "Used to store multiple values in a single variable.\n",
    "\n",
    "🧠 Common List Functions:"
   ]
  },
  {
   "cell_type": "markdown",
   "metadata": {},
   "source": [
    "| Function       | Description                      | Example                     |\n",
    "| -------------- | -------------------------------- | --------------------------- |\n",
    "| `append(x)`    | Add item to end                  | `mylist.append(5)`          |\n",
    "| `insert(i, x)` | Insert at index                  | `mylist.insert(1, \"apple\")` |\n",
    "| `remove(x)`    | Remove item                      | `mylist.remove(\"apple\")`    |\n",
    "| `pop(i)`       | Remove and return item at index  | `mylist.pop(2)`             |\n",
    "| `sort()`       | Sort list                        | `mylist.sort()`             |\n",
    "| `reverse()`    | Reverse order                    | `mylist.reverse()`          |\n",
    "| `len(list)`    | Number of items                  | `len(mylist)`               |\n",
    "| `sum(list)`    | Add up numbers (if numeric list) | `sum([1,2,3]) → 6`          |\n"
   ]
  },
  {
   "cell_type": "code",
   "execution_count": null,
   "metadata": {},
   "outputs": [],
   "source": [
    "numbers = [5, 3, 9, 1]\n",
    "numbers.sort()\n",
    "print(numbers)      # [1, 3, 5, 9]"
   ]
  },
  {
   "cell_type": "code",
   "execution_count": null,
   "metadata": {},
   "outputs": [],
   "source": [
    "my_name = \"Hasnain\"\n",
    "my_age = 21\n",
    "my_marks = [85, 90, 88]\n",
    "\n",
    "print(\"Type of my_name:\", type(my_name))       # str\n",
    "print(\"Type of my_age:\", type(my_age))         # int\n",
    "print(\"Type of my_marks:\", type(my_marks))     # list\n",
    "print(\"Average marks:\", sum(my_marks) / len(my_marks))\n"
   ]
  },
  {
   "cell_type": "markdown",
   "metadata": {},
   "source": [
    "📌 Summary Table\n",
    "\n",
    "| Data Type | Example     | Check Type      | Useful Functions                                          |\n",
    "| --------- | ----------- | --------------- | --------------------------------------------------------- |\n",
    "| `str`     | `\"apple\"`   | `type(\"apple\")` | `len`, `upper`, `lower`, `strip`, `split`, `replace`      |\n",
    "| `int`     | `5`         | `type(5)`       | `abs`, `pow`, `round`, `int()`, `max`, `min`              |\n",
    "| `float`   | `3.14`      | `type(3.14)`    | `round`, `abs`, `float()`                                 |\n",
    "| `bool`    | `True`      | `type(True)`    | `bool()`, comparison operators (`==`, `>`, `<`, etc.)     |\n",
    "| `list`    | `[1, 2, 3]` | `type([1,2,3])` | `append`, `insert`, `pop`, `remove`, `sort`, `sum`, `len` |\n"
   ]
  }
 ],
 "metadata": {
  "language_info": {
   "name": "python"
  }
 },
 "nbformat": 4,
 "nbformat_minor": 2
}
