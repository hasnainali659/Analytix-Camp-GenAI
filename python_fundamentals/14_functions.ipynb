{
    "cells": [
        {
            "cell_type": "markdown",
            "metadata": {},
            "source": [
                "# 🔧 1.14 Python Functions — Your Code Toolbox!\\n\n",
                "\\n\n",
                "## 🧠 What is a Function?\\n\n",
                "A function is like a **magic machine** 🎰 that:\\n\n",
                "- Takes some **input** (ingredients)\\n\n",
                "- Does some **work** (follows a recipe)\\n\n",
                "- Gives you an **output** (finished product)\\n\n",
                "\\n\n",
                "Think of it as:\\n\n",
                "- A **recipe** you can use over and over\\n\n",
                "- A **tool** that does a specific job\\n\n",
                "- A **mini-program** inside your main program\\n\n",
                "\\n\n",
                "## 🍕 Real-Life Analogy:\\n\n",
                "Imagine a **pizza-making machine** 🍕:\\n\n",
                "- **Input:** You put in dough, sauce, and toppings\\n\n",
                "- **Process:** The machine follows the pizza recipe\\n\n",
                "- **Output:** You get a delicious pizza!\\n\n",
                "\\n\n",
                "Every time you use the machine with the same ingredients, you get the same result!"
            ]
        },
        {
            "cell_type": "markdown",
            "metadata": {},
            "source": [
                "## 🔍 Basic Function Syntax:\\n\n",
                "\\n\n",
                "```python\\n\n",
                "def function_name(parameters):\\n\n",
                "    \\\"\\\"\\\"Optional description of what the function does\\\"\\\"\\\"\\n\n",
                "    # Code that does the work\\n\n",
                "    return result  # Optional: give back a result\\n\n",
                "```\\n\n",
                "\\n\n",
                "**Important:** \\n\n",
                "- Use `def` keyword to create a function\\n\n",
                "- Function name should describe what it does\\n\n",
                "- Parameters are the inputs (optional)\\n\n",
                "- `return` gives back a result (optional)\\n\n",
                "- Don't forget the colon `:` and indentation!"
            ]
        },
        {
            "cell_type": "markdown",
            "metadata": {},
            "source": [
                "## 👋 Example 1: Simple Greeting Function"
            ]
        },
        {
            "cell_type": "code",
            "execution_count": null,
            "metadata": {},
            "outputs": [],
            "source": [
                "# Create a simple function that says hello\\n\n",
                "def say_hello():\\n\n",
                "    \\\"\\\"\\\"This function prints a friendly greeting\\\"\\\"\\\"\\n\n",
                "    print(\\\"👋 Hello there!\\\")\\n\n",
                "    print(\\\"🌟 Welcome to Python programming!\\\")\\n\n",
                "\\n\n",
                "# Use the function (call it)\\n\n",
                "print(\\\"Calling the say_hello function:\\\")\\n\n",
                "say_hello()\\n\n",
                "\\n\n",
                "print(\\\"\\\\nCalling it again:\\\")\\n\n",
                "say_hello()\\n\n",
                "\\n\n",
                "print(\\\"\\\\n🎉 See? Same result every time!\\\")"
            ]
        }
    ],
    "metadata": {
        "language_info": {
            "name": "python"
        }
    },
    "nbformat": 4,
    "nbformat_minor": 2
}
