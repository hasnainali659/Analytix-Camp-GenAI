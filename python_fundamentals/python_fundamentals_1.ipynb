{
 "cells": [
  {
   "cell_type": "markdown",
   "id": "cee5b233",
   "metadata": {},
   "source": [
    "Module 1 — Python Fundamentals\n",
    "\n",
    "1.1 Variables & Data Types\n",
    "\n",
    "Why “variable”?\n",
    "\n",
    "Think of your computer’s memory as a row of labeled lockers.\n",
    "When you assign price = 30, you’re writing “30” on a sticky note and sliding it into the locker labeled “price”."
   ]
  },
  {
   "cell_type": "markdown",
   "id": "db776ea1",
   "metadata": {},
   "source": [
    "🎒 Real-life Analogy:\n",
    "Imagine you have a school bag.\n",
    "You put your math book inside and label the bag \"MathBag\".\n",
    "\n",
    "Now whenever someone asks, “What’s in MathBag?”, you can say: “A math book!”\n",
    "\n",
    "🧳 The bag is the variable.\n",
    "\n",
    "📖 The math book is the value.\n",
    "\n",
    "🏷️ The label is the name of the variable."
   ]
  },
  {
   "cell_type": "markdown",
   "id": "31f4b121",
   "metadata": {},
   "source": [
    "🧪 Python Syntax\n",
    "\n",
    "variable_name = value"
   ]
  },
  {
   "cell_type": "markdown",
   "id": "8a4180cb",
   "metadata": {},
   "source": [
    "🧁 Example 1: Storing a cake’s flavor\n",
    "\n",
    "cake_flavor = \"chocolate\"\n",
    "print(\"My favorite cake flavor is:\", cake_flavor)"
   ]
  },
  {
   "cell_type": "markdown",
   "id": "9b4b12f8",
   "metadata": {},
   "source": [
    "🧠 Explanation:\n",
    "\n",
    "cake_flavor is the variable storing the value \"chocolate\".\n",
    "You can reuse it again anywhere by just calling cake_flavor."
   ]
  },
  {
   "cell_type": "markdown",
   "id": "e70540ce",
   "metadata": {},
   "source": [
    "💰 Example 2: Your piggy bank\n",
    "\n",
    "piggy_bank = 1500\n",
    "print(\"You have\", piggy_bank, \"rupees in your piggy bank.\")"
   ]
  },
  {
   "cell_type": "markdown",
   "id": "1d372453",
   "metadata": {},
   "source": [
    "📱 Example 3: Your phone contact\n",
    "\n",
    "contact_name = \"Amna\"\n",
    "contact_number = \"0312-1234567\"\n",
    "print(\"Calling\", contact_name, \"at\", contact_number)\n"
   ]
  },
  {
   "cell_type": "markdown",
   "id": "acee151c",
   "metadata": {},
   "source": [
    "🔀 Changing Variable Values\n",
    "Just like you can replace the contents in a box, you can update the variable:\n",
    "\n",
    "weather = \"Sunny\"\n",
    "print(\"Today the weather is\", weather)\n",
    "\n",
    "weather = \"Rainy\"  # Updating value\n",
    "print(\"Now the weather is\", weather)\n"
   ]
  },
  {
   "cell_type": "markdown",
   "id": "1f54a373",
   "metadata": {},
   "source": [
    "🧩 Variable Rules in Python\n",
    "\n",
    "✅ Names can include letters, numbers, and underscores (e.g., user_name, age1)\n",
    "\n",
    "❌ Cannot start with a number (e.g., 1age is invalid)\n",
    "\n",
    "❌ No spaces (use underscore _ instead)\n",
    "\n",
    "❌ Cannot be a reserved keyword (e.g., for, if, class)"
   ]
  },
  {
   "cell_type": "code",
   "execution_count": null,
   "id": "7c1f5c5c",
   "metadata": {},
   "outputs": [],
   "source": [
    "student_name = \"Ali\"\n",
    "age = 16\n",
    "grade = \"10th\"\n",
    "is_enrolled = True\n",
    "\n",
    "print(\"Student Name:\", student_name)\n",
    "print(\"Age:\", age)\n",
    "print(\"Grade:\", grade)\n",
    "print(\"Currently Enrolled:\", is_enrolled)\n"
   ]
  },
  {
   "cell_type": "markdown",
   "id": "8ad42973",
   "metadata": {},
   "source": [
    "| Python Type | Real-Life Analogy                          | Example Literal    |\n",
    "| ----------- | ------------------------------------------ | ------------------ |\n",
    "| `int`       | Whole apples in a basket                   | `7`                |\n",
    "| `float`     | Juice in a measuring cup (can be 1.5 cups) | `2.5`              |\n",
    "| `str`       | Sentence on a paper slip                   | `\"Fresh Lemonade\"` |\n",
    "| `bool`      | Light-switch (on/off)                      | `True` or `False`  |\n"
   ]
  },
  {
   "cell_type": "code",
   "execution_count": null,
   "id": "c8d6c8e5",
   "metadata": {},
   "outputs": [],
   "source": [
    "# Price per cup in Pakistani Rupees\n",
    "price_rupees = 30        # int\n",
    "# Lemonade acidity (pH scale)\n",
    "acidity = 2.6            # float\n",
    "# Menu sign\n",
    "banner = \"Sara's Lemonade\"  # str\n",
    "# Is the stall open today?\n",
    "is_open = True           # bool"
   ]
  },
  {
   "cell_type": "code",
   "execution_count": null,
   "id": "79cc1801",
   "metadata": {},
   "outputs": [],
   "source": [
    "| # | Task                                                                                                | Hint                                         |                                                   |\n",
    "| - | --------------------------------------------------------------------------------------------------- | -------------------------------------------- | ------------------------------------------------- |\n",
    "| 1 | Create variables for `lemons_in_stock`, `water_liters`, `sugar_kg` with reasonable starting values. | Use appropriate data types (ints vs floats). |                                                   |\n",
    "| 2 | Compute `max_cups_today` given 1 lemon ⇒ 1 cup, 0.25 L water ⇒ 1 cup.                               | `min()` may help.                            |                                                   |\n",
    "| 3 | Print a nicely formatted sign: \\*\\*“🍋 Price: 30 PKR                                                | Max cups today: 40”\\*\\*                      | Explore f-strings: `f\"Price: {price_rupees} PKR\"` |\n"
   ]
  },
  {
   "cell_type": "markdown",
   "id": "a59486c8",
   "metadata": {},
   "source": [
    "📢 1.2 print() Statement — Speak to the Screen!\n",
    "\n",
    "🧠 What is print()?\n",
    "It is a built-in Python function that displays output on the screen.\n",
    "\n",
    "Think of it as your megaphone 🗣️ — anything you write inside print() is said out loud by your program."
   ]
  },
  {
   "cell_type": "markdown",
   "id": "80921517",
   "metadata": {},
   "source": [
    "🔍 Basic Syntax:"
   ]
  },
  {
   "cell_type": "code",
   "execution_count": null,
   "id": "1ffd63b4",
   "metadata": {},
   "outputs": [],
   "source": [
    "print(\"Hello, world!\")"
   ]
  },
  {
   "cell_type": "markdown",
   "id": "c479a33e",
   "metadata": {},
   "source": [
    "💡 Real-Life Analogy:\n",
    "\n",
    "Imagine you're a robot with a screen on your chest.\n",
    "You type a message in your program using print() — the robot displays it on its screen."
   ]
  },
  {
   "cell_type": "markdown",
   "id": "5462f5ea",
   "metadata": {},
   "source": [
    "📦 Print Variables:\n",
    "You can print not only text but also values stored in variables:"
   ]
  },
  {
   "cell_type": "code",
   "execution_count": null,
   "id": "371dc413",
   "metadata": {},
   "outputs": [],
   "source": [
    "name = \"Ali\"\n",
    "age = 17\n",
    "print(\"My name is\", name, \"and I am\", age, \"years old.\")"
   ]
  },
  {
   "cell_type": "markdown",
   "id": "0f8aab25",
   "metadata": {},
   "source": [
    "🧮 Print Calculations:"
   ]
  },
  {
   "cell_type": "code",
   "execution_count": null,
   "id": "5c4f43ef",
   "metadata": {},
   "outputs": [],
   "source": [
    "print(\"5 + 3 =\", 5 + 3)"
   ]
  },
  {
   "cell_type": "markdown",
   "id": "9b47de46",
   "metadata": {},
   "source": [
    "🪄 Formatting Strings (Advanced):"
   ]
  },
  {
   "cell_type": "code",
   "execution_count": null,
   "id": "8d02baab",
   "metadata": {},
   "outputs": [],
   "source": [
    "fruit = \"apple\"\n",
    "price = 150\n",
    "print(f\"The price of one {fruit} is {price} rupees.\")"
   ]
  },
  {
   "cell_type": "markdown",
   "id": "14d7d191",
   "metadata": {},
   "source": [
    "✏️ 1.3 Comments — Notes for Humans\n",
    "\n",
    "🧠 What is a Comment?\n",
    "A comment is a line of text ignored by Python.\n",
    "It's used to:\n",
    "\n",
    "Explain what your code is doing\n",
    "\n",
    "Leave reminders for yourself or other developers\n",
    "\n",
    "Temporarily disable code"
   ]
  },
  {
   "cell_type": "code",
   "execution_count": null,
   "id": "c1d177fd",
   "metadata": {},
   "outputs": [],
   "source": [
    "# This is a comment"
   ]
  },
  {
   "cell_type": "code",
   "execution_count": null,
   "id": "ebf94e5e",
   "metadata": {},
   "outputs": [],
   "source": [
    "# This line prints my name\n",
    "print(\"Hasnain\")  # Comment beside a line"
   ]
  },
  {
   "cell_type": "markdown",
   "id": "fde21a57",
   "metadata": {},
   "source": [
    "🧠 Real-life Analogy:\n",
    "Think of comments as sticky notes 🗒️ on your code — Python does not read them, but humans do!"
   ]
  },
  {
   "cell_type": "markdown",
   "id": "778c4fdc",
   "metadata": {},
   "source": [
    "✨ Multi-line Comments:\n",
    "Python does not have a real multi-line comment syntax, but developers use triple quotes as a trick:"
   ]
  },
  {
   "cell_type": "code",
   "execution_count": null,
   "id": "a2e1666a",
   "metadata": {},
   "outputs": [],
   "source": [
    "\"\"\"\n",
    "This is a multi-line comment.\n",
    "Used for big explanations.\n",
    "\"\"\""
   ]
  },
  {
   "cell_type": "markdown",
   "id": "a4ab9843",
   "metadata": {},
   "source": [
    "Or just multiple #:"
   ]
  },
  {
   "cell_type": "code",
   "execution_count": null,
   "id": "1a159d62",
   "metadata": {},
   "outputs": [],
   "source": [
    "# Step 1: Get user input\n",
    "# Step 2: Process data\n",
    "# Step 3: Print result\n"
   ]
  },
  {
   "cell_type": "code",
   "execution_count": null,
   "id": "74bdabc6",
   "metadata": {},
   "outputs": [],
   "source": [
    "# This is a simple profile\n",
    "name = \"Zara\"        # her name\n",
    "age = 15             # her age\n",
    "print(\"Student:\", name)\n",
    "print(\"Age:\", age)\n"
   ]
  },
  {
   "cell_type": "code",
   "execution_count": null,
   "id": "ea36636b",
   "metadata": {},
   "outputs": [],
   "source": [
    "# Print a small shopping receipt\n",
    "item = \"Notebook\"\n",
    "quantity = 3\n",
    "price_per_item = 100\n",
    "\n",
    "total = quantity * price_per_item\n",
    "\n",
    "print(\"Item:\", item)\n",
    "print(\"Quantity:\", quantity)\n",
    "print(\"Total Price:\", total, \"PKR\")\n"
   ]
  },
  {
   "cell_type": "markdown",
   "id": "623a7481",
   "metadata": {},
   "source": [
    "| Concept        | Purpose                         | Syntax Example              |\n",
    "| -------------- | ------------------------------- | --------------------------- |\n",
    "| `print()`      | Show output                     | `print(\"Hello\")`            |\n",
    "| Variable Print | Show variable values            | `print(\"Name:\", name)`      |\n",
    "| Comment        | Add explanation or disable code | `# This is a comment`       |\n",
    "| Inline Comment | Explain specific line           | `print(name)  # print name` |\n",
    "| Multi-line     | Document whole block            | `\"\"\" Explain all steps \"\"\"` |\n"
   ]
  },
  {
   "cell_type": "markdown",
   "id": "440078d2",
   "metadata": {},
   "source": [
    "1.4 Input & Output\n",
    "\n",
    "The Stallkeeper’s Conversation\n",
    "\n",
    "You ask the customer their name and how many cups they’d like; you reply with the total bill."
   ]
  },
  {
   "cell_type": "code",
   "execution_count": null,
   "id": "cf0f04a5",
   "metadata": {},
   "outputs": [],
   "source": [
    "name = input(\"Welcome! What is your name? \")\n",
    "cups = int(input(\"How many cups would you like, \" + name + \"? \"))\n",
    "\n",
    "total = cups * price_rupees\n",
    "print(f\"That will be {total} rupees. Thank you, {name}!\")\n"
   ]
  },
  {
   "cell_type": "markdown",
   "id": "3db5e7cc",
   "metadata": {},
   "source": [
    "Daily-Calories Calculator\n",
    "\n",
    "Scenario: Track calories for breakfast, lunch, dinner, and snacks."
   ]
  },
  {
   "cell_type": "code",
   "execution_count": null,
   "id": "82326df9",
   "metadata": {},
   "outputs": [],
   "source": [
    "breakfast = int(input(\"Calories for breakfast: \"))\n",
    "lunch     = int(input(\"Lunch: \"))\n",
    "dinner    = int(input(\"Dinner: \"))\n",
    "snacks    = int(input(\"Snacks: \"))\n",
    "\n",
    "total = breakfast + lunch + dinner + snacks\n",
    "print(f\"Total today: {total} kcal\")\n"
   ]
  },
  {
   "cell_type": "markdown",
   "id": "19b1e003",
   "metadata": {},
   "source": [
    "Stretch Ideas\n",
    "\n",
    "Add goal comparison: input a daily target and print “Over”/“Under.”\n",
    "\n",
    "Convert kcal to kilojoules (kJ = kcal * 4.184)."
   ]
  },
  {
   "cell_type": "markdown",
   "id": "2b7c3f8a",
   "metadata": {},
   "source": [
    "Exercise\n",
    "\n",
    "Write a script that:\n",
    "\n",
    "Greets the user.\n",
    "\n",
    "Asks today’s temperature in °C.\n",
    "\n",
    "Stores it as temp_c.\n",
    "\n",
    "Prints either “Perfect day for lemonade!” or “Might be a slow day…” based on temp_c > 30."
   ]
  },
  {
   "cell_type": "markdown",
   "id": "e4916342",
   "metadata": {},
   "source": [
    "1.5 Decisions (Conditionals)\n",
    "\n",
    "If-Else Logic Flow\n",
    "\n",
    "Imagine you promise a 10 % discount on days hotter than 35 °C or if the customer buys ≥ 5 cups."
   ]
  },
  {
   "cell_type": "code",
   "execution_count": null,
   "id": "fb4ab835",
   "metadata": {},
   "outputs": [],
   "source": [
    "temp_c = 38\n",
    "cups = 2\n",
    "discount = 0\n",
    "if temp_c > 35 or cups >= 5:\n",
    "    discount = 0.10      # percent\n",
    "elif temp_c < 20:\n",
    "    print(\"We recommend hot chocolate instead 🫖\")\n",
    "else:\n",
    "    discount = 0\n",
    "\n",
    "bill = cups * price_rupees * (1 - discount)\n"
   ]
  },
  {
   "cell_type": "markdown",
   "id": "8c77c4db",
   "metadata": {},
   "source": [
    "| Condition | `temp_c` | `cups` | Applies Discount? |\n",
    "| --------- | -------- | ------ | ----------------- |\n",
    "| 38, 2     | T        | F      | Yes               |\n",
    "| 28, 5     | F        | T      | Yes               |\n",
    "| 25, 2     | F        | F      | No                |\n"
   ]
  },
  {
   "cell_type": "markdown",
   "id": "ee85d2c7",
   "metadata": {},
   "source": [
    "Temperature Advisor\n",
    "\n",
    "Ask the outside °C and output clothing advice.\n",
    "\n",
    "| Temp Range | Advice                |\n",
    "| ---------- | --------------------- |\n",
    "| > 30 °C    | “Wear light T-shirt.” |\n",
    "| 15–30      | “Normal outfit.”      |\n",
    "| < 15       | “Take a jacket.”      |\n",
    "\n",
    "Stretch – Accept Fahrenheit (F = C*9/5+32) and convert."
   ]
  },
  {
   "cell_type": "code",
   "execution_count": null,
   "id": "e0ed528d",
   "metadata": {},
   "outputs": [],
   "source": [
    "temp_c = float(input(\"Outside temperature °C: \"))\n",
    "if temp_c > 30:\n",
    "    advice = \"Wear a light T-shirt 👕\"\n",
    "elif temp_c < 15:\n",
    "    advice = \"Take a jacket 🧥\"\n",
    "else:\n",
    "    advice = \"Normal outfit is fine 🙂\"\n",
    "print(advice)"
   ]
  },
  {
   "cell_type": "markdown",
   "id": "142fd91e",
   "metadata": {},
   "source": [
    "Exercise: Dynamic Pricing\n",
    "\n",
    "Goal: Surge-price lemonade on cricket-match days.\n",
    "\n",
    "Ask “Is there a PSL match today? (y/n)”.\n",
    "\n",
    "If yes, set price_rupees to 40.\n",
    "\n",
    "Else keep it 30.\n",
    "\n",
    "Combine with the discount logic above."
   ]
  },
  {
   "cell_type": "markdown",
   "id": "9277abf4",
   "metadata": {},
   "source": [
    "1.6 Loops\n",
    "\n",
    "for vs while\n",
    "\n",
    "for is like checking each box in a tray; while is like filling glasses until the jug is empty."
   ]
  },
  {
   "cell_type": "code",
   "execution_count": null,
   "id": "0a251465",
   "metadata": {},
   "outputs": [],
   "source": [
    "import random\n",
    "\n",
    "DAYS = 30\n",
    "total_profit = 0\n",
    "\n",
    "for day in range(1, DAYS + 1):\n",
    "    temp_c = random.randint(18, 45)\n",
    "    expected_customers = int(temp_c * 1.5)      # hotter ⇒ more people\n",
    "\n",
    "    day_profit = 0\n",
    "    for _ in range(expected_customers):\n",
    "        cups = random.choice([1, 2, 3, 4, 5, 6])\n",
    "        bill = cups * price_rupees\n",
    "        day_profit += bill\n",
    "\n",
    "    print(f\"Day {day}: Temp {temp_c}°C → PKR {day_profit}\")\n",
    "    total_profit += day_profit\n",
    "\n",
    "print(\"=== Month’s profit ===\")\n",
    "print(total_profit)\n"
   ]
  },
  {
   "cell_type": "markdown",
   "id": "c8ad7667",
   "metadata": {},
   "source": [
    "1.7 Break & Continue\n",
    "\n",
    "Add a rule: If stock runs out, close the stall early."
   ]
  },
  {
   "cell_type": "code",
   "execution_count": null,
   "id": "6caec919",
   "metadata": {},
   "outputs": [],
   "source": [
    "lemons = 100\n",
    "for cust in range(expected_customers):\n",
    "    if lemons == 0:\n",
    "        print(\"Sold out ⛔ Closing.\")\n",
    "        break\n",
    "    # …\n",
    "    lemons -= cups\n"
   ]
  },
  {
   "cell_type": "markdown",
   "id": "9674897e",
   "metadata": {},
   "source": [
    "10× Table Generator\n",
    "\n",
    "Input: an integer n.\n",
    "\n",
    "Use a for loop.\n",
    "Stretch – Reverse order (10→1) if user adds flag --rev."
   ]
  },
  {
   "cell_type": "code",
   "execution_count": null,
   "id": "9caab98b",
   "metadata": {},
   "outputs": [],
   "source": [
    "n = int(input(\"Number: \"))\n",
    "for i in range(1, 11):\n",
    "    print(f\"{n} × {i} = {n * i}\")"
   ]
  },
  {
   "cell_type": "markdown",
   "id": "8f274892",
   "metadata": {},
   "source": [
    "Lucky Draw\n",
    "\n",
    "Ask for a comma-separated list of student names.\n",
    "\n",
    "Use random.choice() in a for loop three times to pick 1st, 2nd, 3rd prize (names must be unique).\n",
    "\n",
    "Print a celebratory message.\n",
    "\n",
    "Stretch – Make it repeat until user types q."
   ]
  },
  {
   "cell_type": "code",
   "execution_count": null,
   "id": "2e5ae45a",
   "metadata": {},
   "outputs": [],
   "source": [
    "import random\n",
    "names = input(\"Enter names (comma-separated): \").split(',')\n",
    "cleaned_names = []\n",
    "for name in names:\n",
    "    if name.strip():\n",
    "        cleaned_names.append(name.strip())\n",
    "names = cleaned_names\n",
    "winners = random.sample(names, k=min(3, len(names)))\n",
    "podium = [\"🥇 First\", \"🥈 Second\", \"🥉 Third\"]\n",
    "for i in range(len(winners)):\n",
    "    print(f\"{podium[i]} prize → {winners[i]}\")"
   ]
  },
  {
   "cell_type": "markdown",
   "id": "b1e3fd27",
   "metadata": {},
   "source": [
    "Exercise — Guess-the-Temperature Game\n",
    "\n",
    "Ask the player to guess tomorrow’s random temperature (18-45 °C). Give them 5 attempts, providing “Higher/Lower” hints."
   ]
  },
  {
   "cell_type": "markdown",
   "id": "1631c4bb",
   "metadata": {},
   "source": [
    "1.8 Functions\n",
    "\n",
    "Why Functions?\n",
    "\n",
    "They’re recipe cards: reusable, parameterized, testable."
   ]
  },
  {
   "cell_type": "code",
   "execution_count": null,
   "id": "25e45583",
   "metadata": {},
   "outputs": [],
   "source": [
    "def sale_price(base_price: int, cups: int, temp: int) -> int:\n",
    "    \"\"\"Return the PKR bill after discounts.\"\"\"\n",
    "    discount = 0.10 if (temp > 35 or cups >= 5) else 0\n",
    "    return int(base_price * cups * (1 - discount))\n"
   ]
  },
  {
   "cell_type": "markdown",
   "id": "b2ea44e6",
   "metadata": {},
   "source": [
    "1.9 Docstrings & Type Hints\n",
    "\n",
    "Tools like VS Code IntelliSense can now tell classmates exactly how to use your function. Try help(sale_price) in a REPL."
   ]
  },
  {
   "cell_type": "markdown",
   "id": "7e890cf9",
   "metadata": {},
   "source": [
    "1.10 Higher-Order Functions (Sneak Peek)\n",
    "\n",
    "Pass a strategy function into a simulator:"
   ]
  },
  {
   "cell_type": "code",
   "execution_count": null,
   "id": "3dc86777",
   "metadata": {},
   "outputs": [],
   "source": [
    "def conservative(temp):     # strategy A\n",
    "    return 1 if temp < 30 else 2\n",
    "\n",
    "def greedy(temp):           # strategy B\n",
    "    return 4 if temp > 35 else 2\n",
    "\n",
    "def run_day(strategy):\n",
    "    temp = random.randint(18, 45)\n",
    "    cups = strategy(temp)\n",
    "    return sale_price(price_rupees, cups, temp)\n",
    "\n",
    "print(run_day(conservative))\n",
    "print(run_day(greedy))"
   ]
  },
  {
   "cell_type": "markdown",
   "id": "62d09e5e",
   "metadata": {},
   "source": [
    "Basic ATM\n",
    "\n",
    "Features:\n",
    "\n",
    "Start with balance = 1000.\n",
    "\n",
    "Menu loop: [W]ithdraw [D]eposit [B]alance [Q]uit.\n",
    "\n",
    "Input validation: can’t withdraw more than balance.\n",
    "\n",
    "Stretch – Convert to functions: withdraw(amount) etc."
   ]
  },
  {
   "cell_type": "code",
   "execution_count": null,
   "id": "a8297977",
   "metadata": {},
   "outputs": [],
   "source": [
    "balance = 1_000\n",
    "while True:\n",
    "    print(\"\\n[W]ithdraw  [D]eposit  [B]alance  [Q]uit\")\n",
    "    choice = input(\"Choose: \").strip().lower()\n",
    "    if choice == \"w\":\n",
    "        amt = int(input(\"Withdraw amount: \"))\n",
    "        if amt <= balance:\n",
    "            balance -= amt\n",
    "            print(f\"Dispensed {amt}. New balance {balance}\")\n",
    "        else:\n",
    "            print(\"Insufficient funds.\")\n",
    "    elif choice == \"d\":\n",
    "        amt = int(input(\"Deposit amount: \"))\n",
    "        balance += amt\n",
    "        print(f\"Deposited {amt}. New balance {balance}\")\n",
    "    elif choice == \"b\":\n",
    "        print(f\"Balance: {balance}\")\n",
    "    elif choice == \"q\":\n",
    "        break\n",
    "    else:\n",
    "        print(\"Invalid option.\")"
   ]
  },
  {
   "cell_type": "markdown",
   "id": "f62d45c1",
   "metadata": {},
   "source": [
    "Quiz Grader\n",
    "Store 5 correct answers in a list answers = [\"A\",\"C\",\"B\",\"D\",\"B\"].\n",
    "\n",
    "Loop over questions, get user’s answer, count score.\n",
    "\n",
    "Print percentage & pass/fail at 60 %."
   ]
  },
  {
   "cell_type": "code",
   "execution_count": null,
   "id": "5153bf50",
   "metadata": {},
   "outputs": [],
   "source": [
    "answers = [\"A\", \"C\", \"B\", \"D\", \"B\"]\n",
    "score = 0\n",
    "for i, correct in enumerate(answers, 1):\n",
    "    guess = input(f\"Q{i} (A/B/C/D): \").upper()\n",
    "    if guess == correct:\n",
    "        score += 1\n",
    "pct = score / len(answers) * 100\n",
    "print(f\"Score {score}/{len(answers)}  →  {pct:.1f}%\")\n",
    "print(\"Pass 🎉\" if pct >= 60 else \"Fail ❌\")"
   ]
  },
  {
   "cell_type": "markdown",
   "id": "e3d7a972",
   "metadata": {},
   "source": [
    "Exercises\n",
    "\n",
    "Refactor the Day-30 simulation: extract simulate_day(temp) and simulate_month(days).\n",
    "\n",
    "Unit-test sale_price() with edge cases (temp=45, cups=1, temp=25, cups=10). Use assert.\n",
    "\n",
    "Stretch: Write stock_forecast(days, supply_lemons, demand_func) to predict when you’ll run out of lemons."
   ]
  },
  {
   "cell_type": "markdown",
   "id": "c4868851",
   "metadata": {},
   "source": [
    "Lemonade Profit Forecaster”\n",
    "\n",
    "Features to implement (combine everything above):\n",
    "\n",
    "Ask user for starting lemons, water, sugar.\n",
    "\n",
    "Simulate 30 real days with random temps & customer counts.\n",
    "\n",
    "Apply discount & surge rules.\n",
    "\n",
    "Track inventory and auto-close for the day when any ingredient is exhausted."
   ]
  }
 ],
 "metadata": {
  "language_info": {
   "name": "python"
  }
 },
 "nbformat": 4,
 "nbformat_minor": 5
}
