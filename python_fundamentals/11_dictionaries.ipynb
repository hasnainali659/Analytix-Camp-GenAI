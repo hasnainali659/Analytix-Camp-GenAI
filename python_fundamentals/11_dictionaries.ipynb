{
 "cells": [
  {
   "cell_type": "markdown",
   "id": "637a85a7",
   "metadata": {},
   "source": [
    "# 📚 1.11 Python Dictionaries — Your Digital Address Book!\n",
    "\n",
    "## 🧠 What is a Dictionary?\n",
    "A dictionary in Python is like a real address book or phone directory! 📞\n",
    "\n",
    "Instead of just storing items in order (like lists), dictionaries store **pairs** of information:\n",
    "- A **key** (like a person's name)\n",
    "- A **value** (like their phone number)\n",
    "\n",
    "## 🏠 Real-Life Analogy:\n",
    "Think of your home! Each room has:\n",
    "- A **name** (kitchen, bedroom, bathroom) ← This is the KEY\n",
    "- **Things inside** (stove, bed, shower) ← This is the VALUE\n",
    "\n",
    "When someone asks \"Where's the stove?\", you say \"In the kitchen!\" 🍳"
   ]
  },
  {
   "cell_type": "markdown",
   "id": "eb471890",
   "metadata": {},
   "source": [
    "## 🔍 Basic Dictionary Syntax:\n",
    "\n",
    "```python\n",
    "my_dictionary = {\n",
    "    \"key1\": \"value1\",\n",
    "    \"key2\": \"value2\"\n",
    "}\n",
    "```\n",
    "\n",
    "**Important:**  \n",
    "- Use curly braces `{}`  \n",
    "- Separate key and value with colon `:`  \n",
    "- Separate pairs with comma `,`\n"
   ]
  },
  {
   "cell_type": "markdown",
   "id": "acacdf1d",
   "metadata": {},
   "source": [
    "## 📱 Example 1: Your Phone Contacts"
   ]
  },
  {
   "cell_type": "code",
   "execution_count": null,
   "id": "df202981",
   "metadata": {},
   "outputs": [],
   "source": [
    "# Creating a phone book dictionary\n",
    "phone_book = {\n",
    "    \"Mom\": \"0300-1234567\",\n",
    "    \"Dad\": \"0301-7654321\",\n",
    "    \"Best Friend\": \"0302-9876543\",\n",
    "    \"Pizza Place\": \"0303-1111111\"\n",
    "}\n",
    "\n",
    "print(\"📞 My Phone Book:\")\n",
    "print(phone_book)"
   ]
  },
  {
   "cell_type": "markdown",
   "id": "c0c78952",
   "metadata": {},
   "source": [
    "## 🔍 Accessing Values (Looking Up Information)"
   ]
  },
  {
   "cell_type": "code",
   "execution_count": null,
   "id": "a5df313b",
   "metadata": {},
   "outputs": [],
   "source": [
    "# Getting Mom's phone number\n",
    "moms_number = phone_book[\"Mom\"]\n",
    "print(\"Mom's number is:\", moms_number)\n",
    "\n",
    "# Getting pizza place number\n",
    "pizza_number = phone_book[\"Pizza Place\"]\n",
    "print(\"🍕 Pizza place number:\", pizza_number)"
   ]
  },
  {
   "cell_type": "markdown",
   "id": "8848c124",
   "metadata": {},
   "source": [
    "## 🎒 Example 2: Your School Bag Contents"
   ]
  },
  {
   "cell_type": "code",
   "execution_count": null,
   "id": "9d7b3ad8",
   "metadata": {},
   "outputs": [],
   "source": [
    "# What's in each pocket of your bag?\n",
    "school_bag = {\n",
    "    \"main_pocket\": \"textbooks and notebooks\",\n",
    "    \"front_pocket\": \"pens and pencils\",\n",
    "    \"side_pocket\": \"water bottle\",\n",
    "    \"secret_pocket\": \"snacks and candy\"\n",
    "}\n",
    "\n",
    "print(\"🎒 What's in my school bag:\")\n",
    "print(\"Main pocket has:\", school_bag[\"main_pocket\"])\n",
    "print(\"Secret pocket has:\", school_bag[\"secret_pocket\"], \"🍭\")"
   ]
  },
  {
   "cell_type": "markdown",
   "id": "2fc7450d",
   "metadata": {},
   "source": [
    "## ➕ Adding New Items to Dictionary"
   ]
  },
  {
   "cell_type": "code",
   "execution_count": null,
   "id": "32c9f5ec",
   "metadata": {},
   "outputs": [],
   "source": [
    "# Adding a new contact\n",
    "phone_book[\"Grandma\"] = \"0304-5555555\"\n",
    "phone_book[\"School\"] = \"0305-1234567\"\n",
    "\n",
    "print(\"📞 Updated Phone Book:\")\n",
    "print(phone_book)"
   ]
  },
  {
   "cell_type": "markdown",
   "id": "f510ed6d",
   "metadata": {},
   "source": [
    "## 🔄 Updating Existing Values"
   ]
  },
  {
   "cell_type": "code",
   "execution_count": null,
   "id": "3b030867",
   "metadata": {},
   "outputs": [],
   "source": [
    "# Dad got a new phone number!\n",
    "phone_book[\"Dad\"] = \"0301-9999999\"\n",
    "\n",
    "print(\"📱 Dad's new number:\", phone_book[\"Dad\"])"
   ]
  },
  {
   "cell_type": "markdown",
   "id": "300ce142",
   "metadata": {},
   "source": [
    "## 🗑️ Removing Items from Dictionary"
   ]
  },
  {
   "cell_type": "code",
   "execution_count": null,
   "id": "32bb76b7",
   "metadata": {},
   "outputs": [],
   "source": [
    "# Remove pizza place (we don't order from there anymore)\n",
    "del phone_book[\"Pizza Place\"]\n",
    "\n",
    "print(\"📞 Phone book after removing pizza place:\")\n",
    "print(phone_book)"
   ]
  },
  {
   "cell_type": "markdown",
   "id": "c62aa29a",
   "metadata": {},
   "source": [
    "## 🏪 Example 3: Grocery Store Prices"
   ]
  },
  {
   "cell_type": "code",
   "execution_count": null,
   "id": "cafce9e4",
   "metadata": {},
   "outputs": [],
   "source": [
    "# Prices at your local store (in Pakistani Rupees)\n",
    "grocery_prices = {\n",
    "    \"apple\": 200,\n",
    "    \"banana\": 150,\n",
    "    \"milk\": 180,\n",
    "    \"bread\": 120,\n",
    "    \"chocolate\": 250\n",
    "}\n",
    "\n",
    "print(\"🛒 Grocery Store Prices:\")\n",
    "print(f\"🍎 Apple: Rs. {grocery_prices['apple']}\")\n",
    "print(f\"🍌 Banana: Rs. {grocery_prices['banana']}\")\n",
    "print(f\"🥛 Milk: Rs. {grocery_prices['milk']}\")\n",
    "print(f\"🍞 Bread: Rs. {grocery_prices['bread']}\")\n",
    "print(f\"🍫 Chocolate: Rs. {grocery_prices['chocolate']}\")"
   ]
  },
  {
   "cell_type": "markdown",
   "id": "d8bf9b76",
   "metadata": {},
   "source": [
    "## 🔍 Useful Dictionary Methods"
   ]
  },
  {
   "cell_type": "code",
   "execution_count": null,
   "id": "2f86c67f",
   "metadata": {},
   "outputs": [],
   "source": [
    "# Get all keys (names)\n",
    "print(\"📋 All contacts:\")\n",
    "print(list(phone_book.keys()))\n",
    "\n",
    "# Get all values (phone numbers)\n",
    "print(\"\\n📞 All phone numbers:\")\n",
    "print(list(phone_book.values()))\n",
    "\n",
    "# Get both keys and values\n",
    "print(\"\\n📖 Complete phone book:\")\n",
    "print(list(phone_book.items()))"
   ]
  },
  {
   "cell_type": "markdown",
   "id": "27c4bd2b",
   "metadata": {},
   "source": [
    "## 🔍 Checking if a Key Exists"
   ]
  },
  {
   "cell_type": "code",
   "execution_count": null,
   "id": "1f707d9d",
   "metadata": {},
   "outputs": [],
   "source": [
    "# Check if we have someone's number\n",
    "if \"Mom\" in phone_book:\n",
    "    print(\"✅ Yes, I have Mom's number!\")\n",
    "else:\n",
    "    print(\"❌ I don't have Mom's number\")\n",
    "\n",
    "if \"Teacher\" in phone_book:\n",
    "    print(\"✅ Yes, I have Teacher's number!\")\n",
    "else:\n",
    "    print(\"❌ I don't have Teacher's number\")"
   ]
  },
  {
   "cell_type": "markdown",
   "id": "06f28ede",
   "metadata": {},
   "source": [
    "## 🎮 Example 4: Video Game Character Stats"
   ]
  },
  {
   "cell_type": "code",
   "execution_count": null,
   "id": "6d0fdda8",
   "metadata": {},
   "outputs": [],
   "source": [
    "# Your game character's abilities\n",
    "my_character = {\n",
    "    \"name\": \"SuperHero\",\n",
    "    \"health\": 100,\n",
    "    \"strength\": 85,\n",
    "    \"speed\": 90,\n",
    "    \"magic\": 75,\n",
    "    \"level\": 12\n",
    "}\n",
    "\n",
    "print(\"🎮 Character Stats:\")\n",
    "print(f\"👤 Name: {my_character['name']}\")\n",
    "print(f\"❤️ Health: {my_character['health']}\")\n",
    "print(f\"💪 Strength: {my_character['strength']}\")\n",
    "print(f\"⚡ Speed: {my_character['speed']}\")\n",
    "print(f\"🔮 Magic: {my_character['magic']}\")\n",
    "print(f\"🏆 Level: {my_character['level']}\")"
   ]
  },
  {
   "cell_type": "markdown",
   "id": "172235af",
   "metadata": {},
   "source": [
    "## 🔄 Looping Through Dictionaries"
   ]
  },
  {
   "cell_type": "code",
   "execution_count": null,
   "id": "90d0293e",
   "metadata": {},
   "outputs": [],
   "source": [
    "# Print all grocery items and prices\n",
    "print(\"🛒 Complete Price List:\")\n",
    "for item, price in grocery_prices.items():\n",
    "    print(f\"{item}: Rs. {price}\")\n",
    "\n",
    "print(\"\\n📞 All my contacts:\")\n",
    "for name, number in phone_book.items():\n",
    "    print(f\"{name}: {number}\")"
   ]
  },
  {
   "cell_type": "markdown",
   "id": "58bca504",
   "metadata": {},
   "source": [
    "## 🏫 Example 5: Class Grades"
   ]
  },
  {
   "cell_type": "code",
   "execution_count": null,
   "id": "00f560ca",
   "metadata": {},
   "outputs": [],
   "source": [
    "# Student grades in different subjects\n",
    "my_grades = {\n",
    "    \"Math\": 95,\n",
    "    \"English\": 88,\n",
    "    \"Science\": 92,\n",
    "    \"History\": 85,\n",
    "    \"Art\": 98\n",
    "}\n",
    "\n",
    "print(\"📊 My Report Card:\")\n",
    "total_marks = 0\n",
    "subject_count = 0\n",
    "\n",
    "for subject, grade in my_grades.items():\n",
    "    print(f\"{subject}: {grade}%\")\n",
    "    total_marks += grade\n",
    "    subject_count += 1\n",
    "\n",
    "average = total_marks / subject_count\n",
    "print(f\"\\n🎯 Average Grade: {average:.1f}%\")\n",
    "\n",
    "if average >= 90:\n",
    "    print(\"🏆 Excellent work!\")\n",
    "elif average >= 80:\n",
    "    print(\"👍 Good job!\")\n",
    "else:\n",
    "    print(\"📚 Keep studying!\")"
   ]
  },
  {
   "cell_type": "markdown",
   "id": "d5e7232e",
   "metadata": {},
   "source": [
    "## 🎯 Practice Exercises\n",
    "\n",
    "### Exercise 1: Create Your Own Dictionary\n",
    "Create a dictionary of your favorite things!"
   ]
  },
  {
   "cell_type": "code",
   "execution_count": null,
   "id": "d8d84be8",
   "metadata": {},
   "outputs": [],
   "source": [
    "# TODO: Create a dictionary called 'my_favorites' with these keys:\n",
    "# \"color\", \"food\", \"movie\", \"sport\", \"subject\"\n",
    "# Fill in your own favorite values!\n",
    "\n",
    "my_favorites = {\n",
    "    \"color\": \"blue\",\n",
    "    \"food\": \"pizza\",\n",
    "    \"movie\": \"Spider-Man\",\n",
    "    \"sport\": \"cricket\",\n",
    "    \"subject\": \"math\"\n",
    "}\n",
    "\n",
    "# Print your favorites\n",
    "print(\"🌟 My Favorite Things:\")\n",
    "for category, favorite in my_favorites.items():\n",
    "    print(f\"{category.title()}: {favorite}\")"
   ]
  },
  {
   "cell_type": "code",
   "execution_count": null,
   "id": "cf795a1e",
   "metadata": {},
   "outputs": [],
   "source": [
    "# 🎯 Practice Exercises - Test Your Dictionary Skills!\n",
    "\n",
    "# Exercise 1: Basic Dictionary Creation\n",
    "print(\"Exercise 1: Create a student dictionary\")\n",
    "# TODO: Create a dictionary called 'student' with keys: \"name\", \"age\", \"grade\", \"school\"\n",
    "# Fill in appropriate values\n",
    "\n",
    "# Exercise 2: Accessing Dictionary Values\n",
    "print(\"\\nExercise 2: Access dictionary values\")\n",
    "# TODO: Using the student dictionary from Exercise 1, print each value using its key\n",
    "\n",
    "# Exercise 3: Adding New Items\n",
    "print(\"\\nExercise 3: Add new items to dictionary\")\n",
    "# TODO: Add \"favorite_subject\" and \"city\" to your student dictionary\n",
    "# Print the updated dictionary\n",
    "\n",
    "# Exercise 4: Updating Existing Values\n",
    "print(\"\\nExercise 4: Update dictionary values\")\n",
    "# TODO: Change the \"age\" in your student dictionary to a new value\n",
    "# Print the updated age\n",
    "\n",
    "# Exercise 5: Dictionary Methods\n",
    "print(\"\\nExercise 5: Use dictionary methods\")\n",
    "# TODO: Using your student dictionary:\n",
    "# - Print all keys using .keys()\n",
    "# - Print all values using .values()\n",
    "# - Print all key-value pairs using .items()\n",
    "\n",
    "# Exercise 6: Removing Items\n",
    "print(\"\\nExercise 6: Remove items from dictionary\")\n",
    "# TODO: Remove \"school\" from your student dictionary using del\n",
    "# Print the dictionary to confirm it's removed\n",
    "\n",
    "# Exercise 7: Looping Through Dictionary\n",
    "print(\"\\nExercise 7: Loop through dictionary\")\n",
    "# TODO: Create a dictionary of 4 countries and their capitals\n",
    "# Loop through and print each country and its capital\n",
    "\n",
    "# Exercise 8: Checking if Key Exists\n",
    "print(\"\\nExercise 8: Check if key exists\")\n",
    "# TODO: Using your countries dictionary, check if \"France\" exists as a key\n",
    "# Print appropriate messages for both cases\n",
    "\n",
    "# Exercise 9: Dictionary Length and Clearing\n",
    "print(\"\\nExercise 9: Dictionary operations\")\n",
    "# TODO: Print the length of your countries dictionary\n",
    "# Then clear all items and print the length again\n",
    "\n",
    "# Exercise 10: Real-world Application\n",
    "print(\"\\nExercise 10: Create a simple inventory\")\n",
    "# TODO: Create a dictionary called 'inventory' with 5 items and their quantities\n",
    "# Calculate and print the total number of items in inventory\n"
   ]
  },
  {
   "cell_type": "markdown",
   "id": "578fad10",
   "metadata": {},
   "source": [
    "## 🎉 Fun Facts About Dictionaries:\n",
    "\n",
    "1. **🚀 Super Fast:** Dictionaries are very fast at finding values!\n",
    "2. **🔑 Unique Keys:** Each key can only appear once in a dictionary\n",
    "3. **📝 Any Type:** Keys can be strings, numbers, or other types\n",
    "4. **🔄 Changeable:** You can add, remove, and modify items anytime\n",
    "5. **📊 Real World:** Used everywhere - databases, websites, games!\n",
    "\n",
    "## 🏆 What You Learned:\n",
    "- ✅ How to create dictionaries with `{}`\n",
    "- ✅ How to access values using keys\n",
    "- ✅ How to add, update, and remove items\n",
    "- ✅ How to loop through dictionaries\n",
    "- ✅ How to use dictionary methods like `.keys()`, `.values()`, `.items()`\n",
    "- ✅ Real-world applications of dictionaries\n",
    "\n",
    "**Next up:** Tuples - The unchangeable cousins of lists! 📦"
   ]
  }
 ],
 "metadata": {
  "language_info": {
   "name": "python"
  }
 },
 "nbformat": 4,
 "nbformat_minor": 5
}
