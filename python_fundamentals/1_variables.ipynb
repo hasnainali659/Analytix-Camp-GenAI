{
 "cells": [
  {
   "cell_type": "markdown",
   "metadata": {},
   "source": [
    "Module 1 — Python Fundamentals\n",
    "\n",
    "🔥 Why Learn Python First?\n",
    "\n",
    "✅ 1. Simple and Readable Syntax\n",
    "\n",
    "Python reads almost like English:"
   ]
  },
  {
   "cell_type": "markdown",
   "metadata": {},
   "source": [
    "Python Code\n",
    "\n",
    "for name in names:\n",
    "    print(\"Hello\", name)\n",
    "\n",
    "Java Code\n",
    "\n",
    "for (String name : names) {\n",
    "    System.out.println(\"Hello \" + name);\n",
    "}"
   ]
  },
  {
   "cell_type": "markdown",
   "metadata": {},
   "source": [
    "Python has fewer lines, no need to declare types, and no brackets—all great for beginners.\n",
    "\n",
    "✅ 2. Massive Community & Support\n",
    "From YouTube tutorials to StackOverflow answers, Python has one of the largest support ecosystems.\n",
    "\n",
    "✅ 3. Versatility Across Domains\n",
    "Python is not just for AI—it’s used in:\n",
    "\n",
    "Web development (Django, Flask)\n",
    "\n",
    "Automation (Selenium, PyAutoGUI)\n",
    "\n",
    "Data Science (Pandas, NumPy)\n",
    "\n",
    "Game Dev (Pygame)\n",
    "\n",
    "App scripting (Blender, Houdini)"
   ]
  },
  {
   "cell_type": "markdown",
   "metadata": {},
   "source": [
    "🧠 Why Python for Artificial Intelligence?\n",
    "\n",
    "Python dominates AI for the following reasons:\n",
    "\n",
    "| Feature                   | Why It Matters in AI                         |\n",
    "| ------------------------- | -------------------------------------------- |\n",
    "| **Libraries**             | TensorFlow, PyTorch, scikit-learn, OpenCV    |\n",
    "| **Ease of Prototyping**   | Faster experiments → more innovation         |\n",
    "| **Community**             | Tons of open-source models and research      |\n",
    "| **Integration**           | Easy API and web service integrations        |\n",
    "| **Visualization Support** | Matplotlib, Seaborn, Plotly for data insight |"
   ]
  },
  {
   "cell_type": "markdown",
   "metadata": {},
   "source": [
    "1.1 Variables & Data Types\n",
    "\n",
    "Why “variable”?\n",
    "\n",
    "Think of your computer’s memory as a row of labeled lockers.\n",
    "When you assign price = 30, you’re writing “30” on a sticky note and sliding it into the locker labeled “price”.\n",
    "\n",
    "🎒 Real-life Analogy:\n",
    "Imagine you have a school bag.\n",
    "You put your math book inside and label the bag \"MathBag\".\n",
    "\n",
    "Now whenever someone asks, “What’s in MathBag?”, you can say: “A math book!”\n",
    "\n",
    "🧳 The bag is the variable.\n",
    "\n",
    "📖 The math book is the value.\n",
    "\n",
    "🏷️ The label is the name of the variable."
   ]
  },
  {
   "cell_type": "code",
   "execution_count": null,
   "metadata": {
    "vscode": {
     "languageId": "plaintext"
    }
   },
   "outputs": [],
   "source": [
    "🧪 Python Syntax\n",
    "\n",
    "variable_name = value"
   ]
  },
  {
   "cell_type": "markdown",
   "metadata": {},
   "source": [
    "🧁 Example 1: Storing a cake’s flavor\n",
    "\n",
    "cake_flavor = \"chocolate\"\n",
    "print(\"My favorite cake flavor is:\", cake_flavor)\n",
    "\n",
    "🧠 Explanation:\n",
    "\n",
    "cake_flavor is the variable storing the value \"chocolate\".\n",
    "You can reuse it again anywhere by just calling cake_flavor."
   ]
  },
  {
   "cell_type": "markdown",
   "metadata": {},
   "source": [
    "💰 Example 2: Your piggy bank\n",
    "\n",
    "piggy_bank = 1500\n",
    "print(\"You have\", piggy_bank, \"rupees in your piggy bank.\")"
   ]
  },
  {
   "cell_type": "markdown",
   "metadata": {},
   "source": [
    "📱 Example 3: Your phone contact\n",
    "\n",
    "\n",
    "contact_name = \"Amna\"\n",
    "contact_number = \"0312-1234567\"\n",
    "print(\"Calling\", contact_name, \"at\", contact_number)\n"
   ]
  },
  {
   "cell_type": "markdown",
   "metadata": {},
   "source": [
    "🔀 Changing Variable Values\n",
    "Just like you can replace the contents in a box, you can update the variable:\n",
    "\n",
    "weather = \"Sunny\"\n",
    "print(\"Today the weather is\", weather)\n",
    "\n",
    "weather = \"Rainy\"  # Updating value\n",
    "print(\"Now the weather is\", weather)\n"
   ]
  },
  {
   "cell_type": "markdown",
   "metadata": {},
   "source": [
    "🧩 Variable Rules in Python\n",
    "\n",
    "✅ Names can include letters, numbers, and underscores (e.g., user_name, age1)\n",
    "\n",
    "❌ Cannot start with a number (e.g., 1age is invalid)\n",
    "\n",
    "❌ No spaces (use underscore _ instead)\n",
    "\n",
    "❌ Cannot be a reserved keyword (e.g., for, if, class)"
   ]
  },
  {
   "cell_type": "code",
   "execution_count": null,
   "metadata": {},
   "outputs": [],
   "source": [
    "student_name = \"Ali\"\n",
    "age = 16\n",
    "grade = \"10th\"\n",
    "is_enrolled = True\n",
    "\n",
    "print(\"Student Name:\", student_name)\n",
    "print(\"Age:\", age)\n",
    "print(\"Grade:\", grade)\n",
    "print(\"Currently Enrolled:\", is_enrolled)"
   ]
  },
  {
   "cell_type": "markdown",
   "metadata": {},
   "source": [
    "| Python Type | Real-Life Analogy                          | Example Literal    |\n",
    "| ----------- | ------------------------------------------ | ------------------ |\n",
    "| `int`       | Whole apples in a basket                   | `7`                |\n",
    "| `float`     | Juice in a measuring cup (can be 1.5 cups) | `2.5`              |\n",
    "| `str`       | Sentence on a paper slip                   | `\"Fresh Lemonade\"` |\n",
    "| `bool`      | Light-switch (on/off)                      | `True` or `False`  |\n"
   ]
  },
  {
   "cell_type": "code",
   "execution_count": null,
   "metadata": {},
   "outputs": [],
   "source": [
    "# Price per cup in Pakistani Rupees\n",
    "price_rupees = 30        # int\n",
    "# Lemonade acidity (pH scale)\n",
    "acidity = 2.6            # float\n",
    "# Menu sign\n",
    "banner = \"Sara's Lemonade\"  # str\n",
    "# Is the stall open today?\n",
    "is_open = True           # bool"
   ]
  }
 ],
 "metadata": {
  "language_info": {
   "name": "python"
  }
 },
 "nbformat": 4,
 "nbformat_minor": 2
}
