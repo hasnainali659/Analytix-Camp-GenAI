{
 "cells": [
  {
   "cell_type": "markdown",
   "metadata": {},
   "source": [
    "1.4 Input & Output\n",
    "\n",
    "The Stallkeeper’s Conversation\n",
    "\n",
    "You ask the customer their name and how many cups they’d like; you reply with the total bill."
   ]
  },
  {
   "cell_type": "code",
   "execution_count": null,
   "metadata": {},
   "outputs": [],
   "source": [
    "price_rupees = 10\n",
    "\n",
    "name = input(\"Welcome! What is your name? \")\n",
    "cups = int(input(\"How many cups would you like, \" + name + \"? \"))\n",
    "\n",
    "total = cups * price_rupees\n",
    "print(f\"That will be {total} rupees. Thank you, {name}!\")\n"
   ]
  },
  {
   "cell_type": "markdown",
   "metadata": {},
   "source": [
    "Daily-Calories Calculator\n",
    "\n",
    "Scenario: Track calories for breakfast, lunch, dinner, and snacks."
   ]
  },
  {
   "cell_type": "code",
   "execution_count": null,
   "metadata": {},
   "outputs": [],
   "source": [
    "breakfast = int(input(\"Calories for breakfast: \"))\n",
    "lunch     = int(input(\"Lunch: \"))\n",
    "dinner    = int(input(\"Dinner: \"))\n",
    "snacks    = int(input(\"Snacks: \"))\n",
    "\n",
    "total = breakfast + lunch + dinner + snacks\n",
    "print(f\"Total today: {total} kcal\")"
   ]
  },
  {
   "cell_type": "markdown",
   "metadata": {},
   "source": [
    "Stretch Ideas\n",
    "\n",
    "Add goal comparison: input a daily target and print “Over”/“Under.”\n",
    "\n",
    "Convert kcal to kilojoules (kJ = kcal * 4.184)."
   ]
  },
  {
   "cell_type": "markdown",
   "metadata": {},
   "source": [
    "Exercise\n",
    "\n",
    "Write a script that:\n",
    "\n",
    "Greets the user.\n",
    "\n",
    "Asks today’s temperature in °C.\n",
    "\n",
    "Stores it as temp_c.\n",
    "\n",
    "Prints either “Perfect day for lemonade!” or “Might be a slow day…” based on temp_c > 30."
   ]
  }
 ],
 "metadata": {
  "language_info": {
   "name": "python"
  }
 },
 "nbformat": 4,
 "nbformat_minor": 2
}
