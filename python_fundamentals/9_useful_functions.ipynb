{
 "cells": [
  {
   "cell_type": "markdown",
   "metadata": {},
   "source": [
    "🔢 Data Types and Their Useful Functions"
   ]
  },
  {
   "cell_type": "markdown",
   "metadata": {},
   "source": [
    "1️⃣ String (str)\n",
    "\n",
    "A string is a sequence of characters (text).\n",
    "\n",
    "🧠 Common String Functions:\n",
    "\n",
    "| Function          | Description                   | Example                              |\n",
    "| ----------------- | ----------------------------- | ------------------------------------ |\n",
    "| `len(s)`          | Length of string              | `len(\"apple\") → 5`                   |\n",
    "| `s.upper()`       | Converts to uppercase         | `\"hello\".upper() → \"HELLO\"`          |\n",
    "| `s.lower()`       | Converts to lowercase         | `\"HELLO\".lower() → \"hello\"`          |\n",
    "| `s.capitalize()`  | First letter uppercase        | `\"python\".capitalize() → \"Python\"`   |\n",
    "| `s.strip()`       | Removes spaces from both ends | `\"  hello  \".strip() → \"hello\"`      |\n",
    "| `s.replace(a, b)` | Replace text                  | `\"hi hi\".replace(\"hi\", \"hello\")`     |\n",
    "| `s.split()`       | Split into list               | `\"a,b,c\".split(\",\") → ['a','b','c']` |\n",
    "| `s.isdigit()`     | Checks if only digits         | `\"123\".isdigit() → True`             |\n"
   ]
  },
  {
   "cell_type": "code",
   "execution_count": null,
   "metadata": {
    "vscode": {
     "languageId": "plaintext"
    }
   },
   "outputs": [],
   "source": [
    "message = \" Hello World! \"\n",
    "print(message.strip().upper())"
   ]
  },
  {
   "cell_type": "markdown",
   "metadata": {},
   "source": [
    "2️⃣ Integer (int) & Float (float)\n",
    "Integers are whole numbers, and floats are decimals.\n",
    "\n",
    "🧠 Common Functions:\n",
    "\n",
    "| Function        | Description               | Example                |\n",
    "| --------------- | ------------------------- | ---------------------- |\n",
    "| `abs(x)`        | Absolute value            | `abs(-10) → 10`        |\n",
    "| `round(x)`      | Rounds to nearest integer | `round(3.6) → 4`       |\n",
    "| `pow(x, y)`     | Power (x^y)               | `pow(2, 3) → 8`        |\n",
    "| `int(\"5\")`      | Convert to integer        | `int(\"5\") → 5`         |\n",
    "| `float(\"3.14\")` | Convert to float          | `float(\"3.14\") → 3.14` |\n",
    "| `max(list)`     | Largest number            | `max([4, 2, 7]) → 7`   |\n",
    "| `min(list)`     | Smallest number           | `min([4, 2, 7]) → 2`   |\n",
    "| `sum(list)`     | Adds up numbers in list   | `sum([1, 2, 3]) → 6`   |\n"
   ]
  },
  {
   "cell_type": "code",
   "execution_count": null,
   "metadata": {},
   "outputs": [],
   "source": [
    "a = -5\n",
    "b = 3.1416\n",
    "print(abs(a))     # 5\n",
    "print(round(b))   # 3\n"
   ]
  },
  {
   "cell_type": "markdown",
   "metadata": {},
   "source": [
    "3️⃣ Boolean (bool)\n",
    "Booleans can be only True or False. Often used in conditions.\n",
    "\n",
    "✅ Type Conversion:"
   ]
  },
  {
   "cell_type": "code",
   "execution_count": null,
   "metadata": {},
   "outputs": [],
   "source": [
    "bool(0)        # False\n",
    "bool(1)        # True\n",
    "bool(\"\")       # False (empty string)\n",
    "bool(\"text\")   # True"
   ]
  },
  {
   "cell_type": "markdown",
   "metadata": {},
   "source": [
    "Use in comparisons:"
   ]
  },
  {
   "cell_type": "code",
   "execution_count": null,
   "metadata": {},
   "outputs": [],
   "source": [
    "age = 18\n",
    "print(age > 16)    # True\n",
    "print(bool(age))   # True\n"
   ]
  }
 ],
 "metadata": {
  "language_info": {
   "name": "python"
  }
 },
 "nbformat": 4,
 "nbformat_minor": 2
}
