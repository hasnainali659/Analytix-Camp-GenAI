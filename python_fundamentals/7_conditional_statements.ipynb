{
 "cells": [
  {
   "cell_type": "markdown",
   "metadata": {},
   "source": [
    "1.5 Decisions (Conditionals)\n",
    "\n",
    "If-Else Logic Flow\n",
    "\n",
    "Imagine you promise a 10 % discount on days hotter than 35 °C or if the customer buys ≥ 5 cups."
   ]
  },
  {
   "cell_type": "code",
   "execution_count": null,
   "metadata": {},
   "outputs": [],
   "source": [
    "temp_c = 38\n",
    "cups = 2\n",
    "price_rupees = 10\n",
    "discount = 0\n",
    "if temp_c > 35 or cups >= 5:\n",
    "    discount = 0.10      # percent\n",
    "elif temp_c < 20:\n",
    "    print(\"We recommend hot chocolate instead 🫖\")\n",
    "else:\n",
    "    discount = 0\n",
    "\n",
    "bill = cups * price_rupees * (1 - discount)"
   ]
  },
  {
   "cell_type": "markdown",
   "metadata": {},
   "source": [
    "| Condition | `temp_c` | `cups` | Applies Discount? |\n",
    "| --------- | -------- | ------ | ----------------- |\n",
    "| 38, 2     | T        | F      | Yes               |\n",
    "| 28, 5     | F        | T      | Yes               |\n",
    "| 25, 2     | F        | F      | No                |\n"
   ]
  },
  {
   "cell_type": "markdown",
   "metadata": {},
   "source": [
    "Temperature Advisor\n",
    "\n",
    "Ask the outside °C and output clothing advice.\n",
    "\n",
    "| Temp Range | Advice                |\n",
    "| ---------- | --------------------- |\n",
    "| > 30 °C    | “Wear light T-shirt.” |\n",
    "| 15–30      | “Normal outfit.”      |\n",
    "| < 15       | “Take a jacket.”      |\n",
    "\n",
    "Stretch – Accept Fahrenheit (F = C*9/5+32) and convert."
   ]
  },
  {
   "cell_type": "code",
   "execution_count": null,
   "metadata": {},
   "outputs": [],
   "source": [
    "temp_c = float(input(\"Outside temperature °C: \"))\n",
    "if temp_c > 30:\n",
    "    advice = \"Wear a light T-shirt 👕\"\n",
    "elif temp_c < 15:\n",
    "    advice = \"Take a jacket 🧥\"\n",
    "else:\n",
    "    advice = \"Normal outfit is fine 🙂\"\n",
    "print(advice)"
   ]
  },
  {
   "cell_type": "code",
   "execution_count": null,
   "metadata": {},
   "outputs": [],
   "source": [
    "# Let's learn about logical operators in Python! 🎮\n",
    "\n",
    "has_homework = True\n",
    "is_weekend = False\n",
    "is_sick = False\n",
    "\n",
    "print(\"Can I play video games? Let's check the conditions!\")\n",
    "\n",
    "# Using OR - You can play if it's weekend OR you don't have homework\n",
    "if is_weekend or not has_homework:\n",
    "    print(\"Yes! You can play video games! 🎮\")\n",
    "else:\n",
    "    print(\"Sorry, finish your homework first! 📚\")\n",
    "\n",
    "# Using AND - You can go outside if you're not sick AND it's weekend\n",
    "if not is_sick and is_weekend:\n",
    "    print(\"You can go play outside! ⚽\")\n",
    "else:\n",
    "    print(\"Better stay home today! 🏠\")\n",
    "\n",
    "# Using NOT with AND/OR - Complex example\n",
    "if not (has_homework and is_sick) and is_weekend:\n",
    "    print(\"You can watch TV! 📺\")\n",
    "else:\n",
    "    print(\"Time to study or rest! 📖\")\n",
    "\n",
    "# Try changing the True/False values above to see different results!\n"
   ]
  },
  {
   "cell_type": "markdown",
   "metadata": {},
   "source": [
    "Exercise: Dynamic Pricing\n",
    "\n",
    "Goal: Surge-price lemonade on cricket-match days.\n",
    "\n",
    "Ask “Is there a PSL match today? (y/n)”.\n",
    "\n",
    "If yes, set price_rupees to 40.\n",
    "\n",
    "Else keep it 30.\n",
    "\n",
    "Combine with the discount logic above."
   ]
  }
 ],
 "metadata": {
  "language_info": {
   "name": "python"
  }
 },
 "nbformat": 4,
 "nbformat_minor": 2
}
