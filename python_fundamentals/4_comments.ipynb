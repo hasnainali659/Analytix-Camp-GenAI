{
 "cells": [
  {
   "cell_type": "markdown",
   "metadata": {},
   "source": [
    "✏️ 1.3 Comments — Notes for Humans\n",
    "\n",
    "🧠 What is a Comment?\n",
    "A comment is a line of text ignored by Python.\n",
    "It's used to:\n",
    "\n",
    "Explain what your code is doing\n",
    "\n",
    "Leave reminders for yourself or other developers\n",
    "\n",
    "Temporarily disable code"
   ]
  },
  {
   "cell_type": "code",
   "execution_count": null,
   "metadata": {},
   "outputs": [],
   "source": [
    "# This line prints my name\n",
    "print(\"Hasnain\")  # Comment beside a line"
   ]
  },
  {
   "cell_type": "markdown",
   "metadata": {},
   "source": [
    "🧠 Real-life Analogy:\n",
    "Think of comments as sticky notes 🗒️ on your code — Python does not read them, but humans do!"
   ]
  },
  {
   "cell_type": "markdown",
   "metadata": {},
   "source": [
    "✨ Multi-line Comments:\n",
    "Python does not have a real multi-line comment syntax, but developers use triple quotes as a trick:"
   ]
  },
  {
   "cell_type": "code",
   "execution_count": null,
   "metadata": {},
   "outputs": [],
   "source": [
    "\"\"\"\n",
    "This is a multi-line comment.\n",
    "Used for big explanations.\n",
    "\"\"\""
   ]
  },
  {
   "cell_type": "code",
   "execution_count": null,
   "metadata": {},
   "outputs": [],
   "source": [
    "# Step 1: Get user input\n",
    "# Step 2: Process data\n",
    "# Step 3: Print result\n"
   ]
  },
  {
   "cell_type": "code",
   "execution_count": null,
   "metadata": {},
   "outputs": [],
   "source": [
    "# This is a simple profile\n",
    "name = \"Zara\"        # her name\n",
    "age = 15             # her age\n",
    "print(\"Student:\", name)\n",
    "print(\"Age:\", age)\n"
   ]
  },
  {
   "cell_type": "code",
   "execution_count": null,
   "metadata": {},
   "outputs": [],
   "source": [
    "# Print a small shopping receipt\n",
    "item = \"Notebook\"\n",
    "quantity = 3\n",
    "price_per_item = 100\n",
    "\n",
    "total = quantity * price_per_item\n",
    "\n",
    "print(\"Item:\", item)\n",
    "print(\"Quantity:\", quantity)\n",
    "print(\"Total Price:\", total, \"PKR\")"
   ]
  },
  {
   "cell_type": "markdown",
   "metadata": {},
   "source": [
    "| Concept        | Purpose                         | Syntax Example              |\n",
    "| -------------- | ------------------------------- | --------------------------- |\n",
    "| `print()`      | Show output                     | `print(\"Hello\")`            |\n",
    "| Variable Print | Show variable values            | `print(\"Name:\", name)`      |\n",
    "| Comment        | Add explanation or disable code | `# This is a comment`       |\n",
    "| Inline Comment | Explain specific line           | `print(name)  # print name` |\n",
    "| Multi-line     | Document whole block            | `\"\"\" Explain all steps \"\"\"` |\n"
   ]
  }
 ],
 "metadata": {
  "language_info": {
   "name": "python"
  }
 },
 "nbformat": 4,
 "nbformat_minor": 2
}
