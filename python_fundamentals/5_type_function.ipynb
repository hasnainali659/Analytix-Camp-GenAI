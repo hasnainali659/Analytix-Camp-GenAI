{
 "cells": [
  {
   "cell_type": "code",
   "execution_count": null,
   "metadata": {
    "vscode": {
     "languageId": "plaintext"
    }
   },
   "outputs": [],
   "source": [
    "🔍 What is type()?\n",
    "\n",
    "The type() function tells you what kind of data (data type) a variable holds."
   ]
  },
  {
   "cell_type": "markdown",
   "metadata": {
    "vscode": {
     "languageId": "plaintext"
    }
   },
   "source": [
    "📦 Syntax:\n",
    "\n",
    "type(variable_or_value)"
   ]
  },
  {
   "cell_type": "code",
   "execution_count": null,
   "metadata": {},
   "outputs": [],
   "source": [
    "x = 5\n",
    "print(type(x))       # <class 'int'>\n",
    "\n",
    "name = \"Ali\"\n",
    "print(type(name))    # <class 'str'>\n",
    "\n",
    "pi = 3.14\n",
    "print(type(pi))      # <class 'float'>\n",
    "\n",
    "is_happy = True\n",
    "print(type(is_happy)) # <class 'bool'>"
   ]
  },
  {
   "cell_type": "markdown",
   "metadata": {},
   "source": [
    "📌 What is Type Conversion?\n",
    "\n",
    "Type conversion means changing the data type of a variable or value from one type to another.\n",
    "\n",
    "Python has two types of type conversion:\n",
    "\n",
    "🔧 Implicit Conversion – done automatically by Python\n",
    "\n",
    "✋ Explicit Conversion – done manually by the programmer using functions like int(), str(), float(), etc."
   ]
  },
  {
   "cell_type": "markdown",
   "metadata": {},
   "source": [
    "1️⃣ Implicit Type Conversion (Automatic)\n",
    "Python automatically converts one data type to another when needed.\n",
    "\n",
    "✅ Example:"
   ]
  },
  {
   "cell_type": "code",
   "execution_count": null,
   "metadata": {},
   "outputs": [],
   "source": [
    "a = 5        # int\n",
    "b = 2.0      # float\n",
    "\n",
    "result = a + b\n",
    "print(result)        # 7.0\n",
    "print(type(result))  # float"
   ]
  },
  {
   "cell_type": "markdown",
   "metadata": {},
   "source": [
    "💡 What happened?\n",
    "a was an integer\n",
    "\n",
    "b was a float\n",
    "➡️ Python converted a to float before the addition to avoid data loss!"
   ]
  },
  {
   "cell_type": "markdown",
   "metadata": {},
   "source": [
    "2️⃣ Explicit Type Conversion (Manual)\n",
    "You manually convert from one type to another using Python’s built-in type casting functions.\n",
    "\n",
    "🛠️ Type Casting Functions"
   ]
  },
  {
   "cell_type": "markdown",
   "metadata": {},
   "source": [
    "| Function   | Description               | Example                               |\n",
    "| ---------- | ------------------------- | ------------------------------------- |\n",
    "| `int(x)`   | Converts to integer       | `int(\"5\") → 5`                        |\n",
    "| `float(x)` | Converts to float         | `float(\"3.14\") → 3.14`                |\n",
    "| `str(x)`   | Converts to string        | `str(100) → \"100\"`                    |\n",
    "| `bool(x)`  | Converts to boolean       | `bool(0) → False`, `bool(\"a\") → True` |\n",
    "| `list(x)`  | Converts iterable to list | `list(\"abc\") → ['a', 'b', 'c']`       |\n"
   ]
  },
  {
   "cell_type": "markdown",
   "metadata": {},
   "source": [
    "🔢 Converting Between Numbers"
   ]
  },
  {
   "cell_type": "code",
   "execution_count": null,
   "metadata": {},
   "outputs": [],
   "source": [
    "x = \"42\"\n",
    "y = int(x)         # \"42\" (str) → 42 (int)\n",
    "z = float(y)       # 42 (int) → 42.0 (float)\n",
    "\n",
    "print(y, type(y))  # 42 <class 'int'>\n",
    "print(z, type(z))  # 42.0 <class 'float'>"
   ]
  },
  {
   "cell_type": "code",
   "execution_count": null,
   "metadata": {},
   "outputs": [],
   "source": [
    "age = 18\n",
    "print(\"I am \" + str(age) + \" years old.\")"
   ]
  },
  {
   "cell_type": "markdown",
   "metadata": {},
   "source": [
    "📈 Convert to Boolean\n",
    "\n",
    "| Value                          | `bool(value)` |\n",
    "| ------------------------------ | ------------- |\n",
    "| `0`, `0.0`, `\"\"`, `[]`, `None` | `False`       |\n",
    "| All other values               | `True`        |\n"
   ]
  },
  {
   "cell_type": "code",
   "execution_count": null,
   "metadata": {},
   "outputs": [],
   "source": [
    "print(bool(0))        # False\n",
    "print(bool(3))        # True\n",
    "print(bool(\"\"))       # False\n",
    "print(bool(\"Hi\"))     # True"
   ]
  },
  {
   "cell_type": "code",
   "execution_count": null,
   "metadata": {},
   "outputs": [],
   "source": [
    "📜 Convert to List"
   ]
  },
  {
   "cell_type": "code",
   "execution_count": null,
   "metadata": {},
   "outputs": [],
   "source": [
    "s = \"hello\"\n",
    "print(list(s))   # ['h', 'e', 'l', 'l', 'o']"
   ]
  },
  {
   "cell_type": "code",
   "execution_count": null,
   "metadata": {},
   "outputs": [],
   "source": [
    "numbers = \"1 2 3 4\"\n",
    "split_list = numbers.split()\n",
    "int_list = [int(x) for x in split_list]  # List comprehension\n",
    "print(int_list)  # [1, 2, 3, 4]"
   ]
  },
  {
   "cell_type": "markdown",
   "metadata": {},
   "source": [
    "🚫 Conversion Errors to Avoid"
   ]
  },
  {
   "cell_type": "code",
   "execution_count": null,
   "metadata": {},
   "outputs": [],
   "source": [
    "int(\"abc\")     # ❌ Error: Cannot convert non-numeric string\n",
    "float(\"12.3.4\") # ❌ Error: Invalid float string"
   ]
  },
  {
   "cell_type": "code",
   "execution_count": null,
   "metadata": {},
   "outputs": [],
   "source": [
    "# Input is always string!\n",
    "num1 = input(\"Enter first number: \")\n",
    "num2 = input(\"Enter second number: \")\n",
    "\n",
    "# Convert to integer\n",
    "sum = int(num1) + int(num2)\n",
    "\n",
    "print(\"The sum is:\", sum)\n"
   ]
  },
  {
   "cell_type": "code",
   "execution_count": null,
   "metadata": {},
   "outputs": [],
   "source": [
    "height = \"5.7\"\n",
    "weight = \"65\"\n",
    "\n",
    "height = float(height)\n",
    "weight = int(weight)\n",
    "\n",
    "print(\"Height (m):\", height)\n",
    "print(\"Weight (kg):\", weight)\n"
   ]
  },
  {
   "cell_type": "markdown",
   "metadata": {},
   "source": [
    "🧠 Summary Table\n",
    "\n",
    "| Convert To | Function   | Example               | Result          |\n",
    "| ---------- | ---------- | --------------------- | --------------- |\n",
    "| Integer    | `int(x)`   | `int(\"10\")`           | `10` (int)      |\n",
    "| Float      | `float(x)` | `float(\"5.6\")`        | `5.6` (float)   |\n",
    "| String     | `str(x)`   | `str(100)`            | `\"100\"` (str)   |\n",
    "| Boolean    | `bool(x)`  | `bool(\"\")`, `bool(1)` | `False`, `True` |\n",
    "| List       | `list(x)`  | `list(\"abc\")`         | `['a','b','c']` |\n"
   ]
  }
 ],
 "metadata": {
  "language_info": {
   "name": "python"
  }
 },
 "nbformat": 4,
 "nbformat_minor": 2
}
