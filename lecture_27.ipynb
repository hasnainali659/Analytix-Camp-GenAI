{
 "cells": [
  {
   "cell_type": "code",
   "execution_count": 36,
   "id": "6179152e",
   "metadata": {},
   "outputs": [
    {
     "data": {
      "text/plain": [
       "True"
      ]
     },
     "execution_count": 36,
     "metadata": {},
     "output_type": "execute_result"
    }
   ],
   "source": [
    "import os\n",
    "from dotenv import load_dotenv\n",
    "from langchain_community.document_loaders import PyPDFLoader\n",
    "from langchain.text_splitter import RecursiveCharacterTextSplitter\n",
    "from langchain.schema import Document\n",
    "from langchain.prompts import PromptTemplate\n",
    "from langchain_community.vectorstores import Neo4jVector\n",
    "from langchain_openai import ChatOpenAI\n",
    "from langchain_community.embeddings import OpenAIEmbeddings\n",
    "from langchain_community.graphs import Neo4jGraph\n",
    "from langchain_experimental.graph_transformers import LLMGraphTransformer\n",
    "from langchain_community.chains.graph_qa.cypher import GraphCypherQAChain\n",
    "from langchain_core.output_parsers import StrOutputParser\n",
    "from neo4j import GraphDatabase\n",
    "\n",
    "load_dotenv()"
   ]
  },
  {
   "cell_type": "code",
   "execution_count": 37,
   "id": "b9dbd017",
   "metadata": {},
   "outputs": [],
   "source": [
    "URI = os.getenv(\"NEO4J_URI\")\n",
    "USERNAME = os.getenv(\"NEO4J_USERNAME\")\n",
    "PASSWORD = os.getenv(\"NEO4J_PASSWORD\")\n",
    "\n",
    "def init_neo4j_connection():\n",
    "    graph = Neo4jGraph(url=URI, username=USERNAME, password=PASSWORD)\n",
    "    driver = GraphDatabase.driver(URI, auth=(USERNAME, PASSWORD))\n",
    "    \n",
    "    return graph, driver"
   ]
  },
  {
   "cell_type": "code",
   "execution_count": 38,
   "id": "cc6dd7b8",
   "metadata": {},
   "outputs": [],
   "source": [
    "graph, driver = init_neo4j_connection()"
   ]
  },
  {
   "cell_type": "code",
   "execution_count": 39,
   "id": "86e5851e",
   "metadata": {},
   "outputs": [],
   "source": [
    "def get_schema(graph):\n",
    "    return graph.get_schema if graph else \"\""
   ]
  },
  {
   "cell_type": "code",
   "execution_count": 40,
   "id": "884cb825",
   "metadata": {},
   "outputs": [],
   "source": [
    "schema = get_schema(graph)"
   ]
  },
  {
   "cell_type": "code",
   "execution_count": 41,
   "id": "123081aa",
   "metadata": {},
   "outputs": [
    {
     "data": {
      "text/plain": [
       "'Node properties:\\nresume {name: STRING}\\nFile {name: STRING}\\nEntity {name: STRING}\\nSCIENCE_ARTICLE {name: STRING}\\nRelationship properties:\\n\\nThe relationships:\\n(:File)-[:BELONGS_TO]->(:resume)\\n(:Entity)-[:HAS_SKILLS]->(:Entity)\\n(:Entity)-[:LIVES_IN]->(:Entity)\\n(:Entity)-[:HAS_FILE]->(:File)\\n(:Entity)-[:HAS_EXPERIENCE]->(:Entity)\\n(:Entity)-[:AS]->(:Entity)\\n(:Entity)-[:LOCATED_IN]->(:Entity)\\n(:Entity)-[:HAS_CERTIFICATION]->(:Entity)\\n(:Entity)-[:HAS_PROJECTS]->(:Entity)\\n(:Entity)-[:HAS_EDUCATION]->(:Entity)\\n(:Entity)-[:HAS_CONFERENCE]->(:Entity)\\n(:Entity)-[:FROM]->(:Entity)\\n(:Entity)-[:HAS_MEMBERSHIP]->(:Entity)\\n(:Entity)-[:HAS_CERTIFICATIONS]->(:Entity)\\n(:Entity)-[:HAS_COURSES]->(:Entity)'"
      ]
     },
     "execution_count": 41,
     "metadata": {},
     "output_type": "execute_result"
    }
   ],
   "source": [
    "schema"
   ]
  },
  {
   "cell_type": "code",
   "execution_count": 42,
   "id": "ab5e9b66",
   "metadata": {},
   "outputs": [],
   "source": [
    "def init_qa_chain(graph):\n",
    "\n",
    "    template = \"\"\"\n",
    "    Task: Generate a Cypher statement to query the graph database.\n",
    "    You will be given a rephrased query.\n",
    "    Generate a cypher statement to answer the rephrased query.\n",
    "\n",
    "    Instructions:\n",
    "    1. Search for nodes and their relationships\n",
    "    2. Return relevant information about the queried entities\n",
    "    3. Don't restrict to specific labels, search across all nodes\n",
    "    4. Use CONTAINS or other fuzzy matching when appropriate\n",
    "\n",
    "    schema:\n",
    "    {schema}\n",
    "\n",
    "    Note: Focus on finding relevant information rather than exact matches.\n",
    "\n",
    "    Rephrased Query: {query}\n",
    "\n",
    "    Cypher Statement:\n",
    "    \"\"\" \n",
    "\n",
    "    question_prompt = PromptTemplate.from_template(template)\n",
    "    llm = ChatOpenAI(model=\"gpt-4o\")\n",
    "\n",
    "    chain = GraphCypherQAChain.from_llm(\n",
    "        llm=llm,\n",
    "        graph=graph,\n",
    "        cypher_prompt=question_prompt,\n",
    "        verbose=True,\n",
    "        allow_dangerous_requests=True,\n",
    "        return_intermediate_steps=True,\n",
    "    )\n",
    "    \n",
    "    return chain"
   ]
  },
  {
   "cell_type": "code",
   "execution_count": 43,
   "id": "3eef8b5d",
   "metadata": {},
   "outputs": [],
   "source": [
    "qa = init_qa_chain(graph)"
   ]
  },
  {
   "cell_type": "code",
   "execution_count": 44,
   "id": "6aa7a304",
   "metadata": {},
   "outputs": [],
   "source": [
    "def relationship_to_string(relationship):\n",
    "    node1, node2 = relationship.nodes\n",
    "    \n",
    "    label1 = list(node1.labels)[0] if node1.labels else \"\"\n",
    "    label2 = list(node2.labels)[0] if node2.labels else \"\"\n",
    "    \n",
    "    name1 = node1.get(\"name\", \"Unknown\")\n",
    "    name2 = node2.get(\"name\", \"Unknown\")\n",
    "    \n",
    "    rel_type = relationship.type\n",
    "    \n",
    "    return f'(:{label1} {{name: \"{name1}\"}})-[:{rel_type}]->(:{label2} {{name: \"{name2}\"}})' \n",
    "\n",
    "def get_all_nodes_and_relationships(driver, file_names_list=None):\n",
    "    \n",
    "    if not driver:\n",
    "        return [], []\n",
    "    \n",
    "    nodes_list = []\n",
    "    relationships_list = []\n",
    "    \n",
    "    with driver.session() as session:\n",
    "        base_query = \"\"\"\n",
    "        MATCH (n:Entity)\n",
    "        OPTIONAL MATCH (n)-[r]-(m:Entity)\n",
    "        RETURN DISTINCT n, r, m\n",
    "        \"\"\"   \n",
    "        \n",
    "        result = session.run(base_query)\n",
    "        \n",
    "        for record in result:\n",
    "            if record.get(\"n\") and record[\"n\"].get(\"name\"):\n",
    "                nodes_list.append(record[\"n\"][\"name\"])\n",
    "            if record.get(\"m\") and record[\"m\"].get(\"name\"):\n",
    "                nodes_list.append(record[\"m\"][\"name\"])\n",
    "            if record.get(\"r\") is not None:\n",
    "                rel_str = relationship_to_string(record[\"r\"])\n",
    "                relationships_list.append(rel_str)\n",
    "    \n",
    "    return list(set(nodes_list)), list(set(relationships_list))   \n",
    "\n",
    "nodes_list, relationships_list = get_all_nodes_and_relationships(driver)     "
   ]
  },
  {
   "cell_type": "code",
   "execution_count": 45,
   "id": "7d1d78ea",
   "metadata": {},
   "outputs": [
    {
     "data": {
      "text/plain": [
       "['(:Entity {name: \"Khawer Ali\"})-[:HAS_SKILLS]->(:Entity {name: \"RESTful APIs\"})',\n",
       " '(:Entity {name: \"Khawer Ali\"})-[:HAS_SKILLS]->(:Entity {name: \"API Integration\"})',\n",
       " '(:Entity {name: \"Yasir Khan\"})-[:HAS_CERTIFICATION]->(:Entity {name: \"Python Programmer Bootcamp\"})',\n",
       " '(:Entity {name: \"Aun Ali\"})-[:HAS_SKILLS]->(:Entity {name: \"Finance Operations\"})',\n",
       " '(:Entity {name: \"Yasir Khan\"})-[:HAS_SKILLS]->(:Entity {name: \"OpenCV\"})',\n",
       " '(:Entity {name: \"Hasnain Ali Poonja\"})-[:HAS_EDUCATION]->(:Entity {name: \"MS Robotics and Artificial Intelligence\"})',\n",
       " '(:Entity {name: \"Yasir Khan\"})-[:HAS_PROJECTS]->(:Entity {name: \"E-Sports\"})',\n",
       " '(:Entity {name: \"Aun Ali\"})-[:HAS_MEMBERSHIP]->(:Entity {name: \"ACCA, UK\"})',\n",
       " '(:Entity {name: \"Khawer Ali\"})-[:HAS_SKILLS]->(:Entity {name: \"Laravel MVC Framework\"})',\n",
       " '(:Entity {name: \"Hasnain Ali Poonja\"})-[:HAS_EXPERIENCE]->(:Entity {name: \"CrossWing\"})',\n",
       " '(:Entity {name: \"Khawer Ali\"})-[:HAS_SKILLS]->(:Entity {name: \"Websockets\"})',\n",
       " '(:Entity {name: \"Aun Ali\"})-[:HAS_SKILLS]->(:Entity {name: \"Documentation & Control\"})',\n",
       " '(:Entity {name: \"Aun Ali\"})-[:HAS_SKILLS]->(:Entity {name: \"MS Office\"})',\n",
       " '(:Entity {name: \"Khawer Ali\"})-[:HAS_EXPERIENCE]->(:Entity {name: \"Salsoft Technologies\"})',\n",
       " '(:Entity {name: \"Yasir Khan\"})-[:HAS_SKILLS]->(:Entity {name: \"Restful API Development\"})',\n",
       " '(:Entity {name: \"Khawer Ali\"})-[:HAS_CERTIFICATION]->(:Entity {name: \"Skill Development Council\"})',\n",
       " '(:Entity {name: \"Hasnain Ali Poonja\"})-[:HAS_EXPERIENCE]->(:Entity {name: \"AL NAFI\"})',\n",
       " '(:Entity {name: \"Aun Ali\"})-[:HAS_SKILLS]->(:Entity {name: \"Leadership Qualities\"})',\n",
       " '(:Entity {name: \"Ayaan\"})-[:LIVES_IN]->(:Entity {name: \"Riyadh\"})',\n",
       " '(:Entity {name: \"Khawer Ali\"})-[:HAS_SKILLS]->(:Entity {name: \"Asana\"})',\n",
       " '(:Entity {name: \"Khawer Ali\"})-[:HAS_PROJECTS]->(:Entity {name: \"Multivendor Ecommerce Web and App\"})',\n",
       " '(:Entity {name: \"Yasir Khan\"})-[:HAS_SKILLS]->(:Entity {name: \"Azure Active Directory\"})',\n",
       " '(:Entity {name: \"Bank AL Habib Limited\"})-[:LOCATED_IN]->(:Entity {name: \"Bahrain\"})',\n",
       " '(:Entity {name: \"Khawer Ali\"})-[:HAS_SKILLS]->(:Entity {name: \"Wordpress\"})',\n",
       " '(:Entity {name: \"Yasir Khan\"})-[:HAS_CERTIFICATION]->(:Entity {name: \"Data, Data, Everywhere\"})',\n",
       " '(:Entity {name: \"Khawer Ali\"})-[:HAS_PROJECTS]->(:Entity {name: \"ERP for Sharmeen Group of Companies\"})',\n",
       " '(:Entity {name: \"Aun Ali\"})-[:HAS_SKILLS]->(:Entity {name: \"Process Improvement\"})',\n",
       " '(:Entity {name: \"Yasir Khan\"})-[:HAS_SKILLS]->(:Entity {name: \"Numpy\"})',\n",
       " '(:Entity {name: \"Khawer Ali\"})-[:HAS_SKILLS]->(:Entity {name: \"Agile\"})',\n",
       " '(:Entity {name: \"Yasir Khan\"})-[:HAS_SKILLS]->(:Entity {name: \"Sklearn\"})',\n",
       " '(:Entity {name: \"Khawer Ali\"})-[:HAS_SKILLS]->(:Entity {name: \"Vuex\"})',\n",
       " '(:Entity {name: \"Yasir Khan\"})-[:HAS_SKILLS]->(:Entity {name: \"Microsoft Azure\"})',\n",
       " '(:Entity {name: \"Aun Ali\"})-[:HAS_COURSES]->(:Entity {name: \"Regulatory Compliance Program\"})',\n",
       " '(:Entity {name: \"Hasnain Ali Poonja\"})-[:LIVES_IN]->(:Entity {name: \"Karachi\"})',\n",
       " '(:Entity {name: \"Khawer Ali\"})-[:HAS_EXPERIENCE]->(:Entity {name: \"Laravel Developer\"})',\n",
       " '(:Entity {name: \"Khawer Ali\"})-[:HAS_CONFERENCE]->(:Entity {name: \"Institute Of Business Administration\"})',\n",
       " '(:Entity {name: \"Khawer Ali\"})-[:HAS_SKILLS]->(:Entity {name: \"Bitbucket\"})',\n",
       " '(:Entity {name: \"Yasir Khan\"})-[:HAS_EDUCATION]->(:Entity {name: \"NED University of Engineering & Technology\"})',\n",
       " '(:Entity {name: \"Khawer Ali\"})-[:HAS_SKILLS]->(:Entity {name: \"Bootstrap\"})',\n",
       " '(:Entity {name: \"Khawer Ali\"})-[:HAS_EDUCATION]->(:Entity {name: \"MASTERS IN PROJECT MANAGEMENT\"})',\n",
       " '(:Entity {name: \"Khawer Ali\"})-[:HAS_PROJECTS]->(:Entity {name: \"Day4Dubai Web and App\"})',\n",
       " '(:Entity {name: \"Yasir Khan\"})-[:HAS_PROJECTS]->(:Entity {name: \"Book Recommendation using KNN\"})',\n",
       " '(:Entity {name: \"Aun Ali\"})-[:HAS_EXPERIENCE]->(:Entity {name: \"Finance\"})',\n",
       " '(:Entity {name: \"Yasir Khan\"})-[:HAS_CERTIFICATION]->(:Entity {name: \"Deep Learning with TensorFlow 2\"})',\n",
       " '(:Entity {name: \"Yasir Khan\"})-[:HAS_SKILLS]->(:Entity {name: \"Cloud Computing\"})',\n",
       " '(:Entity {name: \"Yasir Khan\"})-[:HAS_SKILLS]->(:Entity {name: \"Computer Vision\"})',\n",
       " '(:Entity {name: \"Aun Ali\"})-[:HAS_COURSES]->(:Entity {name: \"Advance Financial Analysis\"})',\n",
       " '(:Entity {name: \"Khawer Ali\"})-[:HAS_SKILLS]->(:Entity {name: \"MongoDb\"})',\n",
       " '(:Entity {name: \"Yasir Khan\"})-[:HAS_SKILLS]->(:Entity {name: \"Serverless Scripting\"})',\n",
       " '(:Entity {name: \"Yasir Khan\"})-[:HAS_SKILLS]->(:Entity {name: \"Django\"})',\n",
       " '(:Entity {name: \"Yasir Khan\"})-[:HAS_PROJECTS]->(:Entity {name: \"The Insights - A Toolbox\"})',\n",
       " '(:Entity {name: \"Khawer Ali\"})-[:HAS_SKILLS]->(:Entity {name: \"Problem Solving Skills\"})',\n",
       " '(:Entity {name: \"MS Robotics and Artificial Intelligence\"})-[:FROM]->(:Entity {name: \"NUST SMME\"})',\n",
       " '(:Entity {name: \"Aun Ali\"})-[:HAS_MEMBERSHIP]->(:Entity {name: \"GARP, US\"})',\n",
       " '(:Entity {name: \"Khawer Ali\"})-[:HAS_CONFERENCE]->(:Entity {name: \"International Leadership Conference - 16\"})',\n",
       " '(:Entity {name: \"Hasnain Ali Poonja\"})-[:HAS_EXPERIENCE]->(:Entity {name: \"National Center of Artificial Intelligence\"})',\n",
       " '(:Entity {name: \"Yasir Khan\"})-[:HAS_EDUCATION]->(:Entity {name: \"Bachelor of Science in Computer Science\"})',\n",
       " '(:Entity {name: \"Ayaan\"})-[:HAS_EXPERIENCE]->(:Entity {name: \"ICS Arabia\"})',\n",
       " '(:Entity {name: \"Aun Ali\"})-[:HAS_SKILLS]->(:Entity {name: \"Financial Reporting\"})',\n",
       " '(:Entity {name: \"Khawer Ali\"})-[:HAS_CONFERENCE]->(:Entity {name: \"Corporate Connect\"})',\n",
       " '(:Entity {name: \"Khawer Ali\"})-[:HAS_EXPERIENCE]->(:Entity {name: \"IMS Engineering (Pvt) Ltd\"})',\n",
       " '(:Entity {name: \"Yasir Khan\"})-[:HAS_SKILLS]->(:Entity {name: \"Web Development\"})',\n",
       " '(:Entity {name: \"Yasir Khan\"})-[:HAS_PROJECTS]->(:Entity {name: \"Object Detection using YOLOv3\"})',\n",
       " '(:Entity {name: \"Khawer Ali\"})-[:HAS_EXPERIENCE]->(:Entity {name: \"PHP Developer\"})',\n",
       " '(:Entity {name: \"Yasir Khan\"})-[:HAS_PROJECTS]->(:Entity {name: \"Sketching\"})',\n",
       " '(:Entity {name: \"Hasnain Ali Poonja\"})-[:HAS_EXPERIENCE]->(:Entity {name: \"VIDIZMO\"})',\n",
       " '(:Entity {name: \"Yasir Khan\"})-[:HAS_SKILLS]->(:Entity {name: \"Azure App Services\"})',\n",
       " '(:Entity {name: \"Yasir Khan\"})-[:HAS_EXPERIENCE]->(:Entity {name: \"Software Engineer\"})',\n",
       " '(:Entity {name: \"Yasir Khan\"})-[:HAS_CERTIFICATION]->(:Entity {name: \"Data Scientist Career Track\"})',\n",
       " '(:Entity {name: \"Yasir Khan\"})-[:HAS_SKILLS]->(:Entity {name: \"Microservices\"})',\n",
       " '(:Entity {name: \"Khawer Ali\"})-[:HAS_SKILLS]->(:Entity {name: \"JavaScript\"})',\n",
       " '(:Entity {name: \"Aun Ali\"})-[:HAS_SKILLS]->(:Entity {name: \"Time Management\"})',\n",
       " '(:Entity {name: \"Ontario\"})-[:LOCATED_IN]->(:Entity {name: \"Canada\"})',\n",
       " '(:Entity {name: \"Aun Ali\"})-[:HAS_EXPERIENCE]->(:Entity {name: \"Bank AL Habib Limited\"})',\n",
       " '(:Entity {name: \"Yasir Khan\"})-[:HAS_SKILLS]->(:Entity {name: \"Pyramid\"})',\n",
       " '(:Entity {name: \"Khawer Ali\"})-[:HAS_EXPERIENCE]->(:Entity {name: \"MT Pixels (Pvt) Ltd\"})',\n",
       " '(:Entity {name: \"Aun Ali\"})-[:HAS_EDUCATION]->(:Entity {name: \"University of Karachi\"})',\n",
       " '(:Entity {name: \"Aun Ali\"})-[:HAS_EXPERIENCE]->(:Entity {name: \"Risk\"})',\n",
       " '(:Entity {name: \"BE Mechanical Engineer\"})-[:FROM]->(:Entity {name: \"NED University\"})',\n",
       " '(:Entity {name: \"Khawer Ali\"})-[:LIVES_IN]->(:Entity {name: \"DHA, Karachi, Pakistan\"})',\n",
       " '(:Entity {name: \"Khawer Ali\"})-[:HAS_SKILLS]->(:Entity {name: \"Scrum\"})',\n",
       " '(:Entity {name: \"Khawer Ali\"})-[:HAS_SKILLS]->(:Entity {name: \"MS Office\"})',\n",
       " '(:Entity {name: \"Khawer Ali\"})-[:HAS_EDUCATION]->(:Entity {name: \"Iqra University\"})',\n",
       " '(:Entity {name: \"Yasir Khan\"})-[:HAS_SKILLS]->(:Entity {name: \"Selenium\"})',\n",
       " '(:Entity {name: \"Yasir Khan\"})-[:HAS_SKILLS]->(:Entity {name: \"Backend Development\"})',\n",
       " '(:Entity {name: \"Khawer Ali\"})-[:HAS_EXPERIENCE]->(:Entity {name: \"The Next Rex (Pvt) Ltd\"})',\n",
       " '(:Entity {name: \"Khawer Ali\"})-[:HAS_SKILLS]->(:Entity {name: \"Git\"})',\n",
       " '(:Entity {name: \"Aun Ali\"})-[:HAS_COURSES]->(:Entity {name: \"Advanced Diploma in Accounting & Business\"})',\n",
       " '(:Entity {name: \"Khawer Ali\"})-[:HAS_SKILLS]->(:Entity {name: \"MySQL\"})',\n",
       " '(:Entity {name: \"Yasir Khan\"})-[:HAS_SKILLS]->(:Entity {name: \"Seaborn\"})',\n",
       " '(:Entity {name: \"Hasnain Ali Poonja\"})-[:HAS_EXPERIENCE]->(:Entity {name: \"ICS Arabia\"})',\n",
       " '(:Entity {name: \"Khawer Ali\"})-[:HAS_SKILLS]->(:Entity {name: \"RESTful web services\"})',\n",
       " '(:Entity {name: \"Yasir Khan\"})-[:HAS_PROJECTS]->(:Entity {name: \"Chess\"})',\n",
       " '(:Entity {name: \"Aun Ali\"})-[:HAS_COURSES]->(:Entity {name: \"IFRS for Financial Institutions\"})',\n",
       " '(:Entity {name: \"Yasir Khan\"})-[:HAS_EXPERIENCE]->(:Entity {name: \"Cooperative Computing\"})',\n",
       " '(:Entity {name: \"Khawer Ali\"})-[:HAS_EXPERIENCE]->(:Entity {name: \"Web Developer\"})',\n",
       " '(:Entity {name: \"Aun Ali\"})-[:HAS_EXPERIENCE]->(:Entity {name: \"Regulatory Compliance\"})',\n",
       " '(:Entity {name: \"Aun Ali\"})-[:HAS_SKILLS]->(:Entity {name: \"Cross-Functional Collaboration\"})',\n",
       " '(:Entity {name: \"Aun Ali\"})-[:HAS_SKILLS]->(:Entity {name: \"Financial Control\"})',\n",
       " '(:Entity {name: \"Yasir Khan\"})-[:HAS_SKILLS]->(:Entity {name: \"Unit Testing\"})',\n",
       " '(:Entity {name: \"Yasir Khan\"})-[:HAS_PROJECTS]->(:Entity {name: \"Robotics\"})',\n",
       " '(:Entity {name: \"Yasir Khan\"})-[:HAS_CERTIFICATION]->(:Entity {name: \"Statistics\"})',\n",
       " '(:Entity {name: \"Yasir Khan\"})-[:HAS_SKILLS]->(:Entity {name: \"NoSQL\"})',\n",
       " '(:Entity {name: \"Yasir Khan\"})-[:HAS_SKILLS]->(:Entity {name: \"Azure Event Hub\"})',\n",
       " '(:Entity {name: \"Yasir Khan\"})-[:HAS_PROJECTS]->(:Entity {name: \"Card\"})',\n",
       " '(:Entity {name: \"Yasir Khan\"})-[:HAS_CERTIFICATION]->(:Entity {name: \"Data Cleaning and Preprocessing with pandas\"})',\n",
       " '(:Entity {name: \"Yasir Khan\"})-[:HAS_EXPERIENCE]->(:Entity {name: \"SkyRocket Solutions\"})',\n",
       " '(:Entity {name: \"Yasir Khan\"})-[:HAS_SKILLS]->(:Entity {name: \"Flask\"})',\n",
       " '(:Entity {name: \"Yasir Khan\"})-[:HAS_SKILLS]->(:Entity {name: \"Azure Function Apps\"})',\n",
       " '(:Entity {name: \"Khawer Ali\"})-[:HAS_EDUCATION]->(:Entity {name: \"BACHELOR OF COMPUTER SCIENCE\"})',\n",
       " '(:Entity {name: \"Yasir Khan\"})-[:HAS_PROJECTS]->(:Entity {name: \"Gaming\"})',\n",
       " '(:Entity {name: \"Khawer Ali\"})-[:HAS_SKILLS]->(:Entity {name: \"Project Management\"})',\n",
       " '(:Entity {name: \"Yasir Khan\"})-[:HAS_PROJECTS]->(:Entity {name: \"Hand Tracking Module using Computer Vision\"})',\n",
       " '(:Entity {name: \"Hasnain Ali Poonja\"})-[:HAS_EDUCATION]->(:Entity {name: \"BE Mechanical Engineer\"})',\n",
       " '(:Entity {name: \"Khawer Ali\"})-[:HAS_EXPERIENCE]->(:Entity {name: \"Full Stack Developer\"})',\n",
       " '(:Entity {name: \"Khawer Ali\"})-[:HAS_EDUCATION]->(:Entity {name: \"Szabist University\"})',\n",
       " '(:Entity {name: \"Aun Ali\"})-[:HAS_CERTIFICATIONS]->(:Entity {name: \"Certified Enterprise Risk & Change Management Professional\"})',\n",
       " '(:Entity {name: \"Yasir Khan\"})-[:HAS_SKILLS]->(:Entity {name: \"MSSQL\"})',\n",
       " '(:Entity {name: \"Yasir Khan\"})-[:HAS_SKILLS]->(:Entity {name: \"Azure Virtual Machines\"})',\n",
       " '(:Entity {name: \"Yasir Khan\"})-[:HAS_CERTIFICATION]->(:Entity {name: \"Machine Learning in Python\"})',\n",
       " '(:Entity {name: \"Yasir Khan\"})-[:HAS_CERTIFICATION]->(:Entity {name: \"Mathematics\"})',\n",
       " '(:Entity {name: \"Yasir Khan\"})-[:HAS_SKILLS]->(:Entity {name: \"FastAPI\"})',\n",
       " '(:Entity {name: \"Yasir Khan\"})-[:HAS_SKILLS]->(:Entity {name: \"TensorFlow\"})',\n",
       " '(:Entity {name: \"Yasir Khan\"})-[:HAS_SKILLS]->(:Entity {name: \"Pandas\"})',\n",
       " '(:Entity {name: \"Khawer Ali\"})-[:HAS_SKILLS]->(:Entity {name: \"PHP\"})',\n",
       " '(:Entity {name: \"Yasir Khan\"})-[:HAS_SKILLS]->(:Entity {name: \"Artificial Intelligence\"})',\n",
       " '(:Entity {name: \"Khawer Ali\"})-[:LIVES_IN]->(:Entity {name: \"Karachi\"})',\n",
       " '(:Entity {name: \"Riyadh\"})-[:LOCATED_IN]->(:Entity {name: \"KSA\"})',\n",
       " '(:Entity {name: \"Yasir Khan\"})-[:HAS_SKILLS]->(:Entity {name: \"Neural Networks\"})',\n",
       " '(:Entity {name: \"Khawer Ali\"})-[:HAS_CERTIFICATION]->(:Entity {name: \"Laravel Projects\"})',\n",
       " '(:Entity {name: \"Aun Ali\"})-[:HAS_COURSES]->(:Entity {name: \"Compliance Requirements from Volume 1 of CBB Rulebook\"})',\n",
       " '(:Entity {name: \"VIDIZMO\"})-[:AS]->(:Entity {name: \"Machine Learning Software Engineer\"})',\n",
       " '(:Entity {name: \"Hasnain Ali Poonja\"})-[:LIVES_IN]->(:Entity {name: \"Ontario\"})',\n",
       " '(:Entity {name: \"Khawer Ali\"})-[:HAS_SKILLS]->(:Entity {name: \"GIT Version Control\"})',\n",
       " '(:Entity {name: \"Khawer Ali\"})-[:HAS_PROJECTS]->(:Entity {name: \"Multi Users Donation Web App\"})',\n",
       " '(:Entity {name: \"Aun Ali\"})-[:HAS_COURSES]->(:Entity {name: \"Anti-Money Laundering Awareness\"})',\n",
       " '(:Entity {name: \"Yasir Khan\"})-[:HAS_SKILLS]->(:Entity {name: \"Django Rest Framework\"})',\n",
       " '(:Entity {name: \"Aun Ali\"})-[:HAS_COURSES]->(:Entity {name: \"Robotics in Finance\"})',\n",
       " '(:Entity {name: \"Yasir Khan\"})-[:HAS_PROJECTS]->(:Entity {name: \"Programming\"})',\n",
       " '(:Entity {name: \"Aun Ali\"})-[:HAS_SKILLS]->(:Entity {name: \"Regulatory & Tax Reporting\"})',\n",
       " '(:Entity {name: \"Khawer Ali\"})-[:HAS_PROJECTS]->(:Entity {name: \"Video Streaming Web App & Mobile APIs\"})',\n",
       " '(:Entity {name: \"Khawer Ali\"})-[:HAS_CERTIFICATION]->(:Entity {name: \"Hardware & Network Solutions\"})',\n",
       " '(:Entity {name: \"Yasir Khan\"})-[:HAS_SKILLS]->(:Entity {name: \"Azure Logic Apps\"})',\n",
       " '(:Entity {name: \"Yasir Khan\"})-[:HAS_SKILLS]->(:Entity {name: \"Git\"})',\n",
       " '(:Entity {name: \"Khawer Ali\"})-[:HAS_SKILLS]->(:Entity {name: \"Nuxt Js\"})',\n",
       " '(:Entity {name: \"Khawer Ali\"})-[:HAS_CERTIFICATION]->(:Entity {name: \"Laravel and CodeIgniter Projects\"})',\n",
       " '(:Entity {name: \"Aun Ali\"})-[:HAS_SKILLS]->(:Entity {name: \"Audit & Compliance\"})',\n",
       " '(:Entity {name: \"ICS Arabia\"})-[:AS]->(:Entity {name: \"AI Team Lead\"})',\n",
       " '(:Entity {name: \"Yasir Khan\"})-[:HAS_SKILLS]->(:Entity {name: \"Azure Computer Vision\"})',\n",
       " '(:Entity {name: \"Yasir Khan\"})-[:HAS_EXPERIENCE]->(:Entity {name: \"AnaConEx Solutions LLC\"})',\n",
       " '(:Entity {name: \"Yasir Khan\"})-[:HAS_PROJECTS]->(:Entity {name: \"Tech Conference\"})',\n",
       " '(:Entity {name: \"Yasir Khan\"})-[:HAS_PROJECTS]->(:Entity {name: \"Virtual Object Manipulation using Computer Vision\"})',\n",
       " '(:Entity {name: \"Yasir Khan\"})-[:HAS_SKILLS]->(:Entity {name: \"Machine Learning\"})',\n",
       " '(:Entity {name: \"Khawer Ali\"})-[:HAS_SKILLS]->(:Entity {name: \"Whm & Cpanel\"})',\n",
       " '(:Entity {name: \"Yasir Khan\"})-[:HAS_SKILLS]->(:Entity {name: \"Python\"})',\n",
       " '(:Entity {name: \"Khawer Ali\"})-[:HAS_SKILLS]->(:Entity {name: \"Jquery\"})',\n",
       " '(:Entity {name: \"Ayaan\"})-[:HAS_SKILLS]->(:Entity {name: \"JavaScript\"})',\n",
       " '(:Entity {name: \"Aun Ali\"})-[:HAS_EDUCATION]->(:Entity {name: \"Global Association of Risk Professionals\"})',\n",
       " '(:Entity {name: \"Khawer Ali\"})-[:HAS_SKILLS]->(:Entity {name: \"JIRA\"})',\n",
       " '(:Entity {name: \"Hasnain Ali Poonja\"})-[:HAS_EXPERIENCE]->(:Entity {name: \"National Center of Robotics and Automation\"})',\n",
       " '(:Entity {name: \"Aun Ali\"})-[:HAS_CERTIFICATIONS]->(:Entity {name: \"Certified Junior Associate (Finance) of Institute of Bankers Pakistan\"})',\n",
       " '(:Entity {name: \"Khawer Ali\"})-[:HAS_CERTIFICATION]->(:Entity {name: \"Laravel, Vue Js and Nuxt Js Projects\"})',\n",
       " '(:Entity {name: \"Aun Ali\"})-[:LIVES_IN]->(:Entity {name: \"Kingdom of Bahrain\"})',\n",
       " '(:Entity {name: \"Khawer Ali\"})-[:HAS_SKILLS]->(:Entity {name: \"Vue Js\"})',\n",
       " '(:Entity {name: \"Aun Ali\"})-[:HAS_EDUCATION]->(:Entity {name: \"The Association of Chartered Certified Accountants\"})',\n",
       " '(:Entity {name: \"Yasir Khan\"})-[:HAS_SKILLS]->(:Entity {name: \"Image Processing\"})']"
      ]
     },
     "execution_count": 45,
     "metadata": {},
     "output_type": "execute_result"
    }
   ],
   "source": [
    "relationships_list"
   ]
  },
  {
   "cell_type": "code",
   "execution_count": 46,
   "id": "c2dddd1a",
   "metadata": {},
   "outputs": [],
   "source": [
    "def rephrase_query_chain(query, nodes, relationships):\n",
    "    if not query:\n",
    "        return None\n",
    "    \n",
    "    rephrase_template=\"\"\" You are a highly skilled assistant that specializes in rephrasing user queries using the list of nodes and the list of relationships in the graph database. \n",
    "\n",
    "    The rephrased query should include the exact node and the relevant relationship of the node from the list of nodes and the list of relationships.\n",
    "\n",
    "    List of nodes: {nodes}\n",
    "    List of relationships: {relationships}\n",
    "    Query: {query}\n",
    "\n",
    "    Rephrased Query:\n",
    "    \"\"\"\n",
    "    \n",
    "    llm = ChatOpenAI(model=\"gpt-4o\")\n",
    "    prompt = PromptTemplate.from_template(rephrase_template)\n",
    "    \n",
    "    chain = prompt | llm\n",
    "    result = chain.invoke({\"nodes\": nodes, \"relationships\": relationships, \"query\": query})\n",
    "    \n",
    "    return result"
   ]
  },
  {
   "cell_type": "code",
   "execution_count": 47,
   "id": "d2897407",
   "metadata": {},
   "outputs": [],
   "source": [
    "query = \"which candidate has git skills\"\n",
    "result = rephrase_query_chain(query, nodes_list, relationships_list)"
   ]
  },
  {
   "cell_type": "code",
   "execution_count": 48,
   "id": "5fff2353",
   "metadata": {},
   "outputs": [
    {
     "data": {
      "text/plain": [
       "'Which candidate has the skill of \"Git\" as specified in the relationship (Node: \"Khawer Ali\", Relationship: HAS_SKILLS, Node: \"Git\")?'"
      ]
     },
     "execution_count": 48,
     "metadata": {},
     "output_type": "execute_result"
    }
   ],
   "source": [
    "result.content"
   ]
  },
  {
   "cell_type": "code",
   "execution_count": 49,
   "id": "21ad22a1",
   "metadata": {},
   "outputs": [
    {
     "name": "stdout",
     "output_type": "stream",
     "text": [
      "\n",
      "\n",
      "\u001b[1m> Entering new GraphCypherQAChain chain...\u001b[0m\n",
      "Generated Cypher:\n",
      "\u001b[32;1m\u001b[1;3mcypher\n",
      "MATCH (candidate:Entity)-[:HAS_SKILLS]->(skill:Entity)\n",
      "WHERE skill.name CONTAINS \"Git\"\n",
      "RETURN candidate.name\n",
      "\u001b[0m\n",
      "Full Context:\n",
      "\u001b[32;1m\u001b[1;3m[{'candidate.name': 'Khawer Ali'}, {'candidate.name': 'Yasir Khan'}]\u001b[0m\n",
      "\n",
      "\u001b[1m> Finished chain.\u001b[0m\n"
     ]
    }
   ],
   "source": [
    "final_result = qa.invoke({\"query\": result.content, \"schema\": schema})"
   ]
  },
  {
   "cell_type": "code",
   "execution_count": 52,
   "id": "ad676c5a",
   "metadata": {},
   "outputs": [
    {
     "data": {
      "text/plain": [
       "{'query': 'Which candidate has the skill of \"Git\" as specified in the relationship (Node: \"Khawer Ali\", Relationship: HAS_SKILLS, Node: \"Git\")?',\n",
       " 'schema': 'Node properties:\\nresume {name: STRING}\\nFile {name: STRING}\\nEntity {name: STRING}\\nSCIENCE_ARTICLE {name: STRING}\\nRelationship properties:\\n\\nThe relationships:\\n(:File)-[:BELONGS_TO]->(:resume)\\n(:Entity)-[:HAS_SKILLS]->(:Entity)\\n(:Entity)-[:LIVES_IN]->(:Entity)\\n(:Entity)-[:HAS_FILE]->(:File)\\n(:Entity)-[:HAS_EXPERIENCE]->(:Entity)\\n(:Entity)-[:AS]->(:Entity)\\n(:Entity)-[:LOCATED_IN]->(:Entity)\\n(:Entity)-[:HAS_CERTIFICATION]->(:Entity)\\n(:Entity)-[:HAS_PROJECTS]->(:Entity)\\n(:Entity)-[:HAS_EDUCATION]->(:Entity)\\n(:Entity)-[:HAS_CONFERENCE]->(:Entity)\\n(:Entity)-[:FROM]->(:Entity)\\n(:Entity)-[:HAS_MEMBERSHIP]->(:Entity)\\n(:Entity)-[:HAS_CERTIFICATIONS]->(:Entity)\\n(:Entity)-[:HAS_COURSES]->(:Entity)',\n",
       " 'result': 'Khawer Ali has the skill of \"Git\".',\n",
       " 'intermediate_steps': [{'query': 'cypher\\nMATCH (candidate:Entity)-[:HAS_SKILLS]->(skill:Entity)\\nWHERE skill.name CONTAINS \"Git\"\\nRETURN candidate.name\\n'},\n",
       "  {'context': [{'candidate.name': 'Khawer Ali'},\n",
       "    {'candidate.name': 'Yasir Khan'}]}]}"
      ]
     },
     "execution_count": 52,
     "metadata": {},
     "output_type": "execute_result"
    }
   ],
   "source": [
    "final_result"
   ]
  },
  {
   "cell_type": "code",
   "execution_count": 53,
   "id": "3f9e7b23",
   "metadata": {},
   "outputs": [],
   "source": [
    "combined_answer_template = \"\"\"\n",
    "You will be provided with a user query, schema of knowledge graph and result from\n",
    "cypher query chain.\n",
    "\n",
    "Your task is to draft a final answer based on the result and the user query. Before drafting \n",
    "the final response use context provided by the result.\n",
    "Schema: {schema}\n",
    "Result: {final_result}\n",
    "Combined Answer:\n",
    "\"\"\"\n",
    "\n",
    "prompt = PromptTemplate.from_template(combined_answer_template)\n",
    "llm = ChatOpenAI(model=\"gpt-4o\")\n",
    "\n",
    "chain = prompt | llm\n",
    "\n",
    "combined_result = chain.invoke({\"final_result\": final_result, \"schema\":schema})"
   ]
  },
  {
   "cell_type": "code",
   "execution_count": 54,
   "id": "935f8c82",
   "metadata": {},
   "outputs": [
    {
     "data": {
      "text/plain": [
       "'The query focused on identifying candidates who possess the skill \"Git.\" Based on the result from the cypher query, it was found that Khawer Ali has the skill of \"Git.\" Additionally, Yasir Khan was also identified to possess the skill in the intermediate steps of the query process. However, the final result highlights Khawer Ali with the specified skill.'"
      ]
     },
     "execution_count": 54,
     "metadata": {},
     "output_type": "execute_result"
    }
   ],
   "source": [
    "combined_result.content"
   ]
  }
 ],
 "metadata": {
  "kernelspec": {
   "display_name": "Python 3",
   "language": "python",
   "name": "python3"
  },
  "language_info": {
   "codemirror_mode": {
    "name": "ipython",
    "version": 3
   },
   "file_extension": ".py",
   "mimetype": "text/x-python",
   "name": "python",
   "nbconvert_exporter": "python",
   "pygments_lexer": "ipython3",
   "version": "3.10.7"
  }
 },
 "nbformat": 4,
 "nbformat_minor": 5
}
